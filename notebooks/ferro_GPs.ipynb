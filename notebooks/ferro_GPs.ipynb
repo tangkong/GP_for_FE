{
 "metadata": {
  "language_info": {
   "codemirror_mode": {
    "name": "ipython",
    "version": 3
   },
   "file_extension": ".py",
   "mimetype": "text/x-python",
   "name": "python",
   "nbconvert_exporter": "python",
   "pygments_lexer": "ipython3",
   "version": "3.9.1"
  },
  "orig_nbformat": 2,
  "kernelspec": {
   "name": "python3",
   "display_name": "Python 3.9.1 64-bit ('dproc2': conda)",
   "metadata": {
    "interpreter": {
     "hash": "58484a52a3997cdd670b70ccf53ebecc3d9c0b1e64fa8a2a853ef6f01f3aaebe"
    }
   }
  }
 },
 "nbformat": 4,
 "nbformat_minor": 2,
 "cells": [
  {
   "cell_type": "code",
   "execution_count": 1,
   "metadata": {},
   "outputs": [
    {
     "output_type": "stream",
     "name": "stdout",
     "text": [
      "1.3.1\n"
     ]
    }
   ],
   "source": [
    "import numpy as np\n",
    "import math\n",
    "import torch\n",
    "import gpytorch\n",
    "from matplotlib import pyplot as pyplot\n",
    "from matplotlib import cm\n",
    "import plotly.express as px\n",
    "import botorch\n",
    "from botorch.models.gpytorch import GPyTorchModel\n",
    "\n",
    "import pandas as pd\n",
    "%matplotlib inline\n",
    "%load_ext autoreload\n",
    "%autoreload 2\n",
    "print(gpytorch.__version__)"
   ]
  },
  {
   "cell_type": "code",
   "execution_count": 2,
   "metadata": {},
   "outputs": [
    {
     "output_type": "execute_result",
     "data": {
      "text/plain": [
       "    Thickness (nm)  RTA temperature (C)  RTA time (sec)  CeO2 doping  \\\n",
       "1               10                350.0            30.0          4.4   \n",
       "2               10                350.0            60.0          4.4   \n",
       "3               10                350.0           120.0          4.4   \n",
       "4               10                350.0           300.0          4.4   \n",
       "5               10                350.0           600.0          4.4   \n",
       "6               10                360.0            30.0          4.4   \n",
       "7               10                380.0            30.0          4.4   \n",
       "8               10                400.0            30.0          4.4   \n",
       "9               10                400.0           300.0          4.4   \n",
       "10              10                500.0            30.0          4.4   \n",
       "11              10                600.0            30.0          4.4   \n",
       "12              10                700.0            30.0          4.4   \n",
       "13              10                389.2           309.6          4.4   \n",
       "14              10                544.4           150.0          4.4   \n",
       "15              10                440.9           199.9          4.4   \n",
       "16              10                402.2           279.7          4.4   \n",
       "\n",
       "    2Pr (uC/cm2), Pristine state  log(RTA time)  \n",
       "1                        0.31095       3.401197  \n",
       "2                        3.05088       4.094345  \n",
       "3                       11.48724       4.787492  \n",
       "4                       27.85326       5.703782  \n",
       "5                            NaN       6.396930  \n",
       "6                        5.91482       3.401197  \n",
       "7                       20.16876       3.401197  \n",
       "8                       26.66847       3.401197  \n",
       "9                       35.18615       5.703782  \n",
       "10                      30.25570       3.401197  \n",
       "11                      22.55735       3.401197  \n",
       "12                      21.46867       3.401197  \n",
       "13                      34.82000       5.735281  \n",
       "14                      37.99000       5.010635  \n",
       "15                      34.19000       5.297817  \n",
       "16                      33.69000       5.633718  "
      ],
      "text/html": "<div>\n<style scoped>\n    .dataframe tbody tr th:only-of-type {\n        vertical-align: middle;\n    }\n\n    .dataframe tbody tr th {\n        vertical-align: top;\n    }\n\n    .dataframe thead th {\n        text-align: right;\n    }\n</style>\n<table border=\"1\" class=\"dataframe\">\n  <thead>\n    <tr style=\"text-align: right;\">\n      <th></th>\n      <th>Thickness (nm)</th>\n      <th>RTA temperature (C)</th>\n      <th>RTA time (sec)</th>\n      <th>CeO2 doping</th>\n      <th>2Pr (uC/cm2), Pristine state</th>\n      <th>log(RTA time)</th>\n    </tr>\n  </thead>\n  <tbody>\n    <tr>\n      <th>1</th>\n      <td>10</td>\n      <td>350.0</td>\n      <td>30.0</td>\n      <td>4.4</td>\n      <td>0.31095</td>\n      <td>3.401197</td>\n    </tr>\n    <tr>\n      <th>2</th>\n      <td>10</td>\n      <td>350.0</td>\n      <td>60.0</td>\n      <td>4.4</td>\n      <td>3.05088</td>\n      <td>4.094345</td>\n    </tr>\n    <tr>\n      <th>3</th>\n      <td>10</td>\n      <td>350.0</td>\n      <td>120.0</td>\n      <td>4.4</td>\n      <td>11.48724</td>\n      <td>4.787492</td>\n    </tr>\n    <tr>\n      <th>4</th>\n      <td>10</td>\n      <td>350.0</td>\n      <td>300.0</td>\n      <td>4.4</td>\n      <td>27.85326</td>\n      <td>5.703782</td>\n    </tr>\n    <tr>\n      <th>5</th>\n      <td>10</td>\n      <td>350.0</td>\n      <td>600.0</td>\n      <td>4.4</td>\n      <td>NaN</td>\n      <td>6.396930</td>\n    </tr>\n    <tr>\n      <th>6</th>\n      <td>10</td>\n      <td>360.0</td>\n      <td>30.0</td>\n      <td>4.4</td>\n      <td>5.91482</td>\n      <td>3.401197</td>\n    </tr>\n    <tr>\n      <th>7</th>\n      <td>10</td>\n      <td>380.0</td>\n      <td>30.0</td>\n      <td>4.4</td>\n      <td>20.16876</td>\n      <td>3.401197</td>\n    </tr>\n    <tr>\n      <th>8</th>\n      <td>10</td>\n      <td>400.0</td>\n      <td>30.0</td>\n      <td>4.4</td>\n      <td>26.66847</td>\n      <td>3.401197</td>\n    </tr>\n    <tr>\n      <th>9</th>\n      <td>10</td>\n      <td>400.0</td>\n      <td>300.0</td>\n      <td>4.4</td>\n      <td>35.18615</td>\n      <td>5.703782</td>\n    </tr>\n    <tr>\n      <th>10</th>\n      <td>10</td>\n      <td>500.0</td>\n      <td>30.0</td>\n      <td>4.4</td>\n      <td>30.25570</td>\n      <td>3.401197</td>\n    </tr>\n    <tr>\n      <th>11</th>\n      <td>10</td>\n      <td>600.0</td>\n      <td>30.0</td>\n      <td>4.4</td>\n      <td>22.55735</td>\n      <td>3.401197</td>\n    </tr>\n    <tr>\n      <th>12</th>\n      <td>10</td>\n      <td>700.0</td>\n      <td>30.0</td>\n      <td>4.4</td>\n      <td>21.46867</td>\n      <td>3.401197</td>\n    </tr>\n    <tr>\n      <th>13</th>\n      <td>10</td>\n      <td>389.2</td>\n      <td>309.6</td>\n      <td>4.4</td>\n      <td>34.82000</td>\n      <td>5.735281</td>\n    </tr>\n    <tr>\n      <th>14</th>\n      <td>10</td>\n      <td>544.4</td>\n      <td>150.0</td>\n      <td>4.4</td>\n      <td>37.99000</td>\n      <td>5.010635</td>\n    </tr>\n    <tr>\n      <th>15</th>\n      <td>10</td>\n      <td>440.9</td>\n      <td>199.9</td>\n      <td>4.4</td>\n      <td>34.19000</td>\n      <td>5.297817</td>\n    </tr>\n    <tr>\n      <th>16</th>\n      <td>10</td>\n      <td>402.2</td>\n      <td>279.7</td>\n      <td>4.4</td>\n      <td>33.69000</td>\n      <td>5.633718</td>\n    </tr>\n  </tbody>\n</table>\n</div>"
     },
     "metadata": {},
     "execution_count": 2
    }
   ],
   "source": [
    "# load data\n",
    "fe_data = pd.read_csv('C:\\\\Users\\\\roberttk\\\\Desktop\\\\SLAC_RA\\\\DATA\\\\ferroelectric_data\\\\FE_HZCO_samples_210219.csv', index_col=0)\n",
    "fe_data['log(RTA time)'] = np.log(fe_data['RTA time (sec)'])\n",
    "fe_data"
   ]
  },
  {
   "cell_type": "code",
   "execution_count": 3,
   "metadata": {},
   "outputs": [
    {
     "output_type": "display_data",
     "data": {
      "application/vnd.plotly.v1+json": {
       "config": {
        "plotlyServerURL": "https://plot.ly"
       },
       "data": [
        {
         "hovertemplate": "RTA temperature (C)=%{x}<br>RTA time (sec)=%{y}<br>2Pr (uC/cm2), Pristine state=%{z}<extra></extra>",
         "legendgroup": "",
         "marker": {
          "color": "#636efa",
          "symbol": "circle"
         },
         "mode": "markers",
         "name": "",
         "scene": "scene",
         "showlegend": false,
         "type": "scatter3d",
         "x": [
          350,
          350,
          350,
          350,
          350,
          360,
          380,
          400,
          400,
          500,
          600,
          700,
          389.2,
          544.4,
          440.9,
          402.2
         ],
         "y": [
          30,
          60,
          120,
          300,
          600,
          30,
          30,
          30,
          300,
          30,
          30,
          30,
          309.6,
          150,
          199.9,
          279.7
         ],
         "z": [
          0.31095,
          3.05088,
          11.48724,
          27.85326,
          null,
          5.91482,
          20.16876,
          26.66847,
          35.18615,
          30.2557,
          22.55735,
          21.46867,
          34.82,
          37.99,
          34.19,
          33.69
         ]
        }
       ],
       "layout": {
        "legend": {
         "tracegroupgap": 0
        },
        "margin": {
         "b": 10,
         "l": 10,
         "r": 20,
         "t": 10
        },
        "scene": {
         "domain": {
          "x": [
           0,
           1
          ],
          "y": [
           0,
           1
          ]
         },
         "xaxis": {
          "title": {
           "text": "RTA temperature (C)"
          }
         },
         "yaxis": {
          "title": {
           "text": "RTA time (sec)"
          }
         },
         "zaxis": {
          "title": {
           "text": "2Pr (uC/cm2), Pristine state"
          }
         }
        },
        "template": {
         "data": {
          "bar": [
           {
            "error_x": {
             "color": "#2a3f5f"
            },
            "error_y": {
             "color": "#2a3f5f"
            },
            "marker": {
             "line": {
              "color": "#E5ECF6",
              "width": 0.5
             }
            },
            "type": "bar"
           }
          ],
          "barpolar": [
           {
            "marker": {
             "line": {
              "color": "#E5ECF6",
              "width": 0.5
             }
            },
            "type": "barpolar"
           }
          ],
          "carpet": [
           {
            "aaxis": {
             "endlinecolor": "#2a3f5f",
             "gridcolor": "white",
             "linecolor": "white",
             "minorgridcolor": "white",
             "startlinecolor": "#2a3f5f"
            },
            "baxis": {
             "endlinecolor": "#2a3f5f",
             "gridcolor": "white",
             "linecolor": "white",
             "minorgridcolor": "white",
             "startlinecolor": "#2a3f5f"
            },
            "type": "carpet"
           }
          ],
          "choropleth": [
           {
            "colorbar": {
             "outlinewidth": 0,
             "ticks": ""
            },
            "type": "choropleth"
           }
          ],
          "contour": [
           {
            "colorbar": {
             "outlinewidth": 0,
             "ticks": ""
            },
            "colorscale": [
             [
              0,
              "#0d0887"
             ],
             [
              0.1111111111111111,
              "#46039f"
             ],
             [
              0.2222222222222222,
              "#7201a8"
             ],
             [
              0.3333333333333333,
              "#9c179e"
             ],
             [
              0.4444444444444444,
              "#bd3786"
             ],
             [
              0.5555555555555556,
              "#d8576b"
             ],
             [
              0.6666666666666666,
              "#ed7953"
             ],
             [
              0.7777777777777778,
              "#fb9f3a"
             ],
             [
              0.8888888888888888,
              "#fdca26"
             ],
             [
              1,
              "#f0f921"
             ]
            ],
            "type": "contour"
           }
          ],
          "contourcarpet": [
           {
            "colorbar": {
             "outlinewidth": 0,
             "ticks": ""
            },
            "type": "contourcarpet"
           }
          ],
          "heatmap": [
           {
            "colorbar": {
             "outlinewidth": 0,
             "ticks": ""
            },
            "colorscale": [
             [
              0,
              "#0d0887"
             ],
             [
              0.1111111111111111,
              "#46039f"
             ],
             [
              0.2222222222222222,
              "#7201a8"
             ],
             [
              0.3333333333333333,
              "#9c179e"
             ],
             [
              0.4444444444444444,
              "#bd3786"
             ],
             [
              0.5555555555555556,
              "#d8576b"
             ],
             [
              0.6666666666666666,
              "#ed7953"
             ],
             [
              0.7777777777777778,
              "#fb9f3a"
             ],
             [
              0.8888888888888888,
              "#fdca26"
             ],
             [
              1,
              "#f0f921"
             ]
            ],
            "type": "heatmap"
           }
          ],
          "heatmapgl": [
           {
            "colorbar": {
             "outlinewidth": 0,
             "ticks": ""
            },
            "colorscale": [
             [
              0,
              "#0d0887"
             ],
             [
              0.1111111111111111,
              "#46039f"
             ],
             [
              0.2222222222222222,
              "#7201a8"
             ],
             [
              0.3333333333333333,
              "#9c179e"
             ],
             [
              0.4444444444444444,
              "#bd3786"
             ],
             [
              0.5555555555555556,
              "#d8576b"
             ],
             [
              0.6666666666666666,
              "#ed7953"
             ],
             [
              0.7777777777777778,
              "#fb9f3a"
             ],
             [
              0.8888888888888888,
              "#fdca26"
             ],
             [
              1,
              "#f0f921"
             ]
            ],
            "type": "heatmapgl"
           }
          ],
          "histogram": [
           {
            "marker": {
             "colorbar": {
              "outlinewidth": 0,
              "ticks": ""
             }
            },
            "type": "histogram"
           }
          ],
          "histogram2d": [
           {
            "colorbar": {
             "outlinewidth": 0,
             "ticks": ""
            },
            "colorscale": [
             [
              0,
              "#0d0887"
             ],
             [
              0.1111111111111111,
              "#46039f"
             ],
             [
              0.2222222222222222,
              "#7201a8"
             ],
             [
              0.3333333333333333,
              "#9c179e"
             ],
             [
              0.4444444444444444,
              "#bd3786"
             ],
             [
              0.5555555555555556,
              "#d8576b"
             ],
             [
              0.6666666666666666,
              "#ed7953"
             ],
             [
              0.7777777777777778,
              "#fb9f3a"
             ],
             [
              0.8888888888888888,
              "#fdca26"
             ],
             [
              1,
              "#f0f921"
             ]
            ],
            "type": "histogram2d"
           }
          ],
          "histogram2dcontour": [
           {
            "colorbar": {
             "outlinewidth": 0,
             "ticks": ""
            },
            "colorscale": [
             [
              0,
              "#0d0887"
             ],
             [
              0.1111111111111111,
              "#46039f"
             ],
             [
              0.2222222222222222,
              "#7201a8"
             ],
             [
              0.3333333333333333,
              "#9c179e"
             ],
             [
              0.4444444444444444,
              "#bd3786"
             ],
             [
              0.5555555555555556,
              "#d8576b"
             ],
             [
              0.6666666666666666,
              "#ed7953"
             ],
             [
              0.7777777777777778,
              "#fb9f3a"
             ],
             [
              0.8888888888888888,
              "#fdca26"
             ],
             [
              1,
              "#f0f921"
             ]
            ],
            "type": "histogram2dcontour"
           }
          ],
          "mesh3d": [
           {
            "colorbar": {
             "outlinewidth": 0,
             "ticks": ""
            },
            "type": "mesh3d"
           }
          ],
          "parcoords": [
           {
            "line": {
             "colorbar": {
              "outlinewidth": 0,
              "ticks": ""
             }
            },
            "type": "parcoords"
           }
          ],
          "pie": [
           {
            "automargin": true,
            "type": "pie"
           }
          ],
          "scatter": [
           {
            "marker": {
             "colorbar": {
              "outlinewidth": 0,
              "ticks": ""
             }
            },
            "type": "scatter"
           }
          ],
          "scatter3d": [
           {
            "line": {
             "colorbar": {
              "outlinewidth": 0,
              "ticks": ""
             }
            },
            "marker": {
             "colorbar": {
              "outlinewidth": 0,
              "ticks": ""
             }
            },
            "type": "scatter3d"
           }
          ],
          "scattercarpet": [
           {
            "marker": {
             "colorbar": {
              "outlinewidth": 0,
              "ticks": ""
             }
            },
            "type": "scattercarpet"
           }
          ],
          "scattergeo": [
           {
            "marker": {
             "colorbar": {
              "outlinewidth": 0,
              "ticks": ""
             }
            },
            "type": "scattergeo"
           }
          ],
          "scattergl": [
           {
            "marker": {
             "colorbar": {
              "outlinewidth": 0,
              "ticks": ""
             }
            },
            "type": "scattergl"
           }
          ],
          "scattermapbox": [
           {
            "marker": {
             "colorbar": {
              "outlinewidth": 0,
              "ticks": ""
             }
            },
            "type": "scattermapbox"
           }
          ],
          "scatterpolar": [
           {
            "marker": {
             "colorbar": {
              "outlinewidth": 0,
              "ticks": ""
             }
            },
            "type": "scatterpolar"
           }
          ],
          "scatterpolargl": [
           {
            "marker": {
             "colorbar": {
              "outlinewidth": 0,
              "ticks": ""
             }
            },
            "type": "scatterpolargl"
           }
          ],
          "scatterternary": [
           {
            "marker": {
             "colorbar": {
              "outlinewidth": 0,
              "ticks": ""
             }
            },
            "type": "scatterternary"
           }
          ],
          "surface": [
           {
            "colorbar": {
             "outlinewidth": 0,
             "ticks": ""
            },
            "colorscale": [
             [
              0,
              "#0d0887"
             ],
             [
              0.1111111111111111,
              "#46039f"
             ],
             [
              0.2222222222222222,
              "#7201a8"
             ],
             [
              0.3333333333333333,
              "#9c179e"
             ],
             [
              0.4444444444444444,
              "#bd3786"
             ],
             [
              0.5555555555555556,
              "#d8576b"
             ],
             [
              0.6666666666666666,
              "#ed7953"
             ],
             [
              0.7777777777777778,
              "#fb9f3a"
             ],
             [
              0.8888888888888888,
              "#fdca26"
             ],
             [
              1,
              "#f0f921"
             ]
            ],
            "type": "surface"
           }
          ],
          "table": [
           {
            "cells": {
             "fill": {
              "color": "#EBF0F8"
             },
             "line": {
              "color": "white"
             }
            },
            "header": {
             "fill": {
              "color": "#C8D4E3"
             },
             "line": {
              "color": "white"
             }
            },
            "type": "table"
           }
          ]
         },
         "layout": {
          "annotationdefaults": {
           "arrowcolor": "#2a3f5f",
           "arrowhead": 0,
           "arrowwidth": 1
          },
          "autotypenumbers": "strict",
          "coloraxis": {
           "colorbar": {
            "outlinewidth": 0,
            "ticks": ""
           }
          },
          "colorscale": {
           "diverging": [
            [
             0,
             "#8e0152"
            ],
            [
             0.1,
             "#c51b7d"
            ],
            [
             0.2,
             "#de77ae"
            ],
            [
             0.3,
             "#f1b6da"
            ],
            [
             0.4,
             "#fde0ef"
            ],
            [
             0.5,
             "#f7f7f7"
            ],
            [
             0.6,
             "#e6f5d0"
            ],
            [
             0.7,
             "#b8e186"
            ],
            [
             0.8,
             "#7fbc41"
            ],
            [
             0.9,
             "#4d9221"
            ],
            [
             1,
             "#276419"
            ]
           ],
           "sequential": [
            [
             0,
             "#0d0887"
            ],
            [
             0.1111111111111111,
             "#46039f"
            ],
            [
             0.2222222222222222,
             "#7201a8"
            ],
            [
             0.3333333333333333,
             "#9c179e"
            ],
            [
             0.4444444444444444,
             "#bd3786"
            ],
            [
             0.5555555555555556,
             "#d8576b"
            ],
            [
             0.6666666666666666,
             "#ed7953"
            ],
            [
             0.7777777777777778,
             "#fb9f3a"
            ],
            [
             0.8888888888888888,
             "#fdca26"
            ],
            [
             1,
             "#f0f921"
            ]
           ],
           "sequentialminus": [
            [
             0,
             "#0d0887"
            ],
            [
             0.1111111111111111,
             "#46039f"
            ],
            [
             0.2222222222222222,
             "#7201a8"
            ],
            [
             0.3333333333333333,
             "#9c179e"
            ],
            [
             0.4444444444444444,
             "#bd3786"
            ],
            [
             0.5555555555555556,
             "#d8576b"
            ],
            [
             0.6666666666666666,
             "#ed7953"
            ],
            [
             0.7777777777777778,
             "#fb9f3a"
            ],
            [
             0.8888888888888888,
             "#fdca26"
            ],
            [
             1,
             "#f0f921"
            ]
           ]
          },
          "colorway": [
           "#636efa",
           "#EF553B",
           "#00cc96",
           "#ab63fa",
           "#FFA15A",
           "#19d3f3",
           "#FF6692",
           "#B6E880",
           "#FF97FF",
           "#FECB52"
          ],
          "font": {
           "color": "#2a3f5f"
          },
          "geo": {
           "bgcolor": "white",
           "lakecolor": "white",
           "landcolor": "#E5ECF6",
           "showlakes": true,
           "showland": true,
           "subunitcolor": "white"
          },
          "hoverlabel": {
           "align": "left"
          },
          "hovermode": "closest",
          "mapbox": {
           "style": "light"
          },
          "paper_bgcolor": "white",
          "plot_bgcolor": "#E5ECF6",
          "polar": {
           "angularaxis": {
            "gridcolor": "white",
            "linecolor": "white",
            "ticks": ""
           },
           "bgcolor": "#E5ECF6",
           "radialaxis": {
            "gridcolor": "white",
            "linecolor": "white",
            "ticks": ""
           }
          },
          "scene": {
           "xaxis": {
            "backgroundcolor": "#E5ECF6",
            "gridcolor": "white",
            "gridwidth": 2,
            "linecolor": "white",
            "showbackground": true,
            "ticks": "",
            "zerolinecolor": "white"
           },
           "yaxis": {
            "backgroundcolor": "#E5ECF6",
            "gridcolor": "white",
            "gridwidth": 2,
            "linecolor": "white",
            "showbackground": true,
            "ticks": "",
            "zerolinecolor": "white"
           },
           "zaxis": {
            "backgroundcolor": "#E5ECF6",
            "gridcolor": "white",
            "gridwidth": 2,
            "linecolor": "white",
            "showbackground": true,
            "ticks": "",
            "zerolinecolor": "white"
           }
          },
          "shapedefaults": {
           "line": {
            "color": "#2a3f5f"
           }
          },
          "ternary": {
           "aaxis": {
            "gridcolor": "white",
            "linecolor": "white",
            "ticks": ""
           },
           "baxis": {
            "gridcolor": "white",
            "linecolor": "white",
            "ticks": ""
           },
           "bgcolor": "#E5ECF6",
           "caxis": {
            "gridcolor": "white",
            "linecolor": "white",
            "ticks": ""
           }
          },
          "title": {
           "x": 0.05
          },
          "xaxis": {
           "automargin": true,
           "gridcolor": "white",
           "linecolor": "white",
           "ticks": "",
           "title": {
            "standoff": 15
           },
           "zerolinecolor": "white",
           "zerolinewidth": 2
          },
          "yaxis": {
           "automargin": true,
           "gridcolor": "white",
           "linecolor": "white",
           "ticks": "",
           "title": {
            "standoff": 15
           },
           "zerolinecolor": "white",
           "zerolinewidth": 2
          }
         }
        }
       }
      }
     },
     "metadata": {}
    }
   ],
   "source": [
    "# plot?...\n",
    "fig = px.scatter_3d(fe_data, x='RTA temperature (C)', y='RTA time (sec)', \n",
    "                        z='2Pr (uC/cm2), Pristine state')\n",
    "fig.update_layout(scene=dict(\n",
    "                            # xaxis=dict(nticks=4, range=[200, 800])\n",
    "                            # yaxis=dict(range=[0, 500])\n",
    "                            ),\n",
    "                   margin=dict(r=20, l=10, b=10, t=10)\n",
    "                   )\n",
    "fig.show()"
   ]
  },
  {
   "cell_type": "code",
   "execution_count": 4,
   "metadata": {},
   "outputs": [
    {
     "output_type": "stream",
     "name": "stdout",
     "text": [
      "12.5\n9.985714503696986\n"
     ]
    }
   ],
   "source": [
    "# prep training data\n",
    "from sklearn.preprocessing import StandardScaler\n",
    "T_scaler = StandardScaler()\n",
    "\n",
    "# filter training data \n",
    "mask = ~np.isnan(fe_data['2Pr (uC/cm2), Pristine state'])\n",
    "train_x = torch.Tensor([fe_data['RTA temperature (C)'][mask].values, \n",
    "                    #    np.log(fe_data['RTA time (sec)'][mask].values)*10]).T\n",
    "                       fe_data['RTA time (sec)'][mask].values]).T\n",
    "# train_x = torch.Tensor(T_scaler.fit_transform(train_x))\n",
    "train_raw_y = torch.Tensor(fe_data['2Pr (uC/cm2), Pristine state'][mask].values)\n",
    "train_y = train_raw_y #(train_raw_y - train_raw_y.mean()) / (train_raw_y.max() - train_raw_y.min())\n",
    "\n",
    "# define grid between bounds of RTA time, RTA temp\n",
    "grid_bounds = [(train_x[:,0].min(), train_x[:,0].max() ), \n",
    "                (train_x[:,1].min(), train_x[:,1].max() ) ]\n",
    "grid_size = 20\n",
    "grid = torch.zeros(grid_size, len(grid_bounds))\n",
    "\n",
    "for i in range(len(grid_bounds)):\n",
    "    grid_diff = float(grid_bounds[i][1] - grid_bounds[i][0]) / (grid_size - 2)\n",
    "    grid[:, i] = torch.linspace(grid_bounds[i][0] - grid_diff, \n",
    "                                grid_bounds[i][1] + grid_diff, grid_size)\n",
    "                        \n",
    "# Set up grid for predictions\n",
    "\n",
    "n=30 # number of points in grid, different from one supplied to GP\n",
    "test_grid = torch.zeros(n, len(grid_bounds))\n",
    "for i in range(len(grid_bounds)): # Creates a grid s.t. grid[:, i] is the vector along dimension i\n",
    "    grid_diff = float(grid_bounds[i][1] - grid_bounds[i][0]) / (n - 2)\n",
    "    print(grid_diff)\n",
    "    test_grid[:, i] = torch.linspace(grid_bounds[i][0] - grid_diff, \n",
    "                                grid_bounds[i][1] + grid_diff, n)\n",
    "\n",
    "test_x = torch.zeros(int(pow(n, 2)), 2)\n",
    "for i in range(n): #Basically making grid \n",
    "    for j in range(n):\n",
    "        test_x[i*n + j][0] = test_grid[i, 0]\n",
    "        test_x[i*n + j][1] = test_grid[j, 1]\n"
   ]
  },
  {
   "cell_type": "code",
   "execution_count": 5,
   "metadata": {},
   "outputs": [],
   "source": [
    "def intermediate_plot(f, ax, obs, title):\n",
    "    im = ax.imshow(obs.mean.view(n, n), aspect='equal',\n",
    "                extent=[grid_bounds[0][0].item(), grid_bounds[0][1].item(),\n",
    "                            grid_bounds[1][0].item(), grid_bounds[1][1].item()])\n",
    "    f.colorbar(im)\n",
    "    # ax.scatter(train_x[:,0], train_x[:,1], c=train_y)\n",
    "    ax.set_title(title)"
   ]
  },
  {
   "cell_type": "code",
   "execution_count": 6,
   "metadata": {},
   "outputs": [],
   "source": [
    "# initialize GP model\n",
    "class GridGP(gpytorch.models.ExactGP, GPyTorchModel):\n",
    "\n",
    "    _num_outputs = 1\n",
    "    def __init__(self, train_x, train_y, likelihood):\n",
    "        super(GridGP, self).__init__(train_x, train_y, likelihood)  \n",
    "        self.mean_module = gpytorch.means.ConstantMean()\n",
    "        self.covar_module = gpytorch.kernels.ScaleKernel(\n",
    "                                gpytorch.kernels.RBFKernel(ard_num_dims=2) )\n",
    "    \n",
    "    def forward(self, x):\n",
    "        mean_x = self.mean_module(x)\n",
    "        covar_x = self.covar_module(x)\n",
    "        return gpytorch.distributions.MultivariateNormal(mean_x, covar_x)\n",
    "\n",
    "likelihood = gpytorch.likelihoods.GaussianLikelihood()\n",
    "model = GridGP(train_x, train_y, likelihood)\n",
    "\n",
    "\n",
    "model.covar_module.base_kernel.lengthscale = torch.Tensor([100, 100])\n"
   ]
  },
  {
   "cell_type": "code",
   "execution_count": 7,
   "metadata": {
    "tags": []
   },
   "outputs": [
    {
     "output_type": "stream",
     "name": "stdout",
     "text": [
      "Iter 1/1000 - Loss: 115.539  lengthscale1: [[100. 100.]]   noise: [0.6932472]\n",
      "Iter 101/1000 - Loss: 3.712  lengthscale1: [[147.8237  167.22028]]   noise: [60.83506]\n",
      "Iter 201/1000 - Loss: 3.649  lengthscale1: [[ 96.49589 159.42926]]   noise: [60.13623]\n",
      "Iter 301/1000 - Loss: 3.588  lengthscale1: [[ 38.546326 153.28024 ]]   noise: [58.547546]\n",
      "Iter 401/1000 - Loss: 3.574  lengthscale1: [[ 31.423906 148.31145 ]]   noise: [55.88617]\n",
      "Iter 501/1000 - Loss: 3.562  lengthscale1: [[ 31.27105 144.43384]]   noise: [52.646633]\n",
      "Iter 601/1000 - Loss: 3.547  lengthscale1: [[ 31.117594 141.95442 ]]   noise: [48.79314]\n",
      "Iter 701/1000 - Loss: 3.528  lengthscale1: [[ 30.989494 140.72655 ]]   noise: [44.22793]\n",
      "Iter 801/1000 - Loss: 3.504  lengthscale1: [[ 30.880552 140.4472  ]]   noise: [38.78753]\n",
      "Iter 901/1000 - Loss: 3.471  lengthscale1: [[ 30.77545 140.81674]]   noise: [32.184093]\n"
     ]
    },
    {
     "output_type": "display_data",
     "data": {
      "text/plain": "<Figure size 288x216 with 2 Axes>",
      "image/svg+xml": "<?xml version=\"1.0\" encoding=\"utf-8\" standalone=\"no\"?>\r\n<!DOCTYPE svg PUBLIC \"-//W3C//DTD SVG 1.1//EN\"\r\n  \"http://www.w3.org/Graphics/SVG/1.1/DTD/svg11.dtd\">\r\n<!-- Created with matplotlib (https://matplotlib.org/) -->\r\n<svg height=\"188.840185pt\" version=\"1.1\" viewBox=\"0 0 258.0865 188.840185\" width=\"258.0865pt\" xmlns=\"http://www.w3.org/2000/svg\" xmlns:xlink=\"http://www.w3.org/1999/xlink\">\r\n <metadata>\r\n  <rdf:RDF xmlns:cc=\"http://creativecommons.org/ns#\" xmlns:dc=\"http://purl.org/dc/elements/1.1/\" xmlns:rdf=\"http://www.w3.org/1999/02/22-rdf-syntax-ns#\">\r\n   <cc:Work>\r\n    <dc:type rdf:resource=\"http://purl.org/dc/dcmitype/StillImage\"/>\r\n    <dc:date>2021-02-19T13:55:34.589117</dc:date>\r\n    <dc:format>image/svg+xml</dc:format>\r\n    <dc:creator>\r\n     <cc:Agent>\r\n      <dc:title>Matplotlib v3.3.4, https://matplotlib.org/</dc:title>\r\n     </cc:Agent>\r\n    </dc:creator>\r\n   </cc:Work>\r\n  </rdf:RDF>\r\n </metadata>\r\n <defs>\r\n  <style type=\"text/css\">*{stroke-linecap:butt;stroke-linejoin:round;}</style>\r\n </defs>\r\n <g id=\"figure_1\">\r\n  <g id=\"patch_1\">\r\n   <path d=\"M 0 188.840185 \r\nL 258.0865 188.840185 \r\nL 258.0865 0 \r\nL 0 0 \r\nz\r\n\" style=\"fill:none;\"/>\r\n  </g>\r\n  <g id=\"axes_1\">\r\n   <g id=\"patch_2\">\r\n    <path d=\"M 33.2875 164.96206 \r\nL 211.8475 164.96206 \r\nL 211.8475 22.318125 \r\nL 33.2875 22.318125 \r\nz\r\n\" style=\"fill:#ffffff;\"/>\r\n   </g>\r\n   <g clip-path=\"url(#p79abe41edb)\">\r\n    <image height=\"143\" id=\"image453caca511\" transform=\"scale(1 -1)translate(0 -143)\" width=\"179\" x=\"33.2875\" xlink:href=\"data:image/png;base64,\r\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\" y=\"-21.96206\"/>\r\n   </g>\r\n   <g id=\"matplotlib.axis_1\">\r\n    <g id=\"xtick_1\">\r\n     <g id=\"line2d_1\">\r\n      <defs>\r\n       <path d=\"M 0 0 \r\nL 0 3.5 \r\n\" id=\"m3515d5d429\" style=\"stroke:#000000;stroke-width:0.8;\"/>\r\n      </defs>\r\n      <g>\r\n       <use style=\"stroke:#000000;stroke-width:0.8;\" x=\"58.796071\" xlink:href=\"#m3515d5d429\" y=\"164.96206\"/>\r\n      </g>\r\n     </g>\r\n     <g id=\"text_1\">\r\n      <!-- 400 -->\r\n      <g transform=\"translate(49.252321 179.560497)scale(0.1 -0.1)\">\r\n       <defs>\r\n        <path d=\"M 37.796875 64.3125 \r\nL 12.890625 25.390625 \r\nL 37.796875 25.390625 \r\nz\r\nM 35.203125 72.90625 \r\nL 47.609375 72.90625 \r\nL 47.609375 25.390625 \r\nL 58.015625 25.390625 \r\nL 58.015625 17.1875 \r\nL 47.609375 17.1875 \r\nL 47.609375 0 \r\nL 37.796875 0 \r\nL 37.796875 17.1875 \r\nL 4.890625 17.1875 \r\nL 4.890625 26.703125 \r\nz\r\n\" id=\"DejaVuSans-52\"/>\r\n        <path d=\"M 31.78125 66.40625 \r\nQ 24.171875 66.40625 20.328125 58.90625 \r\nQ 16.5 51.421875 16.5 36.375 \r\nQ 16.5 21.390625 20.328125 13.890625 \r\nQ 24.171875 6.390625 31.78125 6.390625 \r\nQ 39.453125 6.390625 43.28125 13.890625 \r\nQ 47.125 21.390625 47.125 36.375 \r\nQ 47.125 51.421875 43.28125 58.90625 \r\nQ 39.453125 66.40625 31.78125 66.40625 \r\nz\r\nM 31.78125 74.21875 \r\nQ 44.046875 74.21875 50.515625 64.515625 \r\nQ 56.984375 54.828125 56.984375 36.375 \r\nQ 56.984375 17.96875 50.515625 8.265625 \r\nQ 44.046875 -1.421875 31.78125 -1.421875 \r\nQ 19.53125 -1.421875 13.0625 8.265625 \r\nQ 6.59375 17.96875 6.59375 36.375 \r\nQ 6.59375 54.828125 13.0625 64.515625 \r\nQ 19.53125 74.21875 31.78125 74.21875 \r\nz\r\n\" id=\"DejaVuSans-48\"/>\r\n       </defs>\r\n       <use xlink:href=\"#DejaVuSans-52\"/>\r\n       <use x=\"63.623047\" xlink:href=\"#DejaVuSans-48\"/>\r\n       <use x=\"127.246094\" xlink:href=\"#DejaVuSans-48\"/>\r\n      </g>\r\n     </g>\r\n    </g>\r\n    <g id=\"xtick_2\">\r\n     <g id=\"line2d_2\">\r\n      <g>\r\n       <use style=\"stroke:#000000;stroke-width:0.8;\" x=\"109.813214\" xlink:href=\"#m3515d5d429\" y=\"164.96206\"/>\r\n      </g>\r\n     </g>\r\n     <g id=\"text_2\">\r\n      <!-- 500 -->\r\n      <g transform=\"translate(100.269464 179.560497)scale(0.1 -0.1)\">\r\n       <defs>\r\n        <path d=\"M 10.796875 72.90625 \r\nL 49.515625 72.90625 \r\nL 49.515625 64.59375 \r\nL 19.828125 64.59375 \r\nL 19.828125 46.734375 \r\nQ 21.96875 47.46875 24.109375 47.828125 \r\nQ 26.265625 48.1875 28.421875 48.1875 \r\nQ 40.625 48.1875 47.75 41.5 \r\nQ 54.890625 34.8125 54.890625 23.390625 \r\nQ 54.890625 11.625 47.5625 5.09375 \r\nQ 40.234375 -1.421875 26.90625 -1.421875 \r\nQ 22.3125 -1.421875 17.546875 -0.640625 \r\nQ 12.796875 0.140625 7.71875 1.703125 \r\nL 7.71875 11.625 \r\nQ 12.109375 9.234375 16.796875 8.0625 \r\nQ 21.484375 6.890625 26.703125 6.890625 \r\nQ 35.15625 6.890625 40.078125 11.328125 \r\nQ 45.015625 15.765625 45.015625 23.390625 \r\nQ 45.015625 31 40.078125 35.4375 \r\nQ 35.15625 39.890625 26.703125 39.890625 \r\nQ 22.75 39.890625 18.8125 39.015625 \r\nQ 14.890625 38.140625 10.796875 36.28125 \r\nz\r\n\" id=\"DejaVuSans-53\"/>\r\n       </defs>\r\n       <use xlink:href=\"#DejaVuSans-53\"/>\r\n       <use x=\"63.623047\" xlink:href=\"#DejaVuSans-48\"/>\r\n       <use x=\"127.246094\" xlink:href=\"#DejaVuSans-48\"/>\r\n      </g>\r\n     </g>\r\n    </g>\r\n    <g id=\"xtick_3\">\r\n     <g id=\"line2d_3\">\r\n      <g>\r\n       <use style=\"stroke:#000000;stroke-width:0.8;\" x=\"160.830357\" xlink:href=\"#m3515d5d429\" y=\"164.96206\"/>\r\n      </g>\r\n     </g>\r\n     <g id=\"text_3\">\r\n      <!-- 600 -->\r\n      <g transform=\"translate(151.286607 179.560497)scale(0.1 -0.1)\">\r\n       <defs>\r\n        <path d=\"M 33.015625 40.375 \r\nQ 26.375 40.375 22.484375 35.828125 \r\nQ 18.609375 31.296875 18.609375 23.390625 \r\nQ 18.609375 15.53125 22.484375 10.953125 \r\nQ 26.375 6.390625 33.015625 6.390625 \r\nQ 39.65625 6.390625 43.53125 10.953125 \r\nQ 47.40625 15.53125 47.40625 23.390625 \r\nQ 47.40625 31.296875 43.53125 35.828125 \r\nQ 39.65625 40.375 33.015625 40.375 \r\nz\r\nM 52.59375 71.296875 \r\nL 52.59375 62.3125 \r\nQ 48.875 64.0625 45.09375 64.984375 \r\nQ 41.3125 65.921875 37.59375 65.921875 \r\nQ 27.828125 65.921875 22.671875 59.328125 \r\nQ 17.53125 52.734375 16.796875 39.40625 \r\nQ 19.671875 43.65625 24.015625 45.921875 \r\nQ 28.375 48.1875 33.59375 48.1875 \r\nQ 44.578125 48.1875 50.953125 41.515625 \r\nQ 57.328125 34.859375 57.328125 23.390625 \r\nQ 57.328125 12.15625 50.6875 5.359375 \r\nQ 44.046875 -1.421875 33.015625 -1.421875 \r\nQ 20.359375 -1.421875 13.671875 8.265625 \r\nQ 6.984375 17.96875 6.984375 36.375 \r\nQ 6.984375 53.65625 15.1875 63.9375 \r\nQ 23.390625 74.21875 37.203125 74.21875 \r\nQ 40.921875 74.21875 44.703125 73.484375 \r\nQ 48.484375 72.75 52.59375 71.296875 \r\nz\r\n\" id=\"DejaVuSans-54\"/>\r\n       </defs>\r\n       <use xlink:href=\"#DejaVuSans-54\"/>\r\n       <use x=\"63.623047\" xlink:href=\"#DejaVuSans-48\"/>\r\n       <use x=\"127.246094\" xlink:href=\"#DejaVuSans-48\"/>\r\n      </g>\r\n     </g>\r\n    </g>\r\n    <g id=\"xtick_4\">\r\n     <g id=\"line2d_4\">\r\n      <g>\r\n       <use style=\"stroke:#000000;stroke-width:0.8;\" x=\"211.8475\" xlink:href=\"#m3515d5d429\" y=\"164.96206\"/>\r\n      </g>\r\n     </g>\r\n     <g id=\"text_4\">\r\n      <!-- 700 -->\r\n      <g transform=\"translate(202.30375 179.560497)scale(0.1 -0.1)\">\r\n       <defs>\r\n        <path d=\"M 8.203125 72.90625 \r\nL 55.078125 72.90625 \r\nL 55.078125 68.703125 \r\nL 28.609375 0 \r\nL 18.3125 0 \r\nL 43.21875 64.59375 \r\nL 8.203125 64.59375 \r\nz\r\n\" id=\"DejaVuSans-55\"/>\r\n       </defs>\r\n       <use xlink:href=\"#DejaVuSans-55\"/>\r\n       <use x=\"63.623047\" xlink:href=\"#DejaVuSans-48\"/>\r\n       <use x=\"127.246094\" xlink:href=\"#DejaVuSans-48\"/>\r\n      </g>\r\n     </g>\r\n    </g>\r\n   </g>\r\n   <g id=\"matplotlib.axis_2\">\r\n    <g id=\"ytick_1\">\r\n     <g id=\"line2d_5\">\r\n      <defs>\r\n       <path d=\"M 0 0 \r\nL -3.5 0 \r\n\" id=\"m3b3e9c2af6\" style=\"stroke:#000000;stroke-width:0.8;\"/>\r\n      </defs>\r\n      <g>\r\n       <use style=\"stroke:#000000;stroke-width:0.8;\" x=\"33.2875\" xlink:href=\"#m3b3e9c2af6\" y=\"154.758631\"/>\r\n      </g>\r\n     </g>\r\n     <g id=\"text_5\">\r\n      <!-- 50 -->\r\n      <g transform=\"translate(13.5625 158.55785)scale(0.1 -0.1)\">\r\n       <use xlink:href=\"#DejaVuSans-53\"/>\r\n       <use x=\"63.623047\" xlink:href=\"#DejaVuSans-48\"/>\r\n      </g>\r\n     </g>\r\n    </g>\r\n    <g id=\"ytick_2\">\r\n     <g id=\"line2d_6\">\r\n      <g>\r\n       <use style=\"stroke:#000000;stroke-width:0.8;\" x=\"33.2875\" xlink:href=\"#m3b3e9c2af6\" y=\"129.25006\"/>\r\n      </g>\r\n     </g>\r\n     <g id=\"text_6\">\r\n      <!-- 100 -->\r\n      <g transform=\"translate(7.2 133.049278)scale(0.1 -0.1)\">\r\n       <defs>\r\n        <path d=\"M 12.40625 8.296875 \r\nL 28.515625 8.296875 \r\nL 28.515625 63.921875 \r\nL 10.984375 60.40625 \r\nL 10.984375 69.390625 \r\nL 28.421875 72.90625 \r\nL 38.28125 72.90625 \r\nL 38.28125 8.296875 \r\nL 54.390625 8.296875 \r\nL 54.390625 0 \r\nL 12.40625 0 \r\nz\r\n\" id=\"DejaVuSans-49\"/>\r\n       </defs>\r\n       <use xlink:href=\"#DejaVuSans-49\"/>\r\n       <use x=\"63.623047\" xlink:href=\"#DejaVuSans-48\"/>\r\n       <use x=\"127.246094\" xlink:href=\"#DejaVuSans-48\"/>\r\n      </g>\r\n     </g>\r\n    </g>\r\n    <g id=\"ytick_3\">\r\n     <g id=\"line2d_7\">\r\n      <g>\r\n       <use style=\"stroke:#000000;stroke-width:0.8;\" x=\"33.2875\" xlink:href=\"#m3b3e9c2af6\" y=\"103.741488\"/>\r\n      </g>\r\n     </g>\r\n     <g id=\"text_7\">\r\n      <!-- 150 -->\r\n      <g transform=\"translate(7.2 107.540707)scale(0.1 -0.1)\">\r\n       <use xlink:href=\"#DejaVuSans-49\"/>\r\n       <use x=\"63.623047\" xlink:href=\"#DejaVuSans-53\"/>\r\n       <use x=\"127.246094\" xlink:href=\"#DejaVuSans-48\"/>\r\n      </g>\r\n     </g>\r\n    </g>\r\n    <g id=\"ytick_4\">\r\n     <g id=\"line2d_8\">\r\n      <g>\r\n       <use style=\"stroke:#000000;stroke-width:0.8;\" x=\"33.2875\" xlink:href=\"#m3b3e9c2af6\" y=\"78.232917\"/>\r\n      </g>\r\n     </g>\r\n     <g id=\"text_8\">\r\n      <!-- 200 -->\r\n      <g transform=\"translate(7.2 82.032135)scale(0.1 -0.1)\">\r\n       <defs>\r\n        <path d=\"M 19.1875 8.296875 \r\nL 53.609375 8.296875 \r\nL 53.609375 0 \r\nL 7.328125 0 \r\nL 7.328125 8.296875 \r\nQ 12.9375 14.109375 22.625 23.890625 \r\nQ 32.328125 33.6875 34.8125 36.53125 \r\nQ 39.546875 41.84375 41.421875 45.53125 \r\nQ 43.3125 49.21875 43.3125 52.78125 \r\nQ 43.3125 58.59375 39.234375 62.25 \r\nQ 35.15625 65.921875 28.609375 65.921875 \r\nQ 23.96875 65.921875 18.8125 64.3125 \r\nQ 13.671875 62.703125 7.8125 59.421875 \r\nL 7.8125 69.390625 \r\nQ 13.765625 71.78125 18.9375 73 \r\nQ 24.125 74.21875 28.421875 74.21875 \r\nQ 39.75 74.21875 46.484375 68.546875 \r\nQ 53.21875 62.890625 53.21875 53.421875 \r\nQ 53.21875 48.921875 51.53125 44.890625 \r\nQ 49.859375 40.875 45.40625 35.40625 \r\nQ 44.1875 33.984375 37.640625 27.21875 \r\nQ 31.109375 20.453125 19.1875 8.296875 \r\nz\r\n\" id=\"DejaVuSans-50\"/>\r\n       </defs>\r\n       <use xlink:href=\"#DejaVuSans-50\"/>\r\n       <use x=\"63.623047\" xlink:href=\"#DejaVuSans-48\"/>\r\n       <use x=\"127.246094\" xlink:href=\"#DejaVuSans-48\"/>\r\n      </g>\r\n     </g>\r\n    </g>\r\n    <g id=\"ytick_5\">\r\n     <g id=\"line2d_9\">\r\n      <g>\r\n       <use style=\"stroke:#000000;stroke-width:0.8;\" x=\"33.2875\" xlink:href=\"#m3b3e9c2af6\" y=\"52.724345\"/>\r\n      </g>\r\n     </g>\r\n     <g id=\"text_9\">\r\n      <!-- 250 -->\r\n      <g transform=\"translate(7.2 56.523564)scale(0.1 -0.1)\">\r\n       <use xlink:href=\"#DejaVuSans-50\"/>\r\n       <use x=\"63.623047\" xlink:href=\"#DejaVuSans-53\"/>\r\n       <use x=\"127.246094\" xlink:href=\"#DejaVuSans-48\"/>\r\n      </g>\r\n     </g>\r\n    </g>\r\n    <g id=\"ytick_6\">\r\n     <g id=\"line2d_10\">\r\n      <g>\r\n       <use style=\"stroke:#000000;stroke-width:0.8;\" x=\"33.2875\" xlink:href=\"#m3b3e9c2af6\" y=\"27.215774\"/>\r\n      </g>\r\n     </g>\r\n     <g id=\"text_10\">\r\n      <!-- 300 -->\r\n      <g transform=\"translate(7.2 31.014993)scale(0.1 -0.1)\">\r\n       <defs>\r\n        <path d=\"M 40.578125 39.3125 \r\nQ 47.65625 37.796875 51.625 33 \r\nQ 55.609375 28.21875 55.609375 21.1875 \r\nQ 55.609375 10.40625 48.1875 4.484375 \r\nQ 40.765625 -1.421875 27.09375 -1.421875 \r\nQ 22.515625 -1.421875 17.65625 -0.515625 \r\nQ 12.796875 0.390625 7.625 2.203125 \r\nL 7.625 11.71875 \r\nQ 11.71875 9.328125 16.59375 8.109375 \r\nQ 21.484375 6.890625 26.8125 6.890625 \r\nQ 36.078125 6.890625 40.9375 10.546875 \r\nQ 45.796875 14.203125 45.796875 21.1875 \r\nQ 45.796875 27.640625 41.28125 31.265625 \r\nQ 36.765625 34.90625 28.71875 34.90625 \r\nL 20.21875 34.90625 \r\nL 20.21875 43.015625 \r\nL 29.109375 43.015625 \r\nQ 36.375 43.015625 40.234375 45.921875 \r\nQ 44.09375 48.828125 44.09375 54.296875 \r\nQ 44.09375 59.90625 40.109375 62.90625 \r\nQ 36.140625 65.921875 28.71875 65.921875 \r\nQ 24.65625 65.921875 20.015625 65.03125 \r\nQ 15.375 64.15625 9.8125 62.3125 \r\nL 9.8125 71.09375 \r\nQ 15.4375 72.65625 20.34375 73.4375 \r\nQ 25.25 74.21875 29.59375 74.21875 \r\nQ 40.828125 74.21875 47.359375 69.109375 \r\nQ 53.90625 64.015625 53.90625 55.328125 \r\nQ 53.90625 49.265625 50.4375 45.09375 \r\nQ 46.96875 40.921875 40.578125 39.3125 \r\nz\r\n\" id=\"DejaVuSans-51\"/>\r\n       </defs>\r\n       <use xlink:href=\"#DejaVuSans-51\"/>\r\n       <use x=\"63.623047\" xlink:href=\"#DejaVuSans-48\"/>\r\n       <use x=\"127.246094\" xlink:href=\"#DejaVuSans-48\"/>\r\n      </g>\r\n     </g>\r\n    </g>\r\n   </g>\r\n   <g id=\"patch_3\">\r\n    <path d=\"M 33.2875 164.96206 \r\nL 33.2875 22.318125 \r\n\" style=\"fill:none;stroke:#000000;stroke-linecap:square;stroke-linejoin:miter;stroke-width:0.8;\"/>\r\n   </g>\r\n   <g id=\"patch_4\">\r\n    <path d=\"M 211.8475 164.96206 \r\nL 211.8475 22.318125 \r\n\" style=\"fill:none;stroke:#000000;stroke-linecap:square;stroke-linejoin:miter;stroke-width:0.8;\"/>\r\n   </g>\r\n   <g id=\"patch_5\">\r\n    <path d=\"M 33.2875 164.96206 \r\nL 211.8475 164.96206 \r\n\" style=\"fill:none;stroke:#000000;stroke-linecap:square;stroke-linejoin:miter;stroke-width:0.8;\"/>\r\n   </g>\r\n   <g id=\"patch_6\">\r\n    <path d=\"M 33.2875 22.318125 \r\nL 211.8475 22.318125 \r\n\" style=\"fill:none;stroke:#000000;stroke-linecap:square;stroke-linejoin:miter;stroke-width:0.8;\"/>\r\n   </g>\r\n   <g id=\"text_11\">\r\n    <!-- iter 1/1000 -->\r\n    <g transform=\"translate(89.374375 16.318125)scale(0.12 -0.12)\">\r\n     <defs>\r\n      <path d=\"M 9.421875 54.6875 \r\nL 18.40625 54.6875 \r\nL 18.40625 0 \r\nL 9.421875 0 \r\nz\r\nM 9.421875 75.984375 \r\nL 18.40625 75.984375 \r\nL 18.40625 64.59375 \r\nL 9.421875 64.59375 \r\nz\r\n\" id=\"DejaVuSans-105\"/>\r\n      <path d=\"M 18.3125 70.21875 \r\nL 18.3125 54.6875 \r\nL 36.8125 54.6875 \r\nL 36.8125 47.703125 \r\nL 18.3125 47.703125 \r\nL 18.3125 18.015625 \r\nQ 18.3125 11.328125 20.140625 9.421875 \r\nQ 21.96875 7.515625 27.59375 7.515625 \r\nL 36.8125 7.515625 \r\nL 36.8125 0 \r\nL 27.59375 0 \r\nQ 17.1875 0 13.234375 3.875 \r\nQ 9.28125 7.765625 9.28125 18.015625 \r\nL 9.28125 47.703125 \r\nL 2.6875 47.703125 \r\nL 2.6875 54.6875 \r\nL 9.28125 54.6875 \r\nL 9.28125 70.21875 \r\nz\r\n\" id=\"DejaVuSans-116\"/>\r\n      <path d=\"M 56.203125 29.59375 \r\nL 56.203125 25.203125 \r\nL 14.890625 25.203125 \r\nQ 15.484375 15.921875 20.484375 11.0625 \r\nQ 25.484375 6.203125 34.421875 6.203125 \r\nQ 39.59375 6.203125 44.453125 7.46875 \r\nQ 49.3125 8.734375 54.109375 11.28125 \r\nL 54.109375 2.78125 \r\nQ 49.265625 0.734375 44.1875 -0.34375 \r\nQ 39.109375 -1.421875 33.890625 -1.421875 \r\nQ 20.796875 -1.421875 13.15625 6.1875 \r\nQ 5.515625 13.8125 5.515625 26.8125 \r\nQ 5.515625 40.234375 12.765625 48.109375 \r\nQ 20.015625 56 32.328125 56 \r\nQ 43.359375 56 49.78125 48.890625 \r\nQ 56.203125 41.796875 56.203125 29.59375 \r\nz\r\nM 47.21875 32.234375 \r\nQ 47.125 39.59375 43.09375 43.984375 \r\nQ 39.0625 48.390625 32.421875 48.390625 \r\nQ 24.90625 48.390625 20.390625 44.140625 \r\nQ 15.875 39.890625 15.1875 32.171875 \r\nz\r\n\" id=\"DejaVuSans-101\"/>\r\n      <path d=\"M 41.109375 46.296875 \r\nQ 39.59375 47.171875 37.8125 47.578125 \r\nQ 36.03125 48 33.890625 48 \r\nQ 26.265625 48 22.1875 43.046875 \r\nQ 18.109375 38.09375 18.109375 28.8125 \r\nL 18.109375 0 \r\nL 9.078125 0 \r\nL 9.078125 54.6875 \r\nL 18.109375 54.6875 \r\nL 18.109375 46.1875 \r\nQ 20.953125 51.171875 25.484375 53.578125 \r\nQ 30.03125 56 36.53125 56 \r\nQ 37.453125 56 38.578125 55.875 \r\nQ 39.703125 55.765625 41.0625 55.515625 \r\nz\r\n\" id=\"DejaVuSans-114\"/>\r\n      <path id=\"DejaVuSans-32\"/>\r\n      <path d=\"M 25.390625 72.90625 \r\nL 33.6875 72.90625 \r\nL 8.296875 -9.28125 \r\nL 0 -9.28125 \r\nz\r\n\" id=\"DejaVuSans-47\"/>\r\n     </defs>\r\n     <use xlink:href=\"#DejaVuSans-105\"/>\r\n     <use x=\"27.783203\" xlink:href=\"#DejaVuSans-116\"/>\r\n     <use x=\"66.992188\" xlink:href=\"#DejaVuSans-101\"/>\r\n     <use x=\"128.515625\" xlink:href=\"#DejaVuSans-114\"/>\r\n     <use x=\"169.628906\" xlink:href=\"#DejaVuSans-32\"/>\r\n     <use x=\"201.416016\" xlink:href=\"#DejaVuSans-49\"/>\r\n     <use x=\"265.039062\" xlink:href=\"#DejaVuSans-47\"/>\r\n     <use x=\"298.730469\" xlink:href=\"#DejaVuSans-49\"/>\r\n     <use x=\"362.353516\" xlink:href=\"#DejaVuSans-48\"/>\r\n     <use x=\"425.976562\" xlink:href=\"#DejaVuSans-48\"/>\r\n     <use x=\"489.599609\" xlink:href=\"#DejaVuSans-48\"/>\r\n    </g>\r\n   </g>\r\n  </g>\r\n  <g id=\"axes_2\">\r\n   <g id=\"patch_7\">\r\n    <path clip-path=\"url(#p8e0c1f49b0)\" d=\"M 223.0075 175.180092 \r\nL 223.0075 174.543061 \r\nL 223.0075 12.737124 \r\nL 223.0075 12.100092 \r\nL 231.1615 12.100092 \r\nL 231.1615 12.737124 \r\nL 231.1615 174.543061 \r\nL 231.1615 175.180092 \r\nz\r\n\" style=\"fill:#ffffff;stroke:#ffffff;stroke-linejoin:miter;stroke-width:0.01;\"/>\r\n   </g>\r\n   <image height=\"163\" id=\"image673c4d6a5b\" transform=\"scale(1 -1)translate(0 -163)\" width=\"8\" x=\"223\" xlink:href=\"data:image/png;base64,\r\niVBORw0KGgoAAAANSUhEUgAAAAgAAACjCAYAAAC31F+mAAABKUlEQVR4nM3Y0W3DMAyEYYqSvFlm6P57tHU30CeAquG8ivh5d2Qcxe0zvu5YfEa0XJ3HaL2vCyJbldBACBHqIiORw4EC2xShnqRdgHCbsDzf0PBEC89COThqEdxieb7TQiKpIaTh9sKAsLFy0lAW+YDNegG/3SeCqhYcSNJrrxavsFkmMIe6zXrU/x/UA/vwxDQP2Fxe5d4yzbVINNjTgBw2rgciVG2a0MoE5lBvQQJ+kWK0/C0ToCGZgwqy3CLLNrsInRpUwBYMarQyQRpYkFFtwaBo04T8KbdAwXwDgdNsyKEHW4DAfZj5LQ0iyMVsaMGFuUiwSNmUBhIu5ZCaZt3mCQ0icFjBfdDD3NPU0355HDEu/VskYerd4MRNa3RpGIE3Wl0aEhr+ADsnb5Du1rJ2AAAAAElFTkSuQmCC\" y=\"-11\"/>\r\n   <g id=\"matplotlib.axis_3\"/>\r\n   <g id=\"matplotlib.axis_4\">\r\n    <g id=\"ytick_7\">\r\n     <g id=\"line2d_11\">\r\n      <defs>\r\n       <path d=\"M 0 0 \r\nL 3.5 0 \r\n\" id=\"mf781d2e3e9\" style=\"stroke:#000000;stroke-width:0.8;\"/>\r\n      </defs>\r\n      <g>\r\n       <use style=\"stroke:#000000;stroke-width:0.8;\" x=\"231.1615\" xlink:href=\"#mf781d2e3e9\" y=\"152.559048\"/>\r\n      </g>\r\n     </g>\r\n     <g id=\"text_12\">\r\n      <!-- 5 -->\r\n      <g transform=\"translate(238.1615 156.358267)scale(0.1 -0.1)\">\r\n       <use xlink:href=\"#DejaVuSans-53\"/>\r\n      </g>\r\n     </g>\r\n    </g>\r\n    <g id=\"ytick_8\">\r\n     <g id=\"line2d_12\">\r\n      <g>\r\n       <use style=\"stroke:#000000;stroke-width:0.8;\" x=\"231.1615\" xlink:href=\"#mf781d2e3e9\" y=\"123.564781\"/>\r\n      </g>\r\n     </g>\r\n     <g id=\"text_13\">\r\n      <!-- 10 -->\r\n      <g transform=\"translate(238.1615 127.364)scale(0.1 -0.1)\">\r\n       <use xlink:href=\"#DejaVuSans-49\"/>\r\n       <use x=\"63.623047\" xlink:href=\"#DejaVuSans-48\"/>\r\n      </g>\r\n     </g>\r\n    </g>\r\n    <g id=\"ytick_9\">\r\n     <g id=\"line2d_13\">\r\n      <g>\r\n       <use style=\"stroke:#000000;stroke-width:0.8;\" x=\"231.1615\" xlink:href=\"#mf781d2e3e9\" y=\"94.570513\"/>\r\n      </g>\r\n     </g>\r\n     <g id=\"text_14\">\r\n      <!-- 15 -->\r\n      <g transform=\"translate(238.1615 98.369732)scale(0.1 -0.1)\">\r\n       <use xlink:href=\"#DejaVuSans-49\"/>\r\n       <use x=\"63.623047\" xlink:href=\"#DejaVuSans-53\"/>\r\n      </g>\r\n     </g>\r\n    </g>\r\n    <g id=\"ytick_10\">\r\n     <g id=\"line2d_14\">\r\n      <g>\r\n       <use style=\"stroke:#000000;stroke-width:0.8;\" x=\"231.1615\" xlink:href=\"#mf781d2e3e9\" y=\"65.576246\"/>\r\n      </g>\r\n     </g>\r\n     <g id=\"text_15\">\r\n      <!-- 20 -->\r\n      <g transform=\"translate(238.1615 69.375465)scale(0.1 -0.1)\">\r\n       <use xlink:href=\"#DejaVuSans-50\"/>\r\n       <use x=\"63.623047\" xlink:href=\"#DejaVuSans-48\"/>\r\n      </g>\r\n     </g>\r\n    </g>\r\n    <g id=\"ytick_11\">\r\n     <g id=\"line2d_15\">\r\n      <g>\r\n       <use style=\"stroke:#000000;stroke-width:0.8;\" x=\"231.1615\" xlink:href=\"#mf781d2e3e9\" y=\"36.581979\"/>\r\n      </g>\r\n     </g>\r\n     <g id=\"text_16\">\r\n      <!-- 25 -->\r\n      <g transform=\"translate(238.1615 40.381197)scale(0.1 -0.1)\">\r\n       <use xlink:href=\"#DejaVuSans-50\"/>\r\n       <use x=\"63.623047\" xlink:href=\"#DejaVuSans-53\"/>\r\n      </g>\r\n     </g>\r\n    </g>\r\n   </g>\r\n   <g id=\"patch_8\">\r\n    <path d=\"M 223.0075 175.180092 \r\nL 223.0075 174.543061 \r\nL 223.0075 12.737124 \r\nL 223.0075 12.100092 \r\nL 231.1615 12.100092 \r\nL 231.1615 12.737124 \r\nL 231.1615 174.543061 \r\nL 231.1615 175.180092 \r\nz\r\n\" style=\"fill:none;stroke:#000000;stroke-linejoin:miter;stroke-width:0.8;\"/>\r\n   </g>\r\n  </g>\r\n </g>\r\n <defs>\r\n  <clipPath id=\"p79abe41edb\">\r\n   <rect height=\"142.643935\" width=\"178.56\" x=\"33.2875\" y=\"22.318125\"/>\r\n  </clipPath>\r\n  <clipPath id=\"p8e0c1f49b0\">\r\n   <rect height=\"163.08\" width=\"8.154\" x=\"223.0075\" y=\"12.100092\"/>\r\n  </clipPath>\r\n </defs>\r\n</svg>\r\n",
      "image/png": "[encoded data removed]"
     },
     "metadata": {
      "needs_background": "light"
     }
    },
    {
     "output_type": "display_data",
     "data": {
      "text/plain": "<Figure size 288x216 with 2 Axes>",
      "image/svg+xml": "<?xml version=\"1.0\" encoding=\"utf-8\" standalone=\"no\"?>\r\n<!DOCTYPE svg PUBLIC \"-//W3C//DTD SVG 1.1//EN\"\r\n  \"http://www.w3.org/Graphics/SVG/1.1/DTD/svg11.dtd\">\r\n<!-- Created with matplotlib (https://matplotlib.org/) -->\r\n<svg height=\"188.840185pt\" version=\"1.1\" viewBox=\"0 0 258.0865 188.840185\" width=\"258.0865pt\" xmlns=\"http://www.w3.org/2000/svg\" xmlns:xlink=\"http://www.w3.org/1999/xlink\">\r\n <metadata>\r\n  <rdf:RDF xmlns:cc=\"http://creativecommons.org/ns#\" xmlns:dc=\"http://purl.org/dc/elements/1.1/\" xmlns:rdf=\"http://www.w3.org/1999/02/22-rdf-syntax-ns#\">\r\n   <cc:Work>\r\n    <dc:type rdf:resource=\"http://purl.org/dc/dcmitype/StillImage\"/>\r\n    <dc:date>2021-02-19T13:55:35.405386</dc:date>\r\n    <dc:format>image/svg+xml</dc:format>\r\n    <dc:creator>\r\n     <cc:Agent>\r\n      <dc:title>Matplotlib v3.3.4, https://matplotlib.org/</dc:title>\r\n     </cc:Agent>\r\n    </dc:creator>\r\n   </cc:Work>\r\n  </rdf:RDF>\r\n </metadata>\r\n <defs>\r\n  <style type=\"text/css\">*{stroke-linecap:butt;stroke-linejoin:round;}</style>\r\n </defs>\r\n <g id=\"figure_1\">\r\n  <g id=\"patch_1\">\r\n   <path d=\"M 0 188.840185 \r\nL 258.0865 188.840185 \r\nL 258.0865 0 \r\nL 0 0 \r\nz\r\n\" style=\"fill:none;\"/>\r\n  </g>\r\n  <g id=\"axes_1\">\r\n   <g id=\"patch_2\">\r\n    <path d=\"M 33.2875 164.96206 \r\nL 211.8475 164.96206 \r\nL 211.8475 22.318125 \r\nL 33.2875 22.318125 \r\nz\r\n\" style=\"fill:#ffffff;\"/>\r\n   </g>\r\n   <g clip-path=\"url(#p18b629e86d)\">\r\n    <image height=\"143\" id=\"image2384e44661\" transform=\"scale(1 -1)translate(0 -143)\" width=\"179\" x=\"33.2875\" xlink:href=\"data:image/png;base64,\r\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\" y=\"-21.96206\"/>\r\n   </g>\r\n   <g id=\"matplotlib.axis_1\">\r\n    <g id=\"xtick_1\">\r\n     <g id=\"line2d_1\">\r\n      <defs>\r\n       <path d=\"M 0 0 \r\nL 0 3.5 \r\n\" id=\"mdf88993fdd\" style=\"stroke:#000000;stroke-width:0.8;\"/>\r\n      </defs>\r\n      <g>\r\n       <use style=\"stroke:#000000;stroke-width:0.8;\" x=\"58.796071\" xlink:href=\"#mdf88993fdd\" y=\"164.96206\"/>\r\n      </g>\r\n     </g>\r\n     <g id=\"text_1\">\r\n      <!-- 400 -->\r\n      <g transform=\"translate(49.252321 179.560497)scale(0.1 -0.1)\">\r\n       <defs>\r\n        <path d=\"M 37.796875 64.3125 \r\nL 12.890625 25.390625 \r\nL 37.796875 25.390625 \r\nz\r\nM 35.203125 72.90625 \r\nL 47.609375 72.90625 \r\nL 47.609375 25.390625 \r\nL 58.015625 25.390625 \r\nL 58.015625 17.1875 \r\nL 47.609375 17.1875 \r\nL 47.609375 0 \r\nL 37.796875 0 \r\nL 37.796875 17.1875 \r\nL 4.890625 17.1875 \r\nL 4.890625 26.703125 \r\nz\r\n\" id=\"DejaVuSans-52\"/>\r\n        <path d=\"M 31.78125 66.40625 \r\nQ 24.171875 66.40625 20.328125 58.90625 \r\nQ 16.5 51.421875 16.5 36.375 \r\nQ 16.5 21.390625 20.328125 13.890625 \r\nQ 24.171875 6.390625 31.78125 6.390625 \r\nQ 39.453125 6.390625 43.28125 13.890625 \r\nQ 47.125 21.390625 47.125 36.375 \r\nQ 47.125 51.421875 43.28125 58.90625 \r\nQ 39.453125 66.40625 31.78125 66.40625 \r\nz\r\nM 31.78125 74.21875 \r\nQ 44.046875 74.21875 50.515625 64.515625 \r\nQ 56.984375 54.828125 56.984375 36.375 \r\nQ 56.984375 17.96875 50.515625 8.265625 \r\nQ 44.046875 -1.421875 31.78125 -1.421875 \r\nQ 19.53125 -1.421875 13.0625 8.265625 \r\nQ 6.59375 17.96875 6.59375 36.375 \r\nQ 6.59375 54.828125 13.0625 64.515625 \r\nQ 19.53125 74.21875 31.78125 74.21875 \r\nz\r\n\" id=\"DejaVuSans-48\"/>\r\n       </defs>\r\n       <use xlink:href=\"#DejaVuSans-52\"/>\r\n       <use x=\"63.623047\" xlink:href=\"#DejaVuSans-48\"/>\r\n       <use x=\"127.246094\" xlink:href=\"#DejaVuSans-48\"/>\r\n      </g>\r\n     </g>\r\n    </g>\r\n    <g id=\"xtick_2\">\r\n     <g id=\"line2d_2\">\r\n      <g>\r\n       <use style=\"stroke:#000000;stroke-width:0.8;\" x=\"109.813214\" xlink:href=\"#mdf88993fdd\" y=\"164.96206\"/>\r\n      </g>\r\n     </g>\r\n     <g id=\"text_2\">\r\n      <!-- 500 -->\r\n      <g transform=\"translate(100.269464 179.560497)scale(0.1 -0.1)\">\r\n       <defs>\r\n        <path d=\"M 10.796875 72.90625 \r\nL 49.515625 72.90625 \r\nL 49.515625 64.59375 \r\nL 19.828125 64.59375 \r\nL 19.828125 46.734375 \r\nQ 21.96875 47.46875 24.109375 47.828125 \r\nQ 26.265625 48.1875 28.421875 48.1875 \r\nQ 40.625 48.1875 47.75 41.5 \r\nQ 54.890625 34.8125 54.890625 23.390625 \r\nQ 54.890625 11.625 47.5625 5.09375 \r\nQ 40.234375 -1.421875 26.90625 -1.421875 \r\nQ 22.3125 -1.421875 17.546875 -0.640625 \r\nQ 12.796875 0.140625 7.71875 1.703125 \r\nL 7.71875 11.625 \r\nQ 12.109375 9.234375 16.796875 8.0625 \r\nQ 21.484375 6.890625 26.703125 6.890625 \r\nQ 35.15625 6.890625 40.078125 11.328125 \r\nQ 45.015625 15.765625 45.015625 23.390625 \r\nQ 45.015625 31 40.078125 35.4375 \r\nQ 35.15625 39.890625 26.703125 39.890625 \r\nQ 22.75 39.890625 18.8125 39.015625 \r\nQ 14.890625 38.140625 10.796875 36.28125 \r\nz\r\n\" id=\"DejaVuSans-53\"/>\r\n       </defs>\r\n       <use xlink:href=\"#DejaVuSans-53\"/>\r\n       <use x=\"63.623047\" xlink:href=\"#DejaVuSans-48\"/>\r\n       <use x=\"127.246094\" xlink:href=\"#DejaVuSans-48\"/>\r\n      </g>\r\n     </g>\r\n    </g>\r\n    <g id=\"xtick_3\">\r\n     <g id=\"line2d_3\">\r\n      <g>\r\n       <use style=\"stroke:#000000;stroke-width:0.8;\" x=\"160.830357\" xlink:href=\"#mdf88993fdd\" y=\"164.96206\"/>\r\n      </g>\r\n     </g>\r\n     <g id=\"text_3\">\r\n      <!-- 600 -->\r\n      <g transform=\"translate(151.286607 179.560497)scale(0.1 -0.1)\">\r\n       <defs>\r\n        <path d=\"M 33.015625 40.375 \r\nQ 26.375 40.375 22.484375 35.828125 \r\nQ 18.609375 31.296875 18.609375 23.390625 \r\nQ 18.609375 15.53125 22.484375 10.953125 \r\nQ 26.375 6.390625 33.015625 6.390625 \r\nQ 39.65625 6.390625 43.53125 10.953125 \r\nQ 47.40625 15.53125 47.40625 23.390625 \r\nQ 47.40625 31.296875 43.53125 35.828125 \r\nQ 39.65625 40.375 33.015625 40.375 \r\nz\r\nM 52.59375 71.296875 \r\nL 52.59375 62.3125 \r\nQ 48.875 64.0625 45.09375 64.984375 \r\nQ 41.3125 65.921875 37.59375 65.921875 \r\nQ 27.828125 65.921875 22.671875 59.328125 \r\nQ 17.53125 52.734375 16.796875 39.40625 \r\nQ 19.671875 43.65625 24.015625 45.921875 \r\nQ 28.375 48.1875 33.59375 48.1875 \r\nQ 44.578125 48.1875 50.953125 41.515625 \r\nQ 57.328125 34.859375 57.328125 23.390625 \r\nQ 57.328125 12.15625 50.6875 5.359375 \r\nQ 44.046875 -1.421875 33.015625 -1.421875 \r\nQ 20.359375 -1.421875 13.671875 8.265625 \r\nQ 6.984375 17.96875 6.984375 36.375 \r\nQ 6.984375 53.65625 15.1875 63.9375 \r\nQ 23.390625 74.21875 37.203125 74.21875 \r\nQ 40.921875 74.21875 44.703125 73.484375 \r\nQ 48.484375 72.75 52.59375 71.296875 \r\nz\r\n\" id=\"DejaVuSans-54\"/>\r\n       </defs>\r\n       <use xlink:href=\"#DejaVuSans-54\"/>\r\n       <use x=\"63.623047\" xlink:href=\"#DejaVuSans-48\"/>\r\n       <use x=\"127.246094\" xlink:href=\"#DejaVuSans-48\"/>\r\n      </g>\r\n     </g>\r\n    </g>\r\n    <g id=\"xtick_4\">\r\n     <g id=\"line2d_4\">\r\n      <g>\r\n       <use style=\"stroke:#000000;stroke-width:0.8;\" x=\"211.8475\" xlink:href=\"#mdf88993fdd\" y=\"164.96206\"/>\r\n      </g>\r\n     </g>\r\n     <g id=\"text_4\">\r\n      <!-- 700 -->\r\n      <g transform=\"translate(202.30375 179.560497)scale(0.1 -0.1)\">\r\n       <defs>\r\n        <path d=\"M 8.203125 72.90625 \r\nL 55.078125 72.90625 \r\nL 55.078125 68.703125 \r\nL 28.609375 0 \r\nL 18.3125 0 \r\nL 43.21875 64.59375 \r\nL 8.203125 64.59375 \r\nz\r\n\" id=\"DejaVuSans-55\"/>\r\n       </defs>\r\n       <use xlink:href=\"#DejaVuSans-55\"/>\r\n       <use x=\"63.623047\" xlink:href=\"#DejaVuSans-48\"/>\r\n       <use x=\"127.246094\" xlink:href=\"#DejaVuSans-48\"/>\r\n      </g>\r\n     </g>\r\n    </g>\r\n   </g>\r\n   <g id=\"matplotlib.axis_2\">\r\n    <g id=\"ytick_1\">\r\n     <g id=\"line2d_5\">\r\n      <defs>\r\n       <path d=\"M 0 0 \r\nL -3.5 0 \r\n\" id=\"me30e38a871\" style=\"stroke:#000000;stroke-width:0.8;\"/>\r\n      </defs>\r\n      <g>\r\n       <use style=\"stroke:#000000;stroke-width:0.8;\" x=\"33.2875\" xlink:href=\"#me30e38a871\" y=\"154.758631\"/>\r\n      </g>\r\n     </g>\r\n     <g id=\"text_5\">\r\n      <!-- 50 -->\r\n      <g transform=\"translate(13.5625 158.55785)scale(0.1 -0.1)\">\r\n       <use xlink:href=\"#DejaVuSans-53\"/>\r\n       <use x=\"63.623047\" xlink:href=\"#DejaVuSans-48\"/>\r\n      </g>\r\n     </g>\r\n    </g>\r\n    <g id=\"ytick_2\">\r\n     <g id=\"line2d_6\">\r\n      <g>\r\n       <use style=\"stroke:#000000;stroke-width:0.8;\" x=\"33.2875\" xlink:href=\"#me30e38a871\" y=\"129.25006\"/>\r\n      </g>\r\n     </g>\r\n     <g id=\"text_6\">\r\n      <!-- 100 -->\r\n      <g transform=\"translate(7.2 133.049278)scale(0.1 -0.1)\">\r\n       <defs>\r\n        <path d=\"M 12.40625 8.296875 \r\nL 28.515625 8.296875 \r\nL 28.515625 63.921875 \r\nL 10.984375 60.40625 \r\nL 10.984375 69.390625 \r\nL 28.421875 72.90625 \r\nL 38.28125 72.90625 \r\nL 38.28125 8.296875 \r\nL 54.390625 8.296875 \r\nL 54.390625 0 \r\nL 12.40625 0 \r\nz\r\n\" id=\"DejaVuSans-49\"/>\r\n       </defs>\r\n       <use xlink:href=\"#DejaVuSans-49\"/>\r\n       <use x=\"63.623047\" xlink:href=\"#DejaVuSans-48\"/>\r\n       <use x=\"127.246094\" xlink:href=\"#DejaVuSans-48\"/>\r\n      </g>\r\n     </g>\r\n    </g>\r\n    <g id=\"ytick_3\">\r\n     <g id=\"line2d_7\">\r\n      <g>\r\n       <use style=\"stroke:#000000;stroke-width:0.8;\" x=\"33.2875\" xlink:href=\"#me30e38a871\" y=\"103.741488\"/>\r\n      </g>\r\n     </g>\r\n     <g id=\"text_7\">\r\n      <!-- 150 -->\r\n      <g transform=\"translate(7.2 107.540707)scale(0.1 -0.1)\">\r\n       <use xlink:href=\"#DejaVuSans-49\"/>\r\n       <use x=\"63.623047\" xlink:href=\"#DejaVuSans-53\"/>\r\n       <use x=\"127.246094\" xlink:href=\"#DejaVuSans-48\"/>\r\n      </g>\r\n     </g>\r\n    </g>\r\n    <g id=\"ytick_4\">\r\n     <g id=\"line2d_8\">\r\n      <g>\r\n       <use style=\"stroke:#000000;stroke-width:0.8;\" x=\"33.2875\" xlink:href=\"#me30e38a871\" y=\"78.232917\"/>\r\n      </g>\r\n     </g>\r\n     <g id=\"text_8\">\r\n      <!-- 200 -->\r\n      <g transform=\"translate(7.2 82.032135)scale(0.1 -0.1)\">\r\n       <defs>\r\n        <path d=\"M 19.1875 8.296875 \r\nL 53.609375 8.296875 \r\nL 53.609375 0 \r\nL 7.328125 0 \r\nL 7.328125 8.296875 \r\nQ 12.9375 14.109375 22.625 23.890625 \r\nQ 32.328125 33.6875 34.8125 36.53125 \r\nQ 39.546875 41.84375 41.421875 45.53125 \r\nQ 43.3125 49.21875 43.3125 52.78125 \r\nQ 43.3125 58.59375 39.234375 62.25 \r\nQ 35.15625 65.921875 28.609375 65.921875 \r\nQ 23.96875 65.921875 18.8125 64.3125 \r\nQ 13.671875 62.703125 7.8125 59.421875 \r\nL 7.8125 69.390625 \r\nQ 13.765625 71.78125 18.9375 73 \r\nQ 24.125 74.21875 28.421875 74.21875 \r\nQ 39.75 74.21875 46.484375 68.546875 \r\nQ 53.21875 62.890625 53.21875 53.421875 \r\nQ 53.21875 48.921875 51.53125 44.890625 \r\nQ 49.859375 40.875 45.40625 35.40625 \r\nQ 44.1875 33.984375 37.640625 27.21875 \r\nQ 31.109375 20.453125 19.1875 8.296875 \r\nz\r\n\" id=\"DejaVuSans-50\"/>\r\n       </defs>\r\n       <use xlink:href=\"#DejaVuSans-50\"/>\r\n       <use x=\"63.623047\" xlink:href=\"#DejaVuSans-48\"/>\r\n       <use x=\"127.246094\" xlink:href=\"#DejaVuSans-48\"/>\r\n      </g>\r\n     </g>\r\n    </g>\r\n    <g id=\"ytick_5\">\r\n     <g id=\"line2d_9\">\r\n      <g>\r\n       <use style=\"stroke:#000000;stroke-width:0.8;\" x=\"33.2875\" xlink:href=\"#me30e38a871\" y=\"52.724345\"/>\r\n      </g>\r\n     </g>\r\n     <g id=\"text_9\">\r\n      <!-- 250 -->\r\n      <g transform=\"translate(7.2 56.523564)scale(0.1 -0.1)\">\r\n       <use xlink:href=\"#DejaVuSans-50\"/>\r\n       <use x=\"63.623047\" xlink:href=\"#DejaVuSans-53\"/>\r\n       <use x=\"127.246094\" xlink:href=\"#DejaVuSans-48\"/>\r\n      </g>\r\n     </g>\r\n    </g>\r\n    <g id=\"ytick_6\">\r\n     <g id=\"line2d_10\">\r\n      <g>\r\n       <use style=\"stroke:#000000;stroke-width:0.8;\" x=\"33.2875\" xlink:href=\"#me30e38a871\" y=\"27.215774\"/>\r\n      </g>\r\n     </g>\r\n     <g id=\"text_10\">\r\n      <!-- 300 -->\r\n      <g transform=\"translate(7.2 31.014993)scale(0.1 -0.1)\">\r\n       <defs>\r\n        <path d=\"M 40.578125 39.3125 \r\nQ 47.65625 37.796875 51.625 33 \r\nQ 55.609375 28.21875 55.609375 21.1875 \r\nQ 55.609375 10.40625 48.1875 4.484375 \r\nQ 40.765625 -1.421875 27.09375 -1.421875 \r\nQ 22.515625 -1.421875 17.65625 -0.515625 \r\nQ 12.796875 0.390625 7.625 2.203125 \r\nL 7.625 11.71875 \r\nQ 11.71875 9.328125 16.59375 8.109375 \r\nQ 21.484375 6.890625 26.8125 6.890625 \r\nQ 36.078125 6.890625 40.9375 10.546875 \r\nQ 45.796875 14.203125 45.796875 21.1875 \r\nQ 45.796875 27.640625 41.28125 31.265625 \r\nQ 36.765625 34.90625 28.71875 34.90625 \r\nL 20.21875 34.90625 \r\nL 20.21875 43.015625 \r\nL 29.109375 43.015625 \r\nQ 36.375 43.015625 40.234375 45.921875 \r\nQ 44.09375 48.828125 44.09375 54.296875 \r\nQ 44.09375 59.90625 40.109375 62.90625 \r\nQ 36.140625 65.921875 28.71875 65.921875 \r\nQ 24.65625 65.921875 20.015625 65.03125 \r\nQ 15.375 64.15625 9.8125 62.3125 \r\nL 9.8125 71.09375 \r\nQ 15.4375 72.65625 20.34375 73.4375 \r\nQ 25.25 74.21875 29.59375 74.21875 \r\nQ 40.828125 74.21875 47.359375 69.109375 \r\nQ 53.90625 64.015625 53.90625 55.328125 \r\nQ 53.90625 49.265625 50.4375 45.09375 \r\nQ 46.96875 40.921875 40.578125 39.3125 \r\nz\r\n\" id=\"DejaVuSans-51\"/>\r\n       </defs>\r\n       <use xlink:href=\"#DejaVuSans-51\"/>\r\n       <use x=\"63.623047\" xlink:href=\"#DejaVuSans-48\"/>\r\n       <use x=\"127.246094\" xlink:href=\"#DejaVuSans-48\"/>\r\n      </g>\r\n     </g>\r\n    </g>\r\n   </g>\r\n   <g id=\"patch_3\">\r\n    <path d=\"M 33.2875 164.96206 \r\nL 33.2875 22.318125 \r\n\" style=\"fill:none;stroke:#000000;stroke-linecap:square;stroke-linejoin:miter;stroke-width:0.8;\"/>\r\n   </g>\r\n   <g id=\"patch_4\">\r\n    <path d=\"M 211.8475 164.96206 \r\nL 211.8475 22.318125 \r\n\" style=\"fill:none;stroke:#000000;stroke-linecap:square;stroke-linejoin:miter;stroke-width:0.8;\"/>\r\n   </g>\r\n   <g id=\"patch_5\">\r\n    <path d=\"M 33.2875 164.96206 \r\nL 211.8475 164.96206 \r\n\" style=\"fill:none;stroke:#000000;stroke-linecap:square;stroke-linejoin:miter;stroke-width:0.8;\"/>\r\n   </g>\r\n   <g id=\"patch_6\">\r\n    <path d=\"M 33.2875 22.318125 \r\nL 211.8475 22.318125 \r\n\" style=\"fill:none;stroke:#000000;stroke-linecap:square;stroke-linejoin:miter;stroke-width:0.8;\"/>\r\n   </g>\r\n   <g id=\"text_11\">\r\n    <!-- iter 101/1000 -->\r\n    <g transform=\"translate(81.739375 16.318125)scale(0.12 -0.12)\">\r\n     <defs>\r\n      <path d=\"M 9.421875 54.6875 \r\nL 18.40625 54.6875 \r\nL 18.40625 0 \r\nL 9.421875 0 \r\nz\r\nM 9.421875 75.984375 \r\nL 18.40625 75.984375 \r\nL 18.40625 64.59375 \r\nL 9.421875 64.59375 \r\nz\r\n\" id=\"DejaVuSans-105\"/>\r\n      <path d=\"M 18.3125 70.21875 \r\nL 18.3125 54.6875 \r\nL 36.8125 54.6875 \r\nL 36.8125 47.703125 \r\nL 18.3125 47.703125 \r\nL 18.3125 18.015625 \r\nQ 18.3125 11.328125 20.140625 9.421875 \r\nQ 21.96875 7.515625 27.59375 7.515625 \r\nL 36.8125 7.515625 \r\nL 36.8125 0 \r\nL 27.59375 0 \r\nQ 17.1875 0 13.234375 3.875 \r\nQ 9.28125 7.765625 9.28125 18.015625 \r\nL 9.28125 47.703125 \r\nL 2.6875 47.703125 \r\nL 2.6875 54.6875 \r\nL 9.28125 54.6875 \r\nL 9.28125 70.21875 \r\nz\r\n\" id=\"DejaVuSans-116\"/>\r\n      <path d=\"M 56.203125 29.59375 \r\nL 56.203125 25.203125 \r\nL 14.890625 25.203125 \r\nQ 15.484375 15.921875 20.484375 11.0625 \r\nQ 25.484375 6.203125 34.421875 6.203125 \r\nQ 39.59375 6.203125 44.453125 7.46875 \r\nQ 49.3125 8.734375 54.109375 11.28125 \r\nL 54.109375 2.78125 \r\nQ 49.265625 0.734375 44.1875 -0.34375 \r\nQ 39.109375 -1.421875 33.890625 -1.421875 \r\nQ 20.796875 -1.421875 13.15625 6.1875 \r\nQ 5.515625 13.8125 5.515625 26.8125 \r\nQ 5.515625 40.234375 12.765625 48.109375 \r\nQ 20.015625 56 32.328125 56 \r\nQ 43.359375 56 49.78125 48.890625 \r\nQ 56.203125 41.796875 56.203125 29.59375 \r\nz\r\nM 47.21875 32.234375 \r\nQ 47.125 39.59375 43.09375 43.984375 \r\nQ 39.0625 48.390625 32.421875 48.390625 \r\nQ 24.90625 48.390625 20.390625 44.140625 \r\nQ 15.875 39.890625 15.1875 32.171875 \r\nz\r\n\" id=\"DejaVuSans-101\"/>\r\n      <path d=\"M 41.109375 46.296875 \r\nQ 39.59375 47.171875 37.8125 47.578125 \r\nQ 36.03125 48 33.890625 48 \r\nQ 26.265625 48 22.1875 43.046875 \r\nQ 18.109375 38.09375 18.109375 28.8125 \r\nL 18.109375 0 \r\nL 9.078125 0 \r\nL 9.078125 54.6875 \r\nL 18.109375 54.6875 \r\nL 18.109375 46.1875 \r\nQ 20.953125 51.171875 25.484375 53.578125 \r\nQ 30.03125 56 36.53125 56 \r\nQ 37.453125 56 38.578125 55.875 \r\nQ 39.703125 55.765625 41.0625 55.515625 \r\nz\r\n\" id=\"DejaVuSans-114\"/>\r\n      <path id=\"DejaVuSans-32\"/>\r\n      <path d=\"M 25.390625 72.90625 \r\nL 33.6875 72.90625 \r\nL 8.296875 -9.28125 \r\nL 0 -9.28125 \r\nz\r\n\" id=\"DejaVuSans-47\"/>\r\n     </defs>\r\n     <use xlink:href=\"#DejaVuSans-105\"/>\r\n     <use x=\"27.783203\" xlink:href=\"#DejaVuSans-116\"/>\r\n     <use x=\"66.992188\" xlink:href=\"#DejaVuSans-101\"/>\r\n     <use x=\"128.515625\" xlink:href=\"#DejaVuSans-114\"/>\r\n     <use x=\"169.628906\" xlink:href=\"#DejaVuSans-32\"/>\r\n     <use x=\"201.416016\" xlink:href=\"#DejaVuSans-49\"/>\r\n     <use x=\"265.039062\" xlink:href=\"#DejaVuSans-48\"/>\r\n     <use x=\"328.662109\" xlink:href=\"#DejaVuSans-49\"/>\r\n     <use x=\"392.285156\" xlink:href=\"#DejaVuSans-47\"/>\r\n     <use x=\"425.976562\" xlink:href=\"#DejaVuSans-49\"/>\r\n     <use x=\"489.599609\" xlink:href=\"#DejaVuSans-48\"/>\r\n     <use x=\"553.222656\" xlink:href=\"#DejaVuSans-48\"/>\r\n     <use x=\"616.845703\" xlink:href=\"#DejaVuSans-48\"/>\r\n    </g>\r\n   </g>\r\n  </g>\r\n  <g id=\"axes_2\">\r\n   <g id=\"patch_7\">\r\n    <path clip-path=\"url(#pfadd999fae)\" d=\"M 223.0075 175.180092 \r\nL 223.0075 174.543061 \r\nL 223.0075 12.737124 \r\nL 223.0075 12.100092 \r\nL 231.1615 12.100092 \r\nL 231.1615 12.737124 \r\nL 231.1615 174.543061 \r\nL 231.1615 175.180092 \r\nz\r\n\" style=\"fill:#ffffff;stroke:#ffffff;stroke-linejoin:miter;stroke-width:0.01;\"/>\r\n   </g>\r\n   <image height=\"163\" id=\"image6248f79421\" transform=\"scale(1 -1)translate(0 -163)\" width=\"8\" x=\"223\" xlink:href=\"data:image/png;base64,\r\niVBORw0KGgoAAAANSUhEUgAAAAgAAACjCAYAAAC31F+mAAABKUlEQVR4nM3Y0W3DMAyEYYqSvFlm6P57tHU30CeAquG8ivh5d2Qcxe0zvu5YfEa0XJ3HaL2vCyJbldBACBHqIiORw4EC2xShnqRdgHCbsDzf0PBEC89COThqEdxieb7TQiKpIaTh9sKAsLFy0lAW+YDNegG/3SeCqhYcSNJrrxavsFkmMIe6zXrU/x/UA/vwxDQP2Fxe5d4yzbVINNjTgBw2rgciVG2a0MoE5lBvQQJ+kWK0/C0ToCGZgwqy3CLLNrsInRpUwBYMarQyQRpYkFFtwaBo04T8KbdAwXwDgdNsyKEHW4DAfZj5LQ0iyMVsaMGFuUiwSNmUBhIu5ZCaZt3mCQ0icFjBfdDD3NPU0355HDEu/VskYerd4MRNa3RpGIE3Wl0aEhr+ADsnb5Du1rJ2AAAAAElFTkSuQmCC\" y=\"-11\"/>\r\n   <g id=\"matplotlib.axis_3\"/>\r\n   <g id=\"matplotlib.axis_4\">\r\n    <g id=\"ytick_7\">\r\n     <g id=\"line2d_11\">\r\n      <defs>\r\n       <path d=\"M 0 0 \r\nL 3.5 0 \r\n\" id=\"m9477c5709b\" style=\"stroke:#000000;stroke-width:0.8;\"/>\r\n      </defs>\r\n      <g>\r\n       <use style=\"stroke:#000000;stroke-width:0.8;\" x=\"231.1615\" xlink:href=\"#m9477c5709b\" y=\"152.874147\"/>\r\n      </g>\r\n     </g>\r\n     <g id=\"text_12\">\r\n      <!-- 15 -->\r\n      <g transform=\"translate(238.1615 156.673366)scale(0.1 -0.1)\">\r\n       <use xlink:href=\"#DejaVuSans-49\"/>\r\n       <use x=\"63.623047\" xlink:href=\"#DejaVuSans-53\"/>\r\n      </g>\r\n     </g>\r\n    </g>\r\n    <g id=\"ytick_8\">\r\n     <g id=\"line2d_12\">\r\n      <g>\r\n       <use style=\"stroke:#000000;stroke-width:0.8;\" x=\"231.1615\" xlink:href=\"#m9477c5709b\" y=\"116.941303\"/>\r\n      </g>\r\n     </g>\r\n     <g id=\"text_13\">\r\n      <!-- 20 -->\r\n      <g transform=\"translate(238.1615 120.740522)scale(0.1 -0.1)\">\r\n       <use xlink:href=\"#DejaVuSans-50\"/>\r\n       <use x=\"63.623047\" xlink:href=\"#DejaVuSans-48\"/>\r\n      </g>\r\n     </g>\r\n    </g>\r\n    <g id=\"ytick_9\">\r\n     <g id=\"line2d_13\">\r\n      <g>\r\n       <use style=\"stroke:#000000;stroke-width:0.8;\" x=\"231.1615\" xlink:href=\"#m9477c5709b\" y=\"81.008459\"/>\r\n      </g>\r\n     </g>\r\n     <g id=\"text_14\">\r\n      <!-- 25 -->\r\n      <g transform=\"translate(238.1615 84.807678)scale(0.1 -0.1)\">\r\n       <use xlink:href=\"#DejaVuSans-50\"/>\r\n       <use x=\"63.623047\" xlink:href=\"#DejaVuSans-53\"/>\r\n      </g>\r\n     </g>\r\n    </g>\r\n    <g id=\"ytick_10\">\r\n     <g id=\"line2d_14\">\r\n      <g>\r\n       <use style=\"stroke:#000000;stroke-width:0.8;\" x=\"231.1615\" xlink:href=\"#m9477c5709b\" y=\"45.075615\"/>\r\n      </g>\r\n     </g>\r\n     <g id=\"text_15\">\r\n      <!-- 30 -->\r\n      <g transform=\"translate(238.1615 48.874834)scale(0.1 -0.1)\">\r\n       <use xlink:href=\"#DejaVuSans-51\"/>\r\n       <use x=\"63.623047\" xlink:href=\"#DejaVuSans-48\"/>\r\n      </g>\r\n     </g>\r\n    </g>\r\n   </g>\r\n   <g id=\"patch_8\">\r\n    <path d=\"M 223.0075 175.180092 \r\nL 223.0075 174.543061 \r\nL 223.0075 12.737124 \r\nL 223.0075 12.100092 \r\nL 231.1615 12.100092 \r\nL 231.1615 12.737124 \r\nL 231.1615 174.543061 \r\nL 231.1615 175.180092 \r\nz\r\n\" style=\"fill:none;stroke:#000000;stroke-linejoin:miter;stroke-width:0.8;\"/>\r\n   </g>\r\n  </g>\r\n </g>\r\n <defs>\r\n  <clipPath id=\"p18b629e86d\">\r\n   <rect height=\"142.643935\" width=\"178.56\" x=\"33.2875\" y=\"22.318125\"/>\r\n  </clipPath>\r\n  <clipPath id=\"pfadd999fae\">\r\n   <rect height=\"163.08\" width=\"8.154\" x=\"223.0075\" y=\"12.100092\"/>\r\n  </clipPath>\r\n </defs>\r\n</svg>\r\n",
      "image/png": "[encoded data removed]"
     },
     "metadata": {
      "needs_background": "light"
     }
    },
    {
     "output_type": "display_data",
     "data": {
      "text/plain": "<Figure size 288x216 with 2 Axes>",
      "image/svg+xml": "<?xml version=\"1.0\" encoding=\"utf-8\" standalone=\"no\"?>\r\n<!DOCTYPE svg PUBLIC \"-//W3C//DTD SVG 1.1//EN\"\r\n  \"http://www.w3.org/Graphics/SVG/1.1/DTD/svg11.dtd\">\r\n<!-- Created with matplotlib (https://matplotlib.org/) -->\r\n<svg height=\"188.840185pt\" version=\"1.1\" viewBox=\"0 0 258.0865 188.840185\" width=\"258.0865pt\" xmlns=\"http://www.w3.org/2000/svg\" xmlns:xlink=\"http://www.w3.org/1999/xlink\">\r\n <metadata>\r\n  <rdf:RDF xmlns:cc=\"http://creativecommons.org/ns#\" xmlns:dc=\"http://purl.org/dc/elements/1.1/\" xmlns:rdf=\"http://www.w3.org/1999/02/22-rdf-syntax-ns#\">\r\n   <cc:Work>\r\n    <dc:type rdf:resource=\"http://purl.org/dc/dcmitype/StillImage\"/>\r\n    <dc:date>2021-02-19T13:55:36.099815</dc:date>\r\n    <dc:format>image/svg+xml</dc:format>\r\n    <dc:creator>\r\n     <cc:Agent>\r\n      <dc:title>Matplotlib v3.3.4, https://matplotlib.org/</dc:title>\r\n     </cc:Agent>\r\n    </dc:creator>\r\n   </cc:Work>\r\n  </rdf:RDF>\r\n </metadata>\r\n <defs>\r\n  <style type=\"text/css\">*{stroke-linecap:butt;stroke-linejoin:round;}</style>\r\n </defs>\r\n <g id=\"figure_1\">\r\n  <g id=\"patch_1\">\r\n   <path d=\"M 0 188.840185 \r\nL 258.0865 188.840185 \r\nL 258.0865 0 \r\nL 0 0 \r\nz\r\n\" style=\"fill:none;\"/>\r\n  </g>\r\n  <g id=\"axes_1\">\r\n   <g id=\"patch_2\">\r\n    <path d=\"M 33.2875 164.96206 \r\nL 211.8475 164.96206 \r\nL 211.8475 22.318125 \r\nL 33.2875 22.318125 \r\nz\r\n\" style=\"fill:#ffffff;\"/>\r\n   </g>\r\n   <g clip-path=\"url(#p3af6b48e6e)\">\r\n    <image height=\"143\" id=\"image8a8eba0646\" transform=\"scale(1 -1)translate(0 -143)\" width=\"179\" x=\"33.2875\" xlink:href=\"data:image/png;base64,\r\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\" y=\"-21.96206\"/>\r\n   </g>\r\n   <g id=\"matplotlib.axis_1\">\r\n    <g id=\"xtick_1\">\r\n     <g id=\"line2d_1\">\r\n      <defs>\r\n       <path d=\"M 0 0 \r\nL 0 3.5 \r\n\" id=\"mad282d1510\" style=\"stroke:#000000;stroke-width:0.8;\"/>\r\n      </defs>\r\n      <g>\r\n       <use style=\"stroke:#000000;stroke-width:0.8;\" x=\"58.796071\" xlink:href=\"#mad282d1510\" y=\"164.96206\"/>\r\n      </g>\r\n     </g>\r\n     <g id=\"text_1\">\r\n      <!-- 400 -->\r\n      <g transform=\"translate(49.252321 179.560497)scale(0.1 -0.1)\">\r\n       <defs>\r\n        <path d=\"M 37.796875 64.3125 \r\nL 12.890625 25.390625 \r\nL 37.796875 25.390625 \r\nz\r\nM 35.203125 72.90625 \r\nL 47.609375 72.90625 \r\nL 47.609375 25.390625 \r\nL 58.015625 25.390625 \r\nL 58.015625 17.1875 \r\nL 47.609375 17.1875 \r\nL 47.609375 0 \r\nL 37.796875 0 \r\nL 37.796875 17.1875 \r\nL 4.890625 17.1875 \r\nL 4.890625 26.703125 \r\nz\r\n\" id=\"DejaVuSans-52\"/>\r\n        <path d=\"M 31.78125 66.40625 \r\nQ 24.171875 66.40625 20.328125 58.90625 \r\nQ 16.5 51.421875 16.5 36.375 \r\nQ 16.5 21.390625 20.328125 13.890625 \r\nQ 24.171875 6.390625 31.78125 6.390625 \r\nQ 39.453125 6.390625 43.28125 13.890625 \r\nQ 47.125 21.390625 47.125 36.375 \r\nQ 47.125 51.421875 43.28125 58.90625 \r\nQ 39.453125 66.40625 31.78125 66.40625 \r\nz\r\nM 31.78125 74.21875 \r\nQ 44.046875 74.21875 50.515625 64.515625 \r\nQ 56.984375 54.828125 56.984375 36.375 \r\nQ 56.984375 17.96875 50.515625 8.265625 \r\nQ 44.046875 -1.421875 31.78125 -1.421875 \r\nQ 19.53125 -1.421875 13.0625 8.265625 \r\nQ 6.59375 17.96875 6.59375 36.375 \r\nQ 6.59375 54.828125 13.0625 64.515625 \r\nQ 19.53125 74.21875 31.78125 74.21875 \r\nz\r\n\" id=\"DejaVuSans-48\"/>\r\n       </defs>\r\n       <use xlink:href=\"#DejaVuSans-52\"/>\r\n       <use x=\"63.623047\" xlink:href=\"#DejaVuSans-48\"/>\r\n       <use x=\"127.246094\" xlink:href=\"#DejaVuSans-48\"/>\r\n      </g>\r\n     </g>\r\n    </g>\r\n    <g id=\"xtick_2\">\r\n     <g id=\"line2d_2\">\r\n      <g>\r\n       <use style=\"stroke:#000000;stroke-width:0.8;\" x=\"109.813214\" xlink:href=\"#mad282d1510\" y=\"164.96206\"/>\r\n      </g>\r\n     </g>\r\n     <g id=\"text_2\">\r\n      <!-- 500 -->\r\n      <g transform=\"translate(100.269464 179.560497)scale(0.1 -0.1)\">\r\n       <defs>\r\n        <path d=\"M 10.796875 72.90625 \r\nL 49.515625 72.90625 \r\nL 49.515625 64.59375 \r\nL 19.828125 64.59375 \r\nL 19.828125 46.734375 \r\nQ 21.96875 47.46875 24.109375 47.828125 \r\nQ 26.265625 48.1875 28.421875 48.1875 \r\nQ 40.625 48.1875 47.75 41.5 \r\nQ 54.890625 34.8125 54.890625 23.390625 \r\nQ 54.890625 11.625 47.5625 5.09375 \r\nQ 40.234375 -1.421875 26.90625 -1.421875 \r\nQ 22.3125 -1.421875 17.546875 -0.640625 \r\nQ 12.796875 0.140625 7.71875 1.703125 \r\nL 7.71875 11.625 \r\nQ 12.109375 9.234375 16.796875 8.0625 \r\nQ 21.484375 6.890625 26.703125 6.890625 \r\nQ 35.15625 6.890625 40.078125 11.328125 \r\nQ 45.015625 15.765625 45.015625 23.390625 \r\nQ 45.015625 31 40.078125 35.4375 \r\nQ 35.15625 39.890625 26.703125 39.890625 \r\nQ 22.75 39.890625 18.8125 39.015625 \r\nQ 14.890625 38.140625 10.796875 36.28125 \r\nz\r\n\" id=\"DejaVuSans-53\"/>\r\n       </defs>\r\n       <use xlink:href=\"#DejaVuSans-53\"/>\r\n       <use x=\"63.623047\" xlink:href=\"#DejaVuSans-48\"/>\r\n       <use x=\"127.246094\" xlink:href=\"#DejaVuSans-48\"/>\r\n      </g>\r\n     </g>\r\n    </g>\r\n    <g id=\"xtick_3\">\r\n     <g id=\"line2d_3\">\r\n      <g>\r\n       <use style=\"stroke:#000000;stroke-width:0.8;\" x=\"160.830357\" xlink:href=\"#mad282d1510\" y=\"164.96206\"/>\r\n      </g>\r\n     </g>\r\n     <g id=\"text_3\">\r\n      <!-- 600 -->\r\n      <g transform=\"translate(151.286607 179.560497)scale(0.1 -0.1)\">\r\n       <defs>\r\n        <path d=\"M 33.015625 40.375 \r\nQ 26.375 40.375 22.484375 35.828125 \r\nQ 18.609375 31.296875 18.609375 23.390625 \r\nQ 18.609375 15.53125 22.484375 10.953125 \r\nQ 26.375 6.390625 33.015625 6.390625 \r\nQ 39.65625 6.390625 43.53125 10.953125 \r\nQ 47.40625 15.53125 47.40625 23.390625 \r\nQ 47.40625 31.296875 43.53125 35.828125 \r\nQ 39.65625 40.375 33.015625 40.375 \r\nz\r\nM 52.59375 71.296875 \r\nL 52.59375 62.3125 \r\nQ 48.875 64.0625 45.09375 64.984375 \r\nQ 41.3125 65.921875 37.59375 65.921875 \r\nQ 27.828125 65.921875 22.671875 59.328125 \r\nQ 17.53125 52.734375 16.796875 39.40625 \r\nQ 19.671875 43.65625 24.015625 45.921875 \r\nQ 28.375 48.1875 33.59375 48.1875 \r\nQ 44.578125 48.1875 50.953125 41.515625 \r\nQ 57.328125 34.859375 57.328125 23.390625 \r\nQ 57.328125 12.15625 50.6875 5.359375 \r\nQ 44.046875 -1.421875 33.015625 -1.421875 \r\nQ 20.359375 -1.421875 13.671875 8.265625 \r\nQ 6.984375 17.96875 6.984375 36.375 \r\nQ 6.984375 53.65625 15.1875 63.9375 \r\nQ 23.390625 74.21875 37.203125 74.21875 \r\nQ 40.921875 74.21875 44.703125 73.484375 \r\nQ 48.484375 72.75 52.59375 71.296875 \r\nz\r\n\" id=\"DejaVuSans-54\"/>\r\n       </defs>\r\n       <use xlink:href=\"#DejaVuSans-54\"/>\r\n       <use x=\"63.623047\" xlink:href=\"#DejaVuSans-48\"/>\r\n       <use x=\"127.246094\" xlink:href=\"#DejaVuSans-48\"/>\r\n      </g>\r\n     </g>\r\n    </g>\r\n    <g id=\"xtick_4\">\r\n     <g id=\"line2d_4\">\r\n      <g>\r\n       <use style=\"stroke:#000000;stroke-width:0.8;\" x=\"211.8475\" xlink:href=\"#mad282d1510\" y=\"164.96206\"/>\r\n      </g>\r\n     </g>\r\n     <g id=\"text_4\">\r\n      <!-- 700 -->\r\n      <g transform=\"translate(202.30375 179.560497)scale(0.1 -0.1)\">\r\n       <defs>\r\n        <path d=\"M 8.203125 72.90625 \r\nL 55.078125 72.90625 \r\nL 55.078125 68.703125 \r\nL 28.609375 0 \r\nL 18.3125 0 \r\nL 43.21875 64.59375 \r\nL 8.203125 64.59375 \r\nz\r\n\" id=\"DejaVuSans-55\"/>\r\n       </defs>\r\n       <use xlink:href=\"#DejaVuSans-55\"/>\r\n       <use x=\"63.623047\" xlink:href=\"#DejaVuSans-48\"/>\r\n       <use x=\"127.246094\" xlink:href=\"#DejaVuSans-48\"/>\r\n      </g>\r\n     </g>\r\n    </g>\r\n   </g>\r\n   <g id=\"matplotlib.axis_2\">\r\n    <g id=\"ytick_1\">\r\n     <g id=\"line2d_5\">\r\n      <defs>\r\n       <path d=\"M 0 0 \r\nL -3.5 0 \r\n\" id=\"m748753abfa\" style=\"stroke:#000000;stroke-width:0.8;\"/>\r\n      </defs>\r\n      <g>\r\n       <use style=\"stroke:#000000;stroke-width:0.8;\" x=\"33.2875\" xlink:href=\"#m748753abfa\" y=\"154.758631\"/>\r\n      </g>\r\n     </g>\r\n     <g id=\"text_5\">\r\n      <!-- 50 -->\r\n      <g transform=\"translate(13.5625 158.55785)scale(0.1 -0.1)\">\r\n       <use xlink:href=\"#DejaVuSans-53\"/>\r\n       <use x=\"63.623047\" xlink:href=\"#DejaVuSans-48\"/>\r\n      </g>\r\n     </g>\r\n    </g>\r\n    <g id=\"ytick_2\">\r\n     <g id=\"line2d_6\">\r\n      <g>\r\n       <use style=\"stroke:#000000;stroke-width:0.8;\" x=\"33.2875\" xlink:href=\"#m748753abfa\" y=\"129.25006\"/>\r\n      </g>\r\n     </g>\r\n     <g id=\"text_6\">\r\n      <!-- 100 -->\r\n      <g transform=\"translate(7.2 133.049278)scale(0.1 -0.1)\">\r\n       <defs>\r\n        <path d=\"M 12.40625 8.296875 \r\nL 28.515625 8.296875 \r\nL 28.515625 63.921875 \r\nL 10.984375 60.40625 \r\nL 10.984375 69.390625 \r\nL 28.421875 72.90625 \r\nL 38.28125 72.90625 \r\nL 38.28125 8.296875 \r\nL 54.390625 8.296875 \r\nL 54.390625 0 \r\nL 12.40625 0 \r\nz\r\n\" id=\"DejaVuSans-49\"/>\r\n       </defs>\r\n       <use xlink:href=\"#DejaVuSans-49\"/>\r\n       <use x=\"63.623047\" xlink:href=\"#DejaVuSans-48\"/>\r\n       <use x=\"127.246094\" xlink:href=\"#DejaVuSans-48\"/>\r\n      </g>\r\n     </g>\r\n    </g>\r\n    <g id=\"ytick_3\">\r\n     <g id=\"line2d_7\">\r\n      <g>\r\n       <use style=\"stroke:#000000;stroke-width:0.8;\" x=\"33.2875\" xlink:href=\"#m748753abfa\" y=\"103.741488\"/>\r\n      </g>\r\n     </g>\r\n     <g id=\"text_7\">\r\n      <!-- 150 -->\r\n      <g transform=\"translate(7.2 107.540707)scale(0.1 -0.1)\">\r\n       <use xlink:href=\"#DejaVuSans-49\"/>\r\n       <use x=\"63.623047\" xlink:href=\"#DejaVuSans-53\"/>\r\n       <use x=\"127.246094\" xlink:href=\"#DejaVuSans-48\"/>\r\n      </g>\r\n     </g>\r\n    </g>\r\n    <g id=\"ytick_4\">\r\n     <g id=\"line2d_8\">\r\n      <g>\r\n       <use style=\"stroke:#000000;stroke-width:0.8;\" x=\"33.2875\" xlink:href=\"#m748753abfa\" y=\"78.232917\"/>\r\n      </g>\r\n     </g>\r\n     <g id=\"text_8\">\r\n      <!-- 200 -->\r\n      <g transform=\"translate(7.2 82.032135)scale(0.1 -0.1)\">\r\n       <defs>\r\n        <path d=\"M 19.1875 8.296875 \r\nL 53.609375 8.296875 \r\nL 53.609375 0 \r\nL 7.328125 0 \r\nL 7.328125 8.296875 \r\nQ 12.9375 14.109375 22.625 23.890625 \r\nQ 32.328125 33.6875 34.8125 36.53125 \r\nQ 39.546875 41.84375 41.421875 45.53125 \r\nQ 43.3125 49.21875 43.3125 52.78125 \r\nQ 43.3125 58.59375 39.234375 62.25 \r\nQ 35.15625 65.921875 28.609375 65.921875 \r\nQ 23.96875 65.921875 18.8125 64.3125 \r\nQ 13.671875 62.703125 7.8125 59.421875 \r\nL 7.8125 69.390625 \r\nQ 13.765625 71.78125 18.9375 73 \r\nQ 24.125 74.21875 28.421875 74.21875 \r\nQ 39.75 74.21875 46.484375 68.546875 \r\nQ 53.21875 62.890625 53.21875 53.421875 \r\nQ 53.21875 48.921875 51.53125 44.890625 \r\nQ 49.859375 40.875 45.40625 35.40625 \r\nQ 44.1875 33.984375 37.640625 27.21875 \r\nQ 31.109375 20.453125 19.1875 8.296875 \r\nz\r\n\" id=\"DejaVuSans-50\"/>\r\n       </defs>\r\n       <use xlink:href=\"#DejaVuSans-50\"/>\r\n       <use x=\"63.623047\" xlink:href=\"#DejaVuSans-48\"/>\r\n       <use x=\"127.246094\" xlink:href=\"#DejaVuSans-48\"/>\r\n      </g>\r\n     </g>\r\n    </g>\r\n    <g id=\"ytick_5\">\r\n     <g id=\"line2d_9\">\r\n      <g>\r\n       <use style=\"stroke:#000000;stroke-width:0.8;\" x=\"33.2875\" xlink:href=\"#m748753abfa\" y=\"52.724345\"/>\r\n      </g>\r\n     </g>\r\n     <g id=\"text_9\">\r\n      <!-- 250 -->\r\n      <g transform=\"translate(7.2 56.523564)scale(0.1 -0.1)\">\r\n       <use xlink:href=\"#DejaVuSans-50\"/>\r\n       <use x=\"63.623047\" xlink:href=\"#DejaVuSans-53\"/>\r\n       <use x=\"127.246094\" xlink:href=\"#DejaVuSans-48\"/>\r\n      </g>\r\n     </g>\r\n    </g>\r\n    <g id=\"ytick_6\">\r\n     <g id=\"line2d_10\">\r\n      <g>\r\n       <use style=\"stroke:#000000;stroke-width:0.8;\" x=\"33.2875\" xlink:href=\"#m748753abfa\" y=\"27.215774\"/>\r\n      </g>\r\n     </g>\r\n     <g id=\"text_10\">\r\n      <!-- 300 -->\r\n      <g transform=\"translate(7.2 31.014993)scale(0.1 -0.1)\">\r\n       <defs>\r\n        <path d=\"M 40.578125 39.3125 \r\nQ 47.65625 37.796875 51.625 33 \r\nQ 55.609375 28.21875 55.609375 21.1875 \r\nQ 55.609375 10.40625 48.1875 4.484375 \r\nQ 40.765625 -1.421875 27.09375 -1.421875 \r\nQ 22.515625 -1.421875 17.65625 -0.515625 \r\nQ 12.796875 0.390625 7.625 2.203125 \r\nL 7.625 11.71875 \r\nQ 11.71875 9.328125 16.59375 8.109375 \r\nQ 21.484375 6.890625 26.8125 6.890625 \r\nQ 36.078125 6.890625 40.9375 10.546875 \r\nQ 45.796875 14.203125 45.796875 21.1875 \r\nQ 45.796875 27.640625 41.28125 31.265625 \r\nQ 36.765625 34.90625 28.71875 34.90625 \r\nL 20.21875 34.90625 \r\nL 20.21875 43.015625 \r\nL 29.109375 43.015625 \r\nQ 36.375 43.015625 40.234375 45.921875 \r\nQ 44.09375 48.828125 44.09375 54.296875 \r\nQ 44.09375 59.90625 40.109375 62.90625 \r\nQ 36.140625 65.921875 28.71875 65.921875 \r\nQ 24.65625 65.921875 20.015625 65.03125 \r\nQ 15.375 64.15625 9.8125 62.3125 \r\nL 9.8125 71.09375 \r\nQ 15.4375 72.65625 20.34375 73.4375 \r\nQ 25.25 74.21875 29.59375 74.21875 \r\nQ 40.828125 74.21875 47.359375 69.109375 \r\nQ 53.90625 64.015625 53.90625 55.328125 \r\nQ 53.90625 49.265625 50.4375 45.09375 \r\nQ 46.96875 40.921875 40.578125 39.3125 \r\nz\r\n\" id=\"DejaVuSans-51\"/>\r\n       </defs>\r\n       <use xlink:href=\"#DejaVuSans-51\"/>\r\n       <use x=\"63.623047\" xlink:href=\"#DejaVuSans-48\"/>\r\n       <use x=\"127.246094\" xlink:href=\"#DejaVuSans-48\"/>\r\n      </g>\r\n     </g>\r\n    </g>\r\n   </g>\r\n   <g id=\"patch_3\">\r\n    <path d=\"M 33.2875 164.96206 \r\nL 33.2875 22.318125 \r\n\" style=\"fill:none;stroke:#000000;stroke-linecap:square;stroke-linejoin:miter;stroke-width:0.8;\"/>\r\n   </g>\r\n   <g id=\"patch_4\">\r\n    <path d=\"M 211.8475 164.96206 \r\nL 211.8475 22.318125 \r\n\" style=\"fill:none;stroke:#000000;stroke-linecap:square;stroke-linejoin:miter;stroke-width:0.8;\"/>\r\n   </g>\r\n   <g id=\"patch_5\">\r\n    <path d=\"M 33.2875 164.96206 \r\nL 211.8475 164.96206 \r\n\" style=\"fill:none;stroke:#000000;stroke-linecap:square;stroke-linejoin:miter;stroke-width:0.8;\"/>\r\n   </g>\r\n   <g id=\"patch_6\">\r\n    <path d=\"M 33.2875 22.318125 \r\nL 211.8475 22.318125 \r\n\" style=\"fill:none;stroke:#000000;stroke-linecap:square;stroke-linejoin:miter;stroke-width:0.8;\"/>\r\n   </g>\r\n   <g id=\"text_11\">\r\n    <!-- iter 201/1000 -->\r\n    <g transform=\"translate(81.739375 16.318125)scale(0.12 -0.12)\">\r\n     <defs>\r\n      <path d=\"M 9.421875 54.6875 \r\nL 18.40625 54.6875 \r\nL 18.40625 0 \r\nL 9.421875 0 \r\nz\r\nM 9.421875 75.984375 \r\nL 18.40625 75.984375 \r\nL 18.40625 64.59375 \r\nL 9.421875 64.59375 \r\nz\r\n\" id=\"DejaVuSans-105\"/>\r\n      <path d=\"M 18.3125 70.21875 \r\nL 18.3125 54.6875 \r\nL 36.8125 54.6875 \r\nL 36.8125 47.703125 \r\nL 18.3125 47.703125 \r\nL 18.3125 18.015625 \r\nQ 18.3125 11.328125 20.140625 9.421875 \r\nQ 21.96875 7.515625 27.59375 7.515625 \r\nL 36.8125 7.515625 \r\nL 36.8125 0 \r\nL 27.59375 0 \r\nQ 17.1875 0 13.234375 3.875 \r\nQ 9.28125 7.765625 9.28125 18.015625 \r\nL 9.28125 47.703125 \r\nL 2.6875 47.703125 \r\nL 2.6875 54.6875 \r\nL 9.28125 54.6875 \r\nL 9.28125 70.21875 \r\nz\r\n\" id=\"DejaVuSans-116\"/>\r\n      <path d=\"M 56.203125 29.59375 \r\nL 56.203125 25.203125 \r\nL 14.890625 25.203125 \r\nQ 15.484375 15.921875 20.484375 11.0625 \r\nQ 25.484375 6.203125 34.421875 6.203125 \r\nQ 39.59375 6.203125 44.453125 7.46875 \r\nQ 49.3125 8.734375 54.109375 11.28125 \r\nL 54.109375 2.78125 \r\nQ 49.265625 0.734375 44.1875 -0.34375 \r\nQ 39.109375 -1.421875 33.890625 -1.421875 \r\nQ 20.796875 -1.421875 13.15625 6.1875 \r\nQ 5.515625 13.8125 5.515625 26.8125 \r\nQ 5.515625 40.234375 12.765625 48.109375 \r\nQ 20.015625 56 32.328125 56 \r\nQ 43.359375 56 49.78125 48.890625 \r\nQ 56.203125 41.796875 56.203125 29.59375 \r\nz\r\nM 47.21875 32.234375 \r\nQ 47.125 39.59375 43.09375 43.984375 \r\nQ 39.0625 48.390625 32.421875 48.390625 \r\nQ 24.90625 48.390625 20.390625 44.140625 \r\nQ 15.875 39.890625 15.1875 32.171875 \r\nz\r\n\" id=\"DejaVuSans-101\"/>\r\n      <path d=\"M 41.109375 46.296875 \r\nQ 39.59375 47.171875 37.8125 47.578125 \r\nQ 36.03125 48 33.890625 48 \r\nQ 26.265625 48 22.1875 43.046875 \r\nQ 18.109375 38.09375 18.109375 28.8125 \r\nL 18.109375 0 \r\nL 9.078125 0 \r\nL 9.078125 54.6875 \r\nL 18.109375 54.6875 \r\nL 18.109375 46.1875 \r\nQ 20.953125 51.171875 25.484375 53.578125 \r\nQ 30.03125 56 36.53125 56 \r\nQ 37.453125 56 38.578125 55.875 \r\nQ 39.703125 55.765625 41.0625 55.515625 \r\nz\r\n\" id=\"DejaVuSans-114\"/>\r\n      <path id=\"DejaVuSans-32\"/>\r\n      <path d=\"M 25.390625 72.90625 \r\nL 33.6875 72.90625 \r\nL 8.296875 -9.28125 \r\nL 0 -9.28125 \r\nz\r\n\" id=\"DejaVuSans-47\"/>\r\n     </defs>\r\n     <use xlink:href=\"#DejaVuSans-105\"/>\r\n     <use x=\"27.783203\" xlink:href=\"#DejaVuSans-116\"/>\r\n     <use x=\"66.992188\" xlink:href=\"#DejaVuSans-101\"/>\r\n     <use x=\"128.515625\" xlink:href=\"#DejaVuSans-114\"/>\r\n     <use x=\"169.628906\" xlink:href=\"#DejaVuSans-32\"/>\r\n     <use x=\"201.416016\" xlink:href=\"#DejaVuSans-50\"/>\r\n     <use x=\"265.039062\" xlink:href=\"#DejaVuSans-48\"/>\r\n     <use x=\"328.662109\" xlink:href=\"#DejaVuSans-49\"/>\r\n     <use x=\"392.285156\" xlink:href=\"#DejaVuSans-47\"/>\r\n     <use x=\"425.976562\" xlink:href=\"#DejaVuSans-49\"/>\r\n     <use x=\"489.599609\" xlink:href=\"#DejaVuSans-48\"/>\r\n     <use x=\"553.222656\" xlink:href=\"#DejaVuSans-48\"/>\r\n     <use x=\"616.845703\" xlink:href=\"#DejaVuSans-48\"/>\r\n    </g>\r\n   </g>\r\n  </g>\r\n  <g id=\"axes_2\">\r\n   <g id=\"patch_7\">\r\n    <path clip-path=\"url(#p186b6734fe)\" d=\"M 223.0075 175.180092 \r\nL 223.0075 174.543061 \r\nL 223.0075 12.737124 \r\nL 223.0075 12.100092 \r\nL 231.1615 12.100092 \r\nL 231.1615 12.737124 \r\nL 231.1615 174.543061 \r\nL 231.1615 175.180092 \r\nz\r\n\" style=\"fill:#ffffff;stroke:#ffffff;stroke-linejoin:miter;stroke-width:0.01;\"/>\r\n   </g>\r\n   <image height=\"163\" id=\"image96ac5829af\" transform=\"scale(1 -1)translate(0 -163)\" width=\"8\" x=\"223\" xlink:href=\"data:image/png;base64,\r\niVBORw0KGgoAAAANSUhEUgAAAAgAAACjCAYAAAC31F+mAAABKUlEQVR4nM3Y0W3DMAyEYYqSvFlm6P57tHU30CeAquG8ivh5d2Qcxe0zvu5YfEa0XJ3HaL2vCyJbldBACBHqIiORw4EC2xShnqRdgHCbsDzf0PBEC89COThqEdxieb7TQiKpIaTh9sKAsLFy0lAW+YDNegG/3SeCqhYcSNJrrxavsFkmMIe6zXrU/x/UA/vwxDQP2Fxe5d4yzbVINNjTgBw2rgciVG2a0MoE5lBvQQJ+kWK0/C0ToCGZgwqy3CLLNrsInRpUwBYMarQyQRpYkFFtwaBo04T8KbdAwXwDgdNsyKEHW4DAfZj5LQ0iyMVsaMGFuUiwSNmUBhIu5ZCaZt3mCQ0icFjBfdDD3NPU0355HDEu/VskYerd4MRNa3RpGIE3Wl0aEhr+ADsnb5Du1rJ2AAAAAElFTkSuQmCC\" y=\"-11\"/>\r\n   <g id=\"matplotlib.axis_3\"/>\r\n   <g id=\"matplotlib.axis_4\">\r\n    <g id=\"ytick_7\">\r\n     <g id=\"line2d_11\">\r\n      <defs>\r\n       <path d=\"M 0 0 \r\nL 3.5 0 \r\n\" id=\"mfb4bf8880e\" style=\"stroke:#000000;stroke-width:0.8;\"/>\r\n      </defs>\r\n      <g>\r\n       <use style=\"stroke:#000000;stroke-width:0.8;\" x=\"231.1615\" xlink:href=\"#mfb4bf8880e\" y=\"142.706394\"/>\r\n      </g>\r\n     </g>\r\n     <g id=\"text_12\">\r\n      <!-- 15 -->\r\n      <g transform=\"translate(238.1615 146.505612)scale(0.1 -0.1)\">\r\n       <use xlink:href=\"#DejaVuSans-49\"/>\r\n       <use x=\"63.623047\" xlink:href=\"#DejaVuSans-53\"/>\r\n      </g>\r\n     </g>\r\n    </g>\r\n    <g id=\"ytick_8\">\r\n     <g id=\"line2d_12\">\r\n      <g>\r\n       <use style=\"stroke:#000000;stroke-width:0.8;\" x=\"231.1615\" xlink:href=\"#mfb4bf8880e\" y=\"108.652978\"/>\r\n      </g>\r\n     </g>\r\n     <g id=\"text_13\">\r\n      <!-- 20 -->\r\n      <g transform=\"translate(238.1615 112.452197)scale(0.1 -0.1)\">\r\n       <use xlink:href=\"#DejaVuSans-50\"/>\r\n       <use x=\"63.623047\" xlink:href=\"#DejaVuSans-48\"/>\r\n      </g>\r\n     </g>\r\n    </g>\r\n    <g id=\"ytick_9\">\r\n     <g id=\"line2d_13\">\r\n      <g>\r\n       <use style=\"stroke:#000000;stroke-width:0.8;\" x=\"231.1615\" xlink:href=\"#mfb4bf8880e\" y=\"74.599562\"/>\r\n      </g>\r\n     </g>\r\n     <g id=\"text_14\">\r\n      <!-- 25 -->\r\n      <g transform=\"translate(238.1615 78.398781)scale(0.1 -0.1)\">\r\n       <use xlink:href=\"#DejaVuSans-50\"/>\r\n       <use x=\"63.623047\" xlink:href=\"#DejaVuSans-53\"/>\r\n      </g>\r\n     </g>\r\n    </g>\r\n    <g id=\"ytick_10\">\r\n     <g id=\"line2d_14\">\r\n      <g>\r\n       <use style=\"stroke:#000000;stroke-width:0.8;\" x=\"231.1615\" xlink:href=\"#mfb4bf8880e\" y=\"40.546147\"/>\r\n      </g>\r\n     </g>\r\n     <g id=\"text_15\">\r\n      <!-- 30 -->\r\n      <g transform=\"translate(238.1615 44.345365)scale(0.1 -0.1)\">\r\n       <use xlink:href=\"#DejaVuSans-51\"/>\r\n       <use x=\"63.623047\" xlink:href=\"#DejaVuSans-48\"/>\r\n      </g>\r\n     </g>\r\n    </g>\r\n   </g>\r\n   <g id=\"patch_8\">\r\n    <path d=\"M 223.0075 175.180092 \r\nL 223.0075 174.543061 \r\nL 223.0075 12.737124 \r\nL 223.0075 12.100092 \r\nL 231.1615 12.100092 \r\nL 231.1615 12.737124 \r\nL 231.1615 174.543061 \r\nL 231.1615 175.180092 \r\nz\r\n\" style=\"fill:none;stroke:#000000;stroke-linejoin:miter;stroke-width:0.8;\"/>\r\n   </g>\r\n  </g>\r\n </g>\r\n <defs>\r\n  <clipPath id=\"p3af6b48e6e\">\r\n   <rect height=\"142.643935\" width=\"178.56\" x=\"33.2875\" y=\"22.318125\"/>\r\n  </clipPath>\r\n  <clipPath id=\"p186b6734fe\">\r\n   <rect height=\"163.08\" width=\"8.154\" x=\"223.0075\" y=\"12.100092\"/>\r\n  </clipPath>\r\n </defs>\r\n</svg>\r\n",
      "image/png": "[encoded data removed]"
     },
     "metadata": {
      "needs_background": "light"
     }
    },
    {
     "output_type": "display_data",
     "data": {
      "text/plain": "<Figure size 288x216 with 2 Axes>",
      "image/svg+xml": "<?xml version=\"1.0\" encoding=\"utf-8\" standalone=\"no\"?>\r\n<!DOCTYPE svg PUBLIC \"-//W3C//DTD SVG 1.1//EN\"\r\n  \"http://www.w3.org/Graphics/SVG/1.1/DTD/svg11.dtd\">\r\n<!-- Created with matplotlib (https://matplotlib.org/) -->\r\n<svg height=\"188.840185pt\" version=\"1.1\" viewBox=\"0 0 258.0865 188.840185\" width=\"258.0865pt\" xmlns=\"http://www.w3.org/2000/svg\" xmlns:xlink=\"http://www.w3.org/1999/xlink\">\r\n <metadata>\r\n  <rdf:RDF xmlns:cc=\"http://creativecommons.org/ns#\" xmlns:dc=\"http://purl.org/dc/elements/1.1/\" xmlns:rdf=\"http://www.w3.org/1999/02/22-rdf-syntax-ns#\">\r\n   <cc:Work>\r\n    <dc:type rdf:resource=\"http://purl.org/dc/dcmitype/StillImage\"/>\r\n    <dc:date>2021-02-19T13:55:36.838184</dc:date>\r\n    <dc:format>image/svg+xml</dc:format>\r\n    <dc:creator>\r\n     <cc:Agent>\r\n      <dc:title>Matplotlib v3.3.4, https://matplotlib.org/</dc:title>\r\n     </cc:Agent>\r\n    </dc:creator>\r\n   </cc:Work>\r\n  </rdf:RDF>\r\n </metadata>\r\n <defs>\r\n  <style type=\"text/css\">*{stroke-linecap:butt;stroke-linejoin:round;}</style>\r\n </defs>\r\n <g id=\"figure_1\">\r\n  <g id=\"patch_1\">\r\n   <path d=\"M 0 188.840185 \r\nL 258.0865 188.840185 \r\nL 258.0865 0 \r\nL 0 0 \r\nz\r\n\" style=\"fill:none;\"/>\r\n  </g>\r\n  <g id=\"axes_1\">\r\n   <g id=\"patch_2\">\r\n    <path d=\"M 33.2875 164.96206 \r\nL 211.8475 164.96206 \r\nL 211.8475 22.318125 \r\nL 33.2875 22.318125 \r\nz\r\n\" style=\"fill:#ffffff;\"/>\r\n   </g>\r\n   <g clip-path=\"url(#p797e7dabf2)\">\r\n    <image height=\"143\" id=\"imagea8ee8942a3\" transform=\"scale(1 -1)translate(0 -143)\" width=\"179\" x=\"33.2875\" xlink:href=\"data:image/png;base64,\r\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\" y=\"-21.96206\"/>\r\n   </g>\r\n   <g id=\"matplotlib.axis_1\">\r\n    <g id=\"xtick_1\">\r\n     <g id=\"line2d_1\">\r\n      <defs>\r\n       <path d=\"M 0 0 \r\nL 0 3.5 \r\n\" id=\"m8a7037a445\" style=\"stroke:#000000;stroke-width:0.8;\"/>\r\n      </defs>\r\n      <g>\r\n       <use style=\"stroke:#000000;stroke-width:0.8;\" x=\"58.796071\" xlink:href=\"#m8a7037a445\" y=\"164.96206\"/>\r\n      </g>\r\n     </g>\r\n     <g id=\"text_1\">\r\n      <!-- 400 -->\r\n      <g transform=\"translate(49.252321 179.560497)scale(0.1 -0.1)\">\r\n       <defs>\r\n        <path d=\"M 37.796875 64.3125 \r\nL 12.890625 25.390625 \r\nL 37.796875 25.390625 \r\nz\r\nM 35.203125 72.90625 \r\nL 47.609375 72.90625 \r\nL 47.609375 25.390625 \r\nL 58.015625 25.390625 \r\nL 58.015625 17.1875 \r\nL 47.609375 17.1875 \r\nL 47.609375 0 \r\nL 37.796875 0 \r\nL 37.796875 17.1875 \r\nL 4.890625 17.1875 \r\nL 4.890625 26.703125 \r\nz\r\n\" id=\"DejaVuSans-52\"/>\r\n        <path d=\"M 31.78125 66.40625 \r\nQ 24.171875 66.40625 20.328125 58.90625 \r\nQ 16.5 51.421875 16.5 36.375 \r\nQ 16.5 21.390625 20.328125 13.890625 \r\nQ 24.171875 6.390625 31.78125 6.390625 \r\nQ 39.453125 6.390625 43.28125 13.890625 \r\nQ 47.125 21.390625 47.125 36.375 \r\nQ 47.125 51.421875 43.28125 58.90625 \r\nQ 39.453125 66.40625 31.78125 66.40625 \r\nz\r\nM 31.78125 74.21875 \r\nQ 44.046875 74.21875 50.515625 64.515625 \r\nQ 56.984375 54.828125 56.984375 36.375 \r\nQ 56.984375 17.96875 50.515625 8.265625 \r\nQ 44.046875 -1.421875 31.78125 -1.421875 \r\nQ 19.53125 -1.421875 13.0625 8.265625 \r\nQ 6.59375 17.96875 6.59375 36.375 \r\nQ 6.59375 54.828125 13.0625 64.515625 \r\nQ 19.53125 74.21875 31.78125 74.21875 \r\nz\r\n\" id=\"DejaVuSans-48\"/>\r\n       </defs>\r\n       <use xlink:href=\"#DejaVuSans-52\"/>\r\n       <use x=\"63.623047\" xlink:href=\"#DejaVuSans-48\"/>\r\n       <use x=\"127.246094\" xlink:href=\"#DejaVuSans-48\"/>\r\n      </g>\r\n     </g>\r\n    </g>\r\n    <g id=\"xtick_2\">\r\n     <g id=\"line2d_2\">\r\n      <g>\r\n       <use style=\"stroke:#000000;stroke-width:0.8;\" x=\"109.813214\" xlink:href=\"#m8a7037a445\" y=\"164.96206\"/>\r\n      </g>\r\n     </g>\r\n     <g id=\"text_2\">\r\n      <!-- 500 -->\r\n      <g transform=\"translate(100.269464 179.560497)scale(0.1 -0.1)\">\r\n       <defs>\r\n        <path d=\"M 10.796875 72.90625 \r\nL 49.515625 72.90625 \r\nL 49.515625 64.59375 \r\nL 19.828125 64.59375 \r\nL 19.828125 46.734375 \r\nQ 21.96875 47.46875 24.109375 47.828125 \r\nQ 26.265625 48.1875 28.421875 48.1875 \r\nQ 40.625 48.1875 47.75 41.5 \r\nQ 54.890625 34.8125 54.890625 23.390625 \r\nQ 54.890625 11.625 47.5625 5.09375 \r\nQ 40.234375 -1.421875 26.90625 -1.421875 \r\nQ 22.3125 -1.421875 17.546875 -0.640625 \r\nQ 12.796875 0.140625 7.71875 1.703125 \r\nL 7.71875 11.625 \r\nQ 12.109375 9.234375 16.796875 8.0625 \r\nQ 21.484375 6.890625 26.703125 6.890625 \r\nQ 35.15625 6.890625 40.078125 11.328125 \r\nQ 45.015625 15.765625 45.015625 23.390625 \r\nQ 45.015625 31 40.078125 35.4375 \r\nQ 35.15625 39.890625 26.703125 39.890625 \r\nQ 22.75 39.890625 18.8125 39.015625 \r\nQ 14.890625 38.140625 10.796875 36.28125 \r\nz\r\n\" id=\"DejaVuSans-53\"/>\r\n       </defs>\r\n       <use xlink:href=\"#DejaVuSans-53\"/>\r\n       <use x=\"63.623047\" xlink:href=\"#DejaVuSans-48\"/>\r\n       <use x=\"127.246094\" xlink:href=\"#DejaVuSans-48\"/>\r\n      </g>\r\n     </g>\r\n    </g>\r\n    <g id=\"xtick_3\">\r\n     <g id=\"line2d_3\">\r\n      <g>\r\n       <use style=\"stroke:#000000;stroke-width:0.8;\" x=\"160.830357\" xlink:href=\"#m8a7037a445\" y=\"164.96206\"/>\r\n      </g>\r\n     </g>\r\n     <g id=\"text_3\">\r\n      <!-- 600 -->\r\n      <g transform=\"translate(151.286607 179.560497)scale(0.1 -0.1)\">\r\n       <defs>\r\n        <path d=\"M 33.015625 40.375 \r\nQ 26.375 40.375 22.484375 35.828125 \r\nQ 18.609375 31.296875 18.609375 23.390625 \r\nQ 18.609375 15.53125 22.484375 10.953125 \r\nQ 26.375 6.390625 33.015625 6.390625 \r\nQ 39.65625 6.390625 43.53125 10.953125 \r\nQ 47.40625 15.53125 47.40625 23.390625 \r\nQ 47.40625 31.296875 43.53125 35.828125 \r\nQ 39.65625 40.375 33.015625 40.375 \r\nz\r\nM 52.59375 71.296875 \r\nL 52.59375 62.3125 \r\nQ 48.875 64.0625 45.09375 64.984375 \r\nQ 41.3125 65.921875 37.59375 65.921875 \r\nQ 27.828125 65.921875 22.671875 59.328125 \r\nQ 17.53125 52.734375 16.796875 39.40625 \r\nQ 19.671875 43.65625 24.015625 45.921875 \r\nQ 28.375 48.1875 33.59375 48.1875 \r\nQ 44.578125 48.1875 50.953125 41.515625 \r\nQ 57.328125 34.859375 57.328125 23.390625 \r\nQ 57.328125 12.15625 50.6875 5.359375 \r\nQ 44.046875 -1.421875 33.015625 -1.421875 \r\nQ 20.359375 -1.421875 13.671875 8.265625 \r\nQ 6.984375 17.96875 6.984375 36.375 \r\nQ 6.984375 53.65625 15.1875 63.9375 \r\nQ 23.390625 74.21875 37.203125 74.21875 \r\nQ 40.921875 74.21875 44.703125 73.484375 \r\nQ 48.484375 72.75 52.59375 71.296875 \r\nz\r\n\" id=\"DejaVuSans-54\"/>\r\n       </defs>\r\n       <use xlink:href=\"#DejaVuSans-54\"/>\r\n       <use x=\"63.623047\" xlink:href=\"#DejaVuSans-48\"/>\r\n       <use x=\"127.246094\" xlink:href=\"#DejaVuSans-48\"/>\r\n      </g>\r\n     </g>\r\n    </g>\r\n    <g id=\"xtick_4\">\r\n     <g id=\"line2d_4\">\r\n      <g>\r\n       <use style=\"stroke:#000000;stroke-width:0.8;\" x=\"211.8475\" xlink:href=\"#m8a7037a445\" y=\"164.96206\"/>\r\n      </g>\r\n     </g>\r\n     <g id=\"text_4\">\r\n      <!-- 700 -->\r\n      <g transform=\"translate(202.30375 179.560497)scale(0.1 -0.1)\">\r\n       <defs>\r\n        <path d=\"M 8.203125 72.90625 \r\nL 55.078125 72.90625 \r\nL 55.078125 68.703125 \r\nL 28.609375 0 \r\nL 18.3125 0 \r\nL 43.21875 64.59375 \r\nL 8.203125 64.59375 \r\nz\r\n\" id=\"DejaVuSans-55\"/>\r\n       </defs>\r\n       <use xlink:href=\"#DejaVuSans-55\"/>\r\n       <use x=\"63.623047\" xlink:href=\"#DejaVuSans-48\"/>\r\n       <use x=\"127.246094\" xlink:href=\"#DejaVuSans-48\"/>\r\n      </g>\r\n     </g>\r\n    </g>\r\n   </g>\r\n   <g id=\"matplotlib.axis_2\">\r\n    <g id=\"ytick_1\">\r\n     <g id=\"line2d_5\">\r\n      <defs>\r\n       <path d=\"M 0 0 \r\nL -3.5 0 \r\n\" id=\"m2444d705dc\" style=\"stroke:#000000;stroke-width:0.8;\"/>\r\n      </defs>\r\n      <g>\r\n       <use style=\"stroke:#000000;stroke-width:0.8;\" x=\"33.2875\" xlink:href=\"#m2444d705dc\" y=\"154.758631\"/>\r\n      </g>\r\n     </g>\r\n     <g id=\"text_5\">\r\n      <!-- 50 -->\r\n      <g transform=\"translate(13.5625 158.55785)scale(0.1 -0.1)\">\r\n       <use xlink:href=\"#DejaVuSans-53\"/>\r\n       <use x=\"63.623047\" xlink:href=\"#DejaVuSans-48\"/>\r\n      </g>\r\n     </g>\r\n    </g>\r\n    <g id=\"ytick_2\">\r\n     <g id=\"line2d_6\">\r\n      <g>\r\n       <use style=\"stroke:#000000;stroke-width:0.8;\" x=\"33.2875\" xlink:href=\"#m2444d705dc\" y=\"129.25006\"/>\r\n      </g>\r\n     </g>\r\n     <g id=\"text_6\">\r\n      <!-- 100 -->\r\n      <g transform=\"translate(7.2 133.049278)scale(0.1 -0.1)\">\r\n       <defs>\r\n        <path d=\"M 12.40625 8.296875 \r\nL 28.515625 8.296875 \r\nL 28.515625 63.921875 \r\nL 10.984375 60.40625 \r\nL 10.984375 69.390625 \r\nL 28.421875 72.90625 \r\nL 38.28125 72.90625 \r\nL 38.28125 8.296875 \r\nL 54.390625 8.296875 \r\nL 54.390625 0 \r\nL 12.40625 0 \r\nz\r\n\" id=\"DejaVuSans-49\"/>\r\n       </defs>\r\n       <use xlink:href=\"#DejaVuSans-49\"/>\r\n       <use x=\"63.623047\" xlink:href=\"#DejaVuSans-48\"/>\r\n       <use x=\"127.246094\" xlink:href=\"#DejaVuSans-48\"/>\r\n      </g>\r\n     </g>\r\n    </g>\r\n    <g id=\"ytick_3\">\r\n     <g id=\"line2d_7\">\r\n      <g>\r\n       <use style=\"stroke:#000000;stroke-width:0.8;\" x=\"33.2875\" xlink:href=\"#m2444d705dc\" y=\"103.741488\"/>\r\n      </g>\r\n     </g>\r\n     <g id=\"text_7\">\r\n      <!-- 150 -->\r\n      <g transform=\"translate(7.2 107.540707)scale(0.1 -0.1)\">\r\n       <use xlink:href=\"#DejaVuSans-49\"/>\r\n       <use x=\"63.623047\" xlink:href=\"#DejaVuSans-53\"/>\r\n       <use x=\"127.246094\" xlink:href=\"#DejaVuSans-48\"/>\r\n      </g>\r\n     </g>\r\n    </g>\r\n    <g id=\"ytick_4\">\r\n     <g id=\"line2d_8\">\r\n      <g>\r\n       <use style=\"stroke:#000000;stroke-width:0.8;\" x=\"33.2875\" xlink:href=\"#m2444d705dc\" y=\"78.232917\"/>\r\n      </g>\r\n     </g>\r\n     <g id=\"text_8\">\r\n      <!-- 200 -->\r\n      <g transform=\"translate(7.2 82.032135)scale(0.1 -0.1)\">\r\n       <defs>\r\n        <path d=\"M 19.1875 8.296875 \r\nL 53.609375 8.296875 \r\nL 53.609375 0 \r\nL 7.328125 0 \r\nL 7.328125 8.296875 \r\nQ 12.9375 14.109375 22.625 23.890625 \r\nQ 32.328125 33.6875 34.8125 36.53125 \r\nQ 39.546875 41.84375 41.421875 45.53125 \r\nQ 43.3125 49.21875 43.3125 52.78125 \r\nQ 43.3125 58.59375 39.234375 62.25 \r\nQ 35.15625 65.921875 28.609375 65.921875 \r\nQ 23.96875 65.921875 18.8125 64.3125 \r\nQ 13.671875 62.703125 7.8125 59.421875 \r\nL 7.8125 69.390625 \r\nQ 13.765625 71.78125 18.9375 73 \r\nQ 24.125 74.21875 28.421875 74.21875 \r\nQ 39.75 74.21875 46.484375 68.546875 \r\nQ 53.21875 62.890625 53.21875 53.421875 \r\nQ 53.21875 48.921875 51.53125 44.890625 \r\nQ 49.859375 40.875 45.40625 35.40625 \r\nQ 44.1875 33.984375 37.640625 27.21875 \r\nQ 31.109375 20.453125 19.1875 8.296875 \r\nz\r\n\" id=\"DejaVuSans-50\"/>\r\n       </defs>\r\n       <use xlink:href=\"#DejaVuSans-50\"/>\r\n       <use x=\"63.623047\" xlink:href=\"#DejaVuSans-48\"/>\r\n       <use x=\"127.246094\" xlink:href=\"#DejaVuSans-48\"/>\r\n      </g>\r\n     </g>\r\n    </g>\r\n    <g id=\"ytick_5\">\r\n     <g id=\"line2d_9\">\r\n      <g>\r\n       <use style=\"stroke:#000000;stroke-width:0.8;\" x=\"33.2875\" xlink:href=\"#m2444d705dc\" y=\"52.724345\"/>\r\n      </g>\r\n     </g>\r\n     <g id=\"text_9\">\r\n      <!-- 250 -->\r\n      <g transform=\"translate(7.2 56.523564)scale(0.1 -0.1)\">\r\n       <use xlink:href=\"#DejaVuSans-50\"/>\r\n       <use x=\"63.623047\" xlink:href=\"#DejaVuSans-53\"/>\r\n       <use x=\"127.246094\" xlink:href=\"#DejaVuSans-48\"/>\r\n      </g>\r\n     </g>\r\n    </g>\r\n    <g id=\"ytick_6\">\r\n     <g id=\"line2d_10\">\r\n      <g>\r\n       <use style=\"stroke:#000000;stroke-width:0.8;\" x=\"33.2875\" xlink:href=\"#m2444d705dc\" y=\"27.215774\"/>\r\n      </g>\r\n     </g>\r\n     <g id=\"text_10\">\r\n      <!-- 300 -->\r\n      <g transform=\"translate(7.2 31.014993)scale(0.1 -0.1)\">\r\n       <defs>\r\n        <path d=\"M 40.578125 39.3125 \r\nQ 47.65625 37.796875 51.625 33 \r\nQ 55.609375 28.21875 55.609375 21.1875 \r\nQ 55.609375 10.40625 48.1875 4.484375 \r\nQ 40.765625 -1.421875 27.09375 -1.421875 \r\nQ 22.515625 -1.421875 17.65625 -0.515625 \r\nQ 12.796875 0.390625 7.625 2.203125 \r\nL 7.625 11.71875 \r\nQ 11.71875 9.328125 16.59375 8.109375 \r\nQ 21.484375 6.890625 26.8125 6.890625 \r\nQ 36.078125 6.890625 40.9375 10.546875 \r\nQ 45.796875 14.203125 45.796875 21.1875 \r\nQ 45.796875 27.640625 41.28125 31.265625 \r\nQ 36.765625 34.90625 28.71875 34.90625 \r\nL 20.21875 34.90625 \r\nL 20.21875 43.015625 \r\nL 29.109375 43.015625 \r\nQ 36.375 43.015625 40.234375 45.921875 \r\nQ 44.09375 48.828125 44.09375 54.296875 \r\nQ 44.09375 59.90625 40.109375 62.90625 \r\nQ 36.140625 65.921875 28.71875 65.921875 \r\nQ 24.65625 65.921875 20.015625 65.03125 \r\nQ 15.375 64.15625 9.8125 62.3125 \r\nL 9.8125 71.09375 \r\nQ 15.4375 72.65625 20.34375 73.4375 \r\nQ 25.25 74.21875 29.59375 74.21875 \r\nQ 40.828125 74.21875 47.359375 69.109375 \r\nQ 53.90625 64.015625 53.90625 55.328125 \r\nQ 53.90625 49.265625 50.4375 45.09375 \r\nQ 46.96875 40.921875 40.578125 39.3125 \r\nz\r\n\" id=\"DejaVuSans-51\"/>\r\n       </defs>\r\n       <use xlink:href=\"#DejaVuSans-51\"/>\r\n       <use x=\"63.623047\" xlink:href=\"#DejaVuSans-48\"/>\r\n       <use x=\"127.246094\" xlink:href=\"#DejaVuSans-48\"/>\r\n      </g>\r\n     </g>\r\n    </g>\r\n   </g>\r\n   <g id=\"patch_3\">\r\n    <path d=\"M 33.2875 164.96206 \r\nL 33.2875 22.318125 \r\n\" style=\"fill:none;stroke:#000000;stroke-linecap:square;stroke-linejoin:miter;stroke-width:0.8;\"/>\r\n   </g>\r\n   <g id=\"patch_4\">\r\n    <path d=\"M 211.8475 164.96206 \r\nL 211.8475 22.318125 \r\n\" style=\"fill:none;stroke:#000000;stroke-linecap:square;stroke-linejoin:miter;stroke-width:0.8;\"/>\r\n   </g>\r\n   <g id=\"patch_5\">\r\n    <path d=\"M 33.2875 164.96206 \r\nL 211.8475 164.96206 \r\n\" style=\"fill:none;stroke:#000000;stroke-linecap:square;stroke-linejoin:miter;stroke-width:0.8;\"/>\r\n   </g>\r\n   <g id=\"patch_6\">\r\n    <path d=\"M 33.2875 22.318125 \r\nL 211.8475 22.318125 \r\n\" style=\"fill:none;stroke:#000000;stroke-linecap:square;stroke-linejoin:miter;stroke-width:0.8;\"/>\r\n   </g>\r\n   <g id=\"text_11\">\r\n    <!-- iter 301/1000 -->\r\n    <g transform=\"translate(81.739375 16.318125)scale(0.12 -0.12)\">\r\n     <defs>\r\n      <path d=\"M 9.421875 54.6875 \r\nL 18.40625 54.6875 \r\nL 18.40625 0 \r\nL 9.421875 0 \r\nz\r\nM 9.421875 75.984375 \r\nL 18.40625 75.984375 \r\nL 18.40625 64.59375 \r\nL 9.421875 64.59375 \r\nz\r\n\" id=\"DejaVuSans-105\"/>\r\n      <path d=\"M 18.3125 70.21875 \r\nL 18.3125 54.6875 \r\nL 36.8125 54.6875 \r\nL 36.8125 47.703125 \r\nL 18.3125 47.703125 \r\nL 18.3125 18.015625 \r\nQ 18.3125 11.328125 20.140625 9.421875 \r\nQ 21.96875 7.515625 27.59375 7.515625 \r\nL 36.8125 7.515625 \r\nL 36.8125 0 \r\nL 27.59375 0 \r\nQ 17.1875 0 13.234375 3.875 \r\nQ 9.28125 7.765625 9.28125 18.015625 \r\nL 9.28125 47.703125 \r\nL 2.6875 47.703125 \r\nL 2.6875 54.6875 \r\nL 9.28125 54.6875 \r\nL 9.28125 70.21875 \r\nz\r\n\" id=\"DejaVuSans-116\"/>\r\n      <path d=\"M 56.203125 29.59375 \r\nL 56.203125 25.203125 \r\nL 14.890625 25.203125 \r\nQ 15.484375 15.921875 20.484375 11.0625 \r\nQ 25.484375 6.203125 34.421875 6.203125 \r\nQ 39.59375 6.203125 44.453125 7.46875 \r\nQ 49.3125 8.734375 54.109375 11.28125 \r\nL 54.109375 2.78125 \r\nQ 49.265625 0.734375 44.1875 -0.34375 \r\nQ 39.109375 -1.421875 33.890625 -1.421875 \r\nQ 20.796875 -1.421875 13.15625 6.1875 \r\nQ 5.515625 13.8125 5.515625 26.8125 \r\nQ 5.515625 40.234375 12.765625 48.109375 \r\nQ 20.015625 56 32.328125 56 \r\nQ 43.359375 56 49.78125 48.890625 \r\nQ 56.203125 41.796875 56.203125 29.59375 \r\nz\r\nM 47.21875 32.234375 \r\nQ 47.125 39.59375 43.09375 43.984375 \r\nQ 39.0625 48.390625 32.421875 48.390625 \r\nQ 24.90625 48.390625 20.390625 44.140625 \r\nQ 15.875 39.890625 15.1875 32.171875 \r\nz\r\n\" id=\"DejaVuSans-101\"/>\r\n      <path d=\"M 41.109375 46.296875 \r\nQ 39.59375 47.171875 37.8125 47.578125 \r\nQ 36.03125 48 33.890625 48 \r\nQ 26.265625 48 22.1875 43.046875 \r\nQ 18.109375 38.09375 18.109375 28.8125 \r\nL 18.109375 0 \r\nL 9.078125 0 \r\nL 9.078125 54.6875 \r\nL 18.109375 54.6875 \r\nL 18.109375 46.1875 \r\nQ 20.953125 51.171875 25.484375 53.578125 \r\nQ 30.03125 56 36.53125 56 \r\nQ 37.453125 56 38.578125 55.875 \r\nQ 39.703125 55.765625 41.0625 55.515625 \r\nz\r\n\" id=\"DejaVuSans-114\"/>\r\n      <path id=\"DejaVuSans-32\"/>\r\n      <path d=\"M 25.390625 72.90625 \r\nL 33.6875 72.90625 \r\nL 8.296875 -9.28125 \r\nL 0 -9.28125 \r\nz\r\n\" id=\"DejaVuSans-47\"/>\r\n     </defs>\r\n     <use xlink:href=\"#DejaVuSans-105\"/>\r\n     <use x=\"27.783203\" xlink:href=\"#DejaVuSans-116\"/>\r\n     <use x=\"66.992188\" xlink:href=\"#DejaVuSans-101\"/>\r\n     <use x=\"128.515625\" xlink:href=\"#DejaVuSans-114\"/>\r\n     <use x=\"169.628906\" xlink:href=\"#DejaVuSans-32\"/>\r\n     <use x=\"201.416016\" xlink:href=\"#DejaVuSans-51\"/>\r\n     <use x=\"265.039062\" xlink:href=\"#DejaVuSans-48\"/>\r\n     <use x=\"328.662109\" xlink:href=\"#DejaVuSans-49\"/>\r\n     <use x=\"392.285156\" xlink:href=\"#DejaVuSans-47\"/>\r\n     <use x=\"425.976562\" xlink:href=\"#DejaVuSans-49\"/>\r\n     <use x=\"489.599609\" xlink:href=\"#DejaVuSans-48\"/>\r\n     <use x=\"553.222656\" xlink:href=\"#DejaVuSans-48\"/>\r\n     <use x=\"616.845703\" xlink:href=\"#DejaVuSans-48\"/>\r\n    </g>\r\n   </g>\r\n  </g>\r\n  <g id=\"axes_2\">\r\n   <g id=\"patch_7\">\r\n    <path clip-path=\"url(#p940137427c)\" d=\"M 223.0075 175.180092 \r\nL 223.0075 174.543061 \r\nL 223.0075 12.737124 \r\nL 223.0075 12.100092 \r\nL 231.1615 12.100092 \r\nL 231.1615 12.737124 \r\nL 231.1615 174.543061 \r\nL 231.1615 175.180092 \r\nz\r\n\" style=\"fill:#ffffff;stroke:#ffffff;stroke-linejoin:miter;stroke-width:0.01;\"/>\r\n   </g>\r\n   <image height=\"163\" id=\"imaged667d4594d\" transform=\"scale(1 -1)translate(0 -163)\" width=\"8\" x=\"223\" xlink:href=\"data:image/png;base64,\r\niVBORw0KGgoAAAANSUhEUgAAAAgAAACjCAYAAAC31F+mAAABKUlEQVR4nM3Y0W3DMAyEYYqSvFlm6P57tHU30CeAquG8ivh5d2Qcxe0zvu5YfEa0XJ3HaL2vCyJbldBACBHqIiORw4EC2xShnqRdgHCbsDzf0PBEC89COThqEdxieb7TQiKpIaTh9sKAsLFy0lAW+YDNegG/3SeCqhYcSNJrrxavsFkmMIe6zXrU/x/UA/vwxDQP2Fxe5d4yzbVINNjTgBw2rgciVG2a0MoE5lBvQQJ+kWK0/C0ToCGZgwqy3CLLNrsInRpUwBYMarQyQRpYkFFtwaBo04T8KbdAwXwDgdNsyKEHW4DAfZj5LQ0iyMVsaMGFuUiwSNmUBhIu5ZCaZt3mCQ0icFjBfdDD3NPU0355HDEu/VskYerd4MRNa3RpGIE3Wl0aEhr+ADsnb5Du1rJ2AAAAAElFTkSuQmCC\" y=\"-11\"/>\r\n   <g id=\"matplotlib.axis_3\"/>\r\n   <g id=\"matplotlib.axis_4\">\r\n    <g id=\"ytick_7\">\r\n     <g id=\"line2d_11\">\r\n      <defs>\r\n       <path d=\"M 0 0 \r\nL 3.5 0 \r\n\" id=\"mea33811f63\" style=\"stroke:#000000;stroke-width:0.8;\"/>\r\n      </defs>\r\n      <g>\r\n       <use style=\"stroke:#000000;stroke-width:0.8;\" x=\"231.1615\" xlink:href=\"#mea33811f63\" y=\"167.335614\"/>\r\n      </g>\r\n     </g>\r\n     <g id=\"text_12\">\r\n      <!-- 10 -->\r\n      <g transform=\"translate(238.1615 171.134833)scale(0.1 -0.1)\">\r\n       <use xlink:href=\"#DejaVuSans-49\"/>\r\n       <use x=\"63.623047\" xlink:href=\"#DejaVuSans-48\"/>\r\n      </g>\r\n     </g>\r\n    </g>\r\n    <g id=\"ytick_8\">\r\n     <g id=\"line2d_12\">\r\n      <g>\r\n       <use style=\"stroke:#000000;stroke-width:0.8;\" x=\"231.1615\" xlink:href=\"#mea33811f63\" y=\"133.518922\"/>\r\n      </g>\r\n     </g>\r\n     <g id=\"text_13\">\r\n      <!-- 15 -->\r\n      <g transform=\"translate(238.1615 137.31814)scale(0.1 -0.1)\">\r\n       <use xlink:href=\"#DejaVuSans-49\"/>\r\n       <use x=\"63.623047\" xlink:href=\"#DejaVuSans-53\"/>\r\n      </g>\r\n     </g>\r\n    </g>\r\n    <g id=\"ytick_9\">\r\n     <g id=\"line2d_13\">\r\n      <g>\r\n       <use style=\"stroke:#000000;stroke-width:0.8;\" x=\"231.1615\" xlink:href=\"#mea33811f63\" y=\"99.702229\"/>\r\n      </g>\r\n     </g>\r\n     <g id=\"text_14\">\r\n      <!-- 20 -->\r\n      <g transform=\"translate(238.1615 103.501448)scale(0.1 -0.1)\">\r\n       <use xlink:href=\"#DejaVuSans-50\"/>\r\n       <use x=\"63.623047\" xlink:href=\"#DejaVuSans-48\"/>\r\n      </g>\r\n     </g>\r\n    </g>\r\n    <g id=\"ytick_10\">\r\n     <g id=\"line2d_14\">\r\n      <g>\r\n       <use style=\"stroke:#000000;stroke-width:0.8;\" x=\"231.1615\" xlink:href=\"#mea33811f63\" y=\"65.885537\"/>\r\n      </g>\r\n     </g>\r\n     <g id=\"text_15\">\r\n      <!-- 25 -->\r\n      <g transform=\"translate(238.1615 69.684756)scale(0.1 -0.1)\">\r\n       <use xlink:href=\"#DejaVuSans-50\"/>\r\n       <use x=\"63.623047\" xlink:href=\"#DejaVuSans-53\"/>\r\n      </g>\r\n     </g>\r\n    </g>\r\n    <g id=\"ytick_11\">\r\n     <g id=\"line2d_15\">\r\n      <g>\r\n       <use style=\"stroke:#000000;stroke-width:0.8;\" x=\"231.1615\" xlink:href=\"#mea33811f63\" y=\"32.068845\"/>\r\n      </g>\r\n     </g>\r\n     <g id=\"text_16\">\r\n      <!-- 30 -->\r\n      <g transform=\"translate(238.1615 35.868064)scale(0.1 -0.1)\">\r\n       <use xlink:href=\"#DejaVuSans-51\"/>\r\n       <use x=\"63.623047\" xlink:href=\"#DejaVuSans-48\"/>\r\n      </g>\r\n     </g>\r\n    </g>\r\n   </g>\r\n   <g id=\"patch_8\">\r\n    <path d=\"M 223.0075 175.180092 \r\nL 223.0075 174.543061 \r\nL 223.0075 12.737124 \r\nL 223.0075 12.100092 \r\nL 231.1615 12.100092 \r\nL 231.1615 12.737124 \r\nL 231.1615 174.543061 \r\nL 231.1615 175.180092 \r\nz\r\n\" style=\"fill:none;stroke:#000000;stroke-linejoin:miter;stroke-width:0.8;\"/>\r\n   </g>\r\n  </g>\r\n </g>\r\n <defs>\r\n  <clipPath id=\"p797e7dabf2\">\r\n   <rect height=\"142.643935\" width=\"178.56\" x=\"33.2875\" y=\"22.318125\"/>\r\n  </clipPath>\r\n  <clipPath id=\"p940137427c\">\r\n   <rect height=\"163.08\" width=\"8.154\" x=\"223.0075\" y=\"12.100092\"/>\r\n  </clipPath>\r\n </defs>\r\n</svg>\r\n",
      "image/png": "[encoded data removed]"
     },
     "metadata": {
      "needs_background": "light"
     }
    },
    {
     "output_type": "display_data",
     "data": {
      "text/plain": "<Figure size 288x216 with 2 Axes>",
      "image/svg+xml": "<?xml version=\"1.0\" encoding=\"utf-8\" standalone=\"no\"?>\r\n<!DOCTYPE svg PUBLIC \"-//W3C//DTD SVG 1.1//EN\"\r\n  \"http://www.w3.org/Graphics/SVG/1.1/DTD/svg11.dtd\">\r\n<!-- Created with matplotlib (https://matplotlib.org/) -->\r\n<svg height=\"188.840185pt\" version=\"1.1\" viewBox=\"0 0 258.0865 188.840185\" width=\"258.0865pt\" xmlns=\"http://www.w3.org/2000/svg\" xmlns:xlink=\"http://www.w3.org/1999/xlink\">\r\n <metadata>\r\n  <rdf:RDF xmlns:cc=\"http://creativecommons.org/ns#\" xmlns:dc=\"http://purl.org/dc/elements/1.1/\" xmlns:rdf=\"http://www.w3.org/1999/02/22-rdf-syntax-ns#\">\r\n   <cc:Work>\r\n    <dc:type rdf:resource=\"http://purl.org/dc/dcmitype/StillImage\"/>\r\n    <dc:date>2021-02-19T13:55:37.503079</dc:date>\r\n    <dc:format>image/svg+xml</dc:format>\r\n    <dc:creator>\r\n     <cc:Agent>\r\n      <dc:title>Matplotlib v3.3.4, https://matplotlib.org/</dc:title>\r\n     </cc:Agent>\r\n    </dc:creator>\r\n   </cc:Work>\r\n  </rdf:RDF>\r\n </metadata>\r\n <defs>\r\n  <style type=\"text/css\">*{stroke-linecap:butt;stroke-linejoin:round;}</style>\r\n </defs>\r\n <g id=\"figure_1\">\r\n  <g id=\"patch_1\">\r\n   <path d=\"M 0 188.840185 \r\nL 258.0865 188.840185 \r\nL 258.0865 0 \r\nL 0 0 \r\nz\r\n\" style=\"fill:none;\"/>\r\n  </g>\r\n  <g id=\"axes_1\">\r\n   <g id=\"patch_2\">\r\n    <path d=\"M 33.2875 164.96206 \r\nL 211.8475 164.96206 \r\nL 211.8475 22.318125 \r\nL 33.2875 22.318125 \r\nz\r\n\" style=\"fill:#ffffff;\"/>\r\n   </g>\r\n   <g clip-path=\"url(#p7c31ecfa27)\">\r\n    <image height=\"143\" id=\"imageb1bb070f68\" transform=\"scale(1 -1)translate(0 -143)\" width=\"179\" x=\"33.2875\" xlink:href=\"data:image/png;base64,\r\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\" y=\"-21.96206\"/>\r\n   </g>\r\n   <g id=\"matplotlib.axis_1\">\r\n    <g id=\"xtick_1\">\r\n     <g id=\"line2d_1\">\r\n      <defs>\r\n       <path d=\"M 0 0 \r\nL 0 3.5 \r\n\" id=\"m1d99128fe4\" style=\"stroke:#000000;stroke-width:0.8;\"/>\r\n      </defs>\r\n      <g>\r\n       <use style=\"stroke:#000000;stroke-width:0.8;\" x=\"58.796071\" xlink:href=\"#m1d99128fe4\" y=\"164.96206\"/>\r\n      </g>\r\n     </g>\r\n     <g id=\"text_1\">\r\n      <!-- 400 -->\r\n      <g transform=\"translate(49.252321 179.560497)scale(0.1 -0.1)\">\r\n       <defs>\r\n        <path d=\"M 37.796875 64.3125 \r\nL 12.890625 25.390625 \r\nL 37.796875 25.390625 \r\nz\r\nM 35.203125 72.90625 \r\nL 47.609375 72.90625 \r\nL 47.609375 25.390625 \r\nL 58.015625 25.390625 \r\nL 58.015625 17.1875 \r\nL 47.609375 17.1875 \r\nL 47.609375 0 \r\nL 37.796875 0 \r\nL 37.796875 17.1875 \r\nL 4.890625 17.1875 \r\nL 4.890625 26.703125 \r\nz\r\n\" id=\"DejaVuSans-52\"/>\r\n        <path d=\"M 31.78125 66.40625 \r\nQ 24.171875 66.40625 20.328125 58.90625 \r\nQ 16.5 51.421875 16.5 36.375 \r\nQ 16.5 21.390625 20.328125 13.890625 \r\nQ 24.171875 6.390625 31.78125 6.390625 \r\nQ 39.453125 6.390625 43.28125 13.890625 \r\nQ 47.125 21.390625 47.125 36.375 \r\nQ 47.125 51.421875 43.28125 58.90625 \r\nQ 39.453125 66.40625 31.78125 66.40625 \r\nz\r\nM 31.78125 74.21875 \r\nQ 44.046875 74.21875 50.515625 64.515625 \r\nQ 56.984375 54.828125 56.984375 36.375 \r\nQ 56.984375 17.96875 50.515625 8.265625 \r\nQ 44.046875 -1.421875 31.78125 -1.421875 \r\nQ 19.53125 -1.421875 13.0625 8.265625 \r\nQ 6.59375 17.96875 6.59375 36.375 \r\nQ 6.59375 54.828125 13.0625 64.515625 \r\nQ 19.53125 74.21875 31.78125 74.21875 \r\nz\r\n\" id=\"DejaVuSans-48\"/>\r\n       </defs>\r\n       <use xlink:href=\"#DejaVuSans-52\"/>\r\n       <use x=\"63.623047\" xlink:href=\"#DejaVuSans-48\"/>\r\n       <use x=\"127.246094\" xlink:href=\"#DejaVuSans-48\"/>\r\n      </g>\r\n     </g>\r\n    </g>\r\n    <g id=\"xtick_2\">\r\n     <g id=\"line2d_2\">\r\n      <g>\r\n       <use style=\"stroke:#000000;stroke-width:0.8;\" x=\"109.813214\" xlink:href=\"#m1d99128fe4\" y=\"164.96206\"/>\r\n      </g>\r\n     </g>\r\n     <g id=\"text_2\">\r\n      <!-- 500 -->\r\n      <g transform=\"translate(100.269464 179.560497)scale(0.1 -0.1)\">\r\n       <defs>\r\n        <path d=\"M 10.796875 72.90625 \r\nL 49.515625 72.90625 \r\nL 49.515625 64.59375 \r\nL 19.828125 64.59375 \r\nL 19.828125 46.734375 \r\nQ 21.96875 47.46875 24.109375 47.828125 \r\nQ 26.265625 48.1875 28.421875 48.1875 \r\nQ 40.625 48.1875 47.75 41.5 \r\nQ 54.890625 34.8125 54.890625 23.390625 \r\nQ 54.890625 11.625 47.5625 5.09375 \r\nQ 40.234375 -1.421875 26.90625 -1.421875 \r\nQ 22.3125 -1.421875 17.546875 -0.640625 \r\nQ 12.796875 0.140625 7.71875 1.703125 \r\nL 7.71875 11.625 \r\nQ 12.109375 9.234375 16.796875 8.0625 \r\nQ 21.484375 6.890625 26.703125 6.890625 \r\nQ 35.15625 6.890625 40.078125 11.328125 \r\nQ 45.015625 15.765625 45.015625 23.390625 \r\nQ 45.015625 31 40.078125 35.4375 \r\nQ 35.15625 39.890625 26.703125 39.890625 \r\nQ 22.75 39.890625 18.8125 39.015625 \r\nQ 14.890625 38.140625 10.796875 36.28125 \r\nz\r\n\" id=\"DejaVuSans-53\"/>\r\n       </defs>\r\n       <use xlink:href=\"#DejaVuSans-53\"/>\r\n       <use x=\"63.623047\" xlink:href=\"#DejaVuSans-48\"/>\r\n       <use x=\"127.246094\" xlink:href=\"#DejaVuSans-48\"/>\r\n      </g>\r\n     </g>\r\n    </g>\r\n    <g id=\"xtick_3\">\r\n     <g id=\"line2d_3\">\r\n      <g>\r\n       <use style=\"stroke:#000000;stroke-width:0.8;\" x=\"160.830357\" xlink:href=\"#m1d99128fe4\" y=\"164.96206\"/>\r\n      </g>\r\n     </g>\r\n     <g id=\"text_3\">\r\n      <!-- 600 -->\r\n      <g transform=\"translate(151.286607 179.560497)scale(0.1 -0.1)\">\r\n       <defs>\r\n        <path d=\"M 33.015625 40.375 \r\nQ 26.375 40.375 22.484375 35.828125 \r\nQ 18.609375 31.296875 18.609375 23.390625 \r\nQ 18.609375 15.53125 22.484375 10.953125 \r\nQ 26.375 6.390625 33.015625 6.390625 \r\nQ 39.65625 6.390625 43.53125 10.953125 \r\nQ 47.40625 15.53125 47.40625 23.390625 \r\nQ 47.40625 31.296875 43.53125 35.828125 \r\nQ 39.65625 40.375 33.015625 40.375 \r\nz\r\nM 52.59375 71.296875 \r\nL 52.59375 62.3125 \r\nQ 48.875 64.0625 45.09375 64.984375 \r\nQ 41.3125 65.921875 37.59375 65.921875 \r\nQ 27.828125 65.921875 22.671875 59.328125 \r\nQ 17.53125 52.734375 16.796875 39.40625 \r\nQ 19.671875 43.65625 24.015625 45.921875 \r\nQ 28.375 48.1875 33.59375 48.1875 \r\nQ 44.578125 48.1875 50.953125 41.515625 \r\nQ 57.328125 34.859375 57.328125 23.390625 \r\nQ 57.328125 12.15625 50.6875 5.359375 \r\nQ 44.046875 -1.421875 33.015625 -1.421875 \r\nQ 20.359375 -1.421875 13.671875 8.265625 \r\nQ 6.984375 17.96875 6.984375 36.375 \r\nQ 6.984375 53.65625 15.1875 63.9375 \r\nQ 23.390625 74.21875 37.203125 74.21875 \r\nQ 40.921875 74.21875 44.703125 73.484375 \r\nQ 48.484375 72.75 52.59375 71.296875 \r\nz\r\n\" id=\"DejaVuSans-54\"/>\r\n       </defs>\r\n       <use xlink:href=\"#DejaVuSans-54\"/>\r\n       <use x=\"63.623047\" xlink:href=\"#DejaVuSans-48\"/>\r\n       <use x=\"127.246094\" xlink:href=\"#DejaVuSans-48\"/>\r\n      </g>\r\n     </g>\r\n    </g>\r\n    <g id=\"xtick_4\">\r\n     <g id=\"line2d_4\">\r\n      <g>\r\n       <use style=\"stroke:#000000;stroke-width:0.8;\" x=\"211.8475\" xlink:href=\"#m1d99128fe4\" y=\"164.96206\"/>\r\n      </g>\r\n     </g>\r\n     <g id=\"text_4\">\r\n      <!-- 700 -->\r\n      <g transform=\"translate(202.30375 179.560497)scale(0.1 -0.1)\">\r\n       <defs>\r\n        <path d=\"M 8.203125 72.90625 \r\nL 55.078125 72.90625 \r\nL 55.078125 68.703125 \r\nL 28.609375 0 \r\nL 18.3125 0 \r\nL 43.21875 64.59375 \r\nL 8.203125 64.59375 \r\nz\r\n\" id=\"DejaVuSans-55\"/>\r\n       </defs>\r\n       <use xlink:href=\"#DejaVuSans-55\"/>\r\n       <use x=\"63.623047\" xlink:href=\"#DejaVuSans-48\"/>\r\n       <use x=\"127.246094\" xlink:href=\"#DejaVuSans-48\"/>\r\n      </g>\r\n     </g>\r\n    </g>\r\n   </g>\r\n   <g id=\"matplotlib.axis_2\">\r\n    <g id=\"ytick_1\">\r\n     <g id=\"line2d_5\">\r\n      <defs>\r\n       <path d=\"M 0 0 \r\nL -3.5 0 \r\n\" id=\"m4a969d9dd8\" style=\"stroke:#000000;stroke-width:0.8;\"/>\r\n      </defs>\r\n      <g>\r\n       <use style=\"stroke:#000000;stroke-width:0.8;\" x=\"33.2875\" xlink:href=\"#m4a969d9dd8\" y=\"154.758631\"/>\r\n      </g>\r\n     </g>\r\n     <g id=\"text_5\">\r\n      <!-- 50 -->\r\n      <g transform=\"translate(13.5625 158.55785)scale(0.1 -0.1)\">\r\n       <use xlink:href=\"#DejaVuSans-53\"/>\r\n       <use x=\"63.623047\" xlink:href=\"#DejaVuSans-48\"/>\r\n      </g>\r\n     </g>\r\n    </g>\r\n    <g id=\"ytick_2\">\r\n     <g id=\"line2d_6\">\r\n      <g>\r\n       <use style=\"stroke:#000000;stroke-width:0.8;\" x=\"33.2875\" xlink:href=\"#m4a969d9dd8\" y=\"129.25006\"/>\r\n      </g>\r\n     </g>\r\n     <g id=\"text_6\">\r\n      <!-- 100 -->\r\n      <g transform=\"translate(7.2 133.049278)scale(0.1 -0.1)\">\r\n       <defs>\r\n        <path d=\"M 12.40625 8.296875 \r\nL 28.515625 8.296875 \r\nL 28.515625 63.921875 \r\nL 10.984375 60.40625 \r\nL 10.984375 69.390625 \r\nL 28.421875 72.90625 \r\nL 38.28125 72.90625 \r\nL 38.28125 8.296875 \r\nL 54.390625 8.296875 \r\nL 54.390625 0 \r\nL 12.40625 0 \r\nz\r\n\" id=\"DejaVuSans-49\"/>\r\n       </defs>\r\n       <use xlink:href=\"#DejaVuSans-49\"/>\r\n       <use x=\"63.623047\" xlink:href=\"#DejaVuSans-48\"/>\r\n       <use x=\"127.246094\" xlink:href=\"#DejaVuSans-48\"/>\r\n      </g>\r\n     </g>\r\n    </g>\r\n    <g id=\"ytick_3\">\r\n     <g id=\"line2d_7\">\r\n      <g>\r\n       <use style=\"stroke:#000000;stroke-width:0.8;\" x=\"33.2875\" xlink:href=\"#m4a969d9dd8\" y=\"103.741488\"/>\r\n      </g>\r\n     </g>\r\n     <g id=\"text_7\">\r\n      <!-- 150 -->\r\n      <g transform=\"translate(7.2 107.540707)scale(0.1 -0.1)\">\r\n       <use xlink:href=\"#DejaVuSans-49\"/>\r\n       <use x=\"63.623047\" xlink:href=\"#DejaVuSans-53\"/>\r\n       <use x=\"127.246094\" xlink:href=\"#DejaVuSans-48\"/>\r\n      </g>\r\n     </g>\r\n    </g>\r\n    <g id=\"ytick_4\">\r\n     <g id=\"line2d_8\">\r\n      <g>\r\n       <use style=\"stroke:#000000;stroke-width:0.8;\" x=\"33.2875\" xlink:href=\"#m4a969d9dd8\" y=\"78.232917\"/>\r\n      </g>\r\n     </g>\r\n     <g id=\"text_8\">\r\n      <!-- 200 -->\r\n      <g transform=\"translate(7.2 82.032135)scale(0.1 -0.1)\">\r\n       <defs>\r\n        <path d=\"M 19.1875 8.296875 \r\nL 53.609375 8.296875 \r\nL 53.609375 0 \r\nL 7.328125 0 \r\nL 7.328125 8.296875 \r\nQ 12.9375 14.109375 22.625 23.890625 \r\nQ 32.328125 33.6875 34.8125 36.53125 \r\nQ 39.546875 41.84375 41.421875 45.53125 \r\nQ 43.3125 49.21875 43.3125 52.78125 \r\nQ 43.3125 58.59375 39.234375 62.25 \r\nQ 35.15625 65.921875 28.609375 65.921875 \r\nQ 23.96875 65.921875 18.8125 64.3125 \r\nQ 13.671875 62.703125 7.8125 59.421875 \r\nL 7.8125 69.390625 \r\nQ 13.765625 71.78125 18.9375 73 \r\nQ 24.125 74.21875 28.421875 74.21875 \r\nQ 39.75 74.21875 46.484375 68.546875 \r\nQ 53.21875 62.890625 53.21875 53.421875 \r\nQ 53.21875 48.921875 51.53125 44.890625 \r\nQ 49.859375 40.875 45.40625 35.40625 \r\nQ 44.1875 33.984375 37.640625 27.21875 \r\nQ 31.109375 20.453125 19.1875 8.296875 \r\nz\r\n\" id=\"DejaVuSans-50\"/>\r\n       </defs>\r\n       <use xlink:href=\"#DejaVuSans-50\"/>\r\n       <use x=\"63.623047\" xlink:href=\"#DejaVuSans-48\"/>\r\n       <use x=\"127.246094\" xlink:href=\"#DejaVuSans-48\"/>\r\n      </g>\r\n     </g>\r\n    </g>\r\n    <g id=\"ytick_5\">\r\n     <g id=\"line2d_9\">\r\n      <g>\r\n       <use style=\"stroke:#000000;stroke-width:0.8;\" x=\"33.2875\" xlink:href=\"#m4a969d9dd8\" y=\"52.724345\"/>\r\n      </g>\r\n     </g>\r\n     <g id=\"text_9\">\r\n      <!-- 250 -->\r\n      <g transform=\"translate(7.2 56.523564)scale(0.1 -0.1)\">\r\n       <use xlink:href=\"#DejaVuSans-50\"/>\r\n       <use x=\"63.623047\" xlink:href=\"#DejaVuSans-53\"/>\r\n       <use x=\"127.246094\" xlink:href=\"#DejaVuSans-48\"/>\r\n      </g>\r\n     </g>\r\n    </g>\r\n    <g id=\"ytick_6\">\r\n     <g id=\"line2d_10\">\r\n      <g>\r\n       <use style=\"stroke:#000000;stroke-width:0.8;\" x=\"33.2875\" xlink:href=\"#m4a969d9dd8\" y=\"27.215774\"/>\r\n      </g>\r\n     </g>\r\n     <g id=\"text_10\">\r\n      <!-- 300 -->\r\n      <g transform=\"translate(7.2 31.014993)scale(0.1 -0.1)\">\r\n       <defs>\r\n        <path d=\"M 40.578125 39.3125 \r\nQ 47.65625 37.796875 51.625 33 \r\nQ 55.609375 28.21875 55.609375 21.1875 \r\nQ 55.609375 10.40625 48.1875 4.484375 \r\nQ 40.765625 -1.421875 27.09375 -1.421875 \r\nQ 22.515625 -1.421875 17.65625 -0.515625 \r\nQ 12.796875 0.390625 7.625 2.203125 \r\nL 7.625 11.71875 \r\nQ 11.71875 9.328125 16.59375 8.109375 \r\nQ 21.484375 6.890625 26.8125 6.890625 \r\nQ 36.078125 6.890625 40.9375 10.546875 \r\nQ 45.796875 14.203125 45.796875 21.1875 \r\nQ 45.796875 27.640625 41.28125 31.265625 \r\nQ 36.765625 34.90625 28.71875 34.90625 \r\nL 20.21875 34.90625 \r\nL 20.21875 43.015625 \r\nL 29.109375 43.015625 \r\nQ 36.375 43.015625 40.234375 45.921875 \r\nQ 44.09375 48.828125 44.09375 54.296875 \r\nQ 44.09375 59.90625 40.109375 62.90625 \r\nQ 36.140625 65.921875 28.71875 65.921875 \r\nQ 24.65625 65.921875 20.015625 65.03125 \r\nQ 15.375 64.15625 9.8125 62.3125 \r\nL 9.8125 71.09375 \r\nQ 15.4375 72.65625 20.34375 73.4375 \r\nQ 25.25 74.21875 29.59375 74.21875 \r\nQ 40.828125 74.21875 47.359375 69.109375 \r\nQ 53.90625 64.015625 53.90625 55.328125 \r\nQ 53.90625 49.265625 50.4375 45.09375 \r\nQ 46.96875 40.921875 40.578125 39.3125 \r\nz\r\n\" id=\"DejaVuSans-51\"/>\r\n       </defs>\r\n       <use xlink:href=\"#DejaVuSans-51\"/>\r\n       <use x=\"63.623047\" xlink:href=\"#DejaVuSans-48\"/>\r\n       <use x=\"127.246094\" xlink:href=\"#DejaVuSans-48\"/>\r\n      </g>\r\n     </g>\r\n    </g>\r\n   </g>\r\n   <g id=\"patch_3\">\r\n    <path d=\"M 33.2875 164.96206 \r\nL 33.2875 22.318125 \r\n\" style=\"fill:none;stroke:#000000;stroke-linecap:square;stroke-linejoin:miter;stroke-width:0.8;\"/>\r\n   </g>\r\n   <g id=\"patch_4\">\r\n    <path d=\"M 211.8475 164.96206 \r\nL 211.8475 22.318125 \r\n\" style=\"fill:none;stroke:#000000;stroke-linecap:square;stroke-linejoin:miter;stroke-width:0.8;\"/>\r\n   </g>\r\n   <g id=\"patch_5\">\r\n    <path d=\"M 33.2875 164.96206 \r\nL 211.8475 164.96206 \r\n\" style=\"fill:none;stroke:#000000;stroke-linecap:square;stroke-linejoin:miter;stroke-width:0.8;\"/>\r\n   </g>\r\n   <g id=\"patch_6\">\r\n    <path d=\"M 33.2875 22.318125 \r\nL 211.8475 22.318125 \r\n\" style=\"fill:none;stroke:#000000;stroke-linecap:square;stroke-linejoin:miter;stroke-width:0.8;\"/>\r\n   </g>\r\n   <g id=\"text_11\">\r\n    <!-- iter 401/1000 -->\r\n    <g transform=\"translate(81.739375 16.318125)scale(0.12 -0.12)\">\r\n     <defs>\r\n      <path d=\"M 9.421875 54.6875 \r\nL 18.40625 54.6875 \r\nL 18.40625 0 \r\nL 9.421875 0 \r\nz\r\nM 9.421875 75.984375 \r\nL 18.40625 75.984375 \r\nL 18.40625 64.59375 \r\nL 9.421875 64.59375 \r\nz\r\n\" id=\"DejaVuSans-105\"/>\r\n      <path d=\"M 18.3125 70.21875 \r\nL 18.3125 54.6875 \r\nL 36.8125 54.6875 \r\nL 36.8125 47.703125 \r\nL 18.3125 47.703125 \r\nL 18.3125 18.015625 \r\nQ 18.3125 11.328125 20.140625 9.421875 \r\nQ 21.96875 7.515625 27.59375 7.515625 \r\nL 36.8125 7.515625 \r\nL 36.8125 0 \r\nL 27.59375 0 \r\nQ 17.1875 0 13.234375 3.875 \r\nQ 9.28125 7.765625 9.28125 18.015625 \r\nL 9.28125 47.703125 \r\nL 2.6875 47.703125 \r\nL 2.6875 54.6875 \r\nL 9.28125 54.6875 \r\nL 9.28125 70.21875 \r\nz\r\n\" id=\"DejaVuSans-116\"/>\r\n      <path d=\"M 56.203125 29.59375 \r\nL 56.203125 25.203125 \r\nL 14.890625 25.203125 \r\nQ 15.484375 15.921875 20.484375 11.0625 \r\nQ 25.484375 6.203125 34.421875 6.203125 \r\nQ 39.59375 6.203125 44.453125 7.46875 \r\nQ 49.3125 8.734375 54.109375 11.28125 \r\nL 54.109375 2.78125 \r\nQ 49.265625 0.734375 44.1875 -0.34375 \r\nQ 39.109375 -1.421875 33.890625 -1.421875 \r\nQ 20.796875 -1.421875 13.15625 6.1875 \r\nQ 5.515625 13.8125 5.515625 26.8125 \r\nQ 5.515625 40.234375 12.765625 48.109375 \r\nQ 20.015625 56 32.328125 56 \r\nQ 43.359375 56 49.78125 48.890625 \r\nQ 56.203125 41.796875 56.203125 29.59375 \r\nz\r\nM 47.21875 32.234375 \r\nQ 47.125 39.59375 43.09375 43.984375 \r\nQ 39.0625 48.390625 32.421875 48.390625 \r\nQ 24.90625 48.390625 20.390625 44.140625 \r\nQ 15.875 39.890625 15.1875 32.171875 \r\nz\r\n\" id=\"DejaVuSans-101\"/>\r\n      <path d=\"M 41.109375 46.296875 \r\nQ 39.59375 47.171875 37.8125 47.578125 \r\nQ 36.03125 48 33.890625 48 \r\nQ 26.265625 48 22.1875 43.046875 \r\nQ 18.109375 38.09375 18.109375 28.8125 \r\nL 18.109375 0 \r\nL 9.078125 0 \r\nL 9.078125 54.6875 \r\nL 18.109375 54.6875 \r\nL 18.109375 46.1875 \r\nQ 20.953125 51.171875 25.484375 53.578125 \r\nQ 30.03125 56 36.53125 56 \r\nQ 37.453125 56 38.578125 55.875 \r\nQ 39.703125 55.765625 41.0625 55.515625 \r\nz\r\n\" id=\"DejaVuSans-114\"/>\r\n      <path id=\"DejaVuSans-32\"/>\r\n      <path d=\"M 25.390625 72.90625 \r\nL 33.6875 72.90625 \r\nL 8.296875 -9.28125 \r\nL 0 -9.28125 \r\nz\r\n\" id=\"DejaVuSans-47\"/>\r\n     </defs>\r\n     <use xlink:href=\"#DejaVuSans-105\"/>\r\n     <use x=\"27.783203\" xlink:href=\"#DejaVuSans-116\"/>\r\n     <use x=\"66.992188\" xlink:href=\"#DejaVuSans-101\"/>\r\n     <use x=\"128.515625\" xlink:href=\"#DejaVuSans-114\"/>\r\n     <use x=\"169.628906\" xlink:href=\"#DejaVuSans-32\"/>\r\n     <use x=\"201.416016\" xlink:href=\"#DejaVuSans-52\"/>\r\n     <use x=\"265.039062\" xlink:href=\"#DejaVuSans-48\"/>\r\n     <use x=\"328.662109\" xlink:href=\"#DejaVuSans-49\"/>\r\n     <use x=\"392.285156\" xlink:href=\"#DejaVuSans-47\"/>\r\n     <use x=\"425.976562\" xlink:href=\"#DejaVuSans-49\"/>\r\n     <use x=\"489.599609\" xlink:href=\"#DejaVuSans-48\"/>\r\n     <use x=\"553.222656\" xlink:href=\"#DejaVuSans-48\"/>\r\n     <use x=\"616.845703\" xlink:href=\"#DejaVuSans-48\"/>\r\n    </g>\r\n   </g>\r\n  </g>\r\n  <g id=\"axes_2\">\r\n   <g id=\"patch_7\">\r\n    <path clip-path=\"url(#p148f6bf1e1)\" d=\"M 223.0075 175.180092 \r\nL 223.0075 174.543061 \r\nL 223.0075 12.737124 \r\nL 223.0075 12.100092 \r\nL 231.1615 12.100092 \r\nL 231.1615 12.737124 \r\nL 231.1615 174.543061 \r\nL 231.1615 175.180092 \r\nz\r\n\" style=\"fill:#ffffff;stroke:#ffffff;stroke-linejoin:miter;stroke-width:0.01;\"/>\r\n   </g>\r\n   <image height=\"163\" id=\"image65a4c4a605\" transform=\"scale(1 -1)translate(0 -163)\" width=\"8\" x=\"223\" xlink:href=\"data:image/png;base64,\r\niVBORw0KGgoAAAANSUhEUgAAAAgAAACjCAYAAAC31F+mAAABKUlEQVR4nM3Y0W3DMAyEYYqSvFlm6P57tHU30CeAquG8ivh5d2Qcxe0zvu5YfEa0XJ3HaL2vCyJbldBACBHqIiORw4EC2xShnqRdgHCbsDzf0PBEC89COThqEdxieb7TQiKpIaTh9sKAsLFy0lAW+YDNegG/3SeCqhYcSNJrrxavsFkmMIe6zXrU/x/UA/vwxDQP2Fxe5d4yzbVINNjTgBw2rgciVG2a0MoE5lBvQQJ+kWK0/C0ToCGZgwqy3CLLNrsInRpUwBYMarQyQRpYkFFtwaBo04T8KbdAwXwDgdNsyKEHW4DAfZj5LQ0iyMVsaMGFuUiwSNmUBhIu5ZCaZt3mCQ0icFjBfdDD3NPU0355HDEu/VskYerd4MRNa3RpGIE3Wl0aEhr+ADsnb5Du1rJ2AAAAAElFTkSuQmCC\" y=\"-11\"/>\r\n   <g id=\"matplotlib.axis_3\"/>\r\n   <g id=\"matplotlib.axis_4\">\r\n    <g id=\"ytick_7\">\r\n     <g id=\"line2d_11\">\r\n      <defs>\r\n       <path d=\"M 0 0 \r\nL 3.5 0 \r\n\" id=\"m9be048565e\" style=\"stroke:#000000;stroke-width:0.8;\"/>\r\n      </defs>\r\n      <g>\r\n       <use style=\"stroke:#000000;stroke-width:0.8;\" x=\"231.1615\" xlink:href=\"#m9be048565e\" y=\"165.04718\"/>\r\n      </g>\r\n     </g>\r\n     <g id=\"text_12\">\r\n      <!-- 10 -->\r\n      <g transform=\"translate(238.1615 168.846399)scale(0.1 -0.1)\">\r\n       <use xlink:href=\"#DejaVuSans-49\"/>\r\n       <use x=\"63.623047\" xlink:href=\"#DejaVuSans-48\"/>\r\n      </g>\r\n     </g>\r\n    </g>\r\n    <g id=\"ytick_8\">\r\n     <g id=\"line2d_12\">\r\n      <g>\r\n       <use style=\"stroke:#000000;stroke-width:0.8;\" x=\"231.1615\" xlink:href=\"#m9be048565e\" y=\"131.754556\"/>\r\n      </g>\r\n     </g>\r\n     <g id=\"text_13\">\r\n      <!-- 15 -->\r\n      <g transform=\"translate(238.1615 135.553774)scale(0.1 -0.1)\">\r\n       <use xlink:href=\"#DejaVuSans-49\"/>\r\n       <use x=\"63.623047\" xlink:href=\"#DejaVuSans-53\"/>\r\n      </g>\r\n     </g>\r\n    </g>\r\n    <g id=\"ytick_9\">\r\n     <g id=\"line2d_13\">\r\n      <g>\r\n       <use style=\"stroke:#000000;stroke-width:0.8;\" x=\"231.1615\" xlink:href=\"#m9be048565e\" y=\"98.461931\"/>\r\n      </g>\r\n     </g>\r\n     <g id=\"text_14\">\r\n      <!-- 20 -->\r\n      <g transform=\"translate(238.1615 102.26115)scale(0.1 -0.1)\">\r\n       <use xlink:href=\"#DejaVuSans-50\"/>\r\n       <use x=\"63.623047\" xlink:href=\"#DejaVuSans-48\"/>\r\n      </g>\r\n     </g>\r\n    </g>\r\n    <g id=\"ytick_10\">\r\n     <g id=\"line2d_14\">\r\n      <g>\r\n       <use style=\"stroke:#000000;stroke-width:0.8;\" x=\"231.1615\" xlink:href=\"#m9be048565e\" y=\"65.169306\"/>\r\n      </g>\r\n     </g>\r\n     <g id=\"text_15\">\r\n      <!-- 25 -->\r\n      <g transform=\"translate(238.1615 68.968525)scale(0.1 -0.1)\">\r\n       <use xlink:href=\"#DejaVuSans-50\"/>\r\n       <use x=\"63.623047\" xlink:href=\"#DejaVuSans-53\"/>\r\n      </g>\r\n     </g>\r\n    </g>\r\n    <g id=\"ytick_11\">\r\n     <g id=\"line2d_15\">\r\n      <g>\r\n       <use style=\"stroke:#000000;stroke-width:0.8;\" x=\"231.1615\" xlink:href=\"#m9be048565e\" y=\"31.876682\"/>\r\n      </g>\r\n     </g>\r\n     <g id=\"text_16\">\r\n      <!-- 30 -->\r\n      <g transform=\"translate(238.1615 35.6759)scale(0.1 -0.1)\">\r\n       <use xlink:href=\"#DejaVuSans-51\"/>\r\n       <use x=\"63.623047\" xlink:href=\"#DejaVuSans-48\"/>\r\n      </g>\r\n     </g>\r\n    </g>\r\n   </g>\r\n   <g id=\"patch_8\">\r\n    <path d=\"M 223.0075 175.180092 \r\nL 223.0075 174.543061 \r\nL 223.0075 12.737124 \r\nL 223.0075 12.100092 \r\nL 231.1615 12.100092 \r\nL 231.1615 12.737124 \r\nL 231.1615 174.543061 \r\nL 231.1615 175.180092 \r\nz\r\n\" style=\"fill:none;stroke:#000000;stroke-linejoin:miter;stroke-width:0.8;\"/>\r\n   </g>\r\n  </g>\r\n </g>\r\n <defs>\r\n  <clipPath id=\"p7c31ecfa27\">\r\n   <rect height=\"142.643935\" width=\"178.56\" x=\"33.2875\" y=\"22.318125\"/>\r\n  </clipPath>\r\n  <clipPath id=\"p148f6bf1e1\">\r\n   <rect height=\"163.08\" width=\"8.154\" x=\"223.0075\" y=\"12.100092\"/>\r\n  </clipPath>\r\n </defs>\r\n</svg>\r\n",
      "image/png": "[encoded data removed]"
     },
     "metadata": {
      "needs_background": "light"
     }
    },
    {
     "output_type": "display_data",
     "data": {
      "text/plain": "<Figure size 288x216 with 2 Axes>",
      "image/svg+xml": "<?xml version=\"1.0\" encoding=\"utf-8\" standalone=\"no\"?>\r\n<!DOCTYPE svg PUBLIC \"-//W3C//DTD SVG 1.1//EN\"\r\n  \"http://www.w3.org/Graphics/SVG/1.1/DTD/svg11.dtd\">\r\n<!-- Created with matplotlib (https://matplotlib.org/) -->\r\n<svg height=\"188.840185pt\" version=\"1.1\" viewBox=\"0 0 258.0865 188.840185\" width=\"258.0865pt\" xmlns=\"http://www.w3.org/2000/svg\" xmlns:xlink=\"http://www.w3.org/1999/xlink\">\r\n <metadata>\r\n  <rdf:RDF xmlns:cc=\"http://creativecommons.org/ns#\" xmlns:dc=\"http://purl.org/dc/elements/1.1/\" xmlns:rdf=\"http://www.w3.org/1999/02/22-rdf-syntax-ns#\">\r\n   <cc:Work>\r\n    <dc:type rdf:resource=\"http://purl.org/dc/dcmitype/StillImage\"/>\r\n    <dc:date>2021-02-19T13:55:38.010202</dc:date>\r\n    <dc:format>image/svg+xml</dc:format>\r\n    <dc:creator>\r\n     <cc:Agent>\r\n      <dc:title>Matplotlib v3.3.4, https://matplotlib.org/</dc:title>\r\n     </cc:Agent>\r\n    </dc:creator>\r\n   </cc:Work>\r\n  </rdf:RDF>\r\n </metadata>\r\n <defs>\r\n  <style type=\"text/css\">*{stroke-linecap:butt;stroke-linejoin:round;}</style>\r\n </defs>\r\n <g id=\"figure_1\">\r\n  <g id=\"patch_1\">\r\n   <path d=\"M 0 188.840185 \r\nL 258.0865 188.840185 \r\nL 258.0865 0 \r\nL 0 0 \r\nz\r\n\" style=\"fill:none;\"/>\r\n  </g>\r\n  <g id=\"axes_1\">\r\n   <g id=\"patch_2\">\r\n    <path d=\"M 33.2875 164.96206 \r\nL 211.8475 164.96206 \r\nL 211.8475 22.318125 \r\nL 33.2875 22.318125 \r\nz\r\n\" style=\"fill:#ffffff;\"/>\r\n   </g>\r\n   <g clip-path=\"url(#p9e860ecafd)\">\r\n    <image height=\"143\" id=\"image1d9c7083a5\" transform=\"scale(1 -1)translate(0 -143)\" width=\"179\" x=\"33.2875\" xlink:href=\"data:image/png;base64,\r\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\" y=\"-21.96206\"/>\r\n   </g>\r\n   <g id=\"matplotlib.axis_1\">\r\n    <g id=\"xtick_1\">\r\n     <g id=\"line2d_1\">\r\n      <defs>\r\n       <path d=\"M 0 0 \r\nL 0 3.5 \r\n\" id=\"mc4c3e33a46\" style=\"stroke:#000000;stroke-width:0.8;\"/>\r\n      </defs>\r\n      <g>\r\n       <use style=\"stroke:#000000;stroke-width:0.8;\" x=\"58.796071\" xlink:href=\"#mc4c3e33a46\" y=\"164.96206\"/>\r\n      </g>\r\n     </g>\r\n     <g id=\"text_1\">\r\n      <!-- 400 -->\r\n      <g transform=\"translate(49.252321 179.560497)scale(0.1 -0.1)\">\r\n       <defs>\r\n        <path d=\"M 37.796875 64.3125 \r\nL 12.890625 25.390625 \r\nL 37.796875 25.390625 \r\nz\r\nM 35.203125 72.90625 \r\nL 47.609375 72.90625 \r\nL 47.609375 25.390625 \r\nL 58.015625 25.390625 \r\nL 58.015625 17.1875 \r\nL 47.609375 17.1875 \r\nL 47.609375 0 \r\nL 37.796875 0 \r\nL 37.796875 17.1875 \r\nL 4.890625 17.1875 \r\nL 4.890625 26.703125 \r\nz\r\n\" id=\"DejaVuSans-52\"/>\r\n        <path d=\"M 31.78125 66.40625 \r\nQ 24.171875 66.40625 20.328125 58.90625 \r\nQ 16.5 51.421875 16.5 36.375 \r\nQ 16.5 21.390625 20.328125 13.890625 \r\nQ 24.171875 6.390625 31.78125 6.390625 \r\nQ 39.453125 6.390625 43.28125 13.890625 \r\nQ 47.125 21.390625 47.125 36.375 \r\nQ 47.125 51.421875 43.28125 58.90625 \r\nQ 39.453125 66.40625 31.78125 66.40625 \r\nz\r\nM 31.78125 74.21875 \r\nQ 44.046875 74.21875 50.515625 64.515625 \r\nQ 56.984375 54.828125 56.984375 36.375 \r\nQ 56.984375 17.96875 50.515625 8.265625 \r\nQ 44.046875 -1.421875 31.78125 -1.421875 \r\nQ 19.53125 -1.421875 13.0625 8.265625 \r\nQ 6.59375 17.96875 6.59375 36.375 \r\nQ 6.59375 54.828125 13.0625 64.515625 \r\nQ 19.53125 74.21875 31.78125 74.21875 \r\nz\r\n\" id=\"DejaVuSans-48\"/>\r\n       </defs>\r\n       <use xlink:href=\"#DejaVuSans-52\"/>\r\n       <use x=\"63.623047\" xlink:href=\"#DejaVuSans-48\"/>\r\n       <use x=\"127.246094\" xlink:href=\"#DejaVuSans-48\"/>\r\n      </g>\r\n     </g>\r\n    </g>\r\n    <g id=\"xtick_2\">\r\n     <g id=\"line2d_2\">\r\n      <g>\r\n       <use style=\"stroke:#000000;stroke-width:0.8;\" x=\"109.813214\" xlink:href=\"#mc4c3e33a46\" y=\"164.96206\"/>\r\n      </g>\r\n     </g>\r\n     <g id=\"text_2\">\r\n      <!-- 500 -->\r\n      <g transform=\"translate(100.269464 179.560497)scale(0.1 -0.1)\">\r\n       <defs>\r\n        <path d=\"M 10.796875 72.90625 \r\nL 49.515625 72.90625 \r\nL 49.515625 64.59375 \r\nL 19.828125 64.59375 \r\nL 19.828125 46.734375 \r\nQ 21.96875 47.46875 24.109375 47.828125 \r\nQ 26.265625 48.1875 28.421875 48.1875 \r\nQ 40.625 48.1875 47.75 41.5 \r\nQ 54.890625 34.8125 54.890625 23.390625 \r\nQ 54.890625 11.625 47.5625 5.09375 \r\nQ 40.234375 -1.421875 26.90625 -1.421875 \r\nQ 22.3125 -1.421875 17.546875 -0.640625 \r\nQ 12.796875 0.140625 7.71875 1.703125 \r\nL 7.71875 11.625 \r\nQ 12.109375 9.234375 16.796875 8.0625 \r\nQ 21.484375 6.890625 26.703125 6.890625 \r\nQ 35.15625 6.890625 40.078125 11.328125 \r\nQ 45.015625 15.765625 45.015625 23.390625 \r\nQ 45.015625 31 40.078125 35.4375 \r\nQ 35.15625 39.890625 26.703125 39.890625 \r\nQ 22.75 39.890625 18.8125 39.015625 \r\nQ 14.890625 38.140625 10.796875 36.28125 \r\nz\r\n\" id=\"DejaVuSans-53\"/>\r\n       </defs>\r\n       <use xlink:href=\"#DejaVuSans-53\"/>\r\n       <use x=\"63.623047\" xlink:href=\"#DejaVuSans-48\"/>\r\n       <use x=\"127.246094\" xlink:href=\"#DejaVuSans-48\"/>\r\n      </g>\r\n     </g>\r\n    </g>\r\n    <g id=\"xtick_3\">\r\n     <g id=\"line2d_3\">\r\n      <g>\r\n       <use style=\"stroke:#000000;stroke-width:0.8;\" x=\"160.830357\" xlink:href=\"#mc4c3e33a46\" y=\"164.96206\"/>\r\n      </g>\r\n     </g>\r\n     <g id=\"text_3\">\r\n      <!-- 600 -->\r\n      <g transform=\"translate(151.286607 179.560497)scale(0.1 -0.1)\">\r\n       <defs>\r\n        <path d=\"M 33.015625 40.375 \r\nQ 26.375 40.375 22.484375 35.828125 \r\nQ 18.609375 31.296875 18.609375 23.390625 \r\nQ 18.609375 15.53125 22.484375 10.953125 \r\nQ 26.375 6.390625 33.015625 6.390625 \r\nQ 39.65625 6.390625 43.53125 10.953125 \r\nQ 47.40625 15.53125 47.40625 23.390625 \r\nQ 47.40625 31.296875 43.53125 35.828125 \r\nQ 39.65625 40.375 33.015625 40.375 \r\nz\r\nM 52.59375 71.296875 \r\nL 52.59375 62.3125 \r\nQ 48.875 64.0625 45.09375 64.984375 \r\nQ 41.3125 65.921875 37.59375 65.921875 \r\nQ 27.828125 65.921875 22.671875 59.328125 \r\nQ 17.53125 52.734375 16.796875 39.40625 \r\nQ 19.671875 43.65625 24.015625 45.921875 \r\nQ 28.375 48.1875 33.59375 48.1875 \r\nQ 44.578125 48.1875 50.953125 41.515625 \r\nQ 57.328125 34.859375 57.328125 23.390625 \r\nQ 57.328125 12.15625 50.6875 5.359375 \r\nQ 44.046875 -1.421875 33.015625 -1.421875 \r\nQ 20.359375 -1.421875 13.671875 8.265625 \r\nQ 6.984375 17.96875 6.984375 36.375 \r\nQ 6.984375 53.65625 15.1875 63.9375 \r\nQ 23.390625 74.21875 37.203125 74.21875 \r\nQ 40.921875 74.21875 44.703125 73.484375 \r\nQ 48.484375 72.75 52.59375 71.296875 \r\nz\r\n\" id=\"DejaVuSans-54\"/>\r\n       </defs>\r\n       <use xlink:href=\"#DejaVuSans-54\"/>\r\n       <use x=\"63.623047\" xlink:href=\"#DejaVuSans-48\"/>\r\n       <use x=\"127.246094\" xlink:href=\"#DejaVuSans-48\"/>\r\n      </g>\r\n     </g>\r\n    </g>\r\n    <g id=\"xtick_4\">\r\n     <g id=\"line2d_4\">\r\n      <g>\r\n       <use style=\"stroke:#000000;stroke-width:0.8;\" x=\"211.8475\" xlink:href=\"#mc4c3e33a46\" y=\"164.96206\"/>\r\n      </g>\r\n     </g>\r\n     <g id=\"text_4\">\r\n      <!-- 700 -->\r\n      <g transform=\"translate(202.30375 179.560497)scale(0.1 -0.1)\">\r\n       <defs>\r\n        <path d=\"M 8.203125 72.90625 \r\nL 55.078125 72.90625 \r\nL 55.078125 68.703125 \r\nL 28.609375 0 \r\nL 18.3125 0 \r\nL 43.21875 64.59375 \r\nL 8.203125 64.59375 \r\nz\r\n\" id=\"DejaVuSans-55\"/>\r\n       </defs>\r\n       <use xlink:href=\"#DejaVuSans-55\"/>\r\n       <use x=\"63.623047\" xlink:href=\"#DejaVuSans-48\"/>\r\n       <use x=\"127.246094\" xlink:href=\"#DejaVuSans-48\"/>\r\n      </g>\r\n     </g>\r\n    </g>\r\n   </g>\r\n   <g id=\"matplotlib.axis_2\">\r\n    <g id=\"ytick_1\">\r\n     <g id=\"line2d_5\">\r\n      <defs>\r\n       <path d=\"M 0 0 \r\nL -3.5 0 \r\n\" id=\"m0b0b8c9c86\" style=\"stroke:#000000;stroke-width:0.8;\"/>\r\n      </defs>\r\n      <g>\r\n       <use style=\"stroke:#000000;stroke-width:0.8;\" x=\"33.2875\" xlink:href=\"#m0b0b8c9c86\" y=\"154.758631\"/>\r\n      </g>\r\n     </g>\r\n     <g id=\"text_5\">\r\n      <!-- 50 -->\r\n      <g transform=\"translate(13.5625 158.55785)scale(0.1 -0.1)\">\r\n       <use xlink:href=\"#DejaVuSans-53\"/>\r\n       <use x=\"63.623047\" xlink:href=\"#DejaVuSans-48\"/>\r\n      </g>\r\n     </g>\r\n    </g>\r\n    <g id=\"ytick_2\">\r\n     <g id=\"line2d_6\">\r\n      <g>\r\n       <use style=\"stroke:#000000;stroke-width:0.8;\" x=\"33.2875\" xlink:href=\"#m0b0b8c9c86\" y=\"129.25006\"/>\r\n      </g>\r\n     </g>\r\n     <g id=\"text_6\">\r\n      <!-- 100 -->\r\n      <g transform=\"translate(7.2 133.049278)scale(0.1 -0.1)\">\r\n       <defs>\r\n        <path d=\"M 12.40625 8.296875 \r\nL 28.515625 8.296875 \r\nL 28.515625 63.921875 \r\nL 10.984375 60.40625 \r\nL 10.984375 69.390625 \r\nL 28.421875 72.90625 \r\nL 38.28125 72.90625 \r\nL 38.28125 8.296875 \r\nL 54.390625 8.296875 \r\nL 54.390625 0 \r\nL 12.40625 0 \r\nz\r\n\" id=\"DejaVuSans-49\"/>\r\n       </defs>\r\n       <use xlink:href=\"#DejaVuSans-49\"/>\r\n       <use x=\"63.623047\" xlink:href=\"#DejaVuSans-48\"/>\r\n       <use x=\"127.246094\" xlink:href=\"#DejaVuSans-48\"/>\r\n      </g>\r\n     </g>\r\n    </g>\r\n    <g id=\"ytick_3\">\r\n     <g id=\"line2d_7\">\r\n      <g>\r\n       <use style=\"stroke:#000000;stroke-width:0.8;\" x=\"33.2875\" xlink:href=\"#m0b0b8c9c86\" y=\"103.741488\"/>\r\n      </g>\r\n     </g>\r\n     <g id=\"text_7\">\r\n      <!-- 150 -->\r\n      <g transform=\"translate(7.2 107.540707)scale(0.1 -0.1)\">\r\n       <use xlink:href=\"#DejaVuSans-49\"/>\r\n       <use x=\"63.623047\" xlink:href=\"#DejaVuSans-53\"/>\r\n       <use x=\"127.246094\" xlink:href=\"#DejaVuSans-48\"/>\r\n      </g>\r\n     </g>\r\n    </g>\r\n    <g id=\"ytick_4\">\r\n     <g id=\"line2d_8\">\r\n      <g>\r\n       <use style=\"stroke:#000000;stroke-width:0.8;\" x=\"33.2875\" xlink:href=\"#m0b0b8c9c86\" y=\"78.232917\"/>\r\n      </g>\r\n     </g>\r\n     <g id=\"text_8\">\r\n      <!-- 200 -->\r\n      <g transform=\"translate(7.2 82.032135)scale(0.1 -0.1)\">\r\n       <defs>\r\n        <path d=\"M 19.1875 8.296875 \r\nL 53.609375 8.296875 \r\nL 53.609375 0 \r\nL 7.328125 0 \r\nL 7.328125 8.296875 \r\nQ 12.9375 14.109375 22.625 23.890625 \r\nQ 32.328125 33.6875 34.8125 36.53125 \r\nQ 39.546875 41.84375 41.421875 45.53125 \r\nQ 43.3125 49.21875 43.3125 52.78125 \r\nQ 43.3125 58.59375 39.234375 62.25 \r\nQ 35.15625 65.921875 28.609375 65.921875 \r\nQ 23.96875 65.921875 18.8125 64.3125 \r\nQ 13.671875 62.703125 7.8125 59.421875 \r\nL 7.8125 69.390625 \r\nQ 13.765625 71.78125 18.9375 73 \r\nQ 24.125 74.21875 28.421875 74.21875 \r\nQ 39.75 74.21875 46.484375 68.546875 \r\nQ 53.21875 62.890625 53.21875 53.421875 \r\nQ 53.21875 48.921875 51.53125 44.890625 \r\nQ 49.859375 40.875 45.40625 35.40625 \r\nQ 44.1875 33.984375 37.640625 27.21875 \r\nQ 31.109375 20.453125 19.1875 8.296875 \r\nz\r\n\" id=\"DejaVuSans-50\"/>\r\n       </defs>\r\n       <use xlink:href=\"#DejaVuSans-50\"/>\r\n       <use x=\"63.623047\" xlink:href=\"#DejaVuSans-48\"/>\r\n       <use x=\"127.246094\" xlink:href=\"#DejaVuSans-48\"/>\r\n      </g>\r\n     </g>\r\n    </g>\r\n    <g id=\"ytick_5\">\r\n     <g id=\"line2d_9\">\r\n      <g>\r\n       <use style=\"stroke:#000000;stroke-width:0.8;\" x=\"33.2875\" xlink:href=\"#m0b0b8c9c86\" y=\"52.724345\"/>\r\n      </g>\r\n     </g>\r\n     <g id=\"text_9\">\r\n      <!-- 250 -->\r\n      <g transform=\"translate(7.2 56.523564)scale(0.1 -0.1)\">\r\n       <use xlink:href=\"#DejaVuSans-50\"/>\r\n       <use x=\"63.623047\" xlink:href=\"#DejaVuSans-53\"/>\r\n       <use x=\"127.246094\" xlink:href=\"#DejaVuSans-48\"/>\r\n      </g>\r\n     </g>\r\n    </g>\r\n    <g id=\"ytick_6\">\r\n     <g id=\"line2d_10\">\r\n      <g>\r\n       <use style=\"stroke:#000000;stroke-width:0.8;\" x=\"33.2875\" xlink:href=\"#m0b0b8c9c86\" y=\"27.215774\"/>\r\n      </g>\r\n     </g>\r\n     <g id=\"text_10\">\r\n      <!-- 300 -->\r\n      <g transform=\"translate(7.2 31.014993)scale(0.1 -0.1)\">\r\n       <defs>\r\n        <path d=\"M 40.578125 39.3125 \r\nQ 47.65625 37.796875 51.625 33 \r\nQ 55.609375 28.21875 55.609375 21.1875 \r\nQ 55.609375 10.40625 48.1875 4.484375 \r\nQ 40.765625 -1.421875 27.09375 -1.421875 \r\nQ 22.515625 -1.421875 17.65625 -0.515625 \r\nQ 12.796875 0.390625 7.625 2.203125 \r\nL 7.625 11.71875 \r\nQ 11.71875 9.328125 16.59375 8.109375 \r\nQ 21.484375 6.890625 26.8125 6.890625 \r\nQ 36.078125 6.890625 40.9375 10.546875 \r\nQ 45.796875 14.203125 45.796875 21.1875 \r\nQ 45.796875 27.640625 41.28125 31.265625 \r\nQ 36.765625 34.90625 28.71875 34.90625 \r\nL 20.21875 34.90625 \r\nL 20.21875 43.015625 \r\nL 29.109375 43.015625 \r\nQ 36.375 43.015625 40.234375 45.921875 \r\nQ 44.09375 48.828125 44.09375 54.296875 \r\nQ 44.09375 59.90625 40.109375 62.90625 \r\nQ 36.140625 65.921875 28.71875 65.921875 \r\nQ 24.65625 65.921875 20.015625 65.03125 \r\nQ 15.375 64.15625 9.8125 62.3125 \r\nL 9.8125 71.09375 \r\nQ 15.4375 72.65625 20.34375 73.4375 \r\nQ 25.25 74.21875 29.59375 74.21875 \r\nQ 40.828125 74.21875 47.359375 69.109375 \r\nQ 53.90625 64.015625 53.90625 55.328125 \r\nQ 53.90625 49.265625 50.4375 45.09375 \r\nQ 46.96875 40.921875 40.578125 39.3125 \r\nz\r\n\" id=\"DejaVuSans-51\"/>\r\n       </defs>\r\n       <use xlink:href=\"#DejaVuSans-51\"/>\r\n       <use x=\"63.623047\" xlink:href=\"#DejaVuSans-48\"/>\r\n       <use x=\"127.246094\" xlink:href=\"#DejaVuSans-48\"/>\r\n      </g>\r\n     </g>\r\n    </g>\r\n   </g>\r\n   <g id=\"patch_3\">\r\n    <path d=\"M 33.2875 164.96206 \r\nL 33.2875 22.318125 \r\n\" style=\"fill:none;stroke:#000000;stroke-linecap:square;stroke-linejoin:miter;stroke-width:0.8;\"/>\r\n   </g>\r\n   <g id=\"patch_4\">\r\n    <path d=\"M 211.8475 164.96206 \r\nL 211.8475 22.318125 \r\n\" style=\"fill:none;stroke:#000000;stroke-linecap:square;stroke-linejoin:miter;stroke-width:0.8;\"/>\r\n   </g>\r\n   <g id=\"patch_5\">\r\n    <path d=\"M 33.2875 164.96206 \r\nL 211.8475 164.96206 \r\n\" style=\"fill:none;stroke:#000000;stroke-linecap:square;stroke-linejoin:miter;stroke-width:0.8;\"/>\r\n   </g>\r\n   <g id=\"patch_6\">\r\n    <path d=\"M 33.2875 22.318125 \r\nL 211.8475 22.318125 \r\n\" style=\"fill:none;stroke:#000000;stroke-linecap:square;stroke-linejoin:miter;stroke-width:0.8;\"/>\r\n   </g>\r\n   <g id=\"text_11\">\r\n    <!-- iter 501/1000 -->\r\n    <g transform=\"translate(81.739375 16.318125)scale(0.12 -0.12)\">\r\n     <defs>\r\n      <path d=\"M 9.421875 54.6875 \r\nL 18.40625 54.6875 \r\nL 18.40625 0 \r\nL 9.421875 0 \r\nz\r\nM 9.421875 75.984375 \r\nL 18.40625 75.984375 \r\nL 18.40625 64.59375 \r\nL 9.421875 64.59375 \r\nz\r\n\" id=\"DejaVuSans-105\"/>\r\n      <path d=\"M 18.3125 70.21875 \r\nL 18.3125 54.6875 \r\nL 36.8125 54.6875 \r\nL 36.8125 47.703125 \r\nL 18.3125 47.703125 \r\nL 18.3125 18.015625 \r\nQ 18.3125 11.328125 20.140625 9.421875 \r\nQ 21.96875 7.515625 27.59375 7.515625 \r\nL 36.8125 7.515625 \r\nL 36.8125 0 \r\nL 27.59375 0 \r\nQ 17.1875 0 13.234375 3.875 \r\nQ 9.28125 7.765625 9.28125 18.015625 \r\nL 9.28125 47.703125 \r\nL 2.6875 47.703125 \r\nL 2.6875 54.6875 \r\nL 9.28125 54.6875 \r\nL 9.28125 70.21875 \r\nz\r\n\" id=\"DejaVuSans-116\"/>\r\n      <path d=\"M 56.203125 29.59375 \r\nL 56.203125 25.203125 \r\nL 14.890625 25.203125 \r\nQ 15.484375 15.921875 20.484375 11.0625 \r\nQ 25.484375 6.203125 34.421875 6.203125 \r\nQ 39.59375 6.203125 44.453125 7.46875 \r\nQ 49.3125 8.734375 54.109375 11.28125 \r\nL 54.109375 2.78125 \r\nQ 49.265625 0.734375 44.1875 -0.34375 \r\nQ 39.109375 -1.421875 33.890625 -1.421875 \r\nQ 20.796875 -1.421875 13.15625 6.1875 \r\nQ 5.515625 13.8125 5.515625 26.8125 \r\nQ 5.515625 40.234375 12.765625 48.109375 \r\nQ 20.015625 56 32.328125 56 \r\nQ 43.359375 56 49.78125 48.890625 \r\nQ 56.203125 41.796875 56.203125 29.59375 \r\nz\r\nM 47.21875 32.234375 \r\nQ 47.125 39.59375 43.09375 43.984375 \r\nQ 39.0625 48.390625 32.421875 48.390625 \r\nQ 24.90625 48.390625 20.390625 44.140625 \r\nQ 15.875 39.890625 15.1875 32.171875 \r\nz\r\n\" id=\"DejaVuSans-101\"/>\r\n      <path d=\"M 41.109375 46.296875 \r\nQ 39.59375 47.171875 37.8125 47.578125 \r\nQ 36.03125 48 33.890625 48 \r\nQ 26.265625 48 22.1875 43.046875 \r\nQ 18.109375 38.09375 18.109375 28.8125 \r\nL 18.109375 0 \r\nL 9.078125 0 \r\nL 9.078125 54.6875 \r\nL 18.109375 54.6875 \r\nL 18.109375 46.1875 \r\nQ 20.953125 51.171875 25.484375 53.578125 \r\nQ 30.03125 56 36.53125 56 \r\nQ 37.453125 56 38.578125 55.875 \r\nQ 39.703125 55.765625 41.0625 55.515625 \r\nz\r\n\" id=\"DejaVuSans-114\"/>\r\n      <path id=\"DejaVuSans-32\"/>\r\n      <path d=\"M 25.390625 72.90625 \r\nL 33.6875 72.90625 \r\nL 8.296875 -9.28125 \r\nL 0 -9.28125 \r\nz\r\n\" id=\"DejaVuSans-47\"/>\r\n     </defs>\r\n     <use xlink:href=\"#DejaVuSans-105\"/>\r\n     <use x=\"27.783203\" xlink:href=\"#DejaVuSans-116\"/>\r\n     <use x=\"66.992188\" xlink:href=\"#DejaVuSans-101\"/>\r\n     <use x=\"128.515625\" xlink:href=\"#DejaVuSans-114\"/>\r\n     <use x=\"169.628906\" xlink:href=\"#DejaVuSans-32\"/>\r\n     <use x=\"201.416016\" xlink:href=\"#DejaVuSans-53\"/>\r\n     <use x=\"265.039062\" xlink:href=\"#DejaVuSans-48\"/>\r\n     <use x=\"328.662109\" xlink:href=\"#DejaVuSans-49\"/>\r\n     <use x=\"392.285156\" xlink:href=\"#DejaVuSans-47\"/>\r\n     <use x=\"425.976562\" xlink:href=\"#DejaVuSans-49\"/>\r\n     <use x=\"489.599609\" xlink:href=\"#DejaVuSans-48\"/>\r\n     <use x=\"553.222656\" xlink:href=\"#DejaVuSans-48\"/>\r\n     <use x=\"616.845703\" xlink:href=\"#DejaVuSans-48\"/>\r\n    </g>\r\n   </g>\r\n  </g>\r\n  <g id=\"axes_2\">\r\n   <g id=\"patch_7\">\r\n    <path clip-path=\"url(#pc6917192c7)\" d=\"M 223.0075 175.180092 \r\nL 223.0075 174.543061 \r\nL 223.0075 12.737124 \r\nL 223.0075 12.100092 \r\nL 231.1615 12.100092 \r\nL 231.1615 12.737124 \r\nL 231.1615 174.543061 \r\nL 231.1615 175.180092 \r\nz\r\n\" style=\"fill:#ffffff;stroke:#ffffff;stroke-linejoin:miter;stroke-width:0.01;\"/>\r\n   </g>\r\n   <image height=\"163\" id=\"image541f686aa8\" transform=\"scale(1 -1)translate(0 -163)\" width=\"8\" x=\"223\" xlink:href=\"data:image/png;base64,\r\niVBORw0KGgoAAAANSUhEUgAAAAgAAACjCAYAAAC31F+mAAABKUlEQVR4nM3Y0W3DMAyEYYqSvFlm6P57tHU30CeAquG8ivh5d2Qcxe0zvu5YfEa0XJ3HaL2vCyJbldBACBHqIiORw4EC2xShnqRdgHCbsDzf0PBEC89COThqEdxieb7TQiKpIaTh9sKAsLFy0lAW+YDNegG/3SeCqhYcSNJrrxavsFkmMIe6zXrU/x/UA/vwxDQP2Fxe5d4yzbVINNjTgBw2rgciVG2a0MoE5lBvQQJ+kWK0/C0ToCGZgwqy3CLLNrsInRpUwBYMarQyQRpYkFFtwaBo04T8KbdAwXwDgdNsyKEHW4DAfZj5LQ0iyMVsaMGFuUiwSNmUBhIu5ZCaZt3mCQ0icFjBfdDD3NPU0355HDEu/VskYerd4MRNa3RpGIE3Wl0aEhr+ADsnb5Du1rJ2AAAAAElFTkSuQmCC\" y=\"-11\"/>\r\n   <g id=\"matplotlib.axis_3\"/>\r\n   <g id=\"matplotlib.axis_4\">\r\n    <g id=\"ytick_7\">\r\n     <g id=\"line2d_11\">\r\n      <defs>\r\n       <path d=\"M 0 0 \r\nL 3.5 0 \r\n\" id=\"m2fd825c5e9\" style=\"stroke:#000000;stroke-width:0.8;\"/>\r\n      </defs>\r\n      <g>\r\n       <use style=\"stroke:#000000;stroke-width:0.8;\" x=\"231.1615\" xlink:href=\"#m2fd825c5e9\" y=\"163.444976\"/>\r\n      </g>\r\n     </g>\r\n     <g id=\"text_12\">\r\n      <!-- 10 -->\r\n      <g transform=\"translate(238.1615 167.244195)scale(0.1 -0.1)\">\r\n       <use xlink:href=\"#DejaVuSans-49\"/>\r\n       <use x=\"63.623047\" xlink:href=\"#DejaVuSans-48\"/>\r\n      </g>\r\n     </g>\r\n    </g>\r\n    <g id=\"ytick_8\">\r\n     <g id=\"line2d_12\">\r\n      <g>\r\n       <use style=\"stroke:#000000;stroke-width:0.8;\" x=\"231.1615\" xlink:href=\"#m2fd825c5e9\" y=\"130.627502\"/>\r\n      </g>\r\n     </g>\r\n     <g id=\"text_13\">\r\n      <!-- 15 -->\r\n      <g transform=\"translate(238.1615 134.426721)scale(0.1 -0.1)\">\r\n       <use xlink:href=\"#DejaVuSans-49\"/>\r\n       <use x=\"63.623047\" xlink:href=\"#DejaVuSans-53\"/>\r\n      </g>\r\n     </g>\r\n    </g>\r\n    <g id=\"ytick_9\">\r\n     <g id=\"line2d_13\">\r\n      <g>\r\n       <use style=\"stroke:#000000;stroke-width:0.8;\" x=\"231.1615\" xlink:href=\"#m2fd825c5e9\" y=\"97.810029\"/>\r\n      </g>\r\n     </g>\r\n     <g id=\"text_14\">\r\n      <!-- 20 -->\r\n      <g transform=\"translate(238.1615 101.609247)scale(0.1 -0.1)\">\r\n       <use xlink:href=\"#DejaVuSans-50\"/>\r\n       <use x=\"63.623047\" xlink:href=\"#DejaVuSans-48\"/>\r\n      </g>\r\n     </g>\r\n    </g>\r\n    <g id=\"ytick_10\">\r\n     <g id=\"line2d_14\">\r\n      <g>\r\n       <use style=\"stroke:#000000;stroke-width:0.8;\" x=\"231.1615\" xlink:href=\"#m2fd825c5e9\" y=\"64.992555\"/>\r\n      </g>\r\n     </g>\r\n     <g id=\"text_15\">\r\n      <!-- 25 -->\r\n      <g transform=\"translate(238.1615 68.791774)scale(0.1 -0.1)\">\r\n       <use xlink:href=\"#DejaVuSans-50\"/>\r\n       <use x=\"63.623047\" xlink:href=\"#DejaVuSans-53\"/>\r\n      </g>\r\n     </g>\r\n    </g>\r\n    <g id=\"ytick_11\">\r\n     <g id=\"line2d_15\">\r\n      <g>\r\n       <use style=\"stroke:#000000;stroke-width:0.8;\" x=\"231.1615\" xlink:href=\"#m2fd825c5e9\" y=\"32.175081\"/>\r\n      </g>\r\n     </g>\r\n     <g id=\"text_16\">\r\n      <!-- 30 -->\r\n      <g transform=\"translate(238.1615 35.9743)scale(0.1 -0.1)\">\r\n       <use xlink:href=\"#DejaVuSans-51\"/>\r\n       <use x=\"63.623047\" xlink:href=\"#DejaVuSans-48\"/>\r\n      </g>\r\n     </g>\r\n    </g>\r\n   </g>\r\n   <g id=\"patch_8\">\r\n    <path d=\"M 223.0075 175.180092 \r\nL 223.0075 174.543061 \r\nL 223.0075 12.737124 \r\nL 223.0075 12.100092 \r\nL 231.1615 12.100092 \r\nL 231.1615 12.737124 \r\nL 231.1615 174.543061 \r\nL 231.1615 175.180092 \r\nz\r\n\" style=\"fill:none;stroke:#000000;stroke-linejoin:miter;stroke-width:0.8;\"/>\r\n   </g>\r\n  </g>\r\n </g>\r\n <defs>\r\n  <clipPath id=\"p9e860ecafd\">\r\n   <rect height=\"142.643935\" width=\"178.56\" x=\"33.2875\" y=\"22.318125\"/>\r\n  </clipPath>\r\n  <clipPath id=\"pc6917192c7\">\r\n   <rect height=\"163.08\" width=\"8.154\" x=\"223.0075\" y=\"12.100092\"/>\r\n  </clipPath>\r\n </defs>\r\n</svg>\r\n",
      "image/png": "[encoded data removed]"
     },
     "metadata": {
      "needs_background": "light"
     }
    },
    {
     "output_type": "display_data",
     "data": {
      "text/plain": "<Figure size 288x216 with 2 Axes>",
      "image/svg+xml": "<?xml version=\"1.0\" encoding=\"utf-8\" standalone=\"no\"?>\r\n<!DOCTYPE svg PUBLIC \"-//W3C//DTD SVG 1.1//EN\"\r\n  \"http://www.w3.org/Graphics/SVG/1.1/DTD/svg11.dtd\">\r\n<!-- Created with matplotlib (https://matplotlib.org/) -->\r\n<svg height=\"188.840185pt\" version=\"1.1\" viewBox=\"0 0 258.0865 188.840185\" width=\"258.0865pt\" xmlns=\"http://www.w3.org/2000/svg\" xmlns:xlink=\"http://www.w3.org/1999/xlink\">\r\n <metadata>\r\n  <rdf:RDF xmlns:cc=\"http://creativecommons.org/ns#\" xmlns:dc=\"http://purl.org/dc/elements/1.1/\" xmlns:rdf=\"http://www.w3.org/1999/02/22-rdf-syntax-ns#\">\r\n   <cc:Work>\r\n    <dc:type rdf:resource=\"http://purl.org/dc/dcmitype/StillImage\"/>\r\n    <dc:date>2021-02-19T13:55:38.517948</dc:date>\r\n    <dc:format>image/svg+xml</dc:format>\r\n    <dc:creator>\r\n     <cc:Agent>\r\n      <dc:title>Matplotlib v3.3.4, https://matplotlib.org/</dc:title>\r\n     </cc:Agent>\r\n    </dc:creator>\r\n   </cc:Work>\r\n  </rdf:RDF>\r\n </metadata>\r\n <defs>\r\n  <style type=\"text/css\">*{stroke-linecap:butt;stroke-linejoin:round;}</style>\r\n </defs>\r\n <g id=\"figure_1\">\r\n  <g id=\"patch_1\">\r\n   <path d=\"M 0 188.840185 \r\nL 258.0865 188.840185 \r\nL 258.0865 0 \r\nL 0 0 \r\nz\r\n\" style=\"fill:none;\"/>\r\n  </g>\r\n  <g id=\"axes_1\">\r\n   <g id=\"patch_2\">\r\n    <path d=\"M 33.2875 164.96206 \r\nL 211.8475 164.96206 \r\nL 211.8475 22.318125 \r\nL 33.2875 22.318125 \r\nz\r\n\" style=\"fill:#ffffff;\"/>\r\n   </g>\r\n   <g clip-path=\"url(#p73ad73d2e6)\">\r\n    <image height=\"143\" id=\"image0b1cf2894c\" transform=\"scale(1 -1)translate(0 -143)\" width=\"179\" x=\"33.2875\" xlink:href=\"data:image/png;base64,\r\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\" y=\"-21.96206\"/>\r\n   </g>\r\n   <g id=\"matplotlib.axis_1\">\r\n    <g id=\"xtick_1\">\r\n     <g id=\"line2d_1\">\r\n      <defs>\r\n       <path d=\"M 0 0 \r\nL 0 3.5 \r\n\" id=\"mb881b1a7da\" style=\"stroke:#000000;stroke-width:0.8;\"/>\r\n      </defs>\r\n      <g>\r\n       <use style=\"stroke:#000000;stroke-width:0.8;\" x=\"58.796071\" xlink:href=\"#mb881b1a7da\" y=\"164.96206\"/>\r\n      </g>\r\n     </g>\r\n     <g id=\"text_1\">\r\n      <!-- 400 -->\r\n      <g transform=\"translate(49.252321 179.560497)scale(0.1 -0.1)\">\r\n       <defs>\r\n        <path d=\"M 37.796875 64.3125 \r\nL 12.890625 25.390625 \r\nL 37.796875 25.390625 \r\nz\r\nM 35.203125 72.90625 \r\nL 47.609375 72.90625 \r\nL 47.609375 25.390625 \r\nL 58.015625 25.390625 \r\nL 58.015625 17.1875 \r\nL 47.609375 17.1875 \r\nL 47.609375 0 \r\nL 37.796875 0 \r\nL 37.796875 17.1875 \r\nL 4.890625 17.1875 \r\nL 4.890625 26.703125 \r\nz\r\n\" id=\"DejaVuSans-52\"/>\r\n        <path d=\"M 31.78125 66.40625 \r\nQ 24.171875 66.40625 20.328125 58.90625 \r\nQ 16.5 51.421875 16.5 36.375 \r\nQ 16.5 21.390625 20.328125 13.890625 \r\nQ 24.171875 6.390625 31.78125 6.390625 \r\nQ 39.453125 6.390625 43.28125 13.890625 \r\nQ 47.125 21.390625 47.125 36.375 \r\nQ 47.125 51.421875 43.28125 58.90625 \r\nQ 39.453125 66.40625 31.78125 66.40625 \r\nz\r\nM 31.78125 74.21875 \r\nQ 44.046875 74.21875 50.515625 64.515625 \r\nQ 56.984375 54.828125 56.984375 36.375 \r\nQ 56.984375 17.96875 50.515625 8.265625 \r\nQ 44.046875 -1.421875 31.78125 -1.421875 \r\nQ 19.53125 -1.421875 13.0625 8.265625 \r\nQ 6.59375 17.96875 6.59375 36.375 \r\nQ 6.59375 54.828125 13.0625 64.515625 \r\nQ 19.53125 74.21875 31.78125 74.21875 \r\nz\r\n\" id=\"DejaVuSans-48\"/>\r\n       </defs>\r\n       <use xlink:href=\"#DejaVuSans-52\"/>\r\n       <use x=\"63.623047\" xlink:href=\"#DejaVuSans-48\"/>\r\n       <use x=\"127.246094\" xlink:href=\"#DejaVuSans-48\"/>\r\n      </g>\r\n     </g>\r\n    </g>\r\n    <g id=\"xtick_2\">\r\n     <g id=\"line2d_2\">\r\n      <g>\r\n       <use style=\"stroke:#000000;stroke-width:0.8;\" x=\"109.813214\" xlink:href=\"#mb881b1a7da\" y=\"164.96206\"/>\r\n      </g>\r\n     </g>\r\n     <g id=\"text_2\">\r\n      <!-- 500 -->\r\n      <g transform=\"translate(100.269464 179.560497)scale(0.1 -0.1)\">\r\n       <defs>\r\n        <path d=\"M 10.796875 72.90625 \r\nL 49.515625 72.90625 \r\nL 49.515625 64.59375 \r\nL 19.828125 64.59375 \r\nL 19.828125 46.734375 \r\nQ 21.96875 47.46875 24.109375 47.828125 \r\nQ 26.265625 48.1875 28.421875 48.1875 \r\nQ 40.625 48.1875 47.75 41.5 \r\nQ 54.890625 34.8125 54.890625 23.390625 \r\nQ 54.890625 11.625 47.5625 5.09375 \r\nQ 40.234375 -1.421875 26.90625 -1.421875 \r\nQ 22.3125 -1.421875 17.546875 -0.640625 \r\nQ 12.796875 0.140625 7.71875 1.703125 \r\nL 7.71875 11.625 \r\nQ 12.109375 9.234375 16.796875 8.0625 \r\nQ 21.484375 6.890625 26.703125 6.890625 \r\nQ 35.15625 6.890625 40.078125 11.328125 \r\nQ 45.015625 15.765625 45.015625 23.390625 \r\nQ 45.015625 31 40.078125 35.4375 \r\nQ 35.15625 39.890625 26.703125 39.890625 \r\nQ 22.75 39.890625 18.8125 39.015625 \r\nQ 14.890625 38.140625 10.796875 36.28125 \r\nz\r\n\" id=\"DejaVuSans-53\"/>\r\n       </defs>\r\n       <use xlink:href=\"#DejaVuSans-53\"/>\r\n       <use x=\"63.623047\" xlink:href=\"#DejaVuSans-48\"/>\r\n       <use x=\"127.246094\" xlink:href=\"#DejaVuSans-48\"/>\r\n      </g>\r\n     </g>\r\n    </g>\r\n    <g id=\"xtick_3\">\r\n     <g id=\"line2d_3\">\r\n      <g>\r\n       <use style=\"stroke:#000000;stroke-width:0.8;\" x=\"160.830357\" xlink:href=\"#mb881b1a7da\" y=\"164.96206\"/>\r\n      </g>\r\n     </g>\r\n     <g id=\"text_3\">\r\n      <!-- 600 -->\r\n      <g transform=\"translate(151.286607 179.560497)scale(0.1 -0.1)\">\r\n       <defs>\r\n        <path d=\"M 33.015625 40.375 \r\nQ 26.375 40.375 22.484375 35.828125 \r\nQ 18.609375 31.296875 18.609375 23.390625 \r\nQ 18.609375 15.53125 22.484375 10.953125 \r\nQ 26.375 6.390625 33.015625 6.390625 \r\nQ 39.65625 6.390625 43.53125 10.953125 \r\nQ 47.40625 15.53125 47.40625 23.390625 \r\nQ 47.40625 31.296875 43.53125 35.828125 \r\nQ 39.65625 40.375 33.015625 40.375 \r\nz\r\nM 52.59375 71.296875 \r\nL 52.59375 62.3125 \r\nQ 48.875 64.0625 45.09375 64.984375 \r\nQ 41.3125 65.921875 37.59375 65.921875 \r\nQ 27.828125 65.921875 22.671875 59.328125 \r\nQ 17.53125 52.734375 16.796875 39.40625 \r\nQ 19.671875 43.65625 24.015625 45.921875 \r\nQ 28.375 48.1875 33.59375 48.1875 \r\nQ 44.578125 48.1875 50.953125 41.515625 \r\nQ 57.328125 34.859375 57.328125 23.390625 \r\nQ 57.328125 12.15625 50.6875 5.359375 \r\nQ 44.046875 -1.421875 33.015625 -1.421875 \r\nQ 20.359375 -1.421875 13.671875 8.265625 \r\nQ 6.984375 17.96875 6.984375 36.375 \r\nQ 6.984375 53.65625 15.1875 63.9375 \r\nQ 23.390625 74.21875 37.203125 74.21875 \r\nQ 40.921875 74.21875 44.703125 73.484375 \r\nQ 48.484375 72.75 52.59375 71.296875 \r\nz\r\n\" id=\"DejaVuSans-54\"/>\r\n       </defs>\r\n       <use xlink:href=\"#DejaVuSans-54\"/>\r\n       <use x=\"63.623047\" xlink:href=\"#DejaVuSans-48\"/>\r\n       <use x=\"127.246094\" xlink:href=\"#DejaVuSans-48\"/>\r\n      </g>\r\n     </g>\r\n    </g>\r\n    <g id=\"xtick_4\">\r\n     <g id=\"line2d_4\">\r\n      <g>\r\n       <use style=\"stroke:#000000;stroke-width:0.8;\" x=\"211.8475\" xlink:href=\"#mb881b1a7da\" y=\"164.96206\"/>\r\n      </g>\r\n     </g>\r\n     <g id=\"text_4\">\r\n      <!-- 700 -->\r\n      <g transform=\"translate(202.30375 179.560497)scale(0.1 -0.1)\">\r\n       <defs>\r\n        <path d=\"M 8.203125 72.90625 \r\nL 55.078125 72.90625 \r\nL 55.078125 68.703125 \r\nL 28.609375 0 \r\nL 18.3125 0 \r\nL 43.21875 64.59375 \r\nL 8.203125 64.59375 \r\nz\r\n\" id=\"DejaVuSans-55\"/>\r\n       </defs>\r\n       <use xlink:href=\"#DejaVuSans-55\"/>\r\n       <use x=\"63.623047\" xlink:href=\"#DejaVuSans-48\"/>\r\n       <use x=\"127.246094\" xlink:href=\"#DejaVuSans-48\"/>\r\n      </g>\r\n     </g>\r\n    </g>\r\n   </g>\r\n   <g id=\"matplotlib.axis_2\">\r\n    <g id=\"ytick_1\">\r\n     <g id=\"line2d_5\">\r\n      <defs>\r\n       <path d=\"M 0 0 \r\nL -3.5 0 \r\n\" id=\"ma724493f42\" style=\"stroke:#000000;stroke-width:0.8;\"/>\r\n      </defs>\r\n      <g>\r\n       <use style=\"stroke:#000000;stroke-width:0.8;\" x=\"33.2875\" xlink:href=\"#ma724493f42\" y=\"154.758631\"/>\r\n      </g>\r\n     </g>\r\n     <g id=\"text_5\">\r\n      <!-- 50 -->\r\n      <g transform=\"translate(13.5625 158.55785)scale(0.1 -0.1)\">\r\n       <use xlink:href=\"#DejaVuSans-53\"/>\r\n       <use x=\"63.623047\" xlink:href=\"#DejaVuSans-48\"/>\r\n      </g>\r\n     </g>\r\n    </g>\r\n    <g id=\"ytick_2\">\r\n     <g id=\"line2d_6\">\r\n      <g>\r\n       <use style=\"stroke:#000000;stroke-width:0.8;\" x=\"33.2875\" xlink:href=\"#ma724493f42\" y=\"129.25006\"/>\r\n      </g>\r\n     </g>\r\n     <g id=\"text_6\">\r\n      <!-- 100 -->\r\n      <g transform=\"translate(7.2 133.049278)scale(0.1 -0.1)\">\r\n       <defs>\r\n        <path d=\"M 12.40625 8.296875 \r\nL 28.515625 8.296875 \r\nL 28.515625 63.921875 \r\nL 10.984375 60.40625 \r\nL 10.984375 69.390625 \r\nL 28.421875 72.90625 \r\nL 38.28125 72.90625 \r\nL 38.28125 8.296875 \r\nL 54.390625 8.296875 \r\nL 54.390625 0 \r\nL 12.40625 0 \r\nz\r\n\" id=\"DejaVuSans-49\"/>\r\n       </defs>\r\n       <use xlink:href=\"#DejaVuSans-49\"/>\r\n       <use x=\"63.623047\" xlink:href=\"#DejaVuSans-48\"/>\r\n       <use x=\"127.246094\" xlink:href=\"#DejaVuSans-48\"/>\r\n      </g>\r\n     </g>\r\n    </g>\r\n    <g id=\"ytick_3\">\r\n     <g id=\"line2d_7\">\r\n      <g>\r\n       <use style=\"stroke:#000000;stroke-width:0.8;\" x=\"33.2875\" xlink:href=\"#ma724493f42\" y=\"103.741488\"/>\r\n      </g>\r\n     </g>\r\n     <g id=\"text_7\">\r\n      <!-- 150 -->\r\n      <g transform=\"translate(7.2 107.540707)scale(0.1 -0.1)\">\r\n       <use xlink:href=\"#DejaVuSans-49\"/>\r\n       <use x=\"63.623047\" xlink:href=\"#DejaVuSans-53\"/>\r\n       <use x=\"127.246094\" xlink:href=\"#DejaVuSans-48\"/>\r\n      </g>\r\n     </g>\r\n    </g>\r\n    <g id=\"ytick_4\">\r\n     <g id=\"line2d_8\">\r\n      <g>\r\n       <use style=\"stroke:#000000;stroke-width:0.8;\" x=\"33.2875\" xlink:href=\"#ma724493f42\" y=\"78.232917\"/>\r\n      </g>\r\n     </g>\r\n     <g id=\"text_8\">\r\n      <!-- 200 -->\r\n      <g transform=\"translate(7.2 82.032135)scale(0.1 -0.1)\">\r\n       <defs>\r\n        <path d=\"M 19.1875 8.296875 \r\nL 53.609375 8.296875 \r\nL 53.609375 0 \r\nL 7.328125 0 \r\nL 7.328125 8.296875 \r\nQ 12.9375 14.109375 22.625 23.890625 \r\nQ 32.328125 33.6875 34.8125 36.53125 \r\nQ 39.546875 41.84375 41.421875 45.53125 \r\nQ 43.3125 49.21875 43.3125 52.78125 \r\nQ 43.3125 58.59375 39.234375 62.25 \r\nQ 35.15625 65.921875 28.609375 65.921875 \r\nQ 23.96875 65.921875 18.8125 64.3125 \r\nQ 13.671875 62.703125 7.8125 59.421875 \r\nL 7.8125 69.390625 \r\nQ 13.765625 71.78125 18.9375 73 \r\nQ 24.125 74.21875 28.421875 74.21875 \r\nQ 39.75 74.21875 46.484375 68.546875 \r\nQ 53.21875 62.890625 53.21875 53.421875 \r\nQ 53.21875 48.921875 51.53125 44.890625 \r\nQ 49.859375 40.875 45.40625 35.40625 \r\nQ 44.1875 33.984375 37.640625 27.21875 \r\nQ 31.109375 20.453125 19.1875 8.296875 \r\nz\r\n\" id=\"DejaVuSans-50\"/>\r\n       </defs>\r\n       <use xlink:href=\"#DejaVuSans-50\"/>\r\n       <use x=\"63.623047\" xlink:href=\"#DejaVuSans-48\"/>\r\n       <use x=\"127.246094\" xlink:href=\"#DejaVuSans-48\"/>\r\n      </g>\r\n     </g>\r\n    </g>\r\n    <g id=\"ytick_5\">\r\n     <g id=\"line2d_9\">\r\n      <g>\r\n       <use style=\"stroke:#000000;stroke-width:0.8;\" x=\"33.2875\" xlink:href=\"#ma724493f42\" y=\"52.724345\"/>\r\n      </g>\r\n     </g>\r\n     <g id=\"text_9\">\r\n      <!-- 250 -->\r\n      <g transform=\"translate(7.2 56.523564)scale(0.1 -0.1)\">\r\n       <use xlink:href=\"#DejaVuSans-50\"/>\r\n       <use x=\"63.623047\" xlink:href=\"#DejaVuSans-53\"/>\r\n       <use x=\"127.246094\" xlink:href=\"#DejaVuSans-48\"/>\r\n      </g>\r\n     </g>\r\n    </g>\r\n    <g id=\"ytick_6\">\r\n     <g id=\"line2d_10\">\r\n      <g>\r\n       <use style=\"stroke:#000000;stroke-width:0.8;\" x=\"33.2875\" xlink:href=\"#ma724493f42\" y=\"27.215774\"/>\r\n      </g>\r\n     </g>\r\n     <g id=\"text_10\">\r\n      <!-- 300 -->\r\n      <g transform=\"translate(7.2 31.014993)scale(0.1 -0.1)\">\r\n       <defs>\r\n        <path d=\"M 40.578125 39.3125 \r\nQ 47.65625 37.796875 51.625 33 \r\nQ 55.609375 28.21875 55.609375 21.1875 \r\nQ 55.609375 10.40625 48.1875 4.484375 \r\nQ 40.765625 -1.421875 27.09375 -1.421875 \r\nQ 22.515625 -1.421875 17.65625 -0.515625 \r\nQ 12.796875 0.390625 7.625 2.203125 \r\nL 7.625 11.71875 \r\nQ 11.71875 9.328125 16.59375 8.109375 \r\nQ 21.484375 6.890625 26.8125 6.890625 \r\nQ 36.078125 6.890625 40.9375 10.546875 \r\nQ 45.796875 14.203125 45.796875 21.1875 \r\nQ 45.796875 27.640625 41.28125 31.265625 \r\nQ 36.765625 34.90625 28.71875 34.90625 \r\nL 20.21875 34.90625 \r\nL 20.21875 43.015625 \r\nL 29.109375 43.015625 \r\nQ 36.375 43.015625 40.234375 45.921875 \r\nQ 44.09375 48.828125 44.09375 54.296875 \r\nQ 44.09375 59.90625 40.109375 62.90625 \r\nQ 36.140625 65.921875 28.71875 65.921875 \r\nQ 24.65625 65.921875 20.015625 65.03125 \r\nQ 15.375 64.15625 9.8125 62.3125 \r\nL 9.8125 71.09375 \r\nQ 15.4375 72.65625 20.34375 73.4375 \r\nQ 25.25 74.21875 29.59375 74.21875 \r\nQ 40.828125 74.21875 47.359375 69.109375 \r\nQ 53.90625 64.015625 53.90625 55.328125 \r\nQ 53.90625 49.265625 50.4375 45.09375 \r\nQ 46.96875 40.921875 40.578125 39.3125 \r\nz\r\n\" id=\"DejaVuSans-51\"/>\r\n       </defs>\r\n       <use xlink:href=\"#DejaVuSans-51\"/>\r\n       <use x=\"63.623047\" xlink:href=\"#DejaVuSans-48\"/>\r\n       <use x=\"127.246094\" xlink:href=\"#DejaVuSans-48\"/>\r\n      </g>\r\n     </g>\r\n    </g>\r\n   </g>\r\n   <g id=\"patch_3\">\r\n    <path d=\"M 33.2875 164.96206 \r\nL 33.2875 22.318125 \r\n\" style=\"fill:none;stroke:#000000;stroke-linecap:square;stroke-linejoin:miter;stroke-width:0.8;\"/>\r\n   </g>\r\n   <g id=\"patch_4\">\r\n    <path d=\"M 211.8475 164.96206 \r\nL 211.8475 22.318125 \r\n\" style=\"fill:none;stroke:#000000;stroke-linecap:square;stroke-linejoin:miter;stroke-width:0.8;\"/>\r\n   </g>\r\n   <g id=\"patch_5\">\r\n    <path d=\"M 33.2875 164.96206 \r\nL 211.8475 164.96206 \r\n\" style=\"fill:none;stroke:#000000;stroke-linecap:square;stroke-linejoin:miter;stroke-width:0.8;\"/>\r\n   </g>\r\n   <g id=\"patch_6\">\r\n    <path d=\"M 33.2875 22.318125 \r\nL 211.8475 22.318125 \r\n\" style=\"fill:none;stroke:#000000;stroke-linecap:square;stroke-linejoin:miter;stroke-width:0.8;\"/>\r\n   </g>\r\n   <g id=\"text_11\">\r\n    <!-- iter 601/1000 -->\r\n    <g transform=\"translate(81.739375 16.318125)scale(0.12 -0.12)\">\r\n     <defs>\r\n      <path d=\"M 9.421875 54.6875 \r\nL 18.40625 54.6875 \r\nL 18.40625 0 \r\nL 9.421875 0 \r\nz\r\nM 9.421875 75.984375 \r\nL 18.40625 75.984375 \r\nL 18.40625 64.59375 \r\nL 9.421875 64.59375 \r\nz\r\n\" id=\"DejaVuSans-105\"/>\r\n      <path d=\"M 18.3125 70.21875 \r\nL 18.3125 54.6875 \r\nL 36.8125 54.6875 \r\nL 36.8125 47.703125 \r\nL 18.3125 47.703125 \r\nL 18.3125 18.015625 \r\nQ 18.3125 11.328125 20.140625 9.421875 \r\nQ 21.96875 7.515625 27.59375 7.515625 \r\nL 36.8125 7.515625 \r\nL 36.8125 0 \r\nL 27.59375 0 \r\nQ 17.1875 0 13.234375 3.875 \r\nQ 9.28125 7.765625 9.28125 18.015625 \r\nL 9.28125 47.703125 \r\nL 2.6875 47.703125 \r\nL 2.6875 54.6875 \r\nL 9.28125 54.6875 \r\nL 9.28125 70.21875 \r\nz\r\n\" id=\"DejaVuSans-116\"/>\r\n      <path d=\"M 56.203125 29.59375 \r\nL 56.203125 25.203125 \r\nL 14.890625 25.203125 \r\nQ 15.484375 15.921875 20.484375 11.0625 \r\nQ 25.484375 6.203125 34.421875 6.203125 \r\nQ 39.59375 6.203125 44.453125 7.46875 \r\nQ 49.3125 8.734375 54.109375 11.28125 \r\nL 54.109375 2.78125 \r\nQ 49.265625 0.734375 44.1875 -0.34375 \r\nQ 39.109375 -1.421875 33.890625 -1.421875 \r\nQ 20.796875 -1.421875 13.15625 6.1875 \r\nQ 5.515625 13.8125 5.515625 26.8125 \r\nQ 5.515625 40.234375 12.765625 48.109375 \r\nQ 20.015625 56 32.328125 56 \r\nQ 43.359375 56 49.78125 48.890625 \r\nQ 56.203125 41.796875 56.203125 29.59375 \r\nz\r\nM 47.21875 32.234375 \r\nQ 47.125 39.59375 43.09375 43.984375 \r\nQ 39.0625 48.390625 32.421875 48.390625 \r\nQ 24.90625 48.390625 20.390625 44.140625 \r\nQ 15.875 39.890625 15.1875 32.171875 \r\nz\r\n\" id=\"DejaVuSans-101\"/>\r\n      <path d=\"M 41.109375 46.296875 \r\nQ 39.59375 47.171875 37.8125 47.578125 \r\nQ 36.03125 48 33.890625 48 \r\nQ 26.265625 48 22.1875 43.046875 \r\nQ 18.109375 38.09375 18.109375 28.8125 \r\nL 18.109375 0 \r\nL 9.078125 0 \r\nL 9.078125 54.6875 \r\nL 18.109375 54.6875 \r\nL 18.109375 46.1875 \r\nQ 20.953125 51.171875 25.484375 53.578125 \r\nQ 30.03125 56 36.53125 56 \r\nQ 37.453125 56 38.578125 55.875 \r\nQ 39.703125 55.765625 41.0625 55.515625 \r\nz\r\n\" id=\"DejaVuSans-114\"/>\r\n      <path id=\"DejaVuSans-32\"/>\r\n      <path d=\"M 25.390625 72.90625 \r\nL 33.6875 72.90625 \r\nL 8.296875 -9.28125 \r\nL 0 -9.28125 \r\nz\r\n\" id=\"DejaVuSans-47\"/>\r\n     </defs>\r\n     <use xlink:href=\"#DejaVuSans-105\"/>\r\n     <use x=\"27.783203\" xlink:href=\"#DejaVuSans-116\"/>\r\n     <use x=\"66.992188\" xlink:href=\"#DejaVuSans-101\"/>\r\n     <use x=\"128.515625\" xlink:href=\"#DejaVuSans-114\"/>\r\n     <use x=\"169.628906\" xlink:href=\"#DejaVuSans-32\"/>\r\n     <use x=\"201.416016\" xlink:href=\"#DejaVuSans-54\"/>\r\n     <use x=\"265.039062\" xlink:href=\"#DejaVuSans-48\"/>\r\n     <use x=\"328.662109\" xlink:href=\"#DejaVuSans-49\"/>\r\n     <use x=\"392.285156\" xlink:href=\"#DejaVuSans-47\"/>\r\n     <use x=\"425.976562\" xlink:href=\"#DejaVuSans-49\"/>\r\n     <use x=\"489.599609\" xlink:href=\"#DejaVuSans-48\"/>\r\n     <use x=\"553.222656\" xlink:href=\"#DejaVuSans-48\"/>\r\n     <use x=\"616.845703\" xlink:href=\"#DejaVuSans-48\"/>\r\n    </g>\r\n   </g>\r\n  </g>\r\n  <g id=\"axes_2\">\r\n   <g id=\"patch_7\">\r\n    <path clip-path=\"url(#pcc7b2b6351)\" d=\"M 223.0075 175.180092 \r\nL 223.0075 174.543061 \r\nL 223.0075 12.737124 \r\nL 223.0075 12.100092 \r\nL 231.1615 12.100092 \r\nL 231.1615 12.737124 \r\nL 231.1615 174.543061 \r\nL 231.1615 175.180092 \r\nz\r\n\" style=\"fill:#ffffff;stroke:#ffffff;stroke-linejoin:miter;stroke-width:0.01;\"/>\r\n   </g>\r\n   <image height=\"163\" id=\"image20645d3aa0\" transform=\"scale(1 -1)translate(0 -163)\" width=\"8\" x=\"223\" xlink:href=\"data:image/png;base64,\r\niVBORw0KGgoAAAANSUhEUgAAAAgAAACjCAYAAAC31F+mAAABKUlEQVR4nM3Y0W3DMAyEYYqSvFlm6P57tHU30CeAquG8ivh5d2Qcxe0zvu5YfEa0XJ3HaL2vCyJbldBACBHqIiORw4EC2xShnqRdgHCbsDzf0PBEC89COThqEdxieb7TQiKpIaTh9sKAsLFy0lAW+YDNegG/3SeCqhYcSNJrrxavsFkmMIe6zXrU/x/UA/vwxDQP2Fxe5d4yzbVINNjTgBw2rgciVG2a0MoE5lBvQQJ+kWK0/C0ToCGZgwqy3CLLNrsInRpUwBYMarQyQRpYkFFtwaBo04T8KbdAwXwDgdNsyKEHW4DAfZj5LQ0iyMVsaMGFuUiwSNmUBhIu5ZCaZt3mCQ0icFjBfdDD3NPU0355HDEu/VskYerd4MRNa3RpGIE3Wl0aEhr+ADsnb5Du1rJ2AAAAAElFTkSuQmCC\" y=\"-11\"/>\r\n   <g id=\"matplotlib.axis_3\"/>\r\n   <g id=\"matplotlib.axis_4\">\r\n    <g id=\"ytick_7\">\r\n     <g id=\"line2d_11\">\r\n      <defs>\r\n       <path d=\"M 0 0 \r\nL 3.5 0 \r\n\" id=\"m9ea6bd2f11\" style=\"stroke:#000000;stroke-width:0.8;\"/>\r\n      </defs>\r\n      <g>\r\n       <use style=\"stroke:#000000;stroke-width:0.8;\" x=\"231.1615\" xlink:href=\"#m9ea6bd2f11\" y=\"161.602842\"/>\r\n      </g>\r\n     </g>\r\n     <g id=\"text_12\">\r\n      <!-- 10 -->\r\n      <g transform=\"translate(238.1615 165.402061)scale(0.1 -0.1)\">\r\n       <use xlink:href=\"#DejaVuSans-49\"/>\r\n       <use x=\"63.623047\" xlink:href=\"#DejaVuSans-48\"/>\r\n      </g>\r\n     </g>\r\n    </g>\r\n    <g id=\"ytick_8\">\r\n     <g id=\"line2d_12\">\r\n      <g>\r\n       <use style=\"stroke:#000000;stroke-width:0.8;\" x=\"231.1615\" xlink:href=\"#m9ea6bd2f11\" y=\"129.356108\"/>\r\n      </g>\r\n     </g>\r\n     <g id=\"text_13\">\r\n      <!-- 15 -->\r\n      <g transform=\"translate(238.1615 133.155327)scale(0.1 -0.1)\">\r\n       <use xlink:href=\"#DejaVuSans-49\"/>\r\n       <use x=\"63.623047\" xlink:href=\"#DejaVuSans-53\"/>\r\n      </g>\r\n     </g>\r\n    </g>\r\n    <g id=\"ytick_9\">\r\n     <g id=\"line2d_13\">\r\n      <g>\r\n       <use style=\"stroke:#000000;stroke-width:0.8;\" x=\"231.1615\" xlink:href=\"#m9ea6bd2f11\" y=\"97.109374\"/>\r\n      </g>\r\n     </g>\r\n     <g id=\"text_14\">\r\n      <!-- 20 -->\r\n      <g transform=\"translate(238.1615 100.908593)scale(0.1 -0.1)\">\r\n       <use xlink:href=\"#DejaVuSans-50\"/>\r\n       <use x=\"63.623047\" xlink:href=\"#DejaVuSans-48\"/>\r\n      </g>\r\n     </g>\r\n    </g>\r\n    <g id=\"ytick_10\">\r\n     <g id=\"line2d_14\">\r\n      <g>\r\n       <use style=\"stroke:#000000;stroke-width:0.8;\" x=\"231.1615\" xlink:href=\"#m9ea6bd2f11\" y=\"64.86264\"/>\r\n      </g>\r\n     </g>\r\n     <g id=\"text_15\">\r\n      <!-- 25 -->\r\n      <g transform=\"translate(238.1615 68.661859)scale(0.1 -0.1)\">\r\n       <use xlink:href=\"#DejaVuSans-50\"/>\r\n       <use x=\"63.623047\" xlink:href=\"#DejaVuSans-53\"/>\r\n      </g>\r\n     </g>\r\n    </g>\r\n    <g id=\"ytick_11\">\r\n     <g id=\"line2d_15\">\r\n      <g>\r\n       <use style=\"stroke:#000000;stroke-width:0.8;\" x=\"231.1615\" xlink:href=\"#m9ea6bd2f11\" y=\"32.615906\"/>\r\n      </g>\r\n     </g>\r\n     <g id=\"text_16\">\r\n      <!-- 30 -->\r\n      <g transform=\"translate(238.1615 36.415125)scale(0.1 -0.1)\">\r\n       <use xlink:href=\"#DejaVuSans-51\"/>\r\n       <use x=\"63.623047\" xlink:href=\"#DejaVuSans-48\"/>\r\n      </g>\r\n     </g>\r\n    </g>\r\n   </g>\r\n   <g id=\"patch_8\">\r\n    <path d=\"M 223.0075 175.180092 \r\nL 223.0075 174.543061 \r\nL 223.0075 12.737124 \r\nL 223.0075 12.100092 \r\nL 231.1615 12.100092 \r\nL 231.1615 12.737124 \r\nL 231.1615 174.543061 \r\nL 231.1615 175.180092 \r\nz\r\n\" style=\"fill:none;stroke:#000000;stroke-linejoin:miter;stroke-width:0.8;\"/>\r\n   </g>\r\n  </g>\r\n </g>\r\n <defs>\r\n  <clipPath id=\"p73ad73d2e6\">\r\n   <rect height=\"142.643935\" width=\"178.56\" x=\"33.2875\" y=\"22.318125\"/>\r\n  </clipPath>\r\n  <clipPath id=\"pcc7b2b6351\">\r\n   <rect height=\"163.08\" width=\"8.154\" x=\"223.0075\" y=\"12.100092\"/>\r\n  </clipPath>\r\n </defs>\r\n</svg>\r\n",
      "image/png": "[encoded data removed]"
     },
     "metadata": {
      "needs_background": "light"
     }
    },
    {
     "output_type": "display_data",
     "data": {
      "text/plain": "<Figure size 288x216 with 2 Axes>",
      "image/svg+xml": "<?xml version=\"1.0\" encoding=\"utf-8\" standalone=\"no\"?>\r\n<!DOCTYPE svg PUBLIC \"-//W3C//DTD SVG 1.1//EN\"\r\n  \"http://www.w3.org/Graphics/SVG/1.1/DTD/svg11.dtd\">\r\n<!-- Created with matplotlib (https://matplotlib.org/) -->\r\n<svg height=\"188.840185pt\" version=\"1.1\" viewBox=\"0 0 258.0865 188.840185\" width=\"258.0865pt\" xmlns=\"http://www.w3.org/2000/svg\" xmlns:xlink=\"http://www.w3.org/1999/xlink\">\r\n <metadata>\r\n  <rdf:RDF xmlns:cc=\"http://creativecommons.org/ns#\" xmlns:dc=\"http://purl.org/dc/elements/1.1/\" xmlns:rdf=\"http://www.w3.org/1999/02/22-rdf-syntax-ns#\">\r\n   <cc:Work>\r\n    <dc:type rdf:resource=\"http://purl.org/dc/dcmitype/StillImage\"/>\r\n    <dc:date>2021-02-19T13:55:39.089194</dc:date>\r\n    <dc:format>image/svg+xml</dc:format>\r\n    <dc:creator>\r\n     <cc:Agent>\r\n      <dc:title>Matplotlib v3.3.4, https://matplotlib.org/</dc:title>\r\n     </cc:Agent>\r\n    </dc:creator>\r\n   </cc:Work>\r\n  </rdf:RDF>\r\n </metadata>\r\n <defs>\r\n  <style type=\"text/css\">*{stroke-linecap:butt;stroke-linejoin:round;}</style>\r\n </defs>\r\n <g id=\"figure_1\">\r\n  <g id=\"patch_1\">\r\n   <path d=\"M 0 188.840185 \r\nL 258.0865 188.840185 \r\nL 258.0865 0 \r\nL 0 0 \r\nz\r\n\" style=\"fill:none;\"/>\r\n  </g>\r\n  <g id=\"axes_1\">\r\n   <g id=\"patch_2\">\r\n    <path d=\"M 33.2875 164.96206 \r\nL 211.8475 164.96206 \r\nL 211.8475 22.318125 \r\nL 33.2875 22.318125 \r\nz\r\n\" style=\"fill:#ffffff;\"/>\r\n   </g>\r\n   <g clip-path=\"url(#paed504daec)\">\r\n    <image height=\"143\" id=\"imagef9ae81d4a0\" transform=\"scale(1 -1)translate(0 -143)\" width=\"179\" x=\"33.2875\" xlink:href=\"data:image/png;base64,\r\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\" y=\"-21.96206\"/>\r\n   </g>\r\n   <g id=\"matplotlib.axis_1\">\r\n    <g id=\"xtick_1\">\r\n     <g id=\"line2d_1\">\r\n      <defs>\r\n       <path d=\"M 0 0 \r\nL 0 3.5 \r\n\" id=\"m3ce0b5c735\" style=\"stroke:#000000;stroke-width:0.8;\"/>\r\n      </defs>\r\n      <g>\r\n       <use style=\"stroke:#000000;stroke-width:0.8;\" x=\"58.796071\" xlink:href=\"#m3ce0b5c735\" y=\"164.96206\"/>\r\n      </g>\r\n     </g>\r\n     <g id=\"text_1\">\r\n      <!-- 400 -->\r\n      <g transform=\"translate(49.252321 179.560497)scale(0.1 -0.1)\">\r\n       <defs>\r\n        <path d=\"M 37.796875 64.3125 \r\nL 12.890625 25.390625 \r\nL 37.796875 25.390625 \r\nz\r\nM 35.203125 72.90625 \r\nL 47.609375 72.90625 \r\nL 47.609375 25.390625 \r\nL 58.015625 25.390625 \r\nL 58.015625 17.1875 \r\nL 47.609375 17.1875 \r\nL 47.609375 0 \r\nL 37.796875 0 \r\nL 37.796875 17.1875 \r\nL 4.890625 17.1875 \r\nL 4.890625 26.703125 \r\nz\r\n\" id=\"DejaVuSans-52\"/>\r\n        <path d=\"M 31.78125 66.40625 \r\nQ 24.171875 66.40625 20.328125 58.90625 \r\nQ 16.5 51.421875 16.5 36.375 \r\nQ 16.5 21.390625 20.328125 13.890625 \r\nQ 24.171875 6.390625 31.78125 6.390625 \r\nQ 39.453125 6.390625 43.28125 13.890625 \r\nQ 47.125 21.390625 47.125 36.375 \r\nQ 47.125 51.421875 43.28125 58.90625 \r\nQ 39.453125 66.40625 31.78125 66.40625 \r\nz\r\nM 31.78125 74.21875 \r\nQ 44.046875 74.21875 50.515625 64.515625 \r\nQ 56.984375 54.828125 56.984375 36.375 \r\nQ 56.984375 17.96875 50.515625 8.265625 \r\nQ 44.046875 -1.421875 31.78125 -1.421875 \r\nQ 19.53125 -1.421875 13.0625 8.265625 \r\nQ 6.59375 17.96875 6.59375 36.375 \r\nQ 6.59375 54.828125 13.0625 64.515625 \r\nQ 19.53125 74.21875 31.78125 74.21875 \r\nz\r\n\" id=\"DejaVuSans-48\"/>\r\n       </defs>\r\n       <use xlink:href=\"#DejaVuSans-52\"/>\r\n       <use x=\"63.623047\" xlink:href=\"#DejaVuSans-48\"/>\r\n       <use x=\"127.246094\" xlink:href=\"#DejaVuSans-48\"/>\r\n      </g>\r\n     </g>\r\n    </g>\r\n    <g id=\"xtick_2\">\r\n     <g id=\"line2d_2\">\r\n      <g>\r\n       <use style=\"stroke:#000000;stroke-width:0.8;\" x=\"109.813214\" xlink:href=\"#m3ce0b5c735\" y=\"164.96206\"/>\r\n      </g>\r\n     </g>\r\n     <g id=\"text_2\">\r\n      <!-- 500 -->\r\n      <g transform=\"translate(100.269464 179.560497)scale(0.1 -0.1)\">\r\n       <defs>\r\n        <path d=\"M 10.796875 72.90625 \r\nL 49.515625 72.90625 \r\nL 49.515625 64.59375 \r\nL 19.828125 64.59375 \r\nL 19.828125 46.734375 \r\nQ 21.96875 47.46875 24.109375 47.828125 \r\nQ 26.265625 48.1875 28.421875 48.1875 \r\nQ 40.625 48.1875 47.75 41.5 \r\nQ 54.890625 34.8125 54.890625 23.390625 \r\nQ 54.890625 11.625 47.5625 5.09375 \r\nQ 40.234375 -1.421875 26.90625 -1.421875 \r\nQ 22.3125 -1.421875 17.546875 -0.640625 \r\nQ 12.796875 0.140625 7.71875 1.703125 \r\nL 7.71875 11.625 \r\nQ 12.109375 9.234375 16.796875 8.0625 \r\nQ 21.484375 6.890625 26.703125 6.890625 \r\nQ 35.15625 6.890625 40.078125 11.328125 \r\nQ 45.015625 15.765625 45.015625 23.390625 \r\nQ 45.015625 31 40.078125 35.4375 \r\nQ 35.15625 39.890625 26.703125 39.890625 \r\nQ 22.75 39.890625 18.8125 39.015625 \r\nQ 14.890625 38.140625 10.796875 36.28125 \r\nz\r\n\" id=\"DejaVuSans-53\"/>\r\n       </defs>\r\n       <use xlink:href=\"#DejaVuSans-53\"/>\r\n       <use x=\"63.623047\" xlink:href=\"#DejaVuSans-48\"/>\r\n       <use x=\"127.246094\" xlink:href=\"#DejaVuSans-48\"/>\r\n      </g>\r\n     </g>\r\n    </g>\r\n    <g id=\"xtick_3\">\r\n     <g id=\"line2d_3\">\r\n      <g>\r\n       <use style=\"stroke:#000000;stroke-width:0.8;\" x=\"160.830357\" xlink:href=\"#m3ce0b5c735\" y=\"164.96206\"/>\r\n      </g>\r\n     </g>\r\n     <g id=\"text_3\">\r\n      <!-- 600 -->\r\n      <g transform=\"translate(151.286607 179.560497)scale(0.1 -0.1)\">\r\n       <defs>\r\n        <path d=\"M 33.015625 40.375 \r\nQ 26.375 40.375 22.484375 35.828125 \r\nQ 18.609375 31.296875 18.609375 23.390625 \r\nQ 18.609375 15.53125 22.484375 10.953125 \r\nQ 26.375 6.390625 33.015625 6.390625 \r\nQ 39.65625 6.390625 43.53125 10.953125 \r\nQ 47.40625 15.53125 47.40625 23.390625 \r\nQ 47.40625 31.296875 43.53125 35.828125 \r\nQ 39.65625 40.375 33.015625 40.375 \r\nz\r\nM 52.59375 71.296875 \r\nL 52.59375 62.3125 \r\nQ 48.875 64.0625 45.09375 64.984375 \r\nQ 41.3125 65.921875 37.59375 65.921875 \r\nQ 27.828125 65.921875 22.671875 59.328125 \r\nQ 17.53125 52.734375 16.796875 39.40625 \r\nQ 19.671875 43.65625 24.015625 45.921875 \r\nQ 28.375 48.1875 33.59375 48.1875 \r\nQ 44.578125 48.1875 50.953125 41.515625 \r\nQ 57.328125 34.859375 57.328125 23.390625 \r\nQ 57.328125 12.15625 50.6875 5.359375 \r\nQ 44.046875 -1.421875 33.015625 -1.421875 \r\nQ 20.359375 -1.421875 13.671875 8.265625 \r\nQ 6.984375 17.96875 6.984375 36.375 \r\nQ 6.984375 53.65625 15.1875 63.9375 \r\nQ 23.390625 74.21875 37.203125 74.21875 \r\nQ 40.921875 74.21875 44.703125 73.484375 \r\nQ 48.484375 72.75 52.59375 71.296875 \r\nz\r\n\" id=\"DejaVuSans-54\"/>\r\n       </defs>\r\n       <use xlink:href=\"#DejaVuSans-54\"/>\r\n       <use x=\"63.623047\" xlink:href=\"#DejaVuSans-48\"/>\r\n       <use x=\"127.246094\" xlink:href=\"#DejaVuSans-48\"/>\r\n      </g>\r\n     </g>\r\n    </g>\r\n    <g id=\"xtick_4\">\r\n     <g id=\"line2d_4\">\r\n      <g>\r\n       <use style=\"stroke:#000000;stroke-width:0.8;\" x=\"211.8475\" xlink:href=\"#m3ce0b5c735\" y=\"164.96206\"/>\r\n      </g>\r\n     </g>\r\n     <g id=\"text_4\">\r\n      <!-- 700 -->\r\n      <g transform=\"translate(202.30375 179.560497)scale(0.1 -0.1)\">\r\n       <defs>\r\n        <path d=\"M 8.203125 72.90625 \r\nL 55.078125 72.90625 \r\nL 55.078125 68.703125 \r\nL 28.609375 0 \r\nL 18.3125 0 \r\nL 43.21875 64.59375 \r\nL 8.203125 64.59375 \r\nz\r\n\" id=\"DejaVuSans-55\"/>\r\n       </defs>\r\n       <use xlink:href=\"#DejaVuSans-55\"/>\r\n       <use x=\"63.623047\" xlink:href=\"#DejaVuSans-48\"/>\r\n       <use x=\"127.246094\" xlink:href=\"#DejaVuSans-48\"/>\r\n      </g>\r\n     </g>\r\n    </g>\r\n   </g>\r\n   <g id=\"matplotlib.axis_2\">\r\n    <g id=\"ytick_1\">\r\n     <g id=\"line2d_5\">\r\n      <defs>\r\n       <path d=\"M 0 0 \r\nL -3.5 0 \r\n\" id=\"mb52b433e1d\" style=\"stroke:#000000;stroke-width:0.8;\"/>\r\n      </defs>\r\n      <g>\r\n       <use style=\"stroke:#000000;stroke-width:0.8;\" x=\"33.2875\" xlink:href=\"#mb52b433e1d\" y=\"154.758631\"/>\r\n      </g>\r\n     </g>\r\n     <g id=\"text_5\">\r\n      <!-- 50 -->\r\n      <g transform=\"translate(13.5625 158.55785)scale(0.1 -0.1)\">\r\n       <use xlink:href=\"#DejaVuSans-53\"/>\r\n       <use x=\"63.623047\" xlink:href=\"#DejaVuSans-48\"/>\r\n      </g>\r\n     </g>\r\n    </g>\r\n    <g id=\"ytick_2\">\r\n     <g id=\"line2d_6\">\r\n      <g>\r\n       <use style=\"stroke:#000000;stroke-width:0.8;\" x=\"33.2875\" xlink:href=\"#mb52b433e1d\" y=\"129.25006\"/>\r\n      </g>\r\n     </g>\r\n     <g id=\"text_6\">\r\n      <!-- 100 -->\r\n      <g transform=\"translate(7.2 133.049278)scale(0.1 -0.1)\">\r\n       <defs>\r\n        <path d=\"M 12.40625 8.296875 \r\nL 28.515625 8.296875 \r\nL 28.515625 63.921875 \r\nL 10.984375 60.40625 \r\nL 10.984375 69.390625 \r\nL 28.421875 72.90625 \r\nL 38.28125 72.90625 \r\nL 38.28125 8.296875 \r\nL 54.390625 8.296875 \r\nL 54.390625 0 \r\nL 12.40625 0 \r\nz\r\n\" id=\"DejaVuSans-49\"/>\r\n       </defs>\r\n       <use xlink:href=\"#DejaVuSans-49\"/>\r\n       <use x=\"63.623047\" xlink:href=\"#DejaVuSans-48\"/>\r\n       <use x=\"127.246094\" xlink:href=\"#DejaVuSans-48\"/>\r\n      </g>\r\n     </g>\r\n    </g>\r\n    <g id=\"ytick_3\">\r\n     <g id=\"line2d_7\">\r\n      <g>\r\n       <use style=\"stroke:#000000;stroke-width:0.8;\" x=\"33.2875\" xlink:href=\"#mb52b433e1d\" y=\"103.741488\"/>\r\n      </g>\r\n     </g>\r\n     <g id=\"text_7\">\r\n      <!-- 150 -->\r\n      <g transform=\"translate(7.2 107.540707)scale(0.1 -0.1)\">\r\n       <use xlink:href=\"#DejaVuSans-49\"/>\r\n       <use x=\"63.623047\" xlink:href=\"#DejaVuSans-53\"/>\r\n       <use x=\"127.246094\" xlink:href=\"#DejaVuSans-48\"/>\r\n      </g>\r\n     </g>\r\n    </g>\r\n    <g id=\"ytick_4\">\r\n     <g id=\"line2d_8\">\r\n      <g>\r\n       <use style=\"stroke:#000000;stroke-width:0.8;\" x=\"33.2875\" xlink:href=\"#mb52b433e1d\" y=\"78.232917\"/>\r\n      </g>\r\n     </g>\r\n     <g id=\"text_8\">\r\n      <!-- 200 -->\r\n      <g transform=\"translate(7.2 82.032135)scale(0.1 -0.1)\">\r\n       <defs>\r\n        <path d=\"M 19.1875 8.296875 \r\nL 53.609375 8.296875 \r\nL 53.609375 0 \r\nL 7.328125 0 \r\nL 7.328125 8.296875 \r\nQ 12.9375 14.109375 22.625 23.890625 \r\nQ 32.328125 33.6875 34.8125 36.53125 \r\nQ 39.546875 41.84375 41.421875 45.53125 \r\nQ 43.3125 49.21875 43.3125 52.78125 \r\nQ 43.3125 58.59375 39.234375 62.25 \r\nQ 35.15625 65.921875 28.609375 65.921875 \r\nQ 23.96875 65.921875 18.8125 64.3125 \r\nQ 13.671875 62.703125 7.8125 59.421875 \r\nL 7.8125 69.390625 \r\nQ 13.765625 71.78125 18.9375 73 \r\nQ 24.125 74.21875 28.421875 74.21875 \r\nQ 39.75 74.21875 46.484375 68.546875 \r\nQ 53.21875 62.890625 53.21875 53.421875 \r\nQ 53.21875 48.921875 51.53125 44.890625 \r\nQ 49.859375 40.875 45.40625 35.40625 \r\nQ 44.1875 33.984375 37.640625 27.21875 \r\nQ 31.109375 20.453125 19.1875 8.296875 \r\nz\r\n\" id=\"DejaVuSans-50\"/>\r\n       </defs>\r\n       <use xlink:href=\"#DejaVuSans-50\"/>\r\n       <use x=\"63.623047\" xlink:href=\"#DejaVuSans-48\"/>\r\n       <use x=\"127.246094\" xlink:href=\"#DejaVuSans-48\"/>\r\n      </g>\r\n     </g>\r\n    </g>\r\n    <g id=\"ytick_5\">\r\n     <g id=\"line2d_9\">\r\n      <g>\r\n       <use style=\"stroke:#000000;stroke-width:0.8;\" x=\"33.2875\" xlink:href=\"#mb52b433e1d\" y=\"52.724345\"/>\r\n      </g>\r\n     </g>\r\n     <g id=\"text_9\">\r\n      <!-- 250 -->\r\n      <g transform=\"translate(7.2 56.523564)scale(0.1 -0.1)\">\r\n       <use xlink:href=\"#DejaVuSans-50\"/>\r\n       <use x=\"63.623047\" xlink:href=\"#DejaVuSans-53\"/>\r\n       <use x=\"127.246094\" xlink:href=\"#DejaVuSans-48\"/>\r\n      </g>\r\n     </g>\r\n    </g>\r\n    <g id=\"ytick_6\">\r\n     <g id=\"line2d_10\">\r\n      <g>\r\n       <use style=\"stroke:#000000;stroke-width:0.8;\" x=\"33.2875\" xlink:href=\"#mb52b433e1d\" y=\"27.215774\"/>\r\n      </g>\r\n     </g>\r\n     <g id=\"text_10\">\r\n      <!-- 300 -->\r\n      <g transform=\"translate(7.2 31.014993)scale(0.1 -0.1)\">\r\n       <defs>\r\n        <path d=\"M 40.578125 39.3125 \r\nQ 47.65625 37.796875 51.625 33 \r\nQ 55.609375 28.21875 55.609375 21.1875 \r\nQ 55.609375 10.40625 48.1875 4.484375 \r\nQ 40.765625 -1.421875 27.09375 -1.421875 \r\nQ 22.515625 -1.421875 17.65625 -0.515625 \r\nQ 12.796875 0.390625 7.625 2.203125 \r\nL 7.625 11.71875 \r\nQ 11.71875 9.328125 16.59375 8.109375 \r\nQ 21.484375 6.890625 26.8125 6.890625 \r\nQ 36.078125 6.890625 40.9375 10.546875 \r\nQ 45.796875 14.203125 45.796875 21.1875 \r\nQ 45.796875 27.640625 41.28125 31.265625 \r\nQ 36.765625 34.90625 28.71875 34.90625 \r\nL 20.21875 34.90625 \r\nL 20.21875 43.015625 \r\nL 29.109375 43.015625 \r\nQ 36.375 43.015625 40.234375 45.921875 \r\nQ 44.09375 48.828125 44.09375 54.296875 \r\nQ 44.09375 59.90625 40.109375 62.90625 \r\nQ 36.140625 65.921875 28.71875 65.921875 \r\nQ 24.65625 65.921875 20.015625 65.03125 \r\nQ 15.375 64.15625 9.8125 62.3125 \r\nL 9.8125 71.09375 \r\nQ 15.4375 72.65625 20.34375 73.4375 \r\nQ 25.25 74.21875 29.59375 74.21875 \r\nQ 40.828125 74.21875 47.359375 69.109375 \r\nQ 53.90625 64.015625 53.90625 55.328125 \r\nQ 53.90625 49.265625 50.4375 45.09375 \r\nQ 46.96875 40.921875 40.578125 39.3125 \r\nz\r\n\" id=\"DejaVuSans-51\"/>\r\n       </defs>\r\n       <use xlink:href=\"#DejaVuSans-51\"/>\r\n       <use x=\"63.623047\" xlink:href=\"#DejaVuSans-48\"/>\r\n       <use x=\"127.246094\" xlink:href=\"#DejaVuSans-48\"/>\r\n      </g>\r\n     </g>\r\n    </g>\r\n   </g>\r\n   <g id=\"patch_3\">\r\n    <path d=\"M 33.2875 164.96206 \r\nL 33.2875 22.318125 \r\n\" style=\"fill:none;stroke:#000000;stroke-linecap:square;stroke-linejoin:miter;stroke-width:0.8;\"/>\r\n   </g>\r\n   <g id=\"patch_4\">\r\n    <path d=\"M 211.8475 164.96206 \r\nL 211.8475 22.318125 \r\n\" style=\"fill:none;stroke:#000000;stroke-linecap:square;stroke-linejoin:miter;stroke-width:0.8;\"/>\r\n   </g>\r\n   <g id=\"patch_5\">\r\n    <path d=\"M 33.2875 164.96206 \r\nL 211.8475 164.96206 \r\n\" style=\"fill:none;stroke:#000000;stroke-linecap:square;stroke-linejoin:miter;stroke-width:0.8;\"/>\r\n   </g>\r\n   <g id=\"patch_6\">\r\n    <path d=\"M 33.2875 22.318125 \r\nL 211.8475 22.318125 \r\n\" style=\"fill:none;stroke:#000000;stroke-linecap:square;stroke-linejoin:miter;stroke-width:0.8;\"/>\r\n   </g>\r\n   <g id=\"text_11\">\r\n    <!-- iter 701/1000 -->\r\n    <g transform=\"translate(81.739375 16.318125)scale(0.12 -0.12)\">\r\n     <defs>\r\n      <path d=\"M 9.421875 54.6875 \r\nL 18.40625 54.6875 \r\nL 18.40625 0 \r\nL 9.421875 0 \r\nz\r\nM 9.421875 75.984375 \r\nL 18.40625 75.984375 \r\nL 18.40625 64.59375 \r\nL 9.421875 64.59375 \r\nz\r\n\" id=\"DejaVuSans-105\"/>\r\n      <path d=\"M 18.3125 70.21875 \r\nL 18.3125 54.6875 \r\nL 36.8125 54.6875 \r\nL 36.8125 47.703125 \r\nL 18.3125 47.703125 \r\nL 18.3125 18.015625 \r\nQ 18.3125 11.328125 20.140625 9.421875 \r\nQ 21.96875 7.515625 27.59375 7.515625 \r\nL 36.8125 7.515625 \r\nL 36.8125 0 \r\nL 27.59375 0 \r\nQ 17.1875 0 13.234375 3.875 \r\nQ 9.28125 7.765625 9.28125 18.015625 \r\nL 9.28125 47.703125 \r\nL 2.6875 47.703125 \r\nL 2.6875 54.6875 \r\nL 9.28125 54.6875 \r\nL 9.28125 70.21875 \r\nz\r\n\" id=\"DejaVuSans-116\"/>\r\n      <path d=\"M 56.203125 29.59375 \r\nL 56.203125 25.203125 \r\nL 14.890625 25.203125 \r\nQ 15.484375 15.921875 20.484375 11.0625 \r\nQ 25.484375 6.203125 34.421875 6.203125 \r\nQ 39.59375 6.203125 44.453125 7.46875 \r\nQ 49.3125 8.734375 54.109375 11.28125 \r\nL 54.109375 2.78125 \r\nQ 49.265625 0.734375 44.1875 -0.34375 \r\nQ 39.109375 -1.421875 33.890625 -1.421875 \r\nQ 20.796875 -1.421875 13.15625 6.1875 \r\nQ 5.515625 13.8125 5.515625 26.8125 \r\nQ 5.515625 40.234375 12.765625 48.109375 \r\nQ 20.015625 56 32.328125 56 \r\nQ 43.359375 56 49.78125 48.890625 \r\nQ 56.203125 41.796875 56.203125 29.59375 \r\nz\r\nM 47.21875 32.234375 \r\nQ 47.125 39.59375 43.09375 43.984375 \r\nQ 39.0625 48.390625 32.421875 48.390625 \r\nQ 24.90625 48.390625 20.390625 44.140625 \r\nQ 15.875 39.890625 15.1875 32.171875 \r\nz\r\n\" id=\"DejaVuSans-101\"/>\r\n      <path d=\"M 41.109375 46.296875 \r\nQ 39.59375 47.171875 37.8125 47.578125 \r\nQ 36.03125 48 33.890625 48 \r\nQ 26.265625 48 22.1875 43.046875 \r\nQ 18.109375 38.09375 18.109375 28.8125 \r\nL 18.109375 0 \r\nL 9.078125 0 \r\nL 9.078125 54.6875 \r\nL 18.109375 54.6875 \r\nL 18.109375 46.1875 \r\nQ 20.953125 51.171875 25.484375 53.578125 \r\nQ 30.03125 56 36.53125 56 \r\nQ 37.453125 56 38.578125 55.875 \r\nQ 39.703125 55.765625 41.0625 55.515625 \r\nz\r\n\" id=\"DejaVuSans-114\"/>\r\n      <path id=\"DejaVuSans-32\"/>\r\n      <path d=\"M 25.390625 72.90625 \r\nL 33.6875 72.90625 \r\nL 8.296875 -9.28125 \r\nL 0 -9.28125 \r\nz\r\n\" id=\"DejaVuSans-47\"/>\r\n     </defs>\r\n     <use xlink:href=\"#DejaVuSans-105\"/>\r\n     <use x=\"27.783203\" xlink:href=\"#DejaVuSans-116\"/>\r\n     <use x=\"66.992188\" xlink:href=\"#DejaVuSans-101\"/>\r\n     <use x=\"128.515625\" xlink:href=\"#DejaVuSans-114\"/>\r\n     <use x=\"169.628906\" xlink:href=\"#DejaVuSans-32\"/>\r\n     <use x=\"201.416016\" xlink:href=\"#DejaVuSans-55\"/>\r\n     <use x=\"265.039062\" xlink:href=\"#DejaVuSans-48\"/>\r\n     <use x=\"328.662109\" xlink:href=\"#DejaVuSans-49\"/>\r\n     <use x=\"392.285156\" xlink:href=\"#DejaVuSans-47\"/>\r\n     <use x=\"425.976562\" xlink:href=\"#DejaVuSans-49\"/>\r\n     <use x=\"489.599609\" xlink:href=\"#DejaVuSans-48\"/>\r\n     <use x=\"553.222656\" xlink:href=\"#DejaVuSans-48\"/>\r\n     <use x=\"616.845703\" xlink:href=\"#DejaVuSans-48\"/>\r\n    </g>\r\n   </g>\r\n  </g>\r\n  <g id=\"axes_2\">\r\n   <g id=\"patch_7\">\r\n    <path clip-path=\"url(#pd20b3a108f)\" d=\"M 223.0075 175.180092 \r\nL 223.0075 174.543061 \r\nL 223.0075 12.737124 \r\nL 223.0075 12.100092 \r\nL 231.1615 12.100092 \r\nL 231.1615 12.737124 \r\nL 231.1615 174.543061 \r\nL 231.1615 175.180092 \r\nz\r\n\" style=\"fill:#ffffff;stroke:#ffffff;stroke-linejoin:miter;stroke-width:0.01;\"/>\r\n   </g>\r\n   <image height=\"163\" id=\"imagee1d6e0d743\" transform=\"scale(1 -1)translate(0 -163)\" width=\"8\" x=\"223\" xlink:href=\"data:image/png;base64,\r\niVBORw0KGgoAAAANSUhEUgAAAAgAAACjCAYAAAC31F+mAAABKUlEQVR4nM3Y0W3DMAyEYYqSvFlm6P57tHU30CeAquG8ivh5d2Qcxe0zvu5YfEa0XJ3HaL2vCyJbldBACBHqIiORw4EC2xShnqRdgHCbsDzf0PBEC89COThqEdxieb7TQiKpIaTh9sKAsLFy0lAW+YDNegG/3SeCqhYcSNJrrxavsFkmMIe6zXrU/x/UA/vwxDQP2Fxe5d4yzbVINNjTgBw2rgciVG2a0MoE5lBvQQJ+kWK0/C0ToCGZgwqy3CLLNrsInRpUwBYMarQyQRpYkFFtwaBo04T8KbdAwXwDgdNsyKEHW4DAfZj5LQ0iyMVsaMGFuUiwSNmUBhIu5ZCaZt3mCQ0icFjBfdDD3NPU0355HDEu/VskYerd4MRNa3RpGIE3Wl0aEhr+ADsnb5Du1rJ2AAAAAElFTkSuQmCC\" y=\"-11\"/>\r\n   <g id=\"matplotlib.axis_3\"/>\r\n   <g id=\"matplotlib.axis_4\">\r\n    <g id=\"ytick_7\">\r\n     <g id=\"line2d_11\">\r\n      <defs>\r\n       <path d=\"M 0 0 \r\nL 3.5 0 \r\n\" id=\"me16e0ac850\" style=\"stroke:#000000;stroke-width:0.8;\"/>\r\n      </defs>\r\n      <g>\r\n       <use style=\"stroke:#000000;stroke-width:0.8;\" x=\"231.1615\" xlink:href=\"#me16e0ac850\" y=\"159.456372\"/>\r\n      </g>\r\n     </g>\r\n     <g id=\"text_12\">\r\n      <!-- 10 -->\r\n      <g transform=\"translate(238.1615 163.25559)scale(0.1 -0.1)\">\r\n       <use xlink:href=\"#DejaVuSans-49\"/>\r\n       <use x=\"63.623047\" xlink:href=\"#DejaVuSans-48\"/>\r\n      </g>\r\n     </g>\r\n    </g>\r\n    <g id=\"ytick_8\">\r\n     <g id=\"line2d_12\">\r\n      <g>\r\n       <use style=\"stroke:#000000;stroke-width:0.8;\" x=\"231.1615\" xlink:href=\"#me16e0ac850\" y=\"127.880577\"/>\r\n      </g>\r\n     </g>\r\n     <g id=\"text_13\">\r\n      <!-- 15 -->\r\n      <g transform=\"translate(238.1615 131.679795)scale(0.1 -0.1)\">\r\n       <use xlink:href=\"#DejaVuSans-49\"/>\r\n       <use x=\"63.623047\" xlink:href=\"#DejaVuSans-53\"/>\r\n      </g>\r\n     </g>\r\n    </g>\r\n    <g id=\"ytick_9\">\r\n     <g id=\"line2d_13\">\r\n      <g>\r\n       <use style=\"stroke:#000000;stroke-width:0.8;\" x=\"231.1615\" xlink:href=\"#me16e0ac850\" y=\"96.304782\"/>\r\n      </g>\r\n     </g>\r\n     <g id=\"text_14\">\r\n      <!-- 20 -->\r\n      <g transform=\"translate(238.1615 100.104001)scale(0.1 -0.1)\">\r\n       <use xlink:href=\"#DejaVuSans-50\"/>\r\n       <use x=\"63.623047\" xlink:href=\"#DejaVuSans-48\"/>\r\n      </g>\r\n     </g>\r\n    </g>\r\n    <g id=\"ytick_10\">\r\n     <g id=\"line2d_14\">\r\n      <g>\r\n       <use style=\"stroke:#000000;stroke-width:0.8;\" x=\"231.1615\" xlink:href=\"#me16e0ac850\" y=\"64.728987\"/>\r\n      </g>\r\n     </g>\r\n     <g id=\"text_15\">\r\n      <!-- 25 -->\r\n      <g transform=\"translate(238.1615 68.528206)scale(0.1 -0.1)\">\r\n       <use xlink:href=\"#DejaVuSans-50\"/>\r\n       <use x=\"63.623047\" xlink:href=\"#DejaVuSans-53\"/>\r\n      </g>\r\n     </g>\r\n    </g>\r\n    <g id=\"ytick_11\">\r\n     <g id=\"line2d_15\">\r\n      <g>\r\n       <use style=\"stroke:#000000;stroke-width:0.8;\" x=\"231.1615\" xlink:href=\"#me16e0ac850\" y=\"33.153192\"/>\r\n      </g>\r\n     </g>\r\n     <g id=\"text_16\">\r\n      <!-- 30 -->\r\n      <g transform=\"translate(238.1615 36.952411)scale(0.1 -0.1)\">\r\n       <use xlink:href=\"#DejaVuSans-51\"/>\r\n       <use x=\"63.623047\" xlink:href=\"#DejaVuSans-48\"/>\r\n      </g>\r\n     </g>\r\n    </g>\r\n   </g>\r\n   <g id=\"patch_8\">\r\n    <path d=\"M 223.0075 175.180092 \r\nL 223.0075 174.543061 \r\nL 223.0075 12.737124 \r\nL 223.0075 12.100092 \r\nL 231.1615 12.100092 \r\nL 231.1615 12.737124 \r\nL 231.1615 174.543061 \r\nL 231.1615 175.180092 \r\nz\r\n\" style=\"fill:none;stroke:#000000;stroke-linejoin:miter;stroke-width:0.8;\"/>\r\n   </g>\r\n  </g>\r\n </g>\r\n <defs>\r\n  <clipPath id=\"paed504daec\">\r\n   <rect height=\"142.643935\" width=\"178.56\" x=\"33.2875\" y=\"22.318125\"/>\r\n  </clipPath>\r\n  <clipPath id=\"pd20b3a108f\">\r\n   <rect height=\"163.08\" width=\"8.154\" x=\"223.0075\" y=\"12.100092\"/>\r\n  </clipPath>\r\n </defs>\r\n</svg>\r\n",
      "image/png": "[encoded data removed]"
     },
     "metadata": {
      "needs_background": "light"
     }
    },
    {
     "output_type": "display_data",
     "data": {
      "text/plain": "<Figure size 288x216 with 2 Axes>",
      "image/svg+xml": "<?xml version=\"1.0\" encoding=\"utf-8\" standalone=\"no\"?>\r\n<!DOCTYPE svg PUBLIC \"-//W3C//DTD SVG 1.1//EN\"\r\n  \"http://www.w3.org/Graphics/SVG/1.1/DTD/svg11.dtd\">\r\n<!-- Created with matplotlib (https://matplotlib.org/) -->\r\n<svg height=\"188.840185pt\" version=\"1.1\" viewBox=\"0 0 258.0865 188.840185\" width=\"258.0865pt\" xmlns=\"http://www.w3.org/2000/svg\" xmlns:xlink=\"http://www.w3.org/1999/xlink\">\r\n <metadata>\r\n  <rdf:RDF xmlns:cc=\"http://creativecommons.org/ns#\" xmlns:dc=\"http://purl.org/dc/elements/1.1/\" xmlns:rdf=\"http://www.w3.org/1999/02/22-rdf-syntax-ns#\">\r\n   <cc:Work>\r\n    <dc:type rdf:resource=\"http://purl.org/dc/dcmitype/StillImage\"/>\r\n    <dc:date>2021-02-19T13:55:39.524038</dc:date>\r\n    <dc:format>image/svg+xml</dc:format>\r\n    <dc:creator>\r\n     <cc:Agent>\r\n      <dc:title>Matplotlib v3.3.4, https://matplotlib.org/</dc:title>\r\n     </cc:Agent>\r\n    </dc:creator>\r\n   </cc:Work>\r\n  </rdf:RDF>\r\n </metadata>\r\n <defs>\r\n  <style type=\"text/css\">*{stroke-linecap:butt;stroke-linejoin:round;}</style>\r\n </defs>\r\n <g id=\"figure_1\">\r\n  <g id=\"patch_1\">\r\n   <path d=\"M 0 188.840185 \r\nL 258.0865 188.840185 \r\nL 258.0865 0 \r\nL 0 0 \r\nz\r\n\" style=\"fill:none;\"/>\r\n  </g>\r\n  <g id=\"axes_1\">\r\n   <g id=\"patch_2\">\r\n    <path d=\"M 33.2875 164.96206 \r\nL 211.8475 164.96206 \r\nL 211.8475 22.318125 \r\nL 33.2875 22.318125 \r\nz\r\n\" style=\"fill:#ffffff;\"/>\r\n   </g>\r\n   <g clip-path=\"url(#p2e6f96664f)\">\r\n    <image height=\"143\" id=\"image9331b300ab\" transform=\"scale(1 -1)translate(0 -143)\" width=\"179\" x=\"33.2875\" xlink:href=\"data:image/png;base64,\r\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\" y=\"-21.96206\"/>\r\n   </g>\r\n   <g id=\"matplotlib.axis_1\">\r\n    <g id=\"xtick_1\">\r\n     <g id=\"line2d_1\">\r\n      <defs>\r\n       <path d=\"M 0 0 \r\nL 0 3.5 \r\n\" id=\"m26a02176cd\" style=\"stroke:#000000;stroke-width:0.8;\"/>\r\n      </defs>\r\n      <g>\r\n       <use style=\"stroke:#000000;stroke-width:0.8;\" x=\"58.796071\" xlink:href=\"#m26a02176cd\" y=\"164.96206\"/>\r\n      </g>\r\n     </g>\r\n     <g id=\"text_1\">\r\n      <!-- 400 -->\r\n      <g transform=\"translate(49.252321 179.560497)scale(0.1 -0.1)\">\r\n       <defs>\r\n        <path d=\"M 37.796875 64.3125 \r\nL 12.890625 25.390625 \r\nL 37.796875 25.390625 \r\nz\r\nM 35.203125 72.90625 \r\nL 47.609375 72.90625 \r\nL 47.609375 25.390625 \r\nL 58.015625 25.390625 \r\nL 58.015625 17.1875 \r\nL 47.609375 17.1875 \r\nL 47.609375 0 \r\nL 37.796875 0 \r\nL 37.796875 17.1875 \r\nL 4.890625 17.1875 \r\nL 4.890625 26.703125 \r\nz\r\n\" id=\"DejaVuSans-52\"/>\r\n        <path d=\"M 31.78125 66.40625 \r\nQ 24.171875 66.40625 20.328125 58.90625 \r\nQ 16.5 51.421875 16.5 36.375 \r\nQ 16.5 21.390625 20.328125 13.890625 \r\nQ 24.171875 6.390625 31.78125 6.390625 \r\nQ 39.453125 6.390625 43.28125 13.890625 \r\nQ 47.125 21.390625 47.125 36.375 \r\nQ 47.125 51.421875 43.28125 58.90625 \r\nQ 39.453125 66.40625 31.78125 66.40625 \r\nz\r\nM 31.78125 74.21875 \r\nQ 44.046875 74.21875 50.515625 64.515625 \r\nQ 56.984375 54.828125 56.984375 36.375 \r\nQ 56.984375 17.96875 50.515625 8.265625 \r\nQ 44.046875 -1.421875 31.78125 -1.421875 \r\nQ 19.53125 -1.421875 13.0625 8.265625 \r\nQ 6.59375 17.96875 6.59375 36.375 \r\nQ 6.59375 54.828125 13.0625 64.515625 \r\nQ 19.53125 74.21875 31.78125 74.21875 \r\nz\r\n\" id=\"DejaVuSans-48\"/>\r\n       </defs>\r\n       <use xlink:href=\"#DejaVuSans-52\"/>\r\n       <use x=\"63.623047\" xlink:href=\"#DejaVuSans-48\"/>\r\n       <use x=\"127.246094\" xlink:href=\"#DejaVuSans-48\"/>\r\n      </g>\r\n     </g>\r\n    </g>\r\n    <g id=\"xtick_2\">\r\n     <g id=\"line2d_2\">\r\n      <g>\r\n       <use style=\"stroke:#000000;stroke-width:0.8;\" x=\"109.813214\" xlink:href=\"#m26a02176cd\" y=\"164.96206\"/>\r\n      </g>\r\n     </g>\r\n     <g id=\"text_2\">\r\n      <!-- 500 -->\r\n      <g transform=\"translate(100.269464 179.560497)scale(0.1 -0.1)\">\r\n       <defs>\r\n        <path d=\"M 10.796875 72.90625 \r\nL 49.515625 72.90625 \r\nL 49.515625 64.59375 \r\nL 19.828125 64.59375 \r\nL 19.828125 46.734375 \r\nQ 21.96875 47.46875 24.109375 47.828125 \r\nQ 26.265625 48.1875 28.421875 48.1875 \r\nQ 40.625 48.1875 47.75 41.5 \r\nQ 54.890625 34.8125 54.890625 23.390625 \r\nQ 54.890625 11.625 47.5625 5.09375 \r\nQ 40.234375 -1.421875 26.90625 -1.421875 \r\nQ 22.3125 -1.421875 17.546875 -0.640625 \r\nQ 12.796875 0.140625 7.71875 1.703125 \r\nL 7.71875 11.625 \r\nQ 12.109375 9.234375 16.796875 8.0625 \r\nQ 21.484375 6.890625 26.703125 6.890625 \r\nQ 35.15625 6.890625 40.078125 11.328125 \r\nQ 45.015625 15.765625 45.015625 23.390625 \r\nQ 45.015625 31 40.078125 35.4375 \r\nQ 35.15625 39.890625 26.703125 39.890625 \r\nQ 22.75 39.890625 18.8125 39.015625 \r\nQ 14.890625 38.140625 10.796875 36.28125 \r\nz\r\n\" id=\"DejaVuSans-53\"/>\r\n       </defs>\r\n       <use xlink:href=\"#DejaVuSans-53\"/>\r\n       <use x=\"63.623047\" xlink:href=\"#DejaVuSans-48\"/>\r\n       <use x=\"127.246094\" xlink:href=\"#DejaVuSans-48\"/>\r\n      </g>\r\n     </g>\r\n    </g>\r\n    <g id=\"xtick_3\">\r\n     <g id=\"line2d_3\">\r\n      <g>\r\n       <use style=\"stroke:#000000;stroke-width:0.8;\" x=\"160.830357\" xlink:href=\"#m26a02176cd\" y=\"164.96206\"/>\r\n      </g>\r\n     </g>\r\n     <g id=\"text_3\">\r\n      <!-- 600 -->\r\n      <g transform=\"translate(151.286607 179.560497)scale(0.1 -0.1)\">\r\n       <defs>\r\n        <path d=\"M 33.015625 40.375 \r\nQ 26.375 40.375 22.484375 35.828125 \r\nQ 18.609375 31.296875 18.609375 23.390625 \r\nQ 18.609375 15.53125 22.484375 10.953125 \r\nQ 26.375 6.390625 33.015625 6.390625 \r\nQ 39.65625 6.390625 43.53125 10.953125 \r\nQ 47.40625 15.53125 47.40625 23.390625 \r\nQ 47.40625 31.296875 43.53125 35.828125 \r\nQ 39.65625 40.375 33.015625 40.375 \r\nz\r\nM 52.59375 71.296875 \r\nL 52.59375 62.3125 \r\nQ 48.875 64.0625 45.09375 64.984375 \r\nQ 41.3125 65.921875 37.59375 65.921875 \r\nQ 27.828125 65.921875 22.671875 59.328125 \r\nQ 17.53125 52.734375 16.796875 39.40625 \r\nQ 19.671875 43.65625 24.015625 45.921875 \r\nQ 28.375 48.1875 33.59375 48.1875 \r\nQ 44.578125 48.1875 50.953125 41.515625 \r\nQ 57.328125 34.859375 57.328125 23.390625 \r\nQ 57.328125 12.15625 50.6875 5.359375 \r\nQ 44.046875 -1.421875 33.015625 -1.421875 \r\nQ 20.359375 -1.421875 13.671875 8.265625 \r\nQ 6.984375 17.96875 6.984375 36.375 \r\nQ 6.984375 53.65625 15.1875 63.9375 \r\nQ 23.390625 74.21875 37.203125 74.21875 \r\nQ 40.921875 74.21875 44.703125 73.484375 \r\nQ 48.484375 72.75 52.59375 71.296875 \r\nz\r\n\" id=\"DejaVuSans-54\"/>\r\n       </defs>\r\n       <use xlink:href=\"#DejaVuSans-54\"/>\r\n       <use x=\"63.623047\" xlink:href=\"#DejaVuSans-48\"/>\r\n       <use x=\"127.246094\" xlink:href=\"#DejaVuSans-48\"/>\r\n      </g>\r\n     </g>\r\n    </g>\r\n    <g id=\"xtick_4\">\r\n     <g id=\"line2d_4\">\r\n      <g>\r\n       <use style=\"stroke:#000000;stroke-width:0.8;\" x=\"211.8475\" xlink:href=\"#m26a02176cd\" y=\"164.96206\"/>\r\n      </g>\r\n     </g>\r\n     <g id=\"text_4\">\r\n      <!-- 700 -->\r\n      <g transform=\"translate(202.30375 179.560497)scale(0.1 -0.1)\">\r\n       <defs>\r\n        <path d=\"M 8.203125 72.90625 \r\nL 55.078125 72.90625 \r\nL 55.078125 68.703125 \r\nL 28.609375 0 \r\nL 18.3125 0 \r\nL 43.21875 64.59375 \r\nL 8.203125 64.59375 \r\nz\r\n\" id=\"DejaVuSans-55\"/>\r\n       </defs>\r\n       <use xlink:href=\"#DejaVuSans-55\"/>\r\n       <use x=\"63.623047\" xlink:href=\"#DejaVuSans-48\"/>\r\n       <use x=\"127.246094\" xlink:href=\"#DejaVuSans-48\"/>\r\n      </g>\r\n     </g>\r\n    </g>\r\n   </g>\r\n   <g id=\"matplotlib.axis_2\">\r\n    <g id=\"ytick_1\">\r\n     <g id=\"line2d_5\">\r\n      <defs>\r\n       <path d=\"M 0 0 \r\nL -3.5 0 \r\n\" id=\"m9464b08997\" style=\"stroke:#000000;stroke-width:0.8;\"/>\r\n      </defs>\r\n      <g>\r\n       <use style=\"stroke:#000000;stroke-width:0.8;\" x=\"33.2875\" xlink:href=\"#m9464b08997\" y=\"154.758631\"/>\r\n      </g>\r\n     </g>\r\n     <g id=\"text_5\">\r\n      <!-- 50 -->\r\n      <g transform=\"translate(13.5625 158.55785)scale(0.1 -0.1)\">\r\n       <use xlink:href=\"#DejaVuSans-53\"/>\r\n       <use x=\"63.623047\" xlink:href=\"#DejaVuSans-48\"/>\r\n      </g>\r\n     </g>\r\n    </g>\r\n    <g id=\"ytick_2\">\r\n     <g id=\"line2d_6\">\r\n      <g>\r\n       <use style=\"stroke:#000000;stroke-width:0.8;\" x=\"33.2875\" xlink:href=\"#m9464b08997\" y=\"129.25006\"/>\r\n      </g>\r\n     </g>\r\n     <g id=\"text_6\">\r\n      <!-- 100 -->\r\n      <g transform=\"translate(7.2 133.049278)scale(0.1 -0.1)\">\r\n       <defs>\r\n        <path d=\"M 12.40625 8.296875 \r\nL 28.515625 8.296875 \r\nL 28.515625 63.921875 \r\nL 10.984375 60.40625 \r\nL 10.984375 69.390625 \r\nL 28.421875 72.90625 \r\nL 38.28125 72.90625 \r\nL 38.28125 8.296875 \r\nL 54.390625 8.296875 \r\nL 54.390625 0 \r\nL 12.40625 0 \r\nz\r\n\" id=\"DejaVuSans-49\"/>\r\n       </defs>\r\n       <use xlink:href=\"#DejaVuSans-49\"/>\r\n       <use x=\"63.623047\" xlink:href=\"#DejaVuSans-48\"/>\r\n       <use x=\"127.246094\" xlink:href=\"#DejaVuSans-48\"/>\r\n      </g>\r\n     </g>\r\n    </g>\r\n    <g id=\"ytick_3\">\r\n     <g id=\"line2d_7\">\r\n      <g>\r\n       <use style=\"stroke:#000000;stroke-width:0.8;\" x=\"33.2875\" xlink:href=\"#m9464b08997\" y=\"103.741488\"/>\r\n      </g>\r\n     </g>\r\n     <g id=\"text_7\">\r\n      <!-- 150 -->\r\n      <g transform=\"translate(7.2 107.540707)scale(0.1 -0.1)\">\r\n       <use xlink:href=\"#DejaVuSans-49\"/>\r\n       <use x=\"63.623047\" xlink:href=\"#DejaVuSans-53\"/>\r\n       <use x=\"127.246094\" xlink:href=\"#DejaVuSans-48\"/>\r\n      </g>\r\n     </g>\r\n    </g>\r\n    <g id=\"ytick_4\">\r\n     <g id=\"line2d_8\">\r\n      <g>\r\n       <use style=\"stroke:#000000;stroke-width:0.8;\" x=\"33.2875\" xlink:href=\"#m9464b08997\" y=\"78.232917\"/>\r\n      </g>\r\n     </g>\r\n     <g id=\"text_8\">\r\n      <!-- 200 -->\r\n      <g transform=\"translate(7.2 82.032135)scale(0.1 -0.1)\">\r\n       <defs>\r\n        <path d=\"M 19.1875 8.296875 \r\nL 53.609375 8.296875 \r\nL 53.609375 0 \r\nL 7.328125 0 \r\nL 7.328125 8.296875 \r\nQ 12.9375 14.109375 22.625 23.890625 \r\nQ 32.328125 33.6875 34.8125 36.53125 \r\nQ 39.546875 41.84375 41.421875 45.53125 \r\nQ 43.3125 49.21875 43.3125 52.78125 \r\nQ 43.3125 58.59375 39.234375 62.25 \r\nQ 35.15625 65.921875 28.609375 65.921875 \r\nQ 23.96875 65.921875 18.8125 64.3125 \r\nQ 13.671875 62.703125 7.8125 59.421875 \r\nL 7.8125 69.390625 \r\nQ 13.765625 71.78125 18.9375 73 \r\nQ 24.125 74.21875 28.421875 74.21875 \r\nQ 39.75 74.21875 46.484375 68.546875 \r\nQ 53.21875 62.890625 53.21875 53.421875 \r\nQ 53.21875 48.921875 51.53125 44.890625 \r\nQ 49.859375 40.875 45.40625 35.40625 \r\nQ 44.1875 33.984375 37.640625 27.21875 \r\nQ 31.109375 20.453125 19.1875 8.296875 \r\nz\r\n\" id=\"DejaVuSans-50\"/>\r\n       </defs>\r\n       <use xlink:href=\"#DejaVuSans-50\"/>\r\n       <use x=\"63.623047\" xlink:href=\"#DejaVuSans-48\"/>\r\n       <use x=\"127.246094\" xlink:href=\"#DejaVuSans-48\"/>\r\n      </g>\r\n     </g>\r\n    </g>\r\n    <g id=\"ytick_5\">\r\n     <g id=\"line2d_9\">\r\n      <g>\r\n       <use style=\"stroke:#000000;stroke-width:0.8;\" x=\"33.2875\" xlink:href=\"#m9464b08997\" y=\"52.724345\"/>\r\n      </g>\r\n     </g>\r\n     <g id=\"text_9\">\r\n      <!-- 250 -->\r\n      <g transform=\"translate(7.2 56.523564)scale(0.1 -0.1)\">\r\n       <use xlink:href=\"#DejaVuSans-50\"/>\r\n       <use x=\"63.623047\" xlink:href=\"#DejaVuSans-53\"/>\r\n       <use x=\"127.246094\" xlink:href=\"#DejaVuSans-48\"/>\r\n      </g>\r\n     </g>\r\n    </g>\r\n    <g id=\"ytick_6\">\r\n     <g id=\"line2d_10\">\r\n      <g>\r\n       <use style=\"stroke:#000000;stroke-width:0.8;\" x=\"33.2875\" xlink:href=\"#m9464b08997\" y=\"27.215774\"/>\r\n      </g>\r\n     </g>\r\n     <g id=\"text_10\">\r\n      <!-- 300 -->\r\n      <g transform=\"translate(7.2 31.014993)scale(0.1 -0.1)\">\r\n       <defs>\r\n        <path d=\"M 40.578125 39.3125 \r\nQ 47.65625 37.796875 51.625 33 \r\nQ 55.609375 28.21875 55.609375 21.1875 \r\nQ 55.609375 10.40625 48.1875 4.484375 \r\nQ 40.765625 -1.421875 27.09375 -1.421875 \r\nQ 22.515625 -1.421875 17.65625 -0.515625 \r\nQ 12.796875 0.390625 7.625 2.203125 \r\nL 7.625 11.71875 \r\nQ 11.71875 9.328125 16.59375 8.109375 \r\nQ 21.484375 6.890625 26.8125 6.890625 \r\nQ 36.078125 6.890625 40.9375 10.546875 \r\nQ 45.796875 14.203125 45.796875 21.1875 \r\nQ 45.796875 27.640625 41.28125 31.265625 \r\nQ 36.765625 34.90625 28.71875 34.90625 \r\nL 20.21875 34.90625 \r\nL 20.21875 43.015625 \r\nL 29.109375 43.015625 \r\nQ 36.375 43.015625 40.234375 45.921875 \r\nQ 44.09375 48.828125 44.09375 54.296875 \r\nQ 44.09375 59.90625 40.109375 62.90625 \r\nQ 36.140625 65.921875 28.71875 65.921875 \r\nQ 24.65625 65.921875 20.015625 65.03125 \r\nQ 15.375 64.15625 9.8125 62.3125 \r\nL 9.8125 71.09375 \r\nQ 15.4375 72.65625 20.34375 73.4375 \r\nQ 25.25 74.21875 29.59375 74.21875 \r\nQ 40.828125 74.21875 47.359375 69.109375 \r\nQ 53.90625 64.015625 53.90625 55.328125 \r\nQ 53.90625 49.265625 50.4375 45.09375 \r\nQ 46.96875 40.921875 40.578125 39.3125 \r\nz\r\n\" id=\"DejaVuSans-51\"/>\r\n       </defs>\r\n       <use xlink:href=\"#DejaVuSans-51\"/>\r\n       <use x=\"63.623047\" xlink:href=\"#DejaVuSans-48\"/>\r\n       <use x=\"127.246094\" xlink:href=\"#DejaVuSans-48\"/>\r\n      </g>\r\n     </g>\r\n    </g>\r\n   </g>\r\n   <g id=\"patch_3\">\r\n    <path d=\"M 33.2875 164.96206 \r\nL 33.2875 22.318125 \r\n\" style=\"fill:none;stroke:#000000;stroke-linecap:square;stroke-linejoin:miter;stroke-width:0.8;\"/>\r\n   </g>\r\n   <g id=\"patch_4\">\r\n    <path d=\"M 211.8475 164.96206 \r\nL 211.8475 22.318125 \r\n\" style=\"fill:none;stroke:#000000;stroke-linecap:square;stroke-linejoin:miter;stroke-width:0.8;\"/>\r\n   </g>\r\n   <g id=\"patch_5\">\r\n    <path d=\"M 33.2875 164.96206 \r\nL 211.8475 164.96206 \r\n\" style=\"fill:none;stroke:#000000;stroke-linecap:square;stroke-linejoin:miter;stroke-width:0.8;\"/>\r\n   </g>\r\n   <g id=\"patch_6\">\r\n    <path d=\"M 33.2875 22.318125 \r\nL 211.8475 22.318125 \r\n\" style=\"fill:none;stroke:#000000;stroke-linecap:square;stroke-linejoin:miter;stroke-width:0.8;\"/>\r\n   </g>\r\n   <g id=\"text_11\">\r\n    <!-- iter 801/1000 -->\r\n    <g transform=\"translate(81.739375 16.318125)scale(0.12 -0.12)\">\r\n     <defs>\r\n      <path d=\"M 9.421875 54.6875 \r\nL 18.40625 54.6875 \r\nL 18.40625 0 \r\nL 9.421875 0 \r\nz\r\nM 9.421875 75.984375 \r\nL 18.40625 75.984375 \r\nL 18.40625 64.59375 \r\nL 9.421875 64.59375 \r\nz\r\n\" id=\"DejaVuSans-105\"/>\r\n      <path d=\"M 18.3125 70.21875 \r\nL 18.3125 54.6875 \r\nL 36.8125 54.6875 \r\nL 36.8125 47.703125 \r\nL 18.3125 47.703125 \r\nL 18.3125 18.015625 \r\nQ 18.3125 11.328125 20.140625 9.421875 \r\nQ 21.96875 7.515625 27.59375 7.515625 \r\nL 36.8125 7.515625 \r\nL 36.8125 0 \r\nL 27.59375 0 \r\nQ 17.1875 0 13.234375 3.875 \r\nQ 9.28125 7.765625 9.28125 18.015625 \r\nL 9.28125 47.703125 \r\nL 2.6875 47.703125 \r\nL 2.6875 54.6875 \r\nL 9.28125 54.6875 \r\nL 9.28125 70.21875 \r\nz\r\n\" id=\"DejaVuSans-116\"/>\r\n      <path d=\"M 56.203125 29.59375 \r\nL 56.203125 25.203125 \r\nL 14.890625 25.203125 \r\nQ 15.484375 15.921875 20.484375 11.0625 \r\nQ 25.484375 6.203125 34.421875 6.203125 \r\nQ 39.59375 6.203125 44.453125 7.46875 \r\nQ 49.3125 8.734375 54.109375 11.28125 \r\nL 54.109375 2.78125 \r\nQ 49.265625 0.734375 44.1875 -0.34375 \r\nQ 39.109375 -1.421875 33.890625 -1.421875 \r\nQ 20.796875 -1.421875 13.15625 6.1875 \r\nQ 5.515625 13.8125 5.515625 26.8125 \r\nQ 5.515625 40.234375 12.765625 48.109375 \r\nQ 20.015625 56 32.328125 56 \r\nQ 43.359375 56 49.78125 48.890625 \r\nQ 56.203125 41.796875 56.203125 29.59375 \r\nz\r\nM 47.21875 32.234375 \r\nQ 47.125 39.59375 43.09375 43.984375 \r\nQ 39.0625 48.390625 32.421875 48.390625 \r\nQ 24.90625 48.390625 20.390625 44.140625 \r\nQ 15.875 39.890625 15.1875 32.171875 \r\nz\r\n\" id=\"DejaVuSans-101\"/>\r\n      <path d=\"M 41.109375 46.296875 \r\nQ 39.59375 47.171875 37.8125 47.578125 \r\nQ 36.03125 48 33.890625 48 \r\nQ 26.265625 48 22.1875 43.046875 \r\nQ 18.109375 38.09375 18.109375 28.8125 \r\nL 18.109375 0 \r\nL 9.078125 0 \r\nL 9.078125 54.6875 \r\nL 18.109375 54.6875 \r\nL 18.109375 46.1875 \r\nQ 20.953125 51.171875 25.484375 53.578125 \r\nQ 30.03125 56 36.53125 56 \r\nQ 37.453125 56 38.578125 55.875 \r\nQ 39.703125 55.765625 41.0625 55.515625 \r\nz\r\n\" id=\"DejaVuSans-114\"/>\r\n      <path id=\"DejaVuSans-32\"/>\r\n      <path d=\"M 31.78125 34.625 \r\nQ 24.75 34.625 20.71875 30.859375 \r\nQ 16.703125 27.09375 16.703125 20.515625 \r\nQ 16.703125 13.921875 20.71875 10.15625 \r\nQ 24.75 6.390625 31.78125 6.390625 \r\nQ 38.8125 6.390625 42.859375 10.171875 \r\nQ 46.921875 13.96875 46.921875 20.515625 \r\nQ 46.921875 27.09375 42.890625 30.859375 \r\nQ 38.875 34.625 31.78125 34.625 \r\nz\r\nM 21.921875 38.8125 \r\nQ 15.578125 40.375 12.03125 44.71875 \r\nQ 8.5 49.078125 8.5 55.328125 \r\nQ 8.5 64.0625 14.71875 69.140625 \r\nQ 20.953125 74.21875 31.78125 74.21875 \r\nQ 42.671875 74.21875 48.875 69.140625 \r\nQ 55.078125 64.0625 55.078125 55.328125 \r\nQ 55.078125 49.078125 51.53125 44.71875 \r\nQ 48 40.375 41.703125 38.8125 \r\nQ 48.828125 37.15625 52.796875 32.3125 \r\nQ 56.78125 27.484375 56.78125 20.515625 \r\nQ 56.78125 9.90625 50.3125 4.234375 \r\nQ 43.84375 -1.421875 31.78125 -1.421875 \r\nQ 19.734375 -1.421875 13.25 4.234375 \r\nQ 6.78125 9.90625 6.78125 20.515625 \r\nQ 6.78125 27.484375 10.78125 32.3125 \r\nQ 14.796875 37.15625 21.921875 38.8125 \r\nz\r\nM 18.3125 54.390625 \r\nQ 18.3125 48.734375 21.84375 45.5625 \r\nQ 25.390625 42.390625 31.78125 42.390625 \r\nQ 38.140625 42.390625 41.71875 45.5625 \r\nQ 45.3125 48.734375 45.3125 54.390625 \r\nQ 45.3125 60.0625 41.71875 63.234375 \r\nQ 38.140625 66.40625 31.78125 66.40625 \r\nQ 25.390625 66.40625 21.84375 63.234375 \r\nQ 18.3125 60.0625 18.3125 54.390625 \r\nz\r\n\" id=\"DejaVuSans-56\"/>\r\n      <path d=\"M 25.390625 72.90625 \r\nL 33.6875 72.90625 \r\nL 8.296875 -9.28125 \r\nL 0 -9.28125 \r\nz\r\n\" id=\"DejaVuSans-47\"/>\r\n     </defs>\r\n     <use xlink:href=\"#DejaVuSans-105\"/>\r\n     <use x=\"27.783203\" xlink:href=\"#DejaVuSans-116\"/>\r\n     <use x=\"66.992188\" xlink:href=\"#DejaVuSans-101\"/>\r\n     <use x=\"128.515625\" xlink:href=\"#DejaVuSans-114\"/>\r\n     <use x=\"169.628906\" xlink:href=\"#DejaVuSans-32\"/>\r\n     <use x=\"201.416016\" xlink:href=\"#DejaVuSans-56\"/>\r\n     <use x=\"265.039062\" xlink:href=\"#DejaVuSans-48\"/>\r\n     <use x=\"328.662109\" xlink:href=\"#DejaVuSans-49\"/>\r\n     <use x=\"392.285156\" xlink:href=\"#DejaVuSans-47\"/>\r\n     <use x=\"425.976562\" xlink:href=\"#DejaVuSans-49\"/>\r\n     <use x=\"489.599609\" xlink:href=\"#DejaVuSans-48\"/>\r\n     <use x=\"553.222656\" xlink:href=\"#DejaVuSans-48\"/>\r\n     <use x=\"616.845703\" xlink:href=\"#DejaVuSans-48\"/>\r\n    </g>\r\n   </g>\r\n  </g>\r\n  <g id=\"axes_2\">\r\n   <g id=\"patch_7\">\r\n    <path clip-path=\"url(#p2582c0328b)\" d=\"M 223.0075 175.180092 \r\nL 223.0075 174.543061 \r\nL 223.0075 12.737124 \r\nL 223.0075 12.100092 \r\nL 231.1615 12.100092 \r\nL 231.1615 12.737124 \r\nL 231.1615 174.543061 \r\nL 231.1615 175.180092 \r\nz\r\n\" style=\"fill:#ffffff;stroke:#ffffff;stroke-linejoin:miter;stroke-width:0.01;\"/>\r\n   </g>\r\n   <image height=\"163\" id=\"image1764ba1fb7\" transform=\"scale(1 -1)translate(0 -163)\" width=\"8\" x=\"223\" xlink:href=\"data:image/png;base64,\r\niVBORw0KGgoAAAANSUhEUgAAAAgAAACjCAYAAAC31F+mAAABKUlEQVR4nM3Y0W3DMAyEYYqSvFlm6P57tHU30CeAquG8ivh5d2Qcxe0zvu5YfEa0XJ3HaL2vCyJbldBACBHqIiORw4EC2xShnqRdgHCbsDzf0PBEC89COThqEdxieb7TQiKpIaTh9sKAsLFy0lAW+YDNegG/3SeCqhYcSNJrrxavsFkmMIe6zXrU/x/UA/vwxDQP2Fxe5d4yzbVINNjTgBw2rgciVG2a0MoE5lBvQQJ+kWK0/C0ToCGZgwqy3CLLNrsInRpUwBYMarQyQRpYkFFtwaBo04T8KbdAwXwDgdNsyKEHW4DAfZj5LQ0iyMVsaMGFuUiwSNmUBhIu5ZCaZt3mCQ0icFjBfdDD3NPU0355HDEu/VskYerd4MRNa3RpGIE3Wl0aEhr+ADsnb5Du1rJ2AAAAAElFTkSuQmCC\" y=\"-11\"/>\r\n   <g id=\"matplotlib.axis_3\"/>\r\n   <g id=\"matplotlib.axis_4\">\r\n    <g id=\"ytick_7\">\r\n     <g id=\"line2d_11\">\r\n      <defs>\r\n       <path d=\"M 0 0 \r\nL 3.5 0 \r\n\" id=\"m4e458a52fb\" style=\"stroke:#000000;stroke-width:0.8;\"/>\r\n      </defs>\r\n      <g>\r\n       <use style=\"stroke:#000000;stroke-width:0.8;\" x=\"231.1615\" xlink:href=\"#m4e458a52fb\" y=\"156.898793\"/>\r\n      </g>\r\n     </g>\r\n     <g id=\"text_12\">\r\n      <!-- 10 -->\r\n      <g transform=\"translate(238.1615 160.698012)scale(0.1 -0.1)\">\r\n       <use xlink:href=\"#DejaVuSans-49\"/>\r\n       <use x=\"63.623047\" xlink:href=\"#DejaVuSans-48\"/>\r\n      </g>\r\n     </g>\r\n    </g>\r\n    <g id=\"ytick_8\">\r\n     <g id=\"line2d_12\">\r\n      <g>\r\n       <use style=\"stroke:#000000;stroke-width:0.8;\" x=\"231.1615\" xlink:href=\"#m4e458a52fb\" y=\"126.114795\"/>\r\n      </g>\r\n     </g>\r\n     <g id=\"text_13\">\r\n      <!-- 15 -->\r\n      <g transform=\"translate(238.1615 129.914014)scale(0.1 -0.1)\">\r\n       <use xlink:href=\"#DejaVuSans-49\"/>\r\n       <use x=\"63.623047\" xlink:href=\"#DejaVuSans-53\"/>\r\n      </g>\r\n     </g>\r\n    </g>\r\n    <g id=\"ytick_9\">\r\n     <g id=\"line2d_13\">\r\n      <g>\r\n       <use style=\"stroke:#000000;stroke-width:0.8;\" x=\"231.1615\" xlink:href=\"#m4e458a52fb\" y=\"95.330797\"/>\r\n      </g>\r\n     </g>\r\n     <g id=\"text_14\">\r\n      <!-- 20 -->\r\n      <g transform=\"translate(238.1615 99.130015)scale(0.1 -0.1)\">\r\n       <use xlink:href=\"#DejaVuSans-50\"/>\r\n       <use x=\"63.623047\" xlink:href=\"#DejaVuSans-48\"/>\r\n      </g>\r\n     </g>\r\n    </g>\r\n    <g id=\"ytick_10\">\r\n     <g id=\"line2d_14\">\r\n      <g>\r\n       <use style=\"stroke:#000000;stroke-width:0.8;\" x=\"231.1615\" xlink:href=\"#m4e458a52fb\" y=\"64.546798\"/>\r\n      </g>\r\n     </g>\r\n     <g id=\"text_15\">\r\n      <!-- 25 -->\r\n      <g transform=\"translate(238.1615 68.346017)scale(0.1 -0.1)\">\r\n       <use xlink:href=\"#DejaVuSans-50\"/>\r\n       <use x=\"63.623047\" xlink:href=\"#DejaVuSans-53\"/>\r\n      </g>\r\n     </g>\r\n    </g>\r\n    <g id=\"ytick_11\">\r\n     <g id=\"line2d_15\">\r\n      <g>\r\n       <use style=\"stroke:#000000;stroke-width:0.8;\" x=\"231.1615\" xlink:href=\"#m4e458a52fb\" y=\"33.7628\"/>\r\n      </g>\r\n     </g>\r\n     <g id=\"text_16\">\r\n      <!-- 30 -->\r\n      <g transform=\"translate(238.1615 37.562019)scale(0.1 -0.1)\">\r\n       <use xlink:href=\"#DejaVuSans-51\"/>\r\n       <use x=\"63.623047\" xlink:href=\"#DejaVuSans-48\"/>\r\n      </g>\r\n     </g>\r\n    </g>\r\n   </g>\r\n   <g id=\"patch_8\">\r\n    <path d=\"M 223.0075 175.180092 \r\nL 223.0075 174.543061 \r\nL 223.0075 12.737124 \r\nL 223.0075 12.100092 \r\nL 231.1615 12.100092 \r\nL 231.1615 12.737124 \r\nL 231.1615 174.543061 \r\nL 231.1615 175.180092 \r\nz\r\n\" style=\"fill:none;stroke:#000000;stroke-linejoin:miter;stroke-width:0.8;\"/>\r\n   </g>\r\n  </g>\r\n </g>\r\n <defs>\r\n  <clipPath id=\"p2e6f96664f\">\r\n   <rect height=\"142.643935\" width=\"178.56\" x=\"33.2875\" y=\"22.318125\"/>\r\n  </clipPath>\r\n  <clipPath id=\"p2582c0328b\">\r\n   <rect height=\"163.08\" width=\"8.154\" x=\"223.0075\" y=\"12.100092\"/>\r\n  </clipPath>\r\n </defs>\r\n</svg>\r\n",
      "image/png": "[encoded data removed]"
     },
     "metadata": {
      "needs_background": "light"
     }
    },
    {
     "output_type": "display_data",
     "data": {
      "text/plain": "<Figure size 288x216 with 2 Axes>",
      "image/svg+xml": "<?xml version=\"1.0\" encoding=\"utf-8\" standalone=\"no\"?>\r\n<!DOCTYPE svg PUBLIC \"-//W3C//DTD SVG 1.1//EN\"\r\n  \"http://www.w3.org/Graphics/SVG/1.1/DTD/svg11.dtd\">\r\n<!-- Created with matplotlib (https://matplotlib.org/) -->\r\n<svg height=\"188.840185pt\" version=\"1.1\" viewBox=\"0 0 258.0865 188.840185\" width=\"258.0865pt\" xmlns=\"http://www.w3.org/2000/svg\" xmlns:xlink=\"http://www.w3.org/1999/xlink\">\r\n <metadata>\r\n  <rdf:RDF xmlns:cc=\"http://creativecommons.org/ns#\" xmlns:dc=\"http://purl.org/dc/elements/1.1/\" xmlns:rdf=\"http://www.w3.org/1999/02/22-rdf-syntax-ns#\">\r\n   <cc:Work>\r\n    <dc:type rdf:resource=\"http://purl.org/dc/dcmitype/StillImage\"/>\r\n    <dc:date>2021-02-19T13:55:40.342754</dc:date>\r\n    <dc:format>image/svg+xml</dc:format>\r\n    <dc:creator>\r\n     <cc:Agent>\r\n      <dc:title>Matplotlib v3.3.4, https://matplotlib.org/</dc:title>\r\n     </cc:Agent>\r\n    </dc:creator>\r\n   </cc:Work>\r\n  </rdf:RDF>\r\n </metadata>\r\n <defs>\r\n  <style type=\"text/css\">*{stroke-linecap:butt;stroke-linejoin:round;}</style>\r\n </defs>\r\n <g id=\"figure_1\">\r\n  <g id=\"patch_1\">\r\n   <path d=\"M 0 188.840185 \r\nL 258.0865 188.840185 \r\nL 258.0865 0 \r\nL 0 0 \r\nz\r\n\" style=\"fill:none;\"/>\r\n  </g>\r\n  <g id=\"axes_1\">\r\n   <g id=\"patch_2\">\r\n    <path d=\"M 33.2875 164.96206 \r\nL 211.8475 164.96206 \r\nL 211.8475 22.318125 \r\nL 33.2875 22.318125 \r\nz\r\n\" style=\"fill:#ffffff;\"/>\r\n   </g>\r\n   <g clip-path=\"url(#peac2bd05d1)\">\r\n    <image height=\"143\" id=\"imaged758f01902\" transform=\"scale(1 -1)translate(0 -143)\" width=\"179\" x=\"33.2875\" xlink:href=\"data:image/png;base64,\r\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\" y=\"-21.96206\"/>\r\n   </g>\r\n   <g id=\"matplotlib.axis_1\">\r\n    <g id=\"xtick_1\">\r\n     <g id=\"line2d_1\">\r\n      <defs>\r\n       <path d=\"M 0 0 \r\nL 0 3.5 \r\n\" id=\"m86db56989c\" style=\"stroke:#000000;stroke-width:0.8;\"/>\r\n      </defs>\r\n      <g>\r\n       <use style=\"stroke:#000000;stroke-width:0.8;\" x=\"58.796071\" xlink:href=\"#m86db56989c\" y=\"164.96206\"/>\r\n      </g>\r\n     </g>\r\n     <g id=\"text_1\">\r\n      <!-- 400 -->\r\n      <g transform=\"translate(49.252321 179.560497)scale(0.1 -0.1)\">\r\n       <defs>\r\n        <path d=\"M 37.796875 64.3125 \r\nL 12.890625 25.390625 \r\nL 37.796875 25.390625 \r\nz\r\nM 35.203125 72.90625 \r\nL 47.609375 72.90625 \r\nL 47.609375 25.390625 \r\nL 58.015625 25.390625 \r\nL 58.015625 17.1875 \r\nL 47.609375 17.1875 \r\nL 47.609375 0 \r\nL 37.796875 0 \r\nL 37.796875 17.1875 \r\nL 4.890625 17.1875 \r\nL 4.890625 26.703125 \r\nz\r\n\" id=\"DejaVuSans-52\"/>\r\n        <path d=\"M 31.78125 66.40625 \r\nQ 24.171875 66.40625 20.328125 58.90625 \r\nQ 16.5 51.421875 16.5 36.375 \r\nQ 16.5 21.390625 20.328125 13.890625 \r\nQ 24.171875 6.390625 31.78125 6.390625 \r\nQ 39.453125 6.390625 43.28125 13.890625 \r\nQ 47.125 21.390625 47.125 36.375 \r\nQ 47.125 51.421875 43.28125 58.90625 \r\nQ 39.453125 66.40625 31.78125 66.40625 \r\nz\r\nM 31.78125 74.21875 \r\nQ 44.046875 74.21875 50.515625 64.515625 \r\nQ 56.984375 54.828125 56.984375 36.375 \r\nQ 56.984375 17.96875 50.515625 8.265625 \r\nQ 44.046875 -1.421875 31.78125 -1.421875 \r\nQ 19.53125 -1.421875 13.0625 8.265625 \r\nQ 6.59375 17.96875 6.59375 36.375 \r\nQ 6.59375 54.828125 13.0625 64.515625 \r\nQ 19.53125 74.21875 31.78125 74.21875 \r\nz\r\n\" id=\"DejaVuSans-48\"/>\r\n       </defs>\r\n       <use xlink:href=\"#DejaVuSans-52\"/>\r\n       <use x=\"63.623047\" xlink:href=\"#DejaVuSans-48\"/>\r\n       <use x=\"127.246094\" xlink:href=\"#DejaVuSans-48\"/>\r\n      </g>\r\n     </g>\r\n    </g>\r\n    <g id=\"xtick_2\">\r\n     <g id=\"line2d_2\">\r\n      <g>\r\n       <use style=\"stroke:#000000;stroke-width:0.8;\" x=\"109.813214\" xlink:href=\"#m86db56989c\" y=\"164.96206\"/>\r\n      </g>\r\n     </g>\r\n     <g id=\"text_2\">\r\n      <!-- 500 -->\r\n      <g transform=\"translate(100.269464 179.560497)scale(0.1 -0.1)\">\r\n       <defs>\r\n        <path d=\"M 10.796875 72.90625 \r\nL 49.515625 72.90625 \r\nL 49.515625 64.59375 \r\nL 19.828125 64.59375 \r\nL 19.828125 46.734375 \r\nQ 21.96875 47.46875 24.109375 47.828125 \r\nQ 26.265625 48.1875 28.421875 48.1875 \r\nQ 40.625 48.1875 47.75 41.5 \r\nQ 54.890625 34.8125 54.890625 23.390625 \r\nQ 54.890625 11.625 47.5625 5.09375 \r\nQ 40.234375 -1.421875 26.90625 -1.421875 \r\nQ 22.3125 -1.421875 17.546875 -0.640625 \r\nQ 12.796875 0.140625 7.71875 1.703125 \r\nL 7.71875 11.625 \r\nQ 12.109375 9.234375 16.796875 8.0625 \r\nQ 21.484375 6.890625 26.703125 6.890625 \r\nQ 35.15625 6.890625 40.078125 11.328125 \r\nQ 45.015625 15.765625 45.015625 23.390625 \r\nQ 45.015625 31 40.078125 35.4375 \r\nQ 35.15625 39.890625 26.703125 39.890625 \r\nQ 22.75 39.890625 18.8125 39.015625 \r\nQ 14.890625 38.140625 10.796875 36.28125 \r\nz\r\n\" id=\"DejaVuSans-53\"/>\r\n       </defs>\r\n       <use xlink:href=\"#DejaVuSans-53\"/>\r\n       <use x=\"63.623047\" xlink:href=\"#DejaVuSans-48\"/>\r\n       <use x=\"127.246094\" xlink:href=\"#DejaVuSans-48\"/>\r\n      </g>\r\n     </g>\r\n    </g>\r\n    <g id=\"xtick_3\">\r\n     <g id=\"line2d_3\">\r\n      <g>\r\n       <use style=\"stroke:#000000;stroke-width:0.8;\" x=\"160.830357\" xlink:href=\"#m86db56989c\" y=\"164.96206\"/>\r\n      </g>\r\n     </g>\r\n     <g id=\"text_3\">\r\n      <!-- 600 -->\r\n      <g transform=\"translate(151.286607 179.560497)scale(0.1 -0.1)\">\r\n       <defs>\r\n        <path d=\"M 33.015625 40.375 \r\nQ 26.375 40.375 22.484375 35.828125 \r\nQ 18.609375 31.296875 18.609375 23.390625 \r\nQ 18.609375 15.53125 22.484375 10.953125 \r\nQ 26.375 6.390625 33.015625 6.390625 \r\nQ 39.65625 6.390625 43.53125 10.953125 \r\nQ 47.40625 15.53125 47.40625 23.390625 \r\nQ 47.40625 31.296875 43.53125 35.828125 \r\nQ 39.65625 40.375 33.015625 40.375 \r\nz\r\nM 52.59375 71.296875 \r\nL 52.59375 62.3125 \r\nQ 48.875 64.0625 45.09375 64.984375 \r\nQ 41.3125 65.921875 37.59375 65.921875 \r\nQ 27.828125 65.921875 22.671875 59.328125 \r\nQ 17.53125 52.734375 16.796875 39.40625 \r\nQ 19.671875 43.65625 24.015625 45.921875 \r\nQ 28.375 48.1875 33.59375 48.1875 \r\nQ 44.578125 48.1875 50.953125 41.515625 \r\nQ 57.328125 34.859375 57.328125 23.390625 \r\nQ 57.328125 12.15625 50.6875 5.359375 \r\nQ 44.046875 -1.421875 33.015625 -1.421875 \r\nQ 20.359375 -1.421875 13.671875 8.265625 \r\nQ 6.984375 17.96875 6.984375 36.375 \r\nQ 6.984375 53.65625 15.1875 63.9375 \r\nQ 23.390625 74.21875 37.203125 74.21875 \r\nQ 40.921875 74.21875 44.703125 73.484375 \r\nQ 48.484375 72.75 52.59375 71.296875 \r\nz\r\n\" id=\"DejaVuSans-54\"/>\r\n       </defs>\r\n       <use xlink:href=\"#DejaVuSans-54\"/>\r\n       <use x=\"63.623047\" xlink:href=\"#DejaVuSans-48\"/>\r\n       <use x=\"127.246094\" xlink:href=\"#DejaVuSans-48\"/>\r\n      </g>\r\n     </g>\r\n    </g>\r\n    <g id=\"xtick_4\">\r\n     <g id=\"line2d_4\">\r\n      <g>\r\n       <use style=\"stroke:#000000;stroke-width:0.8;\" x=\"211.8475\" xlink:href=\"#m86db56989c\" y=\"164.96206\"/>\r\n      </g>\r\n     </g>\r\n     <g id=\"text_4\">\r\n      <!-- 700 -->\r\n      <g transform=\"translate(202.30375 179.560497)scale(0.1 -0.1)\">\r\n       <defs>\r\n        <path d=\"M 8.203125 72.90625 \r\nL 55.078125 72.90625 \r\nL 55.078125 68.703125 \r\nL 28.609375 0 \r\nL 18.3125 0 \r\nL 43.21875 64.59375 \r\nL 8.203125 64.59375 \r\nz\r\n\" id=\"DejaVuSans-55\"/>\r\n       </defs>\r\n       <use xlink:href=\"#DejaVuSans-55\"/>\r\n       <use x=\"63.623047\" xlink:href=\"#DejaVuSans-48\"/>\r\n       <use x=\"127.246094\" xlink:href=\"#DejaVuSans-48\"/>\r\n      </g>\r\n     </g>\r\n    </g>\r\n   </g>\r\n   <g id=\"matplotlib.axis_2\">\r\n    <g id=\"ytick_1\">\r\n     <g id=\"line2d_5\">\r\n      <defs>\r\n       <path d=\"M 0 0 \r\nL -3.5 0 \r\n\" id=\"m8a237547b3\" style=\"stroke:#000000;stroke-width:0.8;\"/>\r\n      </defs>\r\n      <g>\r\n       <use style=\"stroke:#000000;stroke-width:0.8;\" x=\"33.2875\" xlink:href=\"#m8a237547b3\" y=\"154.758631\"/>\r\n      </g>\r\n     </g>\r\n     <g id=\"text_5\">\r\n      <!-- 50 -->\r\n      <g transform=\"translate(13.5625 158.55785)scale(0.1 -0.1)\">\r\n       <use xlink:href=\"#DejaVuSans-53\"/>\r\n       <use x=\"63.623047\" xlink:href=\"#DejaVuSans-48\"/>\r\n      </g>\r\n     </g>\r\n    </g>\r\n    <g id=\"ytick_2\">\r\n     <g id=\"line2d_6\">\r\n      <g>\r\n       <use style=\"stroke:#000000;stroke-width:0.8;\" x=\"33.2875\" xlink:href=\"#m8a237547b3\" y=\"129.25006\"/>\r\n      </g>\r\n     </g>\r\n     <g id=\"text_6\">\r\n      <!-- 100 -->\r\n      <g transform=\"translate(7.2 133.049278)scale(0.1 -0.1)\">\r\n       <defs>\r\n        <path d=\"M 12.40625 8.296875 \r\nL 28.515625 8.296875 \r\nL 28.515625 63.921875 \r\nL 10.984375 60.40625 \r\nL 10.984375 69.390625 \r\nL 28.421875 72.90625 \r\nL 38.28125 72.90625 \r\nL 38.28125 8.296875 \r\nL 54.390625 8.296875 \r\nL 54.390625 0 \r\nL 12.40625 0 \r\nz\r\n\" id=\"DejaVuSans-49\"/>\r\n       </defs>\r\n       <use xlink:href=\"#DejaVuSans-49\"/>\r\n       <use x=\"63.623047\" xlink:href=\"#DejaVuSans-48\"/>\r\n       <use x=\"127.246094\" xlink:href=\"#DejaVuSans-48\"/>\r\n      </g>\r\n     </g>\r\n    </g>\r\n    <g id=\"ytick_3\">\r\n     <g id=\"line2d_7\">\r\n      <g>\r\n       <use style=\"stroke:#000000;stroke-width:0.8;\" x=\"33.2875\" xlink:href=\"#m8a237547b3\" y=\"103.741488\"/>\r\n      </g>\r\n     </g>\r\n     <g id=\"text_7\">\r\n      <!-- 150 -->\r\n      <g transform=\"translate(7.2 107.540707)scale(0.1 -0.1)\">\r\n       <use xlink:href=\"#DejaVuSans-49\"/>\r\n       <use x=\"63.623047\" xlink:href=\"#DejaVuSans-53\"/>\r\n       <use x=\"127.246094\" xlink:href=\"#DejaVuSans-48\"/>\r\n      </g>\r\n     </g>\r\n    </g>\r\n    <g id=\"ytick_4\">\r\n     <g id=\"line2d_8\">\r\n      <g>\r\n       <use style=\"stroke:#000000;stroke-width:0.8;\" x=\"33.2875\" xlink:href=\"#m8a237547b3\" y=\"78.232917\"/>\r\n      </g>\r\n     </g>\r\n     <g id=\"text_8\">\r\n      <!-- 200 -->\r\n      <g transform=\"translate(7.2 82.032135)scale(0.1 -0.1)\">\r\n       <defs>\r\n        <path d=\"M 19.1875 8.296875 \r\nL 53.609375 8.296875 \r\nL 53.609375 0 \r\nL 7.328125 0 \r\nL 7.328125 8.296875 \r\nQ 12.9375 14.109375 22.625 23.890625 \r\nQ 32.328125 33.6875 34.8125 36.53125 \r\nQ 39.546875 41.84375 41.421875 45.53125 \r\nQ 43.3125 49.21875 43.3125 52.78125 \r\nQ 43.3125 58.59375 39.234375 62.25 \r\nQ 35.15625 65.921875 28.609375 65.921875 \r\nQ 23.96875 65.921875 18.8125 64.3125 \r\nQ 13.671875 62.703125 7.8125 59.421875 \r\nL 7.8125 69.390625 \r\nQ 13.765625 71.78125 18.9375 73 \r\nQ 24.125 74.21875 28.421875 74.21875 \r\nQ 39.75 74.21875 46.484375 68.546875 \r\nQ 53.21875 62.890625 53.21875 53.421875 \r\nQ 53.21875 48.921875 51.53125 44.890625 \r\nQ 49.859375 40.875 45.40625 35.40625 \r\nQ 44.1875 33.984375 37.640625 27.21875 \r\nQ 31.109375 20.453125 19.1875 8.296875 \r\nz\r\n\" id=\"DejaVuSans-50\"/>\r\n       </defs>\r\n       <use xlink:href=\"#DejaVuSans-50\"/>\r\n       <use x=\"63.623047\" xlink:href=\"#DejaVuSans-48\"/>\r\n       <use x=\"127.246094\" xlink:href=\"#DejaVuSans-48\"/>\r\n      </g>\r\n     </g>\r\n    </g>\r\n    <g id=\"ytick_5\">\r\n     <g id=\"line2d_9\">\r\n      <g>\r\n       <use style=\"stroke:#000000;stroke-width:0.8;\" x=\"33.2875\" xlink:href=\"#m8a237547b3\" y=\"52.724345\"/>\r\n      </g>\r\n     </g>\r\n     <g id=\"text_9\">\r\n      <!-- 250 -->\r\n      <g transform=\"translate(7.2 56.523564)scale(0.1 -0.1)\">\r\n       <use xlink:href=\"#DejaVuSans-50\"/>\r\n       <use x=\"63.623047\" xlink:href=\"#DejaVuSans-53\"/>\r\n       <use x=\"127.246094\" xlink:href=\"#DejaVuSans-48\"/>\r\n      </g>\r\n     </g>\r\n    </g>\r\n    <g id=\"ytick_6\">\r\n     <g id=\"line2d_10\">\r\n      <g>\r\n       <use style=\"stroke:#000000;stroke-width:0.8;\" x=\"33.2875\" xlink:href=\"#m8a237547b3\" y=\"27.215774\"/>\r\n      </g>\r\n     </g>\r\n     <g id=\"text_10\">\r\n      <!-- 300 -->\r\n      <g transform=\"translate(7.2 31.014993)scale(0.1 -0.1)\">\r\n       <defs>\r\n        <path d=\"M 40.578125 39.3125 \r\nQ 47.65625 37.796875 51.625 33 \r\nQ 55.609375 28.21875 55.609375 21.1875 \r\nQ 55.609375 10.40625 48.1875 4.484375 \r\nQ 40.765625 -1.421875 27.09375 -1.421875 \r\nQ 22.515625 -1.421875 17.65625 -0.515625 \r\nQ 12.796875 0.390625 7.625 2.203125 \r\nL 7.625 11.71875 \r\nQ 11.71875 9.328125 16.59375 8.109375 \r\nQ 21.484375 6.890625 26.8125 6.890625 \r\nQ 36.078125 6.890625 40.9375 10.546875 \r\nQ 45.796875 14.203125 45.796875 21.1875 \r\nQ 45.796875 27.640625 41.28125 31.265625 \r\nQ 36.765625 34.90625 28.71875 34.90625 \r\nL 20.21875 34.90625 \r\nL 20.21875 43.015625 \r\nL 29.109375 43.015625 \r\nQ 36.375 43.015625 40.234375 45.921875 \r\nQ 44.09375 48.828125 44.09375 54.296875 \r\nQ 44.09375 59.90625 40.109375 62.90625 \r\nQ 36.140625 65.921875 28.71875 65.921875 \r\nQ 24.65625 65.921875 20.015625 65.03125 \r\nQ 15.375 64.15625 9.8125 62.3125 \r\nL 9.8125 71.09375 \r\nQ 15.4375 72.65625 20.34375 73.4375 \r\nQ 25.25 74.21875 29.59375 74.21875 \r\nQ 40.828125 74.21875 47.359375 69.109375 \r\nQ 53.90625 64.015625 53.90625 55.328125 \r\nQ 53.90625 49.265625 50.4375 45.09375 \r\nQ 46.96875 40.921875 40.578125 39.3125 \r\nz\r\n\" id=\"DejaVuSans-51\"/>\r\n       </defs>\r\n       <use xlink:href=\"#DejaVuSans-51\"/>\r\n       <use x=\"63.623047\" xlink:href=\"#DejaVuSans-48\"/>\r\n       <use x=\"127.246094\" xlink:href=\"#DejaVuSans-48\"/>\r\n      </g>\r\n     </g>\r\n    </g>\r\n   </g>\r\n   <g id=\"patch_3\">\r\n    <path d=\"M 33.2875 164.96206 \r\nL 33.2875 22.318125 \r\n\" style=\"fill:none;stroke:#000000;stroke-linecap:square;stroke-linejoin:miter;stroke-width:0.8;\"/>\r\n   </g>\r\n   <g id=\"patch_4\">\r\n    <path d=\"M 211.8475 164.96206 \r\nL 211.8475 22.318125 \r\n\" style=\"fill:none;stroke:#000000;stroke-linecap:square;stroke-linejoin:miter;stroke-width:0.8;\"/>\r\n   </g>\r\n   <g id=\"patch_5\">\r\n    <path d=\"M 33.2875 164.96206 \r\nL 211.8475 164.96206 \r\n\" style=\"fill:none;stroke:#000000;stroke-linecap:square;stroke-linejoin:miter;stroke-width:0.8;\"/>\r\n   </g>\r\n   <g id=\"patch_6\">\r\n    <path d=\"M 33.2875 22.318125 \r\nL 211.8475 22.318125 \r\n\" style=\"fill:none;stroke:#000000;stroke-linecap:square;stroke-linejoin:miter;stroke-width:0.8;\"/>\r\n   </g>\r\n   <g id=\"text_11\">\r\n    <!-- iter 901/1000 -->\r\n    <g transform=\"translate(81.739375 16.318125)scale(0.12 -0.12)\">\r\n     <defs>\r\n      <path d=\"M 9.421875 54.6875 \r\nL 18.40625 54.6875 \r\nL 18.40625 0 \r\nL 9.421875 0 \r\nz\r\nM 9.421875 75.984375 \r\nL 18.40625 75.984375 \r\nL 18.40625 64.59375 \r\nL 9.421875 64.59375 \r\nz\r\n\" id=\"DejaVuSans-105\"/>\r\n      <path d=\"M 18.3125 70.21875 \r\nL 18.3125 54.6875 \r\nL 36.8125 54.6875 \r\nL 36.8125 47.703125 \r\nL 18.3125 47.703125 \r\nL 18.3125 18.015625 \r\nQ 18.3125 11.328125 20.140625 9.421875 \r\nQ 21.96875 7.515625 27.59375 7.515625 \r\nL 36.8125 7.515625 \r\nL 36.8125 0 \r\nL 27.59375 0 \r\nQ 17.1875 0 13.234375 3.875 \r\nQ 9.28125 7.765625 9.28125 18.015625 \r\nL 9.28125 47.703125 \r\nL 2.6875 47.703125 \r\nL 2.6875 54.6875 \r\nL 9.28125 54.6875 \r\nL 9.28125 70.21875 \r\nz\r\n\" id=\"DejaVuSans-116\"/>\r\n      <path d=\"M 56.203125 29.59375 \r\nL 56.203125 25.203125 \r\nL 14.890625 25.203125 \r\nQ 15.484375 15.921875 20.484375 11.0625 \r\nQ 25.484375 6.203125 34.421875 6.203125 \r\nQ 39.59375 6.203125 44.453125 7.46875 \r\nQ 49.3125 8.734375 54.109375 11.28125 \r\nL 54.109375 2.78125 \r\nQ 49.265625 0.734375 44.1875 -0.34375 \r\nQ 39.109375 -1.421875 33.890625 -1.421875 \r\nQ 20.796875 -1.421875 13.15625 6.1875 \r\nQ 5.515625 13.8125 5.515625 26.8125 \r\nQ 5.515625 40.234375 12.765625 48.109375 \r\nQ 20.015625 56 32.328125 56 \r\nQ 43.359375 56 49.78125 48.890625 \r\nQ 56.203125 41.796875 56.203125 29.59375 \r\nz\r\nM 47.21875 32.234375 \r\nQ 47.125 39.59375 43.09375 43.984375 \r\nQ 39.0625 48.390625 32.421875 48.390625 \r\nQ 24.90625 48.390625 20.390625 44.140625 \r\nQ 15.875 39.890625 15.1875 32.171875 \r\nz\r\n\" id=\"DejaVuSans-101\"/>\r\n      <path d=\"M 41.109375 46.296875 \r\nQ 39.59375 47.171875 37.8125 47.578125 \r\nQ 36.03125 48 33.890625 48 \r\nQ 26.265625 48 22.1875 43.046875 \r\nQ 18.109375 38.09375 18.109375 28.8125 \r\nL 18.109375 0 \r\nL 9.078125 0 \r\nL 9.078125 54.6875 \r\nL 18.109375 54.6875 \r\nL 18.109375 46.1875 \r\nQ 20.953125 51.171875 25.484375 53.578125 \r\nQ 30.03125 56 36.53125 56 \r\nQ 37.453125 56 38.578125 55.875 \r\nQ 39.703125 55.765625 41.0625 55.515625 \r\nz\r\n\" id=\"DejaVuSans-114\"/>\r\n      <path id=\"DejaVuSans-32\"/>\r\n      <path d=\"M 10.984375 1.515625 \r\nL 10.984375 10.5 \r\nQ 14.703125 8.734375 18.5 7.8125 \r\nQ 22.3125 6.890625 25.984375 6.890625 \r\nQ 35.75 6.890625 40.890625 13.453125 \r\nQ 46.046875 20.015625 46.78125 33.40625 \r\nQ 43.953125 29.203125 39.59375 26.953125 \r\nQ 35.25 24.703125 29.984375 24.703125 \r\nQ 19.046875 24.703125 12.671875 31.3125 \r\nQ 6.296875 37.9375 6.296875 49.421875 \r\nQ 6.296875 60.640625 12.9375 67.421875 \r\nQ 19.578125 74.21875 30.609375 74.21875 \r\nQ 43.265625 74.21875 49.921875 64.515625 \r\nQ 56.59375 54.828125 56.59375 36.375 \r\nQ 56.59375 19.140625 48.40625 8.859375 \r\nQ 40.234375 -1.421875 26.421875 -1.421875 \r\nQ 22.703125 -1.421875 18.890625 -0.6875 \r\nQ 15.09375 0.046875 10.984375 1.515625 \r\nz\r\nM 30.609375 32.421875 \r\nQ 37.25 32.421875 41.125 36.953125 \r\nQ 45.015625 41.5 45.015625 49.421875 \r\nQ 45.015625 57.28125 41.125 61.84375 \r\nQ 37.25 66.40625 30.609375 66.40625 \r\nQ 23.96875 66.40625 20.09375 61.84375 \r\nQ 16.21875 57.28125 16.21875 49.421875 \r\nQ 16.21875 41.5 20.09375 36.953125 \r\nQ 23.96875 32.421875 30.609375 32.421875 \r\nz\r\n\" id=\"DejaVuSans-57\"/>\r\n      <path d=\"M 25.390625 72.90625 \r\nL 33.6875 72.90625 \r\nL 8.296875 -9.28125 \r\nL 0 -9.28125 \r\nz\r\n\" id=\"DejaVuSans-47\"/>\r\n     </defs>\r\n     <use xlink:href=\"#DejaVuSans-105\"/>\r\n     <use x=\"27.783203\" xlink:href=\"#DejaVuSans-116\"/>\r\n     <use x=\"66.992188\" xlink:href=\"#DejaVuSans-101\"/>\r\n     <use x=\"128.515625\" xlink:href=\"#DejaVuSans-114\"/>\r\n     <use x=\"169.628906\" xlink:href=\"#DejaVuSans-32\"/>\r\n     <use x=\"201.416016\" xlink:href=\"#DejaVuSans-57\"/>\r\n     <use x=\"265.039062\" xlink:href=\"#DejaVuSans-48\"/>\r\n     <use x=\"328.662109\" xlink:href=\"#DejaVuSans-49\"/>\r\n     <use x=\"392.285156\" xlink:href=\"#DejaVuSans-47\"/>\r\n     <use x=\"425.976562\" xlink:href=\"#DejaVuSans-49\"/>\r\n     <use x=\"489.599609\" xlink:href=\"#DejaVuSans-48\"/>\r\n     <use x=\"553.222656\" xlink:href=\"#DejaVuSans-48\"/>\r\n     <use x=\"616.845703\" xlink:href=\"#DejaVuSans-48\"/>\r\n    </g>\r\n   </g>\r\n  </g>\r\n  <g id=\"axes_2\">\r\n   <g id=\"patch_7\">\r\n    <path clip-path=\"url(#p8f8975d55a)\" d=\"M 223.0075 175.180092 \r\nL 223.0075 174.543061 \r\nL 223.0075 12.737124 \r\nL 223.0075 12.100092 \r\nL 231.1615 12.100092 \r\nL 231.1615 12.737124 \r\nL 231.1615 174.543061 \r\nL 231.1615 175.180092 \r\nz\r\n\" style=\"fill:#ffffff;stroke:#ffffff;stroke-linejoin:miter;stroke-width:0.01;\"/>\r\n   </g>\r\n   <image height=\"163\" id=\"imageefec037901\" transform=\"scale(1 -1)translate(0 -163)\" width=\"8\" x=\"223\" xlink:href=\"data:image/png;base64,\r\niVBORw0KGgoAAAANSUhEUgAAAAgAAACjCAYAAAC31F+mAAABKUlEQVR4nM3Y0W3DMAyEYYqSvFlm6P57tHU30CeAquG8ivh5d2Qcxe0zvu5YfEa0XJ3HaL2vCyJbldBACBHqIiORw4EC2xShnqRdgHCbsDzf0PBEC89COThqEdxieb7TQiKpIaTh9sKAsLFy0lAW+YDNegG/3SeCqhYcSNJrrxavsFkmMIe6zXrU/x/UA/vwxDQP2Fxe5d4yzbVINNjTgBw2rgciVG2a0MoE5lBvQQJ+kWK0/C0ToCGZgwqy3CLLNrsInRpUwBYMarQyQRpYkFFtwaBo04T8KbdAwXwDgdNsyKEHW4DAfZj5LQ0iyMVsaMGFuUiwSNmUBhIu5ZCaZt3mCQ0icFjBfdDD3NPU0355HDEu/VskYerd4MRNa3RpGIE3Wl0aEhr+ADsnb5Du1rJ2AAAAAElFTkSuQmCC\" y=\"-11\"/>\r\n   <g id=\"matplotlib.axis_3\"/>\r\n   <g id=\"matplotlib.axis_4\">\r\n    <g id=\"ytick_7\">\r\n     <g id=\"line2d_11\">\r\n      <defs>\r\n       <path d=\"M 0 0 \r\nL 3.5 0 \r\n\" id=\"mb19755efa8\" style=\"stroke:#000000;stroke-width:0.8;\"/>\r\n      </defs>\r\n      <g>\r\n       <use style=\"stroke:#000000;stroke-width:0.8;\" x=\"231.1615\" xlink:href=\"#mb19755efa8\" y=\"153.840527\"/>\r\n      </g>\r\n     </g>\r\n     <g id=\"text_12\">\r\n      <!-- 10 -->\r\n      <g transform=\"translate(238.1615 157.639746)scale(0.1 -0.1)\">\r\n       <use xlink:href=\"#DejaVuSans-49\"/>\r\n       <use x=\"63.623047\" xlink:href=\"#DejaVuSans-48\"/>\r\n      </g>\r\n     </g>\r\n    </g>\r\n    <g id=\"ytick_8\">\r\n     <g id=\"line2d_12\">\r\n      <g>\r\n       <use style=\"stroke:#000000;stroke-width:0.8;\" x=\"231.1615\" xlink:href=\"#mb19755efa8\" y=\"124.162243\"/>\r\n      </g>\r\n     </g>\r\n     <g id=\"text_13\">\r\n      <!-- 15 -->\r\n      <g transform=\"translate(238.1615 127.961462)scale(0.1 -0.1)\">\r\n       <use xlink:href=\"#DejaVuSans-49\"/>\r\n       <use x=\"63.623047\" xlink:href=\"#DejaVuSans-53\"/>\r\n      </g>\r\n     </g>\r\n    </g>\r\n    <g id=\"ytick_9\">\r\n     <g id=\"line2d_13\">\r\n      <g>\r\n       <use style=\"stroke:#000000;stroke-width:0.8;\" x=\"231.1615\" xlink:href=\"#mb19755efa8\" y=\"94.483959\"/>\r\n      </g>\r\n     </g>\r\n     <g id=\"text_14\">\r\n      <!-- 20 -->\r\n      <g transform=\"translate(238.1615 98.283177)scale(0.1 -0.1)\">\r\n       <use xlink:href=\"#DejaVuSans-50\"/>\r\n       <use x=\"63.623047\" xlink:href=\"#DejaVuSans-48\"/>\r\n      </g>\r\n     </g>\r\n    </g>\r\n    <g id=\"ytick_10\">\r\n     <g id=\"line2d_14\">\r\n      <g>\r\n       <use style=\"stroke:#000000;stroke-width:0.8;\" x=\"231.1615\" xlink:href=\"#mb19755efa8\" y=\"64.805675\"/>\r\n      </g>\r\n     </g>\r\n     <g id=\"text_15\">\r\n      <!-- 25 -->\r\n      <g transform=\"translate(238.1615 68.604893)scale(0.1 -0.1)\">\r\n       <use xlink:href=\"#DejaVuSans-50\"/>\r\n       <use x=\"63.623047\" xlink:href=\"#DejaVuSans-53\"/>\r\n      </g>\r\n     </g>\r\n    </g>\r\n    <g id=\"ytick_11\">\r\n     <g id=\"line2d_15\">\r\n      <g>\r\n       <use style=\"stroke:#000000;stroke-width:0.8;\" x=\"231.1615\" xlink:href=\"#mb19755efa8\" y=\"35.12739\"/>\r\n      </g>\r\n     </g>\r\n     <g id=\"text_16\">\r\n      <!-- 30 -->\r\n      <g transform=\"translate(238.1615 38.926609)scale(0.1 -0.1)\">\r\n       <use xlink:href=\"#DejaVuSans-51\"/>\r\n       <use x=\"63.623047\" xlink:href=\"#DejaVuSans-48\"/>\r\n      </g>\r\n     </g>\r\n    </g>\r\n   </g>\r\n   <g id=\"patch_8\">\r\n    <path d=\"M 223.0075 175.180092 \r\nL 223.0075 174.543061 \r\nL 223.0075 12.737124 \r\nL 223.0075 12.100092 \r\nL 231.1615 12.100092 \r\nL 231.1615 12.737124 \r\nL 231.1615 174.543061 \r\nL 231.1615 175.180092 \r\nz\r\n\" style=\"fill:none;stroke:#000000;stroke-linejoin:miter;stroke-width:0.8;\"/>\r\n   </g>\r\n  </g>\r\n </g>\r\n <defs>\r\n  <clipPath id=\"peac2bd05d1\">\r\n   <rect height=\"142.643935\" width=\"178.56\" x=\"33.2875\" y=\"22.318125\"/>\r\n  </clipPath>\r\n  <clipPath id=\"p8f8975d55a\">\r\n   <rect height=\"163.08\" width=\"8.154\" x=\"223.0075\" y=\"12.100092\"/>\r\n  </clipPath>\r\n </defs>\r\n</svg>\r\n",
      "image/png": "[encoded data removed]"
     },
     "metadata": {
      "needs_background": "light"
     }
    }
   ],
   "source": [
    "# Training loop\n",
    "training_iter = 1000\n",
    "\n",
    "# Place in training mode\n",
    "model.train()\n",
    "likelihood.train()\n",
    "\n",
    "optimizer = torch.optim.Adam(model.parameters(), lr=10)\n",
    "\n",
    "mll = gpytorch.mlls.ExactMarginalLogLikelihood(likelihood, model)\n",
    "\n",
    "for i in range(training_iter):\n",
    "    optimizer.zero_grad()\n",
    "\n",
    "    output = model(train_x)\n",
    "\n",
    "    loss = -mll(output, train_y)\n",
    "    loss.backward()\n",
    "\n",
    "    if i % 100 == 0: \n",
    "        print('Iter %d/%d - Loss: %.3f  lengthscale1: %s   noise: %s' % (\n",
    "        i+1, training_iter, loss.item(), \n",
    "        model.covar_module.base_kernel.lengthscale.detach().numpy(),\n",
    "        model.likelihood.noise.detach().numpy()\n",
    "        )) \n",
    "\n",
    "        # get a quick snapshot of intermediate \n",
    "        model.eval()\n",
    "        likelihood.eval()\n",
    "        with torch.no_grad(), gpytorch.settings.fast_pred_var():\n",
    "            obs = likelihood(model(test_x))\n",
    "\n",
    "            f, ax = plt.subplots(1, 1, figsize=(4,3))\n",
    "            intermediate_plot(f, ax, obs, f'iter {i+1}/{training_iter}')\n",
    "        model.train()\n",
    "        likelihood.train()\n",
    "\n",
    "\n",
    "    optimizer.step()"
   ]
  },
  {
   "cell_type": "code",
   "execution_count": 8,
   "metadata": {},
   "outputs": [],
   "source": [
    "# make predictions\n",
    "model.eval()\n",
    "likelihood.eval()\n",
    "\n",
    "with torch.no_grad(), gpytorch.settings.fast_pred_var():\n",
    "    obs = likelihood(model(test_x))\n",
    "# print(f'train data: {fe_data[\"2Pr (uC/cm2), Pristine state\"][1]}')\n",
    "# print(f'observed: {obs.mean}')"
   ]
  },
  {
   "cell_type": "code",
   "execution_count": 9,
   "metadata": {},
   "outputs": [
    {
     "output_type": "display_data",
     "data": {
      "application/vnd.plotly.v1+json": {
       "config": {
        "plotlyServerURL": "https://plot.ly"
       },
       "data": [
        {
         "name": "GP regression",
         "type": "surface",
         "x": [
          337.5,
          350.4310302734375,
          363.362060546875,
          376.2930908203125,
          389.22412109375,
          402.1551513671875,
          415.0862121582031,
          428.0172424316406,
          440.9482727050781,
          453.8793029785156,
          466.8103332519531,
          479.7413635253906,
          492.67242431640625,
          505.60345458984375,
          518.5344848632812,
          531.4655151367188,
          544.3965454101562,
          557.3275756835938,
          570.2586059570312,
          583.189697265625,
          596.1207275390625,
          609.0517578125,
          621.9827880859375,
          634.913818359375,
          647.8448486328125,
          660.77587890625,
          673.7069091796875,
          686.637939453125,
          699.5689697265625,
          712.5
         ],
         "y": [
          20.014286041259766,
          30.344335556030273,
          40.67438507080078,
          51.004432678222656,
          61.3344841003418,
          71.66453552246094,
          81.99458312988281,
          92.32463073730469,
          102.65467834472656,
          112.98472595214844,
          123.31477355957031,
          133.6448211669922,
          143.97488403320312,
          154.304931640625,
          164.63497924804688,
          174.96502685546875,
          185.29507446289062,
          195.6251220703125,
          205.95516967773438,
          216.2852325439453,
          226.6152801513672,
          236.94532775878906,
          247.27537536621094,
          257.6054382324219,
          267.93548583984375,
          278.2655334472656,
          288.5955810546875,
          298.9256286621094,
          309.25567626953125,
          319.5857238769531
         ],
         "z": [
          [
           6.126470565795898,
           5.495807647705078,
           9.128290176391602,
           15.567831039428711,
           22.131925582885742,
           26.753358840942383,
           28.960792541503906,
           29.456148147583008,
           29.165571212768555,
           28.714548110961914,
           28.435699462890625,
           28.5189151763916,
           29.057157516479492,
           29.996042251586914,
           31.060749053955078,
           31.753652572631836,
           31.537330627441406,
           30.175689697265625,
           27.972747802734375,
           25.65744400024414,
           23.969018936157227,
           23.255598068237305,
           23.355241775512695,
           23.783342361450195,
           24.04793357849121,
           23.893754959106445,
           23.385957717895508,
           22.834959030151367,
           22.59844970703125,
           22.85580825805664
          ],
          [
           6.118749618530273,
           5.513538360595703,
           9.18997573852539,
           15.684436798095703,
           22.302566528320312,
           26.967815399169922,
           29.204200744628906,
           29.709943771362305,
           29.406938552856445,
           28.921794891357422,
           28.600324630737305,
           28.655824661254883,
           29.203821182250977,
           30.19800567626953,
           31.34788703918457,
           32.11867141723633,
           31.932411193847656,
           30.53451156616211,
           28.24447250366211,
           25.827760696411133,
           24.056068420410156,
           23.290508270263672,
           23.36481475830078,
           23.7834415435791,
           24.045133590698242,
           23.88958168029785,
           23.380292892456055,
           22.8278865814209,
           22.59076499938965,
           22.848764419555664
          ],
          [
           6.2277069091796875,
           5.655752182006836,
           9.360937118530273,
           15.8794527053833,
           22.518911361694336,
           27.204214096069336,
           29.457321166992188,
           29.96908950805664,
           29.652156829833984,
           29.131044387817383,
           28.763843536376953,
           28.78777313232422,
           29.341873168945312,
           30.388668060302734,
           31.62245750427246,
           32.4716911315918,
           32.31836700439453,
           30.889549255371094,
           28.5194149017334,
           26.008089065551758,
           24.157546997070312,
           23.34073257446289,
           23.387691497802734,
           23.793947219848633,
           24.051124572753906,
           23.89496421813965,
           23.386878967285156,
           22.83599090576172,
           22.59953498840332,
           22.856801986694336
          ],
          [
           6.453092575073242,
           5.922296524047852,
           9.64126205444336,
           16.153141021728516,
           22.78116226196289,
           27.462413787841797,
           29.719451904296875,
           30.232324600219727,
           29.899646759033203,
           29.340723037719727,
           28.92489242553711,
           28.913511276245117,
           29.46979522705078,
           30.565746307373047,
           31.88108253479004,
           32.80833435058594,
           32.690391540527344,
           31.236366271972656,
           28.794132232666016,
           26.19615936279297,
           24.272159576416016,
           23.405614852905273,
           23.423555374145508,
           23.814714431762695,
           24.065818786621094,
           23.909818649291992,
           23.405609130859375,
           22.85914421081543,
           22.62460708618164,
           22.87978172302246
          ],
          [
           6.792905807495117,
           6.311174392700195,
           10.029376029968262,
           16.50455093383789,
           23.088808059692383,
           27.741914749145508,
           29.98969268798828,
           30.498231887817383,
           30.147659301757812,
           29.549121856689453,
           29.0820255279541,
           29.031789779663086,
           29.586135864257812,
           30.727041244506836,
           32.12043762207031,
           33.12421798706055,
           33.04363250732422,
           31.57041358947754,
           29.06499671936035,
           26.38945198059082,
           24.39833641052246,
           23.484235763549805,
           23.47188377380371,
           23.845420837402344,
           24.0889835357666,
           23.93391227722168,
           23.436185836791992,
           22.896989822387695,
           22.665590286254883,
           22.917346954345703
          ],
          [
           7.2432861328125,
           6.818389892578125,
           10.521963119506836,
           16.93144989013672,
           23.44060516357422,
           28.041828155517578,
           30.26692008972168,
           30.765201568603516,
           30.394287109375,
           29.7544002532959,
           29.233745574951172,
           29.141380310058594,
           29.689525604248047,
           30.87047576904297,
           32.33732986450195,
           33.41508483886719,
           33.37327575683594,
           31.88712501525879,
           29.32826805114746,
           26.585262298583984,
           24.53427505493164,
           23.575441360473633,
           23.531946182250977,
           23.885597229003906,
           24.120262145996094,
           23.966867446899414,
           23.478132247924805,
           22.948930740356445,
           22.72182846069336,
           22.968894958496094
          ],
          [
           7.798641204833984,
           7.438076019287109,
           11.114057540893555,
           17.430408477783203,
           23.83452606201172,
           28.360855102539062,
           30.54977798461914,
           31.031457901000977,
           30.63747787475586,
           29.95461654663086,
           29.378507614135742,
           29.2410888671875,
           29.778705596923828,
           30.99413299560547,
           32.52875900268555,
           33.676849365234375,
           33.674686431884766,
           32.18201446533203,
           29.580190658569336,
           26.780763626098633,
           24.677974700927734,
           23.677860260009766,
           23.602825164794922,
           23.93462371826172,
           24.159162521362305,
           24.008163452148438,
           23.530786514282227,
           23.014142990112305,
           22.792449951171875,
           23.033626556396484
          ],
          [
           8.451824188232422,
           8.162717819213867,
           11.799093246459961,
           17.996875762939453,
           24.26786994934082,
           28.697294235229492,
           30.83667755126953,
           31.29507827758789,
           30.87505531311035,
           30.14775276184082,
           29.514759063720703,
           29.329784393310547,
           29.85254669189453,
           31.0963077545166,
           32.69198989868164,
           33.90574645996094,
           33.94348907470703,
           32.450782775878906,
           29.817075729370117,
           26.973060607910156,
           24.82729148864746,
           23.789953231811523,
           23.68344497680664,
           23.991748809814453,
           24.205093383789062,
           24.05717658996582,
           23.593351364135742,
           23.091642379760742,
           22.876373291015625,
           23.110549926757812
          ],
          [
           9.194116592407227,
           8.983085632324219,
           12.569162368774414,
           18.62518310546875,
           24.737184524536133,
           29.049020767211914,
           31.125789642333984,
           31.55398178100586,
           31.104759216308594,
           30.331748962402344,
           29.64095687866211,
           29.40641212463379,
           29.910085678100586,
           31.175540924072266,
           32.824623107910156,
           34.098365783691406,
           34.175689697265625,
           32.689430236816406,
           30.035385131835938,
           27.159284591674805,
           24.979984283447266,
           23.910032272338867,
           23.77259063720703,
           24.056116104125977,
           24.257366180419922,
           24.1131649017334,
           23.664884567260742,
           23.180255889892578,
           22.972322463989258,
           23.198497772216797
          ],
          [
           10.015725135803223,
           9.888736724853516,
           13.415024757385254,
           19.308618545532227,
           25.23835563659668,
           29.413515090942383,
           31.41506004333496,
           31.805965423583984,
           31.32427215576172,
           30.504535675048828,
           29.75559425354004,
           29.47001838684082,
           29.950538635253906,
           31.23065185546875,
           32.92463684082031,
           34.25178527832031,
           34.36775207519531,
           32.894344329833984,
           30.23183250427246,
           27.336645126342773,
           25.133785247802734,
           24.03632164001465,
           23.86894989013672,
           24.126773834228516,
           24.315202713012695,
           24.175302505493164,
           23.74432373046875,
           23.27867889404297,
           23.078907012939453,
           23.296192169189453
          ],
          [
           10.90576457977295,
           10.8680419921875,
           14.326400756835938,
           20.039684295654297,
           25.766666412353516,
           29.787864685058594,
           31.702224731445312,
           32.048736572265625,
           31.5312442779541,
           30.664064407348633,
           29.857234954833984,
           29.51976203918457,
           29.973312377929688,
           31.260772705078125,
           32.99046325683594,
           34.363616943359375,
           34.5167236328125,
           33.06239700317383,
           30.403453826904297,
           27.502506256103516,
           25.286436080932617,
           24.166988372802734,
           23.971128463745117,
           24.202709197998047,
           24.377777099609375,
           24.242698669433594,
           23.830530166625977,
           23.385501861572266,
           23.194595336914062,
           23.402233123779297
          ],
          [
           11.85244083404541,
           11.908374786376953,
           15.29216480255127,
           20.810171127319336,
           26.316848754882812,
           30.168794631958008,
           31.98480796813965,
           32.27993392944336,
           31.723356246948242,
           30.808366775512695,
           29.944541931152344,
           29.554946899414062,
           29.97802734375,
           31.26536750793457,
           33.020999908447266,
           34.43206024169922,
           34.620277404785156,
           33.191017150878906,
           30.54768943786621,
           27.654451370239258,
           25.435760498046875,
           24.300193786621094,
           24.07770538330078,
           24.282865524291992,
           24.444223403930664,
           24.314424514770508,
           23.922319412231445,
           23.499244689941406,
           23.317771911621094,
           23.51513671875
          ],
          [
           12.843643188476562,
           12.996688842773438,
           16.300552368164062,
           21.611204147338867,
           26.8831844329834,
           30.55272674560547,
           32.260189056396484,
           32.497161865234375,
           31.898351669311523,
           30.935579299926758,
           30.01630401611328,
           29.57502555847168,
           29.96453285217285,
           31.244247436523438,
           33.01566696166992,
           34.45599365234375,
           34.676780700683594,
           33.27826690673828,
           30.66244125366211,
           27.790342330932617,
           25.579702377319336,
           24.43412971496582,
           24.18724250793457,
           24.366167068481445,
           24.51365089416504,
           24.389514923095703,
           24.018461227416992,
           23.618385314941406,
           23.446794509887695,
           23.633399963378906
          ],
          [
           13.86688232421875,
           14.119474411010742,
           17.339401245117188,
           22.433622360229492,
           27.459577560424805,
           30.935808181762695,
           32.525611877441406,
           32.69804000854492,
           32.0540771484375,
           31.043991088867188,
           30.071468353271484,
           29.579620361328125,
           29.93289566040039,
           31.197582244873047,
           32.974403381347656,
           34.4349479675293,
           34.685359954833984,
           33.32288360595703,
           30.746129989624023,
           27.908367156982422,
           25.71638298034668,
           24.567066192626953,
           24.29833221435547,
           24.451547622680664,
           24.58517074584961,
           24.467010498046875,
           24.117721557617188,
           23.74139404296875,
           23.580015182495117,
           23.755510330200195
          ],
          [
           14.909679412841797,
           15.263187408447266,
           18.39645767211914,
           23.267932891845703,
           28.039697647094727,
           31.313982009887695,
           32.778221130371094,
           32.88023376464844,
           32.188541412353516,
           31.132081985473633,
           30.109169006347656,
           29.568531036376953,
           29.883420944213867,
           31.12589454650879,
           32.8976936340332,
           34.369163513183594,
           34.6458854675293,
           33.324310302734375,
           30.797725677490234,
           28.007080078125,
           25.844131469726562,
           24.6973819732666,
           24.40962028503418,
           24.537967681884766,
           24.65791130065918,
           24.545970916748047,
           24.21889305114746,
           23.86678695678711,
           23.715808868408203,
           23.879980087280273
          ],
          [
           15.959810256958008,
           16.41449546813965,
           19.459487915039062,
           24.10465431213379,
           28.61703872680664,
           31.68304443359375,
           33.0151481628418,
           33.0415153503418,
           32.29994201660156,
           31.19855499267578,
           30.128734588623047,
           29.541746139526367,
           29.816631317138672,
           31.030059814453125,
           32.78653335571289,
           34.25957489013672,
           34.55900573730469,
           33.2827033996582,
           30.816768646240234,
           28.085437774658203,
           25.961532592773438,
           24.82360076904297,
           24.519838333129883,
           24.624435424804688,
           24.731040954589844,
           24.625484466552734,
           24.320816040039062,
           23.993114471435547,
           23.852611541748047,
           24.005374908447266
          ],
          [
           17.005590438842773,
           17.560565948486328,
           20.516572952270508,
           24.934375762939453,
           29.185060501098633,
           32.038726806640625,
           33.2335090637207,
           33.179779052734375,
           32.38671112060547,
           31.242372512817383,
           30.129730224609375,
           29.49944496154785,
           29.733278274536133,
           30.911273956298828,
           32.64243698120117,
           34.1077766418457,
           34.42612075805664,
           33.19894027709961,
           30.80337905883789,
           28.142803192138672,
           26.067428588867188,
           24.944414138793945,
           24.627817153930664,
           24.710025787353516,
           24.803768157958984,
           24.704700469970703,
           24.42238998413086,
           24.119016647338867,
           23.988962173461914,
           24.130353927612305
          ],
          [
           18.03592300415039,
           18.689167022705078,
           21.55630874633789,
           25.747961044311523,
           29.737293243408203,
           32.37675857543945,
           33.430503845214844,
           33.29313278198242,
           32.44756317138672,
           31.262784957885742,
           30.111953735351562,
           29.441999435424805,
           29.634307861328125,
           30.77104377746582,
           32.467369079589844,
           33.915992736816406,
           34.24933624267578,
           33.07456588745117,
           30.758241653442383,
           28.178955078125,
           26.160953521728516,
           25.058704376220703,
           24.732513427734375,
           24.793895721435547,
           24.875375747680664,
           24.78282356262207,
           24.522602081298828,
           24.243240356445312,
           24.12349510192871,
           24.2536678314209
          ],
          [
           19.040563583374023,
           19.7889404296875,
           22.56802749633789,
           26.536733627319336,
           30.267480850219727,
           32.69297790527344,
           33.603477478027344,
           33.37989807128906,
           32.48150634765625,
           31.25934600830078,
           30.075454711914062,
           29.36997413635254,
           29.520858764648438,
           30.61115074157715,
           32.263736724853516,
           33.68702697753906,
           34.03141403198242,
           32.91177749633789,
           30.682573318481445,
           28.194080352783203,
           26.241531372070312,
           25.16554832458496,
           24.83301544189453,
           24.875295639038086,
           24.94521141052246,
           24.859148025512695,
           24.620542526245117,
           24.36465072631836,
           24.254981994628906,
           24.374191284179688
          ],
          [
           20.0102481842041,
           20.849531173706055,
           23.54187774658203,
           27.29256248474121,
           30.7696533203125,
           32.9833869934082,
           33.74993133544922,
           33.43867111206055,
           32.48789596557617,
           31.231929779052734,
           30.020526885986328,
           29.28410530090332,
           29.39423179626465,
           30.433603286743164,
           32.034297943115234,
           33.424190521240234,
           33.77571105957031,
           32.71333312988281,
           30.578088760375977,
           28.18875503540039,
           26.308876037597656,
           25.264240264892578,
           24.928564071655273,
           24.953577041625977,
           25.01270866394043,
           24.93304443359375,
           24.715402603149414,
           24.48225212097168,
           24.382343292236328,
           24.49093246459961
          ],
          [
           20.93687629699707,
           21.861814498901367,
           24.469009399414062,
           28.00799560546875,
           31.238245010375977,
           33.24422836303711,
           33.86762237548828,
           33.468353271484375,
           32.4664192199707,
           31.180734634399414,
           29.94771957397461,
           29.185306549072266,
           29.255878448486328,
           30.240610122680664,
           31.782127380371094,
           33.1312141418457,
           33.48606872558594,
           32.48249816894531,
           30.446941375732422,
           28.16391372680664,
           26.362977981567383,
           25.354278564453125,
           25.018545150756836,
           25.028194427490234,
           25.077381134033203,
           25.003978729248047,
           24.806495666503906,
           24.59518814086914,
           24.504653930664062,
           24.603042602539062
          ],
          [
           21.813474655151367,
           22.817859649658203,
           25.341691970825195,
           28.676414489746094,
           31.668209075927734,
           33.47210693359375,
           33.95463562011719,
           33.46818542480469,
           32.417137145996094,
           31.10628890991211,
           29.857820510864258,
           29.074642181396484,
           29.107349395751953,
           30.034521102905273,
           31.510526657104492,
           32.812171936035156,
           33.166748046875,
           32.22294998168945,
           30.291664123535156,
           28.120805740356445,
           26.404085159301758,
           25.43536376953125,
           25.102495193481445,
           25.098716735839844,
           25.138835906982422,
           25.071510314941406,
           24.89325523376465,
           24.702756881713867,
           24.62115478515625,
           24.709827423095703
          ],
          [
           22.634326934814453,
           23.71109962463379,
           26.153364181518555,
           29.292068481445312,
           32.055084228515625,
           33.66401290893555,
           34.00934600830078,
           33.43775939941406,
           32.340457916259766,
           31.009429931640625,
           29.75183868408203,
           28.953304290771484,
           28.950292587280273,
           29.81778335571289,
           31.22296142578125,
           32.471370697021484,
           32.822303771972656,
           31.93868637084961,
           30.11508560180664,
           28.060955047607422,
           26.43268585205078,
           25.507389068603516,
           25.180099487304688,
           25.164813995361328,
           25.196765899658203,
           25.135292053222656,
           24.975231170654297,
           24.80440330505371,
           24.73123550415039,
           24.81072998046875
          ],
          [
           23.394989013671875,
           24.536334991455078,
           26.89870262145996,
           29.85016632080078,
           32.39507293701172,
           33.81739807128906,
           34.03056335449219,
           33.37704849243164,
           32.23715591430664,
           30.89129066467285,
           29.630996704101562,
           28.822603225708008,
           28.786399841308594,
           29.592891693115234,
           30.922985076904297,
           32.1132698059082,
           32.45747375488281,
           31.633920669555664,
           29.920272827148438,
           27.986106872558594,
           26.4494686126709,
           25.57042694091797,
           25.25118064880371,
           25.22626304626465,
           25.250946044921875,
           25.195070266723633,
           25.052095413208008,
           24.899715423583984,
           24.83446502685547,
           24.905349731445312
          ],
          [
           24.092174530029297,
           25.28962516784668,
           27.573627471923828,
           30.3469181060791,
           32.68510055541992,
           33.930259704589844,
           34.01750946044922,
           33.286399841308594,
           32.108341217041016,
           30.753284454345703,
           29.49668312072754,
           28.683935165405273,
           28.61739158630371,
           29.362342834472656,
           30.61416244506836,
           31.74237060546875,
           32.07709884643555,
           31.31298828125,
           29.710430145263672,
           27.898178100585938,
           26.45529556274414,
           25.624706268310547,
           25.315689086914062,
           25.282936096191406,
           25.301237106323242,
           25.250675201416016,
           25.123626708984375,
           24.988422393798828,
           24.930538177490234,
           24.9934139251709
          ],
          [
           24.72386932373047,
           25.968482971191406,
           28.17535400390625,
           30.77960205078125,
           32.92290496826172,
           34.001182556152344,
           33.96985626220703,
           33.16654968261719,
           31.95545196533203,
           30.597064971923828,
           29.350452423095703,
           28.538753509521484,
           28.444971084594727,
           29.128578186035156,
           30.30000114440918,
           31.36313247680664,
           31.685989379882812,
           30.980241775512695,
           29.488832473754883,
           27.799184799194336,
           26.451169967651367,
           25.67059326171875,
           25.37369155883789,
           25.33479881286621,
           25.347572326660156,
           25.30202293395996,
           25.189714431762695,
           25.070383071899414,
           25.019306182861328,
           25.074779510498047
          ],
          [
           25.289112091064453,
           26.571578979492188,
           28.702251434326172,
           31.146465301513672,
           33.106964111328125,
           34.02930450439453,
           33.887733459472656,
           33.018585205078125,
           31.780210494995117,
           30.42449378967285,
           29.1939697265625,
           28.3885498046875,
           28.27081298828125,
           28.893957138061523,
           29.983882904052734,
           30.979877471923828,
           31.288837432861328,
           30.63996696472168,
           29.258750915527344,
           27.691211700439453,
           26.438188552856445,
           25.70856475830078,
           25.42535400390625,
           25.38188934326172,
           25.389951705932617,
           25.349102020263672,
           25.250337600708008,
           25.145572662353516,
           25.100738525390625,
           25.149423599243164
          ],
          [
           25.788074493408203,
           27.098848342895508,
           29.153915405273438,
           31.446834564208984,
           33.23661804199219,
           34.01443099975586,
           33.771751403808594,
           32.84397888183594,
           31.584590911865234,
           30.237600326538086,
           29.028989791870117,
           28.234817504882812,
           28.09651756286621,
           28.660701751708984,
           29.669010162353516,
           30.596717834472656,
           30.890138626098633,
           30.29629135131836,
           29.02337074279785,
           27.576343536376953,
           26.41751480102539,
           25.73918914794922,
           25.470930099487305,
           25.42432403564453,
           25.428436279296875,
           25.391963958740234,
           25.305559158325195,
           25.214069366455078,
           25.1749267578125,
           25.217424392700195
          ],
          [
           26.2218074798584,
           27.55129623413086,
           29.531024932861328,
           31.680988311767578,
           33.31200408935547,
           33.95697784423828,
           33.62297058105469,
           32.644493103027344,
           31.370792388916016,
           30.038543701171875,
           28.857311248779297,
           28.079030990600586,
           27.923599243164062,
           28.43087387084961,
           29.358346939086914,
           30.21747589111328,
           30.49409294128418,
           29.953100204467773,
           28.785737991333008,
           27.456615447998047,
           26.39034652709961,
           25.763103485107422,
           25.5107421875,
           25.462268829345703,
           25.463138580322266,
           25.43071937561035,
           25.355520248413086,
           25.276044845581055,
           25.242050170898438,
           25.27895164489746
          ],
          [
           26.592243194580078,
           27.93092918395996,
           29.83527946472168,
           31.850154876708984,
           33.334049224853516,
           33.85798645019531,
           33.44292068481445,
           32.42220687866211,
           31.141185760498047,
           29.829561233520508,
           28.680757522583008,
           27.922624588012695,
           27.75345802307129,
           28.206340789794922,
           29.054584503173828,
           29.84564781188965,
           30.10455322265625,
           29.613990783691406,
           28.548702239990234,
           27.333980560302734,
           26.357872009277344,
           25.780981063842773,
           25.545166015625,
           25.49594497680664,
           25.49421501159668,
           25.46552276611328,
           25.400413513183594,
           25.331741333007812,
           25.30237579345703,
           25.334245681762695
          ]
         ]
        },
        {
         "marker": {
          "color": "darkgreen"
         },
         "mode": "markers",
         "name": "trianing data",
         "type": "scatter3d",
         "x": [
          350,
          350,
          350,
          350,
          360,
          380,
          400,
          400,
          500,
          600,
          700,
          389.20001220703125,
          544.4000244140625,
          440.8999938964844,
          402.20001220703125
         ],
         "y": [
          30,
          60,
          120,
          300,
          30,
          30,
          30,
          300,
          30,
          30,
          30,
          309.6000061035156,
          150,
          199.89999389648438,
          279.70001220703125
         ],
         "z": [
          0.31095001101493835,
          3.050879955291748,
          11.487239837646484,
          27.853260040283203,
          5.914820194244385,
          20.168760299682617,
          26.66847038269043,
          35.18614959716797,
          30.255699157714844,
          22.557350158691406,
          21.468669891357422,
          34.81999969482422,
          37.9900016784668,
          34.189998626708984,
          33.689998626708984
         ]
        }
       ],
       "layout": {
        "legend": {
         "orientation": "h",
         "x": 1,
         "xanchor": "left",
         "y": 1.02,
         "yanchor": "top"
        },
        "margin": {
         "b": 10,
         "l": 10,
         "r": 20,
         "t": 10
        },
        "scene": {
         "xaxis": {
          "title": {
           "text": "RTA temperature (C)"
          }
         },
         "yaxis": {
          "title": {
           "text": "RTA time (sec)"
          }
         },
         "zaxis": {
          "title": {
           "text": "2Pr (uC/cm2), Pristine"
          }
         }
        },
        "template": {
         "data": {
          "bar": [
           {
            "error_x": {
             "color": "#2a3f5f"
            },
            "error_y": {
             "color": "#2a3f5f"
            },
            "marker": {
             "line": {
              "color": "#E5ECF6",
              "width": 0.5
             }
            },
            "type": "bar"
           }
          ],
          "barpolar": [
           {
            "marker": {
             "line": {
              "color": "#E5ECF6",
              "width": 0.5
             }
            },
            "type": "barpolar"
           }
          ],
          "carpet": [
           {
            "aaxis": {
             "endlinecolor": "#2a3f5f",
             "gridcolor": "white",
             "linecolor": "white",
             "minorgridcolor": "white",
             "startlinecolor": "#2a3f5f"
            },
            "baxis": {
             "endlinecolor": "#2a3f5f",
             "gridcolor": "white",
             "linecolor": "white",
             "minorgridcolor": "white",
             "startlinecolor": "#2a3f5f"
            },
            "type": "carpet"
           }
          ],
          "choropleth": [
           {
            "colorbar": {
             "outlinewidth": 0,
             "ticks": ""
            },
            "type": "choropleth"
           }
          ],
          "contour": [
           {
            "colorbar": {
             "outlinewidth": 0,
             "ticks": ""
            },
            "colorscale": [
             [
              0,
              "#0d0887"
             ],
             [
              0.1111111111111111,
              "#46039f"
             ],
             [
              0.2222222222222222,
              "#7201a8"
             ],
             [
              0.3333333333333333,
              "#9c179e"
             ],
             [
              0.4444444444444444,
              "#bd3786"
             ],
             [
              0.5555555555555556,
              "#d8576b"
             ],
             [
              0.6666666666666666,
              "#ed7953"
             ],
             [
              0.7777777777777778,
              "#fb9f3a"
             ],
             [
              0.8888888888888888,
              "#fdca26"
             ],
             [
              1,
              "#f0f921"
             ]
            ],
            "type": "contour"
           }
          ],
          "contourcarpet": [
           {
            "colorbar": {
             "outlinewidth": 0,
             "ticks": ""
            },
            "type": "contourcarpet"
           }
          ],
          "heatmap": [
           {
            "colorbar": {
             "outlinewidth": 0,
             "ticks": ""
            },
            "colorscale": [
             [
              0,
              "#0d0887"
             ],
             [
              0.1111111111111111,
              "#46039f"
             ],
             [
              0.2222222222222222,
              "#7201a8"
             ],
             [
              0.3333333333333333,
              "#9c179e"
             ],
             [
              0.4444444444444444,
              "#bd3786"
             ],
             [
              0.5555555555555556,
              "#d8576b"
             ],
             [
              0.6666666666666666,
              "#ed7953"
             ],
             [
              0.7777777777777778,
              "#fb9f3a"
             ],
             [
              0.8888888888888888,
              "#fdca26"
             ],
             [
              1,
              "#f0f921"
             ]
            ],
            "type": "heatmap"
           }
          ],
          "heatmapgl": [
           {
            "colorbar": {
             "outlinewidth": 0,
             "ticks": ""
            },
            "colorscale": [
             [
              0,
              "#0d0887"
             ],
             [
              0.1111111111111111,
              "#46039f"
             ],
             [
              0.2222222222222222,
              "#7201a8"
             ],
             [
              0.3333333333333333,
              "#9c179e"
             ],
             [
              0.4444444444444444,
              "#bd3786"
             ],
             [
              0.5555555555555556,
              "#d8576b"
             ],
             [
              0.6666666666666666,
              "#ed7953"
             ],
             [
              0.7777777777777778,
              "#fb9f3a"
             ],
             [
              0.8888888888888888,
              "#fdca26"
             ],
             [
              1,
              "#f0f921"
             ]
            ],
            "type": "heatmapgl"
           }
          ],
          "histogram": [
           {
            "marker": {
             "colorbar": {
              "outlinewidth": 0,
              "ticks": ""
             }
            },
            "type": "histogram"
           }
          ],
          "histogram2d": [
           {
            "colorbar": {
             "outlinewidth": 0,
             "ticks": ""
            },
            "colorscale": [
             [
              0,
              "#0d0887"
             ],
             [
              0.1111111111111111,
              "#46039f"
             ],
             [
              0.2222222222222222,
              "#7201a8"
             ],
             [
              0.3333333333333333,
              "#9c179e"
             ],
             [
              0.4444444444444444,
              "#bd3786"
             ],
             [
              0.5555555555555556,
              "#d8576b"
             ],
             [
              0.6666666666666666,
              "#ed7953"
             ],
             [
              0.7777777777777778,
              "#fb9f3a"
             ],
             [
              0.8888888888888888,
              "#fdca26"
             ],
             [
              1,
              "#f0f921"
             ]
            ],
            "type": "histogram2d"
           }
          ],
          "histogram2dcontour": [
           {
            "colorbar": {
             "outlinewidth": 0,
             "ticks": ""
            },
            "colorscale": [
             [
              0,
              "#0d0887"
             ],
             [
              0.1111111111111111,
              "#46039f"
             ],
             [
              0.2222222222222222,
              "#7201a8"
             ],
             [
              0.3333333333333333,
              "#9c179e"
             ],
             [
              0.4444444444444444,
              "#bd3786"
             ],
             [
              0.5555555555555556,
              "#d8576b"
             ],
             [
              0.6666666666666666,
              "#ed7953"
             ],
             [
              0.7777777777777778,
              "#fb9f3a"
             ],
             [
              0.8888888888888888,
              "#fdca26"
             ],
             [
              1,
              "#f0f921"
             ]
            ],
            "type": "histogram2dcontour"
           }
          ],
          "mesh3d": [
           {
            "colorbar": {
             "outlinewidth": 0,
             "ticks": ""
            },
            "type": "mesh3d"
           }
          ],
          "parcoords": [
           {
            "line": {
             "colorbar": {
              "outlinewidth": 0,
              "ticks": ""
             }
            },
            "type": "parcoords"
           }
          ],
          "pie": [
           {
            "automargin": true,
            "type": "pie"
           }
          ],
          "scatter": [
           {
            "marker": {
             "colorbar": {
              "outlinewidth": 0,
              "ticks": ""
             }
            },
            "type": "scatter"
           }
          ],
          "scatter3d": [
           {
            "line": {
             "colorbar": {
              "outlinewidth": 0,
              "ticks": ""
             }
            },
            "marker": {
             "colorbar": {
              "outlinewidth": 0,
              "ticks": ""
             }
            },
            "type": "scatter3d"
           }
          ],
          "scattercarpet": [
           {
            "marker": {
             "colorbar": {
              "outlinewidth": 0,
              "ticks": ""
             }
            },
            "type": "scattercarpet"
           }
          ],
          "scattergeo": [
           {
            "marker": {
             "colorbar": {
              "outlinewidth": 0,
              "ticks": ""
             }
            },
            "type": "scattergeo"
           }
          ],
          "scattergl": [
           {
            "marker": {
             "colorbar": {
              "outlinewidth": 0,
              "ticks": ""
             }
            },
            "type": "scattergl"
           }
          ],
          "scattermapbox": [
           {
            "marker": {
             "colorbar": {
              "outlinewidth": 0,
              "ticks": ""
             }
            },
            "type": "scattermapbox"
           }
          ],
          "scatterpolar": [
           {
            "marker": {
             "colorbar": {
              "outlinewidth": 0,
              "ticks": ""
             }
            },
            "type": "scatterpolar"
           }
          ],
          "scatterpolargl": [
           {
            "marker": {
             "colorbar": {
              "outlinewidth": 0,
              "ticks": ""
             }
            },
            "type": "scatterpolargl"
           }
          ],
          "scatterternary": [
           {
            "marker": {
             "colorbar": {
              "outlinewidth": 0,
              "ticks": ""
             }
            },
            "type": "scatterternary"
           }
          ],
          "surface": [
           {
            "colorbar": {
             "outlinewidth": 0,
             "ticks": ""
            },
            "colorscale": [
             [
              0,
              "#0d0887"
             ],
             [
              0.1111111111111111,
              "#46039f"
             ],
             [
              0.2222222222222222,
              "#7201a8"
             ],
             [
              0.3333333333333333,
              "#9c179e"
             ],
             [
              0.4444444444444444,
              "#bd3786"
             ],
             [
              0.5555555555555556,
              "#d8576b"
             ],
             [
              0.6666666666666666,
              "#ed7953"
             ],
             [
              0.7777777777777778,
              "#fb9f3a"
             ],
             [
              0.8888888888888888,
              "#fdca26"
             ],
             [
              1,
              "#f0f921"
             ]
            ],
            "type": "surface"
           }
          ],
          "table": [
           {
            "cells": {
             "fill": {
              "color": "#EBF0F8"
             },
             "line": {
              "color": "white"
             }
            },
            "header": {
             "fill": {
              "color": "#C8D4E3"
             },
             "line": {
              "color": "white"
             }
            },
            "type": "table"
           }
          ]
         },
         "layout": {
          "annotationdefaults": {
           "arrowcolor": "#2a3f5f",
           "arrowhead": 0,
           "arrowwidth": 1
          },
          "autotypenumbers": "strict",
          "coloraxis": {
           "colorbar": {
            "outlinewidth": 0,
            "ticks": ""
           }
          },
          "colorscale": {
           "diverging": [
            [
             0,
             "#8e0152"
            ],
            [
             0.1,
             "#c51b7d"
            ],
            [
             0.2,
             "#de77ae"
            ],
            [
             0.3,
             "#f1b6da"
            ],
            [
             0.4,
             "#fde0ef"
            ],
            [
             0.5,
             "#f7f7f7"
            ],
            [
             0.6,
             "#e6f5d0"
            ],
            [
             0.7,
             "#b8e186"
            ],
            [
             0.8,
             "#7fbc41"
            ],
            [
             0.9,
             "#4d9221"
            ],
            [
             1,
             "#276419"
            ]
           ],
           "sequential": [
            [
             0,
             "#0d0887"
            ],
            [
             0.1111111111111111,
             "#46039f"
            ],
            [
             0.2222222222222222,
             "#7201a8"
            ],
            [
             0.3333333333333333,
             "#9c179e"
            ],
            [
             0.4444444444444444,
             "#bd3786"
            ],
            [
             0.5555555555555556,
             "#d8576b"
            ],
            [
             0.6666666666666666,
             "#ed7953"
            ],
            [
             0.7777777777777778,
             "#fb9f3a"
            ],
            [
             0.8888888888888888,
             "#fdca26"
            ],
            [
             1,
             "#f0f921"
            ]
           ],
           "sequentialminus": [
            [
             0,
             "#0d0887"
            ],
            [
             0.1111111111111111,
             "#46039f"
            ],
            [
             0.2222222222222222,
             "#7201a8"
            ],
            [
             0.3333333333333333,
             "#9c179e"
            ],
            [
             0.4444444444444444,
             "#bd3786"
            ],
            [
             0.5555555555555556,
             "#d8576b"
            ],
            [
             0.6666666666666666,
             "#ed7953"
            ],
            [
             0.7777777777777778,
             "#fb9f3a"
            ],
            [
             0.8888888888888888,
             "#fdca26"
            ],
            [
             1,
             "#f0f921"
            ]
           ]
          },
          "colorway": [
           "#636efa",
           "#EF553B",
           "#00cc96",
           "#ab63fa",
           "#FFA15A",
           "#19d3f3",
           "#FF6692",
           "#B6E880",
           "#FF97FF",
           "#FECB52"
          ],
          "font": {
           "color": "#2a3f5f"
          },
          "geo": {
           "bgcolor": "white",
           "lakecolor": "white",
           "landcolor": "#E5ECF6",
           "showlakes": true,
           "showland": true,
           "subunitcolor": "white"
          },
          "hoverlabel": {
           "align": "left"
          },
          "hovermode": "closest",
          "mapbox": {
           "style": "light"
          },
          "paper_bgcolor": "white",
          "plot_bgcolor": "#E5ECF6",
          "polar": {
           "angularaxis": {
            "gridcolor": "white",
            "linecolor": "white",
            "ticks": ""
           },
           "bgcolor": "#E5ECF6",
           "radialaxis": {
            "gridcolor": "white",
            "linecolor": "white",
            "ticks": ""
           }
          },
          "scene": {
           "xaxis": {
            "backgroundcolor": "#E5ECF6",
            "gridcolor": "white",
            "gridwidth": 2,
            "linecolor": "white",
            "showbackground": true,
            "ticks": "",
            "zerolinecolor": "white"
           },
           "yaxis": {
            "backgroundcolor": "#E5ECF6",
            "gridcolor": "white",
            "gridwidth": 2,
            "linecolor": "white",
            "showbackground": true,
            "ticks": "",
            "zerolinecolor": "white"
           },
           "zaxis": {
            "backgroundcolor": "#E5ECF6",
            "gridcolor": "white",
            "gridwidth": 2,
            "linecolor": "white",
            "showbackground": true,
            "ticks": "",
            "zerolinecolor": "white"
           }
          },
          "shapedefaults": {
           "line": {
            "color": "#2a3f5f"
           }
          },
          "ternary": {
           "aaxis": {
            "gridcolor": "white",
            "linecolor": "white",
            "ticks": ""
           },
           "baxis": {
            "gridcolor": "white",
            "linecolor": "white",
            "ticks": ""
           },
           "bgcolor": "#E5ECF6",
           "caxis": {
            "gridcolor": "white",
            "linecolor": "white",
            "ticks": ""
           }
          },
          "title": {
           "x": 0.05
          },
          "xaxis": {
           "automargin": true,
           "gridcolor": "white",
           "linecolor": "white",
           "ticks": "",
           "title": {
            "standoff": 15
           },
           "zerolinecolor": "white",
           "zerolinewidth": 2
          },
          "yaxis": {
           "automargin": true,
           "gridcolor": "white",
           "linecolor": "white",
           "ticks": "",
           "title": {
            "standoff": 15
           },
           "zerolinecolor": "white",
           "zerolinewidth": 2
          }
         }
        }
       }
      }
     },
     "metadata": {}
    }
   ],
   "source": [
    "# non-log scale\n",
    "\n",
    "pred_labels = obs.mean.view(n, n)\n",
    "# plot?...\n",
    "import plotly.graph_objects as go\n",
    "fig = go.Figure(data=[go.Surface(z=pred_labels.numpy().T, x=test_grid[:,0], y=test_grid[:,1], name='GP regression')])\n",
    "fig.add_trace(go.Scatter3d(x=train_x[:,0].numpy(),y=train_x[:,1].numpy(),  \n",
    "                        z=train_y.numpy(), mode='markers', marker={'color':'darkgreen'}, name='trianing data'))\n",
    "fig.update_layout( #width=1000, height=800,\n",
    "                  legend=dict(orientation=\"h\", yanchor=\"top\", y=1.02, xanchor=\"left\",x=1),\n",
    "                   margin=dict(r=20, l=10, b=10, t=10), \n",
    "                    scene=dict(\n",
    "                    xaxis_title=\"RTA temperature (C)\",\n",
    "                    yaxis_title=\"RTA time (sec)\",\n",
    "                    zaxis_title='2Pr (uC/cm2), Pristine')\n",
    "                )\n",
    "fig.show()"
   ]
  },
  {
   "cell_type": "code",
   "execution_count": 13,
   "metadata": {},
   "outputs": [],
   "source": [
    "# # log scale\n",
    "# pred_labels = obs.mean.view(n, n)\n",
    "# # plot?...\n",
    "# import plotly.graph_objects as go\n",
    "# fig = go.Figure(data=[go.Surface(z=pred_labels.numpy().T, x=test_grid[:,0], y=test_grid[:,1], name='GP regression')])\n",
    "# fig.add_trace(go.Scatter3d(x=train_x[:,0].numpy(),y=train_x[:,1].numpy(),  \n",
    "#                         z=train_y.numpy(), mode='markers', marker={'color':'darkgreen'}, name='trianing data'))\n",
    "# fig.update_layout( #width=1000, height=800,\n",
    "#                   legend=dict(orientation=\"h\", yanchor=\"top\", y=1.02, xanchor=\"left\",x=1),\n",
    "#                    margin=dict(r=20, l=10, b=10, t=10), \n",
    "#                     scene=dict(\n",
    "#                     xaxis_title=\"RTA temperature (C)\",\n",
    "#                     yaxis_title=\"RTA time (sec)\",\n",
    "#                     zaxis_title='2Pr (uC/cm2), Pristine')\n",
    "#                 )\n",
    "# fig.show()"
   ]
  },
  {
   "cell_type": "code",
   "execution_count": 14,
   "metadata": {},
   "outputs": [],
   "source": [
    "from mltools.acq_funcs import EI, PI, cust_acq, thompson\n",
    "bounds = [1,1]\n",
    "\n",
    "PI_acq = PI(obs, bounds, train_y)\n",
    "PI_acq_shape = PI_acq.detach().numpy().reshape(30,30).T\n",
    "\n",
    "EI_acq = EI(obs, bounds, train_y)\n",
    "EI_acq_shape = EI_acq.detach().numpy().reshape(30,30).T\n",
    "\n",
    "ca_acq = cust_acq(obs, bounds, train_y)\n",
    "ca_acq_shape = ca_acq.detach().numpy().reshape(30,30).T\n",
    "\n",
    "th_acq = thompson(obs, bounds, train_y)\n",
    "th_acq_shape = th_acq.detach().numpy().reshape(30,30).T\n",
    "# fig = go.Figure(data=[go.Surface(z=acq, x=test_grid[:,0], y=test_grid[:,1])])\n"
   ]
  },
  {
   "cell_type": "code",
   "execution_count": 15,
   "metadata": {},
   "outputs": [],
   "source": [
    "ei = np.unravel_index(EI_acq_shape.argmax(), EI_acq_shape.shape)\n",
    "pi = np.unravel_index(PI_acq_shape.argmax(), PI_acq_shape.shape)\n",
    "ca = np.unravel_index(ca_acq_shape.argmax(), ca_acq_shape.shape)\n",
    "th = np.unravel_index(th_acq_shape.argmax(), th_acq_shape.shape)"
   ]
  },
  {
   "cell_type": "code",
   "execution_count": 16,
   "metadata": {},
   "outputs": [
    {
     "output_type": "display_data",
     "data": {
      "application/vnd.plotly.v1+json": {
       "config": {
        "plotlyServerURL": "https://plot.ly"
       },
       "data": [
        {
         "opacity": 0.5,
         "showscale": false,
         "type": "surface",
         "x": [
          337.5,
          350.4310302734375,
          363.362060546875,
          376.2930908203125,
          389.22412109375,
          402.1551513671875,
          415.0862121582031,
          428.0172424316406,
          440.9482727050781,
          453.8793029785156,
          466.8103332519531,
          479.7413635253906,
          492.67242431640625,
          505.60345458984375,
          518.5344848632812,
          531.4655151367188,
          544.3965454101562,
          557.3275756835938,
          570.2586059570312,
          583.189697265625,
          596.1207275390625,
          609.0517578125,
          621.9827880859375,
          634.913818359375,
          647.8448486328125,
          660.77587890625,
          673.7069091796875,
          686.637939453125,
          699.5689697265625,
          712.5
         ],
         "y": [
          20.014286041259766,
          30.344335556030273,
          40.67438507080078,
          51.004432678222656,
          61.3344841003418,
          71.66453552246094,
          81.99458312988281,
          92.32463073730469,
          102.65467834472656,
          112.98472595214844,
          123.31477355957031,
          133.6448211669922,
          143.97488403320312,
          154.304931640625,
          164.63497924804688,
          174.96502685546875,
          185.29507446289062,
          195.6251220703125,
          205.95516967773438,
          216.2852325439453,
          226.6152801513672,
          236.94532775878906,
          247.27537536621094,
          257.6054382324219,
          267.93548583984375,
          278.2655334472656,
          288.5955810546875,
          298.9256286621094,
          309.25567626953125,
          319.5857238769531
         ],
         "z": [
          [
           19.13869857788086,
           16.87253761291504,
           20.410614013671875,
           27.186840057373047,
           33.919677734375,
           39.23927307128906,
           43.0592041015625,
           45.29993438720703,
           46.1402587890625,
           46.038230895996094,
           45.167327880859375,
           43.606353759765625,
           42.32709503173828,
           43.01897430419922,
           45.38939666748047,
           47.29802322387695,
           47.670955657958984,
           46.517478942871094,
           43.84130096435547,
           40.049442291259766,
           36.94770050048828,
           36.74419021606445,
           38.915245056152344,
           41.17181396484375,
           42.20173645019531,
           41.672142028808594,
           39.66351318359375,
           36.945560455322266,
           35.48890686035156,
           36.83308792114258
          ],
          [
           18.951393127441406,
           16.69417953491211,
           20.345333099365234,
           27.238975524902344,
           34.04166793823242,
           39.38993835449219,
           43.198402404785156,
           45.391197204589844,
           46.18431091308594,
           46.073238372802734,
           45.22248840332031,
           43.685550689697266,
           42.43245315551758,
           43.148292541503906,
           45.517452239990234,
           47.392127990722656,
           47.7374153137207,
           46.60087585449219,
           43.94722366333008,
           40.137271881103516,
           36.98849868774414,
           36.74820327758789,
           38.90752410888672,
           41.164390563964844,
           42.19525146484375,
           41.66227722167969,
           39.6438102722168,
           36.910675048828125,
           35.444313049316406,
           36.7972297668457
          ],
          [
           18.923030853271484,
           16.701370239257812,
           20.46014404296875,
           27.446043014526367,
           34.28886032104492,
           39.629390716552734,
           43.38283920288086,
           45.489830017089844,
           46.21473693847656,
           46.09469985961914,
           45.28130340576172,
           43.796913146972656,
           42.59786605834961,
           43.33491134643555,
           45.66823196411133,
           47.47534942626953,
           47.779335021972656,
           46.671634674072266,
           44.070587158203125,
           40.28224182128906,
           37.1190185546875,
           36.83645248413086,
           38.95242691040039,
           41.184059143066406,
           42.20553970336914,
           41.674171447753906,
           39.66643524169922,
           36.95057678222656,
           35.49517822265625,
           36.838134765625
          ],
          [
           19.05436897277832,
           16.89406967163086,
           20.75208282470703,
           27.802478790283203,
           34.65434646606445,
           39.951332092285156,
           43.608299255371094,
           45.592918395996094,
           46.229026794433594,
           46.10064697265625,
           45.34223175048828,
           43.938331604003906,
           42.81974411010742,
           43.57550048828125,
           45.840484619140625,
           47.54755401611328,
           47.79670715332031,
           46.72966003417969,
           44.21064758300781,
           40.48243713378906,
           37.33622360229492,
           37.0064582824707,
           39.048763275146484,
           41.23036193847656,
           42.23237228393555,
           41.7075080871582,
           39.730690002441406,
           37.06372833251953,
           35.63920974731445,
           36.954139709472656
          ],
          [
           19.342905044555664,
           17.26782989501953,
           21.213314056396484,
           28.29786491394043,
           35.12637710571289,
           40.3455924987793,
           43.86848068237305,
           45.69712448120117,
           46.22502136230469,
           46.089515686035156,
           45.40355682373047,
           44.1063232421875,
           43.0915641784668,
           43.86381530761719,
           46.031959533691406,
           47.609275817871094,
           47.790855407714844,
           46.775718688964844,
           44.366329193115234,
           40.73389434814453,
           37.63337707519531,
           37.2524528503418,
           39.19367980957031,
           41.30209732055664,
           42.275115966796875,
           41.76144790649414,
           39.83460235595703,
           37.245933532714844,
           35.87029266357422,
           37.14085006713867
          ],
          [
           19.782793045043945,
           17.81377601623535,
           21.831680297851562,
           28.91774559020996,
           35.6894416809082,
           40.79890823364258,
           44.15547561645508,
           45.798892974853516,
           46.201141357421875,
           46.060333251953125,
           45.46357727050781,
           44.296287536621094,
           43.40446090698242,
           44.19120788574219,
           46.23947525024414,
           47.66179656982422,
           47.76451110839844,
           46.8115234375,
           44.53624725341797,
           41.03083038330078,
           38.00066375732422,
           37.56592559814453,
           39.38282012939453,
           41.397422790527344,
           42.332786560058594,
           41.834625244140625,
           39.975067138671875,
           37.490570068359375,
           36.178958892822266,
           37.39133834838867
          ],
          [
           20.365049362182617,
           18.519195556640625,
           22.591552734375,
           29.644851684570312,
           36.32551574707031,
           41.29593276977539,
           44.4602165222168,
           45.89469909667969,
           46.15655517578125,
           46.01288604736328,
           45.52069854736328,
           44.502803802490234,
           43.74797821044922,
           44.547359466552734,
           46.459102630615234,
           47.70707702636719,
           47.7219123840332,
           46.839698791503906,
           44.718727111816406,
           41.365997314453125,
           38.42606735229492,
           37.93634033203125,
           39.610599517822266,
           41.51392364501953,
           42.4040641784668,
           41.925235748291016,
           40.14801025390625,
           37.789154052734375,
           36.55351257324219,
           37.696903228759766
          ],
          [
           21.07799530029297,
           19.368364334106445,
           23.474899291992188,
           30.46039390563965,
           37.01560974121094,
           41.82046890258789,
           44.772979736328125,
           45.981300354003906,
           46.091407775878906,
           45.94788360595703,
           45.57361602783203,
           44.71998977661133,
           44.11088562011719,
           44.92107391357422,
           46.68632507324219,
           47.747703552246094,
           47.66866683959961,
           46.86366271972656,
           44.91183090209961,
           41.7310791015625,
           38.896305084228516,
           38.351966857910156,
           39.87059783935547,
           41.64872741699219,
           42.48737335205078,
           42.03113555908203,
           40.34867858886719,
           38.13216018676758,
           36.98090362548828,
           38.0476188659668
          ],
          [
           21.907333374023438,
           20.342849731445312,
           24.462181091308594,
           31.344772338867188,
           37.74045944213867,
           42.35618209838867,
           45.084014892578125,
           46.05598068237305,
           46.007015228271484,
           45.867069244384766,
           45.62140655517578,
           44.941864013671875,
           44.48194122314453,
           45.30107498168945,
           46.91630935668945,
           47.78661346435547,
           47.61149215698242,
           46.88741683959961,
           45.11334991455078,
           42.11720657348633,
           39.397735595703125,
           38.80060958862305,
           40.155860900878906,
           41.79865646362305,
           42.580936431884766,
           42.14990997314453,
           40.57183074951172,
           38.50941848754883,
           37.44765090942383,
           38.432979583740234
          ],
          [
           22.837059020996094,
           21.422691345214844,
           25.53289222717285,
           32.278343200683594,
           38.48145294189453,
           42.88740158081055,
           45.383941650390625,
           46.116756439208984,
           45.90597152709961,
           45.77330780029297,
           45.66361999511719,
           45.16265106201172,
           44.85053253173828,
           45.67662811279297,
           47.14409637451172,
           47.82685470581055,
           47.55775451660156,
           46.915199279785156,
           45.32086181640625,
           42.515380859375,
           39.9171142578125,
           39.27033615112305,
           40.45929718017578,
           41.960357666015625,
           42.68284225463867,
           42.27898406982422,
           40.81199645996094,
           38.91078186035156,
           37.94078063964844,
           38.84263229370117
          ],
          [
           23.849708557128906,
           22.58689308166504,
           26.66641616821289,
           33.24215316772461,
           39.221214294433594,
           43.39970397949219,
           45.664241790771484,
           46.16258239746094,
           45.79225158691406,
           45.67057800292969,
           45.700340270996094,
           45.3770751953125,
           45.20711898803711,
           46.038047790527344,
           47.36486053466797,
           47.8712043762207,
           47.51486587524414,
           46.95105743408203,
           45.53169250488281,
           42.91685485839844,
           40.442115783691406,
           39.74992370605469,
           40.773948669433594,
           42.13044738769531,
           42.79113006591797,
           42.41572570800781,
           41.06375503540039,
           39.32655334472656,
           38.448097229003906,
           39.2666130065918
          ],
          [
           24.926658630371094,
           23.813724517822266,
           27.8424129486084,
           34.21828079223633,
           39.94394302368164,
           43.88031005859375,
           45.91754150390625,
           46.193477630615234,
           45.671173095703125,
           45.56389236450195,
           45.732154846191406,
           45.5805549621582,
           45.54354476928711,
           46.377010345458984,
           47.57402801513672,
           47.921783447265625,
           47.48944854736328,
           46.998355865478516,
           45.742977142333984,
           43.31349563598633,
           40.96173858642578,
           40.229248046875,
           41.093284606933594,
           42.30561065673828,
           42.903846740722656,
           42.55756378173828,
           41.321964263916016,
           39.74783706665039,
           38.95869445800781,
           39.69578552246094
          ],
          [
           26.04928207397461,
           25.081928253173828,
           29.04119873046875,
           35.18993377685547,
           40.6356201171875,
           44.318294525146484,
           46.13792419433594,
           46.21055221557617,
           45.54926300048828,
           45.45908737182617,
           45.7601203918457,
           45.76932144165039,
           45.85320281982422,
           46.686729431152344,
           47.76747512817383,
           47.979759216308594,
           47.48655319213867,
           47.0593376159668,
           45.9516716003418,
           43.69799041748047,
           41.466522216796875,
           40.699493408203125,
           41.41136169433594,
           42.48272705078125,
           43.01910400390625,
           42.70201110839844,
           41.581809997558594,
           40.16673278808594,
           39.46318054199219,
           40.12213134765625
          ],
          [
           27.19894790649414,
           26.370689392089844,
           30.244060516357422,
           36.141944885253906,
           41.2841911315918,
           44.70482635498047,
           46.321136474609375,
           46.216041564941406,
           45.43400573730469,
           45.362525939941406,
           45.785648345947266,
           45.94049072265625,
           46.13106155395508,
           46.96200942993164,
           47.94158172607422,
           48.04505157470703,
           47.50899887084961,
           47.13474655151367,
           46.15460968017578,
           44.06400680541992,
           41.94863510131836,
           41.153289794921875,
           41.722991943359375,
           42.658958435058594,
           43.1351318359375,
           42.8467903137207,
           41.839027404785156,
           40.57647705078125,
           39.95372772216797,
           40.538795471191406
          ],
          [
           28.357707977294922,
           27.6602783203125,
           31.433746337890625,
           37.06081008911133,
           41.87980651855469,
           45.0333251953125,
           46.46466064453125,
           46.213157653808594,
           45.33336639404297,
           45.28065872192383,
           45.81034469604492,
           46.0920524597168,
           46.373634338378906,
           47.19921112060547,
           48.09330368041992,
           48.116294860839844,
           47.5568962097168,
           47.22364044189453,
           46.34855651855469,
           44.40629959106445,
           42.4018669128418,
           41.584693908691406,
           42.02377700805664,
           42.831787109375,
           43.250328063964844,
           42.98986053466797,
           42.08992004394531,
           40.97156524658203,
           40.424049377441406,
           40.94015121459961
          ],
          [
           29.508893966674805,
           28.932628631591797,
           32.594573974609375,
           37.93497085571289,
           42.41480255126953,
           45.299522399902344,
           46.567867279052734,
           46.205936431884766,
           45.255210876464844,
           45.21952819824219,
           45.83583068847656,
           46.222808837890625,
           46.57887268066406,
           47.39614486694336,
           48.22020721435547,
           48.190895080566406,
           47.62763214111328,
           47.32341384887695,
           46.530303955078125,
           44.720733642578125,
           42.82160186767578,
           41.98918151855469,
           42.3101921081543,
           42.99908447265625,
           43.36327362060547,
           43.129432678222656,
           42.331459045410156,
           41.347599029541016,
           40.86930847167969,
           41.32178497314453
          ],
          [
           30.637351989746094,
           30.171489715576172,
           33.71279525756836,
           38.754920959472656,
           42.88389205932617,
           45.5015869140625,
           46.63196563720703,
           46.19892501831055,
           45.20661163330078,
           45.1842041015625,
           45.86357879638672,
           46.332298278808594,
           46.746009826660156,
           47.55192565917969,
           48.320457458496094,
           48.26522445678711,
           47.71621322631836,
           47.430023193359375,
           46.69676208496094,
           45.00423812866211,
           43.20465850830078,
           42.363548278808594,
           42.579532623291016,
           43.15910339355469,
           43.47275161743164,
           43.26403045654297,
           42.561222076416016,
           41.701324462890625,
           41.286109924316406,
           41.68047332763672
          ],
          [
           31.730026245117188,
           31.363094329833984,
           34.77694320678711,
           39.51342010498047,
           43.284271240234375,
           45.640193939208984,
           46.6600341796875,
           46.19685363769531,
           45.19310760498047,
           45.17828369140625,
           45.894710540771484,
           46.42066955566406,
           46.875389099121094,
           47.66681671142578,
           48.392818450927734,
           48.33499526977539,
           47.81586456298828,
           47.53835678100586,
           46.84507369995117,
           45.25477600097656,
           43.54918670654297,
           42.70579528808594,
           42.829891204833984,
           43.31047821044922,
           43.57776641845703,
           43.3924560546875,
           42.77741622924805,
           42.030540466308594,
           41.67220687866211,
           42.013999938964844
          ],
          [
           32.77607345581055,
           32.496212005615234,
           35.778076171875,
           40.205718994140625,
           43.615779876708984,
           45.7186279296875,
           46.656856536865234,
           46.20417022705078,
           45.21803665161133,
           45.203495025634766,
           45.92985534667969,
           46.48856735229492,
           46.968284606933594,
           47.742034912109375,
           48.43663024902344,
           48.395626068115234,
           47.9188232421875,
           47.64275360107422,
           46.97270584106445,
           45.471256256103516,
           43.8544921875,
           43.01496124267578,
           43.060081481933594,
           43.452239990234375,
           43.67753219604492,
           43.513816833496094,
           42.97883605957031,
           42.33393859863281,
           42.026451110839844,
           42.32109832763672
          ],
          [
           33.767295837402344,
           33.56262969970703,
           36.709896087646484,
           40.82954406738281,
           43.88090133666992,
           45.74272918701172,
           46.62870788574219,
           46.22468948364258,
           45.282142639160156,
           45.259490966796875,
           45.969078063964844,
           46.53697204589844,
           47.026710510253906,
           47.77958297729492,
           48.45176696777344,
           48.442626953125,
           48.01715087890625,
           47.73746871948242,
           47.07756042480469,
           45.65343475341797,
           44.120880126953125,
           43.29102325439453,
           43.269569396972656,
           43.583744049072266,
           43.77146911621094,
           43.627471923828125,
           43.16476821899414,
           42.611045837402344,
           42.348602294921875,
           42.601318359375
          ],
          [
           34.69816207885742,
           34.557186126708984,
           37.569000244140625,
           41.38529968261719,
           44.0848503112793,
           45.72087097167969,
           46.583099365234375,
           46.26115036010742,
           45.38340759277344,
           45.34385681152344,
           46.01183319091797,
           46.567115783691406,
           47.053245544433594,
           47.78207015991211,
           48.43865203857422,
           48.47193145751953,
           48.103370666503906,
           47.8171272277832,
           47.15803527832031,
           45.80181884765625,
           44.34947967529297,
           43.534698486328125,
           43.45836639404297,
           43.70465850830078,
           43.85917663574219,
           43.73302459716797,
           43.3349609375,
           42.862022399902344,
           42.63916778564453,
           42.854881286621094
          ],
          [
           35.56597137451172,
           35.4780158996582,
           38.35486602783203,
           41.87596130371094,
           44.23551559448242,
           45.6638069152832,
           46.528316497802734,
           46.31495666503906,
           45.51727294921875,
           45.45235824584961,
           46.056983947753906,
           46.58036804199219,
           47.05084228515625,
           47.7525634765625,
           48.398162841796875,
           48.48017120361328,
           48.171024322509766,
           47.87709426879883,
           47.213111877441406,
           45.91753005981445,
           44.54208755493164,
           43.74732208251953,
           43.62693786621094,
           43.8149299621582,
           43.94043731689453,
           43.83030700683594,
           43.48954772949219,
           43.08759307861328,
           42.89927673339844,
           43.08256530761719
          ],
          [
           36.370540618896484,
           36.32618713378906,
           39.06977844238281,
           42.307003021240234,
           44.343238830566406,
           45.584232330322266,
           46.472869873046875,
           46.38604736328125,
           45.677181243896484,
           45.579368591308594,
           46.10292434692383,
           46.578147888183594,
           47.02271270751953,
           47.694427490234375,
           48.331642150878906,
           48.464839935302734,
           48.21495819091797,
           47.913719177246094,
           47.24237823486328,
           46.00224304199219,
           44.70099639892578,
           43.93067932128906,
           43.77611541748047,
           43.91471481323242,
           44.015174865722656,
           43.91932678222656,
           43.62894821166992,
           43.28889465332031,
           43.130470275878906,
           43.285545349121094
          ],
          [
           37.114078521728516,
           37.1055793762207,
           39.71858215332031,
           42.68608856201172,
           44.42049026489258,
           45.496307373046875,
           46.42484664916992,
           46.472862243652344,
           45.855201721191406,
           45.7183723449707,
           46.147682189941406,
           46.561859130859375,
           46.97216033935547,
           47.6112174987793,
           48.2408447265625,
           48.42441940307617,
           48.23151397705078,
           47.924468994140625,
           47.246028900146484,
           46.058040618896484,
           44.828857421875,
           44.086891174316406,
           43.9069938659668,
           44.004356384277344,
           44.083431243896484,
           44.000244140625,
           43.75382995605469,
           43.46735382080078,
           43.33464813232422,
           43.46533203125
          ],
          [
           37.80080795288086,
           37.82244110107422,
           40.30825424194336,
           43.02254104614258,
           44.4810676574707,
           45.41455841064453,
           46.39132308959961,
           46.57257080078125,
           46.042789459228516,
           45.862491607666016,
           46.18907928466797,
           46.53287887573242,
           46.90251159667969,
           47.506561279296875,
           48.12787628173828,
           48.358367919921875,
           48.218544006347656,
           47.90797424316406,
           47.224853515625,
           46.08734130859375,
           44.9285774230957,
           44.218292236328125,
           44.02086639404297,
           44.08432388305664,
           44.14536666870117,
           44.073326110839844,
           43.865020751953125,
           43.62461853027344,
           43.513877868652344,
           43.62361145019531
          ],
          [
           38.43634033203125,
           38.48463821411133,
           40.84719467163086,
           43.32667541503906,
           44.53913497924805,
           45.35276794433594,
           46.377601623535156,
           46.681297302246094,
           46.231449127197266,
           46.005008697509766,
           46.22492980957031,
           46.49250793457031,
           46.816986083984375,
           47.38405227661133,
           47.995147705078125,
           48.267112731933594,
           48.17534637451172,
           47.86400604248047,
           47.18020248413086,
           46.09278106689453,
           45.00315856933594,
           44.32733154296875,
           44.119140625,
           44.15520477294922,
           44.20121383666992,
           44.13895034790039,
           43.963462829589844,
           43.76243591308594,
           43.670352935791016,
           43.762176513671875
          ],
          [
           39.02716064453125,
           39.100921630859375,
           41.344581604003906,
           43.608924865722656,
           44.608009338378906,
           45.322593688964844,
           46.38689422607422,
           46.794525146484375,
           46.41331100463867,
           46.13974380493164,
           46.25314712524414,
           46.441993713378906,
           46.71867370605469,
           47.247222900390625,
           47.84531784057617,
           48.15193176269531,
           48.10250473022461,
           47.793373107910156,
           47.11391067504883,
           46.0771598815918,
           45.055641174316406,
           44.41645812988281,
           44.20326614379883,
           44.217628479003906,
           44.25126647949219,
           44.197547912597656,
           44.0501708984375,
           43.882606506347656,
           43.806270599365234,
           43.882877349853516
          ],
          [
           39.57991027832031,
           39.679962158203125,
           41.80928421020508,
           43.878814697265625,
           44.698631286621094,
           45.33216857910156,
           46.41998291015625,
           46.90744400024414,
           46.581485748291016,
           46.261375427246094,
           46.271934509277344,
           46.38252258300781,
           46.610450744628906,
           47.099422454833984,
           47.68122863769531,
           48.014862060546875,
           48.00171661376953,
           47.697784423828125,
           47.028221130371094,
           46.04335021972656,
           45.0890007019043,
           44.48808670043945,
           44.27470779418945,
           44.27227783203125,
           44.29587173461914,
           44.24959182739258,
           44.12617492675781,
           43.98689651489258,
           43.923797607421875,
           43.98752975463867
          ],
          [
           40.100772857666016,
           40.22956085205078,
           42.24921417236328,
           44.14410400390625,
           44.81847381591797,
           45.3853645324707,
           46.47536849975586,
           47.015289306640625,
           46.73033905029297,
           46.3656005859375,
           46.27985382080078,
           46.315223693847656,
           46.49497604370117,
           46.94382858276367,
           47.50581359863281,
           47.85853576660156,
           47.875572204589844,
           47.579681396484375,
           46.925697326660156,
           45.99421310424805,
           45.106109619140625,
           44.544532775878906,
           44.33489227294922,
           44.31983947753906,
           44.335391998291016,
           44.29557800292969,
           44.19248962402344,
           44.0770263671875,
           44.025001525878906,
           44.077880859375
          ],
          [
           40.594810485839844,
           40.75566482543945,
           42.67033386230469,
           44.409942626953125,
           44.97059631347656,
           45.48131561279297,
           46.549522399902344,
           47.11366271972656,
           46.8555793762207,
           46.449249267578125,
           46.27590560913086,
           46.24121856689453,
           46.374664306640625,
           46.78337097167969,
           47.322052001953125,
           47.68603515625,
           47.72735595703125,
           47.44207763671875,
           46.80911636352539,
           45.932559967041016,
           45.109657287597656,
           44.58795928955078,
           44.38517761230469,
           44.361000061035156,
           44.370216369628906,
           44.33600616455078,
           44.25010299682617,
           44.15460968017578,
           44.11180877685547,
           44.15558624267578
          ]
         ]
        },
        {
         "opacity": 0.5,
         "showscale": false,
         "type": "surface",
         "x": [
          337.5,
          350.4310302734375,
          363.362060546875,
          376.2930908203125,
          389.22412109375,
          402.1551513671875,
          415.0862121582031,
          428.0172424316406,
          440.9482727050781,
          453.8793029785156,
          466.8103332519531,
          479.7413635253906,
          492.67242431640625,
          505.60345458984375,
          518.5344848632812,
          531.4655151367188,
          544.3965454101562,
          557.3275756835938,
          570.2586059570312,
          583.189697265625,
          596.1207275390625,
          609.0517578125,
          621.9827880859375,
          634.913818359375,
          647.8448486328125,
          660.77587890625,
          673.7069091796875,
          686.637939453125,
          699.5689697265625,
          712.5
         ],
         "y": [
          20.014286041259766,
          30.344335556030273,
          40.67438507080078,
          51.004432678222656,
          61.3344841003418,
          71.66453552246094,
          81.99458312988281,
          92.32463073730469,
          102.65467834472656,
          112.98472595214844,
          123.31477355957031,
          133.6448211669922,
          143.97488403320312,
          154.304931640625,
          164.63497924804688,
          174.96502685546875,
          185.29507446289062,
          195.6251220703125,
          205.95516967773438,
          216.2852325439453,
          226.6152801513672,
          236.94532775878906,
          247.27537536621094,
          257.6054382324219,
          267.93548583984375,
          278.2655334472656,
          288.5955810546875,
          298.9256286621094,
          309.25567626953125,
          319.5857238769531
         ],
         "z": [
          [
           -6.885756492614746,
           -5.880922317504883,
           -2.154033660888672,
           3.9488229751586914,
           10.3441743850708,
           14.267446517944336,
           14.862380981445312,
           13.612360000610352,
           12.190885543823242,
           11.390865325927734,
           11.704069137573242,
           13.431475639343262,
           15.78722095489502,
           16.97311019897461,
           16.732101440429688,
           16.20928192138672,
           15.403705596923828,
           13.833898544311523,
           12.104192733764648,
           11.265446662902832,
           10.990336418151855,
           9.76700496673584,
           7.795236587524414,
           6.394870758056641,
           5.894132614135742,
           6.11536979675293,
           7.108400344848633,
           8.724357604980469,
           9.707991600036621,
           8.878527641296387
          ],
          [
           -6.713893890380859,
           -5.6671037673950195,
           -1.9653806686401367,
           4.129897117614746,
           10.56346607208252,
           14.54569149017334,
           15.20999813079834,
           14.028690338134766,
           12.629566192626953,
           11.77035140991211,
           11.97816276550293,
           13.6260986328125,
           15.975190162658691,
           17.247718811035156,
           17.178321838378906,
           16.845212936401367,
           16.12740707397461,
           14.468149185180664,
           12.54172134399414,
           11.51824951171875,
           11.123637199401855,
           9.832812309265137,
           7.82210636138916,
           6.402494430541992,
           5.895015716552734,
           6.116884231567383,
           7.1167755126953125,
           8.745097160339355,
           9.737217903137207,
           8.900298118591309
          ],
          [
           -6.467617988586426,
           -5.389866828918457,
           -1.7382698059082031,
           4.312862396240234,
           10.74896240234375,
           14.779038429260254,
           15.5318021774292,
           14.448347091674805,
           13.089578628540039,
           12.167388916015625,
           12.246383666992188,
           13.778632164001465,
           16.085880279541016,
           17.442424774169922,
           17.576683044433594,
           17.468032836914062,
           16.857398986816406,
           15.107463836669922,
           12.968243598937988,
           11.733936309814453,
           11.196073532104492,
           9.845011711120605,
           7.822956085205078,
           6.403837203979492,
           5.896709442138672,
           6.115756988525391,
           7.107320785522461,
           8.721405982971191,
           9.703890800476074,
           8.875471115112305
          ],
          [
           -6.148183822631836,
           -5.04947566986084,
           -1.4695587158203125,
           4.503802299499512,
           10.907978057861328,
           14.973495483398438,
           15.830602645874023,
           14.871731758117676,
           13.570268630981445,
           12.580799102783203,
           12.50755500793457,
           13.888692855834961,
           16.11984634399414,
           17.555992126464844,
           17.92167854309082,
           18.069114685058594,
           17.584074020385742,
           15.743074417114258,
           13.377616882324219,
           11.909883499145508,
           11.20809555053711,
           9.804771423339844,
           7.798348426818848,
           6.399068832397461,
           5.899265289306641,
           6.112129211425781,
           7.080528259277344,
           8.654558181762695,
           9.610003471374512,
           8.80542278289795
          ],
          [
           -5.75709342956543,
           -4.645481109619141,
           -1.154561996459961,
           4.711236953735352,
           11.051239967346191,
           15.138236045837402,
           16.110904693603516,
           15.29934024810791,
           14.070295333862305,
           13.00872802734375,
           12.760494232177734,
           13.957257270812988,
           16.080707550048828,
           17.590267181396484,
           18.20891571044922,
           18.639162063598633,
           18.296409606933594,
           16.365108489990234,
           13.763663291931152,
           12.045011520385742,
           11.163294792175293,
           9.716019630432129,
           7.750089645385742,
           6.388744354248047,
           5.902851104736328,
           6.106376647949219,
           7.037769317626953,
           8.54804515838623,
           9.460886001586914,
           8.693842887878418
          ],
          [
           -5.296220779418945,
           -4.176996231079102,
           -0.7877540588378906,
           4.945154190063477,
           11.19176959991455,
           15.284748077392578,
           16.37836456298828,
           15.7315092086792,
           14.587431907653809,
           13.448465347290039,
           13.003915786743164,
           13.986473083496094,
           15.974590301513672,
           17.54974365234375,
           18.435184478759766,
           19.16837501525879,
           18.982038497924805,
           16.962726593017578,
           14.12028694152832,
           12.139693260192871,
           11.067886352539062,
           9.584956169128418,
           7.681074142456055,
           6.373771667480469,
           5.907735824584961,
           6.09910774230957,
           6.981195449829102,
           8.407289505004883,
           9.264697074890137,
           8.5464506149292
          ],
          [
           -4.767766952514648,
           -3.6430444717407227,
           -0.36343860626220703,
           5.215965270996094,
           11.343534469604492,
           15.425777435302734,
           16.639339447021484,
           16.1682186126709,
           15.118400573730469,
           13.896345138549805,
           13.23631477355957,
           13.979374885559082,
           15.809431076049805,
           17.440906524658203,
           18.59841537475586,
           19.646621704101562,
           19.627460479736328,
           17.524330139160156,
           14.441652297973633,
           12.195528984069824,
           10.92988109588623,
           9.419380187988281,
           7.595050811767578,
           6.355323791503906,
           5.9142608642578125,
           6.091091156005859,
           6.913564682006836,
           8.23913288116455,
           9.031389236450195,
           8.370349884033203
          ],
          [
           -4.174345970153809,
           -3.042928695678711,
           0.12328815460205078,
           5.533357620239258,
           11.52013111114502,
           15.574118614196777,
           16.900375366210938,
           16.608854293823242,
           15.658700942993164,
           14.34762191772461,
           13.455900192260742,
           13.939579010009766,
           15.594207763671875,
           17.271541595458984,
           18.697654724121094,
           20.06378746032715,
           20.218311309814453,
           18.03790283203125,
           14.722321510314941,
           12.215042114257812,
           10.75827693939209,
           9.227941513061523,
           7.49629020690918,
           6.334772109985352,
           5.922815322875977,
           6.083217620849609,
           6.83802604675293,
           8.051124572753906,
           8.771842002868652,
           8.173480987548828
          ],
          [
           -3.519101142883301,
           -2.3766775131225586,
           0.676142692565918,
           5.905594825744629,
           11.73391056060791,
           15.74185848236084,
           17.167566299438477,
           17.051982879638672,
           16.202503204345703,
           14.796429634094238,
           13.660507202148438,
           13.870962142944336,
           15.338228225708008,
           17.050006866455078,
           18.73293685913086,
           20.410118103027344,
           20.739887237548828,
           18.491443634033203,
           14.957419395446777,
           12.201362609863281,
           10.562232971191406,
           9.019454002380371,
           7.389322280883789,
           6.313575744628906,
           5.933795928955078,
           6.076419830322266,
           6.757940292358398,
           7.851093292236328,
           8.496994972229004,
           7.964016914367676
          ],
          [
           -2.8056087493896484,
           -1.645218849182129,
           1.2971572875976562,
           6.338895797729492,
           11.995256423950195,
           15.939629554748535,
           17.446176528930664,
           17.495174407958984,
           16.742572784423828,
           15.23576545715332,
           13.847567558288574,
           13.777386665344238,
           15.050543785095215,
           16.7846736907959,
           18.705177307128906,
           20.676715850830078,
           21.177749633789062,
           18.873489379882812,
           15.142803192138672,
           12.15791130065918,
           10.350457191467285,
           8.802306175231934,
           7.278602600097656,
           6.293188095092773,
           5.947563171386719,
           6.071622848510742,
           6.6766510009765625,
           7.646577835083008,
           8.217035293579102,
           7.749752998352051
          ],
          [
           -2.038179397583008,
           -0.8508090972900391,
           1.9863853454589844,
           6.837214469909668,
           12.31212043762207,
           16.176025390625,
           17.74020767211914,
           17.934890747070312,
           17.27023696899414,
           15.657549858093262,
           14.014131546020508,
           13.662447929382324,
           14.739506721496582,
           16.483497619628906,
           18.616065979003906,
           20.856029510498047,
           21.51858139038086,
           19.173736572265625,
           15.275215148925781,
           12.088155746459961,
           10.130758285522461,
           8.584053993225098,
           7.168310165405273,
           6.274972915649414,
           5.964424133300781,
           6.069671630859375,
           6.5973052978515625,
           7.444449424743652,
           7.941091537475586,
           7.5378522872924805
          ],
          [
           -1.2217769622802734,
           0.0030241012573242188,
           2.7419166564941406,
           7.40206241607666,
           12.689754486083984,
           16.4572811126709,
           18.052074432373047,
           18.366390228271484,
           17.775541305541992,
           16.052841186523438,
           14.156929969787598,
           13.529338836669922,
           14.412510871887207,
           16.153724670410156,
           18.467971801757812,
           20.942337036132812,
           21.75110626220703,
           19.383678436279297,
           15.352400779724121,
           11.995406150817871,
           9.909780502319336,
           8.37114143371582,
           7.062128067016602,
           6.260122299194336,
           5.984600067138672,
           6.071287155151367,
           6.522674560546875,
           7.250652313232422,
           7.676851272583008,
           7.33448600769043
          ],
          [
           -0.36199474334716797,
           0.9114484786987305,
           3.559906005859375,
           8.032474517822266,
           13.130749702453613,
           16.787158966064453,
           18.38245391845703,
           18.783771514892578,
           18.247440338134766,
           16.412071228027344,
           14.272486686706543,
           13.380729675292969,
           14.075862884521484,
           15.801764488220215,
           18.263858795166016,
           20.932228088378906,
           21.867008209228516,
           19.497196197509766,
           15.373209953308105,
           11.882695198059082,
           9.69288158416748,
           8.168766021728516,
           6.96312141418457,
           6.249608993530273,
           6.008199691772461,
           6.077016830444336,
           6.455110549926758,
           7.070035934448242,
           7.430408477783203,
           7.1446685791015625
          ],
          [
           0.534815788269043,
           1.868260383605957,
           4.4347429275512695,
           8.725300788879395,
           13.634963989257812,
           17.166790008544922,
           18.730087280273438,
           19.180038452148438,
           18.674148559570312,
           16.7254581451416,
           14.357288360595703,
           13.218748092651367,
           13.734729766845703,
           15.433154106140137,
           18.007226943969727,
           20.824844360351562,
           21.86172103881836,
           19.51102066040039,
           15.337650299072266,
           11.752727508544922,
           9.484130859375,
           7.980844497680664,
           6.873674392700195,
           6.244138717651367,
           6.035209655761719,
           6.087230682373047,
           6.396417617797852,
           6.906309127807617,
           7.206302642822266,
           6.972227096557617
          ],
          [
           1.4616498947143555,
           2.8660974502563477,
           5.359169006347656,
           9.475056648254395,
           14.19958782196045,
           17.594640731811523,
           19.091781616210938,
           19.54730987548828,
           19.043718338012695,
           16.983505249023438,
           14.40799331665039,
           13.04500961303711,
           13.393205642700195,
           15.05257797241211,
           17.702083587646484,
           20.62203025817871,
           21.734874725341797,
           19.424978256225586,
           15.246895790100098,
           11.607860565185547,
           9.286396026611328,
           7.81007194519043,
           6.795463562011719,
           6.244148254394531,
           6.065494537353516,
           6.102083206176758,
           6.347866058349609,
           6.762006759643555,
           7.007570266723633,
           6.8198089599609375
          ],
          [
           2.410726547241211,
           3.8963632583618164,
           6.324403762817383,
           10.274337768554688,
           14.81927490234375,
           18.066566467285156,
           19.46242904663086,
           19.877094268798828,
           19.34467315673828,
           17.177581787109375,
           14.421637535095215,
           12.860685348510742,
           13.054389953613281,
           14.66397476196289,
           17.352861404418945,
           20.328256607055664,
           21.490379333496094,
           19.241992950439453,
           15.103235244750977,
           11.450143814086914,
           9.101463317871094,
           7.65802001953125,
           6.729484558105469,
           6.249784469604492,
           6.098808288574219,
           6.121538162231445,
           6.310174942016602,
           6.638629913330078,
           6.835914611816406,
           6.688962936401367
          ],
          [
           3.3738279342651367,
           4.949641227722168,
           7.320351600646973,
           11.113832473754883,
           15.48622989654541,
           18.575864791870117,
           19.835052490234375,
           20.160633087158203,
           19.566810607910156,
           17.300540924072266,
           14.395879745483398,
           12.66659164428711,
           12.72054672241211,
           14.270620346069336,
           16.964414596557617,
           19.950328826904297,
           21.136028289794922,
           18.967857360839844,
           14.909996032714844,
           11.281368255615234,
           8.930198669433594,
           7.525278091430664,
           6.6761016845703125,
           6.260950088500977,
           6.134784698486328,
           6.1453704833984375,
           6.283557891845703,
           6.536706924438477,
           6.691814422607422,
           6.580232620239258
          ],
          [
           4.34182071685791,
           6.0152387619018555,
           8.335675239562988,
           11.982503890991211,
           16.190317153930664,
           19.113323211669922,
           20.200973510742188,
           20.38941192626953,
           19.7020206451416,
           17.347286224365234,
           14.329197883605957,
           12.463327407836914,
           12.393226623535156,
           13.875268936157227,
           16.541919708251953,
           19.496990203857422,
           20.68280792236328,
           18.610774993896484,
           14.671409606933594,
           11.103134155273438,
           8.772722244262695,
           7.411615371704102,
           6.635135650634766,
           6.277311325073242,
           6.172985076904297,
           6.173189163208008,
           6.267787933349609,
           6.455942153930664,
           6.5747833251953125,
           6.49333381652832
          ],
          [
           5.305052757263184,
           7.081669807434082,
           9.357979774475098,
           12.867748260498047,
           16.91918182373047,
           19.667327880859375,
           20.550098419189453,
           20.555625915527344,
           19.744976043701172,
           17.315196990966797,
           14.221053123474121,
           12.251380920410156,
           12.073431015014648,
           13.480264663696289,
           16.090845108032227,
           18.97842788696289,
           20.14400291442871,
           18.18079948425293,
           14.392440795898438,
           10.91690444946289,
           8.628572463989258,
           7.316135406494141,
           6.605947494506836,
           6.298351287841797,
           6.212890625,
           6.204477310180664,
           6.262250900268555,
           6.395360946655273,
           6.483514785766602,
           6.427282333374023
          ],
          [
           6.253200531005859,
           8.136434555053711,
           10.373859405517578,
           13.755579948425293,
           17.658405303955078,
           20.224044799804688,
           20.87115478515625,
           20.652652740478516,
           19.693649291992188,
           17.204368591308594,
           14.071974754333496,
           12.031238555908203,
           11.761751174926758,
           13.087623596191406,
           15.616827011108398,
           18.40575408935547,
           19.534269332885742,
           17.689197540283203,
           14.078619003295898,
           10.72407341003418,
           8.496871948242188,
           7.237457275390625,
           6.587556838989258,
           6.3234100341796875,
           6.253948211669922,
           6.238618850708008,
           6.2660369873046875,
           6.353458404541016,
           6.416086196899414,
           6.380544662475586
          ],
          [
           7.175590515136719,
           9.166441917419434,
           11.369019508361816,
           14.630691528320312,
           18.391639709472656,
           20.7675838470459,
           21.152145385742188,
           20.675556182861328,
           19.54943084716797,
           17.017610549926758,
           13.883607864379883,
           11.803495407104492,
           11.458511352539062,
           12.699150085449219,
           15.125604629516602,
           17.790496826171875,
           18.868764877319336,
           17.147869110107422,
           13.735849380493164,
           10.526010513305664,
           8.376474380493164,
           7.173856735229492,
           6.578723907470703,
           6.3517303466796875,
           6.295585632324219,
           6.274932861328125,
           6.27802848815918,
           6.3283538818359375,
           6.370138168334961,
           6.351203918457031
          ],
          [
           8.0609769821167,
           10.15770435333252,
           12.328516006469727,
           15.476866722106934,
           19.100902557373047,
           21.280406951904297,
           21.38095474243164,
           20.621414184570312,
           19.316999435424805,
           16.76021957397461,
           13.658658981323242,
           11.568916320800781,
           11.163854598999023,
           12.316478729248047,
           14.622892379760742,
           17.144174575805664,
           18.162471771240234,
           16.568805694580078,
           13.370214462280273,
           10.324081420898438,
           8.266082763671875,
           7.123405456542969,
           6.578054428100586,
           6.382503509521484,
           6.3372344970703125,
           6.312711715698242,
           6.296962738037109,
           6.31791877746582,
           6.34303092956543,
           6.337089538574219
          ],
          [
           8.898113250732422,
           11.096014022827148,
           13.23694896697998,
           16.27713394165039,
           19.766931533813477,
           21.743793487548828,
           21.54582405090332,
           20.489471435546875,
           19.003734588623047,
           16.439489364624023,
           13.400753021240234,
           11.328462600708008,
           10.877872467041016,
           11.941137313842773,
           14.114280700683594,
           16.477901458740234,
           17.429649353027344,
           15.963651657104492,
           12.98779296875,
           10.119667053222656,
           8.164377212524414,
           7.084100723266602,
           6.584085464477539,
           6.414913177490234,
           6.378358840942383,
           6.35125732421875,
           6.321514129638672,
           6.319911956787109,
           6.331998825073242,
           6.335914611816406
          ],
          [
           9.675899505615234,
           11.967090606689453,
           14.078822135925293,
           17.014244079589844,
           20.36965560913086,
           22.13848876953125,
           21.636280059814453,
           20.281234741210938,
           18.619110107421875,
           16.064208984375,
           13.114313125610352,
           11.08334732055664,
           10.600637435913086,
           11.574565887451172,
           13.605125427246094,
           15.802120208740234,
           16.683433532714844,
           15.343374252319336,
           12.59451675415039,
           9.914173126220703,
           8.070077896118164,
           7.053962707519531,
           6.595367431640625,
           6.448171615600586,
           6.418460845947266,
           6.389898300170898,
           6.350360870361328,
           6.332075119018555,
           6.334280014038086,
           6.345367431640625
          ],
          [
           10.383541107177734,
           12.756807327270508,
           14.83899974822998,
           17.671295166015625,
           20.88913345336914,
           22.445959091186523,
           21.643695831298828,
           20.00023078918457,
           18.173892974853516,
           15.644076347351074,
           12.804285049438477,
           10.834991455078125,
           10.332271575927734,
           11.21812629699707,
           13.10045051574707,
           15.126371383666992,
           15.935651779174805,
           14.718002319335938,
           12.196004867553711,
           9.709016799926758,
           7.982013702392578,
           7.031118392944336,
           6.610509872436523,
           6.481548309326172,
           6.4571075439453125,
           6.42802619934082,
           6.382234573364258,
           6.352226257324219,
           6.347196578979492,
           6.363218307495117
          ],
          [
           11.01140022277832,
           13.4523286819458,
           15.503514289855957,
           18.232528686523438,
           21.30667495727539,
           22.64959716796875,
           21.562110900878906,
           19.65180206298828,
           17.679454803466797,
           15.18912124633789,
           12.475975036621094,
           10.584997177124023,
           10.072956085205078,
           10.873104095458984,
           12.604856491088867,
           14.459152221679688,
           15.196630477905273,
           14.096477508544922,
           11.797462463378906,
           9.505590438842773,
           7.899179458618164,
           7.013856887817383,
           6.628242492675781,
           6.514394760131836,
           6.493930816650391,
           6.465095520019531,
           6.415964126586914,
           6.378328323364258,
           6.368259429931641,
           6.387382507324219
          ],
          [
           11.551063537597656,
           14.042234420776367,
           16.059921264648438,
           18.684005737304688,
           21.60591697692871,
           22.73601531982422,
           21.388572692871094,
           19.242645263671875,
           17.147109985351562,
           14.709243774414062,
           12.13479232788086,
           10.335103988647461,
           9.822954177856445,
           10.540693283081055,
           12.122447967529297,
           13.807823181152344,
           14.475170135498047,
           13.48655891418457,
           11.40359115600586,
           9.30526351928711,
           7.820735931396484,
           7.000673294067383,
           6.647441864013672,
           6.546150207519531,
           6.528635025024414,
           6.5006561279296875,
           6.450502395629883,
           6.408538818359375,
           6.395206451416016,
           6.4159698486328125
          ],
          [
           11.996240615844727,
           14.51773452758789,
           16.498546600341797,
           19.01485252380371,
           21.77460479736328,
           22.696691513061523,
           21.123519897460938,
           18.780513763427734,
           16.587696075439453,
           14.213827133178711,
           11.786043167114258,
           10.087114334106445,
           9.582586288452148,
           10.221981048583984,
           11.656793594360352,
           13.178571701049805,
           13.778562545776367,
           12.894798278808594,
           11.01852035522461,
           9.109336853027344,
           7.746028900146484,
           6.990291595458984,
           6.667152404785156,
           6.57636833190918,
           6.561000823974609,
           6.534336090087891,
           6.484945297241211,
           6.441242218017578,
           6.426054000854492,
           6.447319030761719
          ],
          [
           12.342841148376465,
           14.87303352355957,
           16.812833786010742,
           19.217872619628906,
           21.805532455444336,
           22.52859115600586,
           20.770572662353516,
           18.27369499206543,
           16.011245727539062,
           13.71148681640625,
           11.434770584106445,
           9.842840194702148,
           9.352222442626953,
           9.917919158935547,
           11.210880279541016,
           12.576416015625,
           13.112611770629883,
           12.326517105102539,
           10.645780563354492,
           8.919017791748047,
           7.674583435058594,
           6.9816741943359375,
           6.686592102050781,
           6.604696273803711,
           6.590885162353516,
           6.565860748291016,
           6.518552780151367,
           6.475065231323242,
           6.459100723266602,
           6.480020523071289
          ],
          [
           12.589676856994629,
           15.106194496154785,
           17.000225067138672,
           19.29036521911621,
           21.69750213623047,
           22.23465919494629,
           20.336320877075195,
           17.73075294494629,
           15.426793098449707,
           13.209871292114258,
           11.085609436035156,
           9.604028701782227,
           9.132251739501953,
           9.629310607910156,
           10.787115097045898,
           12.005258560180664,
           12.481752395629883,
           11.785903930664062,
           10.288288116455078,
           8.735401153564453,
           7.606086730957031,
           6.974002838134766,
           6.705156326293945,
           6.630891799926758,
           6.61821174621582,
           6.595037460327148,
           6.550724029541016,
           6.508874893188477,
           6.492942810058594,
           6.512905120849609
          ]
         ]
        },
        {
         "marker": {
          "color": "darkgreen"
         },
         "mode": "markers",
         "name": "training data",
         "type": "scatter3d",
         "x": [
          350,
          350,
          350,
          350,
          360,
          380,
          400,
          400,
          500,
          600,
          700,
          389.20001220703125,
          544.4000244140625,
          440.8999938964844,
          402.20001220703125
         ],
         "y": [
          30,
          60,
          120,
          300,
          30,
          30,
          30,
          300,
          30,
          30,
          30,
          309.6000061035156,
          150,
          199.89999389648438,
          279.70001220703125
         ],
         "z": [
          0.31095001101493835,
          3.050879955291748,
          11.487239837646484,
          27.853260040283203,
          5.914820194244385,
          20.168760299682617,
          26.66847038269043,
          35.18614959716797,
          30.255699157714844,
          22.557350158691406,
          21.468669891357422,
          34.81999969482422,
          37.9900016784668,
          34.189998626708984,
          33.689998626708984
         ]
        },
        {
         "mode": "markers",
         "name": "max(upper confidence bound)",
         "type": "scatter3d",
         "x": [
          531.4655151367188
         ],
         "y": [
          236.94532775878906
         ],
         "z": [
          24.82360076904297
         ]
        },
        {
         "mode": "markers",
         "name": "max(thompson)",
         "type": "scatter3d",
         "x": [
          505.60345458984375
         ],
         "y": [
          319.5857238769531
         ],
         "z": [
          23.755510330200195
         ]
        },
        {
         "mode": "markers",
         "name": "max(pi)",
         "type": "scatter3d",
         "x": [
          544.3965454101562
         ],
         "y": [
          154.304931640625
         ],
         "z": [
          30.911273956298828
         ]
        },
        {
         "mode": "markers",
         "name": "max(ei)",
         "type": "scatter3d",
         "x": [
          531.4655151367188
         ],
         "y": [
          164.63497924804688
         ],
         "z": [
          32.78653335571289
         ]
        }
       ],
       "layout": {
        "height": 600,
        "legend": {
         "orientation": "h",
         "x": 1,
         "xanchor": "right",
         "y": 1.02,
         "yanchor": "bottom"
        },
        "margin": {
         "b": 10,
         "l": 10,
         "r": 20,
         "t": 10
        },
        "scene": {
         "xaxis": {
          "title": {
           "text": "RTA temperature (C)"
          }
         },
         "yaxis": {
          "title": {
           "text": "RTA time (sec)"
          }
         },
         "zaxis": {
          "title": {
           "text": "2Pr (uC/cm2), Pristine"
          }
         }
        },
        "template": {
         "data": {
          "bar": [
           {
            "error_x": {
             "color": "#2a3f5f"
            },
            "error_y": {
             "color": "#2a3f5f"
            },
            "marker": {
             "line": {
              "color": "#E5ECF6",
              "width": 0.5
             }
            },
            "type": "bar"
           }
          ],
          "barpolar": [
           {
            "marker": {
             "line": {
              "color": "#E5ECF6",
              "width": 0.5
             }
            },
            "type": "barpolar"
           }
          ],
          "carpet": [
           {
            "aaxis": {
             "endlinecolor": "#2a3f5f",
             "gridcolor": "white",
             "linecolor": "white",
             "minorgridcolor": "white",
             "startlinecolor": "#2a3f5f"
            },
            "baxis": {
             "endlinecolor": "#2a3f5f",
             "gridcolor": "white",
             "linecolor": "white",
             "minorgridcolor": "white",
             "startlinecolor": "#2a3f5f"
            },
            "type": "carpet"
           }
          ],
          "choropleth": [
           {
            "colorbar": {
             "outlinewidth": 0,
             "ticks": ""
            },
            "type": "choropleth"
           }
          ],
          "contour": [
           {
            "colorbar": {
             "outlinewidth": 0,
             "ticks": ""
            },
            "colorscale": [
             [
              0,
              "#0d0887"
             ],
             [
              0.1111111111111111,
              "#46039f"
             ],
             [
              0.2222222222222222,
              "#7201a8"
             ],
             [
              0.3333333333333333,
              "#9c179e"
             ],
             [
              0.4444444444444444,
              "#bd3786"
             ],
             [
              0.5555555555555556,
              "#d8576b"
             ],
             [
              0.6666666666666666,
              "#ed7953"
             ],
             [
              0.7777777777777778,
              "#fb9f3a"
             ],
             [
              0.8888888888888888,
              "#fdca26"
             ],
             [
              1,
              "#f0f921"
             ]
            ],
            "type": "contour"
           }
          ],
          "contourcarpet": [
           {
            "colorbar": {
             "outlinewidth": 0,
             "ticks": ""
            },
            "type": "contourcarpet"
           }
          ],
          "heatmap": [
           {
            "colorbar": {
             "outlinewidth": 0,
             "ticks": ""
            },
            "colorscale": [
             [
              0,
              "#0d0887"
             ],
             [
              0.1111111111111111,
              "#46039f"
             ],
             [
              0.2222222222222222,
              "#7201a8"
             ],
             [
              0.3333333333333333,
              "#9c179e"
             ],
             [
              0.4444444444444444,
              "#bd3786"
             ],
             [
              0.5555555555555556,
              "#d8576b"
             ],
             [
              0.6666666666666666,
              "#ed7953"
             ],
             [
              0.7777777777777778,
              "#fb9f3a"
             ],
             [
              0.8888888888888888,
              "#fdca26"
             ],
             [
              1,
              "#f0f921"
             ]
            ],
            "type": "heatmap"
           }
          ],
          "heatmapgl": [
           {
            "colorbar": {
             "outlinewidth": 0,
             "ticks": ""
            },
            "colorscale": [
             [
              0,
              "#0d0887"
             ],
             [
              0.1111111111111111,
              "#46039f"
             ],
             [
              0.2222222222222222,
              "#7201a8"
             ],
             [
              0.3333333333333333,
              "#9c179e"
             ],
             [
              0.4444444444444444,
              "#bd3786"
             ],
             [
              0.5555555555555556,
              "#d8576b"
             ],
             [
              0.6666666666666666,
              "#ed7953"
             ],
             [
              0.7777777777777778,
              "#fb9f3a"
             ],
             [
              0.8888888888888888,
              "#fdca26"
             ],
             [
              1,
              "#f0f921"
             ]
            ],
            "type": "heatmapgl"
           }
          ],
          "histogram": [
           {
            "marker": {
             "colorbar": {
              "outlinewidth": 0,
              "ticks": ""
             }
            },
            "type": "histogram"
           }
          ],
          "histogram2d": [
           {
            "colorbar": {
             "outlinewidth": 0,
             "ticks": ""
            },
            "colorscale": [
             [
              0,
              "#0d0887"
             ],
             [
              0.1111111111111111,
              "#46039f"
             ],
             [
              0.2222222222222222,
              "#7201a8"
             ],
             [
              0.3333333333333333,
              "#9c179e"
             ],
             [
              0.4444444444444444,
              "#bd3786"
             ],
             [
              0.5555555555555556,
              "#d8576b"
             ],
             [
              0.6666666666666666,
              "#ed7953"
             ],
             [
              0.7777777777777778,
              "#fb9f3a"
             ],
             [
              0.8888888888888888,
              "#fdca26"
             ],
             [
              1,
              "#f0f921"
             ]
            ],
            "type": "histogram2d"
           }
          ],
          "histogram2dcontour": [
           {
            "colorbar": {
             "outlinewidth": 0,
             "ticks": ""
            },
            "colorscale": [
             [
              0,
              "#0d0887"
             ],
             [
              0.1111111111111111,
              "#46039f"
             ],
             [
              0.2222222222222222,
              "#7201a8"
             ],
             [
              0.3333333333333333,
              "#9c179e"
             ],
             [
              0.4444444444444444,
              "#bd3786"
             ],
             [
              0.5555555555555556,
              "#d8576b"
             ],
             [
              0.6666666666666666,
              "#ed7953"
             ],
             [
              0.7777777777777778,
              "#fb9f3a"
             ],
             [
              0.8888888888888888,
              "#fdca26"
             ],
             [
              1,
              "#f0f921"
             ]
            ],
            "type": "histogram2dcontour"
           }
          ],
          "mesh3d": [
           {
            "colorbar": {
             "outlinewidth": 0,
             "ticks": ""
            },
            "type": "mesh3d"
           }
          ],
          "parcoords": [
           {
            "line": {
             "colorbar": {
              "outlinewidth": 0,
              "ticks": ""
             }
            },
            "type": "parcoords"
           }
          ],
          "pie": [
           {
            "automargin": true,
            "type": "pie"
           }
          ],
          "scatter": [
           {
            "marker": {
             "colorbar": {
              "outlinewidth": 0,
              "ticks": ""
             }
            },
            "type": "scatter"
           }
          ],
          "scatter3d": [
           {
            "line": {
             "colorbar": {
              "outlinewidth": 0,
              "ticks": ""
             }
            },
            "marker": {
             "colorbar": {
              "outlinewidth": 0,
              "ticks": ""
             }
            },
            "type": "scatter3d"
           }
          ],
          "scattercarpet": [
           {
            "marker": {
             "colorbar": {
              "outlinewidth": 0,
              "ticks": ""
             }
            },
            "type": "scattercarpet"
           }
          ],
          "scattergeo": [
           {
            "marker": {
             "colorbar": {
              "outlinewidth": 0,
              "ticks": ""
             }
            },
            "type": "scattergeo"
           }
          ],
          "scattergl": [
           {
            "marker": {
             "colorbar": {
              "outlinewidth": 0,
              "ticks": ""
             }
            },
            "type": "scattergl"
           }
          ],
          "scattermapbox": [
           {
            "marker": {
             "colorbar": {
              "outlinewidth": 0,
              "ticks": ""
             }
            },
            "type": "scattermapbox"
           }
          ],
          "scatterpolar": [
           {
            "marker": {
             "colorbar": {
              "outlinewidth": 0,
              "ticks": ""
             }
            },
            "type": "scatterpolar"
           }
          ],
          "scatterpolargl": [
           {
            "marker": {
             "colorbar": {
              "outlinewidth": 0,
              "ticks": ""
             }
            },
            "type": "scatterpolargl"
           }
          ],
          "scatterternary": [
           {
            "marker": {
             "colorbar": {
              "outlinewidth": 0,
              "ticks": ""
             }
            },
            "type": "scatterternary"
           }
          ],
          "surface": [
           {
            "colorbar": {
             "outlinewidth": 0,
             "ticks": ""
            },
            "colorscale": [
             [
              0,
              "#0d0887"
             ],
             [
              0.1111111111111111,
              "#46039f"
             ],
             [
              0.2222222222222222,
              "#7201a8"
             ],
             [
              0.3333333333333333,
              "#9c179e"
             ],
             [
              0.4444444444444444,
              "#bd3786"
             ],
             [
              0.5555555555555556,
              "#d8576b"
             ],
             [
              0.6666666666666666,
              "#ed7953"
             ],
             [
              0.7777777777777778,
              "#fb9f3a"
             ],
             [
              0.8888888888888888,
              "#fdca26"
             ],
             [
              1,
              "#f0f921"
             ]
            ],
            "type": "surface"
           }
          ],
          "table": [
           {
            "cells": {
             "fill": {
              "color": "#EBF0F8"
             },
             "line": {
              "color": "white"
             }
            },
            "header": {
             "fill": {
              "color": "#C8D4E3"
             },
             "line": {
              "color": "white"
             }
            },
            "type": "table"
           }
          ]
         },
         "layout": {
          "annotationdefaults": {
           "arrowcolor": "#2a3f5f",
           "arrowhead": 0,
           "arrowwidth": 1
          },
          "autotypenumbers": "strict",
          "coloraxis": {
           "colorbar": {
            "outlinewidth": 0,
            "ticks": ""
           }
          },
          "colorscale": {
           "diverging": [
            [
             0,
             "#8e0152"
            ],
            [
             0.1,
             "#c51b7d"
            ],
            [
             0.2,
             "#de77ae"
            ],
            [
             0.3,
             "#f1b6da"
            ],
            [
             0.4,
             "#fde0ef"
            ],
            [
             0.5,
             "#f7f7f7"
            ],
            [
             0.6,
             "#e6f5d0"
            ],
            [
             0.7,
             "#b8e186"
            ],
            [
             0.8,
             "#7fbc41"
            ],
            [
             0.9,
             "#4d9221"
            ],
            [
             1,
             "#276419"
            ]
           ],
           "sequential": [
            [
             0,
             "#0d0887"
            ],
            [
             0.1111111111111111,
             "#46039f"
            ],
            [
             0.2222222222222222,
             "#7201a8"
            ],
            [
             0.3333333333333333,
             "#9c179e"
            ],
            [
             0.4444444444444444,
             "#bd3786"
            ],
            [
             0.5555555555555556,
             "#d8576b"
            ],
            [
             0.6666666666666666,
             "#ed7953"
            ],
            [
             0.7777777777777778,
             "#fb9f3a"
            ],
            [
             0.8888888888888888,
             "#fdca26"
            ],
            [
             1,
             "#f0f921"
            ]
           ],
           "sequentialminus": [
            [
             0,
             "#0d0887"
            ],
            [
             0.1111111111111111,
             "#46039f"
            ],
            [
             0.2222222222222222,
             "#7201a8"
            ],
            [
             0.3333333333333333,
             "#9c179e"
            ],
            [
             0.4444444444444444,
             "#bd3786"
            ],
            [
             0.5555555555555556,
             "#d8576b"
            ],
            [
             0.6666666666666666,
             "#ed7953"
            ],
            [
             0.7777777777777778,
             "#fb9f3a"
            ],
            [
             0.8888888888888888,
             "#fdca26"
            ],
            [
             1,
             "#f0f921"
            ]
           ]
          },
          "colorway": [
           "#636efa",
           "#EF553B",
           "#00cc96",
           "#ab63fa",
           "#FFA15A",
           "#19d3f3",
           "#FF6692",
           "#B6E880",
           "#FF97FF",
           "#FECB52"
          ],
          "font": {
           "color": "#2a3f5f"
          },
          "geo": {
           "bgcolor": "white",
           "lakecolor": "white",
           "landcolor": "#E5ECF6",
           "showlakes": true,
           "showland": true,
           "subunitcolor": "white"
          },
          "hoverlabel": {
           "align": "left"
          },
          "hovermode": "closest",
          "mapbox": {
           "style": "light"
          },
          "paper_bgcolor": "white",
          "plot_bgcolor": "#E5ECF6",
          "polar": {
           "angularaxis": {
            "gridcolor": "white",
            "linecolor": "white",
            "ticks": ""
           },
           "bgcolor": "#E5ECF6",
           "radialaxis": {
            "gridcolor": "white",
            "linecolor": "white",
            "ticks": ""
           }
          },
          "scene": {
           "xaxis": {
            "backgroundcolor": "#E5ECF6",
            "gridcolor": "white",
            "gridwidth": 2,
            "linecolor": "white",
            "showbackground": true,
            "ticks": "",
            "zerolinecolor": "white"
           },
           "yaxis": {
            "backgroundcolor": "#E5ECF6",
            "gridcolor": "white",
            "gridwidth": 2,
            "linecolor": "white",
            "showbackground": true,
            "ticks": "",
            "zerolinecolor": "white"
           },
           "zaxis": {
            "backgroundcolor": "#E5ECF6",
            "gridcolor": "white",
            "gridwidth": 2,
            "linecolor": "white",
            "showbackground": true,
            "ticks": "",
            "zerolinecolor": "white"
           }
          },
          "shapedefaults": {
           "line": {
            "color": "#2a3f5f"
           }
          },
          "ternary": {
           "aaxis": {
            "gridcolor": "white",
            "linecolor": "white",
            "ticks": ""
           },
           "baxis": {
            "gridcolor": "white",
            "linecolor": "white",
            "ticks": ""
           },
           "bgcolor": "#E5ECF6",
           "caxis": {
            "gridcolor": "white",
            "linecolor": "white",
            "ticks": ""
           }
          },
          "title": {
           "x": 0.05
          },
          "xaxis": {
           "automargin": true,
           "gridcolor": "white",
           "linecolor": "white",
           "ticks": "",
           "title": {
            "standoff": 15
           },
           "zerolinecolor": "white",
           "zerolinewidth": 2
          },
          "yaxis": {
           "automargin": true,
           "gridcolor": "white",
           "linecolor": "white",
           "ticks": "",
           "title": {
            "standoff": 15
           },
           "zerolinecolor": "white",
           "zerolinewidth": 2
          }
         }
        },
        "width": 1000
       }
      }
     },
     "metadata": {}
    }
   ],
   "source": [
    "pred_var = obs.variance.view(n, n).detach().numpy().T\n",
    "lower, upper = obs.confidence_region()\n",
    "upper_surf = upper.detach().numpy().reshape(30,30).T\n",
    "lower_surf = lower.detach().numpy().reshape(30,30).T\n",
    "\n",
    "ucb = np.unravel_index(upper_surf.argmax(), upper_surf.shape)\n",
    "max_var = np.unravel_index(pred_var.argmax(), pred_var.shape)\n",
    "ei = np.unravel_index(EI_acq_shape.argmax(), EI_acq_shape.shape)\n",
    "pi = np.unravel_index(PI_acq_shape.argmax(), PI_acq_shape.shape)\n",
    "\n",
    "# plot?...\n",
    "import plotly.graph_objects as go\n",
    "fig = go.Figure(data=[go.Surface(z = upper_surf, x=test_grid[:,0], y=test_grid[:,1], opacity=0.5, showscale=False)])\n",
    "fig.add_trace(go.Surface(z = lower_surf, x=test_grid[:,0], y=test_grid[:,1], opacity=0.5, showscale=False))\n",
    "fig.add_trace(go.Scatter3d(x=train_x[:,0].numpy(), y=train_x[:,1].numpy(), \n",
    "                            z=train_y.numpy(), mode='markers', name='training data', marker={'color':'darkgreen'}))\n",
    "\n",
    "fig.add_trace(go.Scatter3d(x=test_grid[ucb[1], 0].numpy(), y=test_grid[ucb[0], 1].numpy(), \n",
    "                            z=[pred_labels[ucb[0], ucb[1]]], mode='markers', name='max(upper confidence bound)')) \n",
    "fig.add_trace(go.Scatter3d(x=test_grid[th[1], 0].numpy(), y=test_grid[th[0],1].numpy(), \n",
    "                            z=[pred_labels[th[0], th[1]].detach().numpy()], mode='markers', name='max(thompson)')) \n",
    "fig.add_trace(go.Scatter3d(x=test_grid[pi[1], 0].numpy(), y=test_grid[pi[0], 1].numpy(), z=[pred_labels[pi[0], pi[1]]], mode='markers', name='max(pi)'))\n",
    "\n",
    "fig.add_trace(go.Scatter3d(x=test_grid[ei[1], 0].numpy(), y=test_grid[ei[0], 1].numpy(), z=[pred_labels[ei[0], ei[1]]], mode='markers', name='max(ei)'))\n",
    "\n",
    "# fig.add_trace(go.Scatter3d(x=test_grid[ca[1], 0].numpy(), y=test_grid[ca[0], 1].numpy(), z=[pred_labels[ca[0], ca[1]]], mode='markers', name='max(ca)'))\n",
    "\n",
    "\n",
    "fig.update_layout( width=1000, height=600,\n",
    "                  margin=dict(r=20, l=10, b=10, t=10),\n",
    "                  legend=dict(orientation=\"h\", yanchor=\"bottom\", y=1.02, xanchor=\"right\",x=1),\n",
    "                  scene=dict(\n",
    "                    xaxis_title=\"RTA temperature (C)\",\n",
    "                    yaxis_title=\"RTA time (sec)\",\n",
    "                    zaxis_title='2Pr (uC/cm2), Pristine')\n",
    "                  )\n",
    "fig.show()"
   ]
  },
  {
   "cell_type": "code",
   "execution_count": 23,
   "metadata": {},
   "outputs": [
    {
     "output_type": "stream",
     "name": "stdout",
     "text": [
      "tensor(440.9483) tensor(199.9138)\ntensor(402.1552) tensor(279.7168)\ntensor(440.9483) tensor(199.9138)\ntensor(389.2241) tensor(309.6429)\ntensor(544.3965) tensor(150.0370)\n"
     ]
    }
   ],
   "source": [
    "print(test_grid[ei[1], 0], test_grid[ei[0], 1])\n",
    "print(test_grid[pi[1], 0], test_grid[pi[0], 1])\n",
    "print(test_grid[ca[1], 0], test_grid[ca[0], 1])\n",
    "print(test_grid[ucb[1], 0], test_grid[ucb[0], 1])\n",
    "print(test_grid[th[1], 0], test_grid[th[0], 1])\n"
   ]
  },
  {
   "cell_type": "code",
   "execution_count": 24,
   "metadata": {},
   "outputs": [
    {
     "output_type": "stream",
     "name": "stdout",
     "text": [
      "tensor(22.8594)\ntensor(22.4989)\ntensor(22.8594)\ntensor(22.2030)\ntensor(24.7868)\n"
     ]
    }
   ],
   "source": [
    "print(pred_labels[ei[0], ei[1]])\n",
    "print(pred_labels[pi[0], pi[1]])\n",
    "print(pred_labels[ca[0], ca[1]])\n",
    "print(pred_labels[ucb[0], ucb[1]])\n",
    "print(pred_labels[th[0], th[1]])\n"
   ]
  },
  {
   "cell_type": "code",
   "execution_count": 58,
   "metadata": {},
   "outputs": [
    {
     "output_type": "display_data",
     "data": {
      "application/vnd.plotly.v1+json": {
       "config": {
        "plotlyServerURL": "https://plot.ly"
       },
       "data": [
        {
         "type": "surface",
         "x": [
          337.5,
          350.4310302734375,
          363.362060546875,
          376.2930908203125,
          389.22412109375,
          402.1551513671875,
          415.0862121582031,
          428.0172424316406,
          440.9482727050781,
          453.8793029785156,
          466.8103332519531,
          479.74139404296875,
          492.67242431640625,
          505.60345458984375,
          518.5344848632812,
          531.4655151367188,
          544.3965454101562,
          557.3275756835938,
          570.2586059570312,
          583.1896362304688,
          596.1206665039062,
          609.0517578125,
          621.9827880859375,
          634.913818359375,
          647.8448486328125,
          660.77587890625,
          673.7069091796875,
          686.637939453125,
          699.5689697265625,
          712.5
         ],
         "y": [
          20.35714340209961,
          30.33251190185547,
          40.307884216308594,
          50.28325271606445,
          60.25862121582031,
          70.23399353027344,
          80.20936584472656,
          90.18472290039062,
          100.16009521484375,
          110.13546752929688,
          120.11083984375,
          130.08621215820312,
          140.06158447265625,
          150.03695678710938,
          160.01231384277344,
          169.98768615722656,
          179.9630584716797,
          189.9384307861328,
          199.91380310058594,
          209.88916015625,
          219.86453247070312,
          229.83990478515625,
          239.81527709960938,
          249.7906494140625,
          259.7660217285156,
          269.7413635253906,
          279.7167663574219,
          289.6921081542969,
          299.66748046875,
          309.6428527832031
         ],
         "z": [
          [
           0.36177125573158264,
           0.3135049045085907,
           0.3355322480201721,
           0.38481396436691284,
           0.42171379923820496,
           0.4425604045391083,
           0.4528649151325226,
           0.4563804566860199,
           0.4564952254295349,
           0.4568321406841278,
           0.4584297239780426,
           0.45892027020454407,
           0.45611563324928284,
           0.455710768699646,
           0.4587017893791199,
           0.45852842926979065,
           0.45647215843200684,
           0.4546177089214325,
           0.451478511095047,
           0.4428325593471527,
           0.4309549033641815,
           0.4349938631057739,
           0.4471279978752136,
           0.45283594727516174,
           0.4540351331233978,
           0.45308825373649597,
           0.4484955072402954,
           0.43680036067962646,
           0.42636838555336,
           0.435815691947937
          ],
          [
           0.35906630754470825,
           0.30862411856651306,
           0.3329530656337738,
           0.3842138946056366,
           0.42179593443870544,
           0.4428834617137909,
           0.45314785838127136,
           0.45654091238975525,
           0.45656484365463257,
           0.45685815811157227,
           0.45844173431396484,
           0.4589134752750397,
           0.4560581147670746,
           0.4556463956832886,
           0.45868945121765137,
           0.4585351347923279,
           0.4564773440361023,
           0.45461636781692505,
           0.45145735144615173,
           0.44273802638053894,
           0.4307241141796112,
           0.4348139762878418,
           0.44707295298576355,
           0.45282498002052307,
           0.4540325403213501,
           0.4530806243419647,
           0.4484570622444153,
           0.43665653467178345,
           0.42609989643096924,
           0.43566131591796875
          ],
          [
           0.35737481713294983,
           0.3057091534137726,
           0.33233731985092163,
           0.3849768042564392,
           0.4227268397808075,
           0.4436582624912262,
           0.45360246300697327,
           0.4567449390888214,
           0.45663803815841675,
           0.4568740129470825,
           0.4584381580352783,
           0.45892301201820374,
           0.4561240077018738,
           0.455719918012619,
           0.45870354771614075,
           0.45852747559547424,
           0.45647141337394714,
           0.4546179175376892,
           0.45148152112960815,
           0.4428459703922272,
           0.4309875965118408,
           0.4350193440914154,
           0.4471358358860016,
           0.4528374969959259,
           0.45403552055358887,
           0.4530893564224243,
           0.44850099086761475,
           0.4368208348751068,
           0.42640653252601624,
           0.4358375072479248
          ],
          [
           0.35677605867385864,
           0.30491313338279724,
           0.3336949646472931,
           0.3870421051979065,
           0.42445269227027893,
           0.44485533237457275,
           0.45422178506851196,
           0.4569929540157318,
           0.4567156434059143,
           0.45688003301620483,
           0.4584190547466278,
           0.4589473605155945,
           0.4563063681125641,
           0.45592358708381653,
           0.45874208211898804,
           0.458505243062973,
           0.45645442605018616,
           0.4546222984790802,
           0.45154982805252075,
           0.4431498646736145,
           0.43172377347946167,
           0.4355946183204651,
           0.44731324911117554,
           0.4528729021549225,
           0.454043984413147,
           0.4531141221523285,
           0.4486251473426819,
           0.437281996011734,
           0.4272620379924774,
           0.436332106590271
          ],
          [
           0.3573039472103119,
           0.30626457929611206,
           0.33689969778060913,
           0.3902515172958374,
           0.42685458064079285,
           0.44641146063804626,
           0.4549887478351593,
           0.4572833776473999,
           0.45679840445518494,
           0.45687684416770935,
           0.45838430523872375,
           0.45898252725601196,
           0.45658665895462036,
           0.4562365710735321,
           0.45879989862442017,
           0.45846807956695557,
           0.45642656087875366,
           0.45462921261787415,
           0.4516591727733612,
           0.4436313211917877,
           0.4328741729259491,
           0.4364978075027466,
           0.44759583473205566,
           0.45292970538139343,
           0.45405763387680054,
           0.453154057264328,
           0.4488238990306854,
           0.43801063299179077,
           0.4285987913608551,
           0.4371127784252167
          ],
          [
           0.358939528465271,
           0.3096573054790497,
           0.34170597791671753,
           0.394374281167984,
           0.4297689199447632,
           0.44824090600013733,
           0.4558783769607544,
           0.45761293172836304,
           0.45688697695732117,
           0.45686522126197815,
           0.4583337604999542,
           0.4590223729610443,
           0.4569377303123474,
           0.4566285014152527,
           0.45886898040771484,
           0.4584154486656189,
           0.4563882350921631,
           0.45463818311691284,
           0.45180460810661316,
           0.4442627727985382,
           0.43435388803482056,
           0.4376671612262726,
           0.44796913862228394,
           0.4530055820941925,
           0.45407605171203613,
           0.45320767164230347,
           0.4490882456302643,
           0.438961923122406,
           0.43031686544418335,
           0.43813082575798035
          ],
          [
           0.3616161048412323,
           0.31487664580345154,
           0.3477979600429535,
           0.3991512954235077,
           0.4330187737941742,
           0.45024967193603516,
           0.45686081051826477,
           0.4579768776893616,
           0.45698174834251404,
           0.45684608817100525,
           0.4582673907279968,
           0.4590594470500946,
           0.45732808113098145,
           0.4570644199848175,
           0.4589398503303528,
           0.45834678411483765,
           0.45633992552757263,
           0.45464861392974854,
           0.45197993516921997,
           0.44501039385795593,
           0.4360646903514862,
           0.4390299320220947,
           0.44841518998146057,
           0.45309746265411377,
           0.45409858226776123,
           0.45327314734458923,
           0.4494069814682007,
           0.44008246064186096,
           0.43230199813842773,
           0.43932753801345825
          ],
          [
           0.36522483825683594,
           0.32162806391716003,
           0.35483255982398987,
           0.4043283462524414,
           0.43643710017204285,
           0.4523472487926483,
           0.45790451765060425,
           0.45836931467056274,
           0.45708298683166504,
           0.45682045817375183,
           0.4581851661205292,
           0.4590858817100525,
           0.45772600173950195,
           0.4575093388557434,
           0.45900240540504456,
           0.45826154947280884,
           0.45628228783607483,
           0.4546598494052887,
           0.4521779716014862,
           0.44583773612976074,
           0.43790772557258606,
           0.44051116704940796,
           0.4489140510559082,
           0.4532018303871155,
           0.4541245400905609,
           0.453348308801651,
           0.4497673809528351,
           0.4413156509399414,
           0.4344401955604553,
           0.4406415820121765
          ],
          [
           0.3696252107620239,
           0.32956334948539734,
           0.3624715507030487,
           0.4096809923648834,
           0.43988266587257385,
           0.4544552266597748,
           0.45897895097732544,
           0.4587838351726532,
           0.4571908116340637,
           0.45678943395614624,
           0.45808738470077515,
           0.4590941369533539,
           0.45810288190841675,
           0.45793187618255615,
           0.4590469300746918,
           0.458159476518631,
           0.45621612668037415,
           0.454671174287796,
           0.45239126682281494,
           0.446709007024765,
           0.43979376554489136,
           0.4420413076877594,
           0.4494454264640808,
           0.45331501960754395,
           0.4541531503200531,
           0.45343080163002014,
           0.4501560926437378,
           0.4426068961620331,
           0.43662792444229126,
           0.4420144855976105
          ],
          [
           0.37465381622314453,
           0.33832526206970215,
           0.37041687965393066,
           0.415029913187027,
           0.4432481825351715,
           0.456511914730072,
           0.4600566625595093,
           0.45921364426612854,
           0.45730504393577576,
           0.45675426721572876,
           0.45797455310821533,
           0.45907771587371826,
           0.45843541622161865,
           0.45830684900283813,
           0.45906519889831543,
           0.45804059505462646,
           0.4561423659324646,
           0.454681932926178,
           0.45261240005493164,
           0.4475913941860199,
           0.4416489005088806,
           0.44356077909469604,
           0.44999006390571594,
           0.45343321561813354,
           0.4541836082935333,
           0.45351818203926086,
           0.4505601227283478,
           0.4439079761505127,
           0.4387812316417694,
           0.44339460134506226
          ],
          [
           0.3801378607749939,
           0.3475682735443115,
           0.37841832637786865,
           0.42024123668670654,
           0.4464588165283203,
           0.45847272872924805,
           0.4611144959926605,
           0.4596521854400635,
           0.45742547512054443,
           0.4567160904407501,
           0.457847535610199,
           0.45903170108795166,
           0.45870649814605713,
           0.45861586928367615,
           0.459050714969635,
           0.4579053819179535,
           0.45606204867362976,
           0.45469149947166443,
           0.45283451676368713,
           0.44845691323280334,
           0.44341710209846497,
           0.4450225234031677,
           0.4505307674407959,
           0.45355290174484253,
           0.4542151391506195,
           0.4536081552505493,
           0.4509675204753876,
           0.4451787769794464,
           0.44083625078201294,
           0.44473952054977417
          ],
          [
           0.38590481877326965,
           0.35698097944259644,
           0.38627973198890686,
           0.42522409558296204,
           0.449468731880188,
           0.46030840277671814,
           0.46213391423225403,
           0.46009308099746704,
           0.4575515389442444,
           0.4566761553287506,
           0.45770764350891113,
           0.458952933549881,
           0.45890524983406067,
           0.4588474929332733,
           0.458999365568161,
           0.45775485038757324,
           0.45597636699676514,
           0.4546993374824524,
           0.4530515670776367,
           0.4492833614349365,
           0.4450596272945404,
           0.44639232754707336,
           0.4510532021522522,
           0.4536709189414978,
           0.45424696803092957,
           0.4536985456943512,
           0.4513678252696991,
           0.44638845324516296,
           0.4427495002746582,
           0.446016788482666
          ],
          [
           0.3917911648750305,
           0.3662991523742676,
           0.39385491609573364,
           0.4299220144748688,
           0.452254056930542,
           0.4620022773742676,
           0.4631008505821228,
           0.4605305790901184,
           0.4576825201511383,
           0.45663556456565857,
           0.45755645632743835,
           0.45884019136428833,
           0.4590265154838562,
           0.45899638533592224,
           0.4589092433452606,
           0.4575904607772827,
           0.45588651299476624,
           0.454705148935318,
           0.45325857400894165,
           0.45005425810813904,
           0.4465527832508087,
           0.4476477801799774,
           0.4515461027622223,
           0.4537844955921173,
           0.45427849888801575,
           0.4537874460220337,
           0.4517523944377899,
           0.447515070438385,
           0.44449448585510254,
           0.44720369577407837
          ],
          [
           0.39765217900276184,
           0.37531253695487976,
           0.4010425806045532,
           0.43430566787719727,
           0.45480746030807495,
           0.4635470509529114,
           0.46400532126426697,
           0.46095940470695496,
           0.45781752467155457,
           0.4565953314304352,
           0.4573959410190582,
           0.45869407057762146,
           0.45907002687454224,
           0.4590623676776886,
           0.4587806165218353,
           0.4574141502380371,
           0.4557938575744629,
           0.45470863580703735,
           0.45345166325569153,
           0.45075860619544983,
           0.4478851854801178,
           0.44877639412879944,
           0.45200130343437195,
           0.4538915157318115,
           0.4543091356754303,
           0.4538732171058655,
           0.4521145820617676,
           0.4485447108745575,
           0.4460587799549103,
           0.44828641414642334
          ],
          [
           0.40336447954177856,
           0.3838631510734558,
           0.4077772796154022,
           0.4383646845817566,
           0.45713233947753906,
           0.4649420380592346,
           0.4648406505584717,
           0.4613748788833618,
           0.45795542001724243,
           0.4565563499927521,
           0.4572283923625946,
           0.45851683616638184,
           0.45903921127319336,
           0.4590493142604828,
           0.4586157202720642,
           0.45722833275794983,
           0.4556996524333954,
           0.4547097682952881,
           0.45362815260887146,
           0.45139026641845703,
           0.4490549564361572,
           0.44977378845214844,
           0.4524135887622833,
           0.4539903998374939,
           0.454338401556015,
           0.45395463705062866,
           0.45244964957237244,
           0.4494704008102417,
           0.4474404454231262,
           0.44925782084465027
          ],
          [
           0.4088295102119446,
           0.3918415606021881,
           0.41402116417884827,
           0.4421007037162781,
           0.4592383801937103,
           0.4661905765533447,
           0.46560272574424744,
           0.46177294850349426,
           0.4580948054790497,
           0.45651933550834656,
           0.4570562243461609,
           0.458312064409256,
           0.4589405357837677,
           0.45896413922309875,
           0.4584183692932129,
           0.457035630941391,
           0.4556051790714264,
           0.4547085762023926,
           0.4537864327430725,
           0.45194709300994873,
           0.45006680488586426,
           0.4506416320800781,
           0.45278042554855347,
           0.45408010482788086,
           0.45436596870422363,
           0.45403069257736206,
           0.4527546763420105,
           0.450290322303772,
           0.4486447870731354,
           0.4501168727874756
          ],
          [
           0.41397327184677124,
           0.39918139576911926,
           0.41975855827331543,
           0.4455236792564392,
           0.461139053106308,
           0.46729856729507446,
           0.4662895202636719,
           0.462149977684021,
           0.45823410153388977,
           0.4564848244190216,
           0.45688191056251526,
           0.45808446407318115,
           0.45878249406814575,
           0.4588157832622528,
           0.45819365978240967,
           0.4568389356136322,
           0.4555117189884186,
           0.45470520853996277,
           0.4539259076118469,
           0.45243021845817566,
           0.4509302079677582,
           0.4513859152793884,
           0.45310139656066895,
           0.4541601240634918,
           0.4543915390968323,
           0.4541008174419403,
           0.45302829146385193,
           0.4510069191455841,
           0.4496822655200958,
           0.4508664608001709
          ],
          [
           0.41874539852142334,
           0.40585315227508545,
           0.424990177154541,
           0.44864746928215027,
           0.4628486633300781,
           0.468272864818573,
           0.4669003486633301,
           0.4625028371810913,
           0.4583715498447418,
           0.4564530849456787,
           0.45670798420906067,
           0.45783933997154236,
           0.4585748016834259,
           0.4586145281791687,
           0.45794743299484253,
           0.45664122700691223,
           0.45542043447494507,
           0.45469996333122253,
           0.45404669642448425,
           0.4528431296348572,
           0.45165741443634033,
           0.45201560854911804,
           0.4533778131008148,
           0.454230397939682,
           0.4544150233268738,
           0.45416465401649475,
           0.45327049493789673,
           0.45162561535835266,
           0.4505663812160492,
           0.4515126645565033
          ],
          [
           0.4231182336807251,
           0.41185417771339417,
           0.42972785234451294,
           0.45148777961730957,
           0.4643815755844116,
           0.46912074089050293,
           0.4674356281757355,
           0.46282869577407837,
           0.4585050940513611,
           0.4564242362976074,
           0.4565368592739105,
           0.4575824439525604,
           0.4583279490470886,
           0.4583713710308075,
           0.45768600702285767,
           0.4564453661441803,
           0.45533227920532227,
           0.45469310879707336,
           0.45414963364601135,
           0.45319095253944397,
           0.4522623121738434,
           0.45254138112068176,
           0.4536122977733612,
           0.4542911648750305,
           0.454436331987381,
           0.45422208309173584,
           0.4534822106361389,
           0.452153742313385,
           0.45131218433380127,
           0.45206356048583984
          ],
          [
           0.42708054184913635,
           0.41720545291900635,
           0.43399232625961304,
           0.4540604054927826,
           0.46575093269348145,
           0.4698490798473358,
           0.467896431684494,
           0.463125079870224,
           0.4586326777935028,
           0.45639804005622864,
           0.45637065172195435,
           0.4573195278644562,
           0.45805248618125916,
           0.45809730887413025,
           0.45741578936576843,
           0.4562540650367737,
           0.4552481770515442,
           0.4546850323677063,
           0.4542360305786133,
           0.45347991585731506,
           0.45275935530662537,
           0.4529748558998108,
           0.45380842685699463,
           0.4543430209159851,
           0.4544554650783539,
           0.4542732238769531,
           0.45366525650024414,
           0.4525998830795288,
           0.45193544030189514,
           0.45252835750579834
          ],
          [
           0.4306376874446869,
           0.42194345593452454,
           0.4378095865249634,
           0.45638012886047363,
           0.466967910528183,
           0.47046446800231934,
           0.4682844281196594,
           0.4633897840976715,
           0.4587520658969879,
           0.4563741683959961,
           0.45621126890182495,
           0.45705610513687134,
           0.4577585756778717,
           0.45780301094055176,
           0.45714297890663147,
           0.4560697674751282,
           0.45516884326934814,
           0.45467609167099,
           0.4543074667453766,
           0.45371681451797485,
           0.45316290855407715,
           0.4533277750015259,
           0.45397019386291504,
           0.45438671112060547,
           0.45447248220443726,
           0.4543183445930481,
           0.4538218677043915,
           0.4529730975627899,
           0.45245158672332764,
           0.4529167413711548
          ],
          [
           0.4338061809539795,
           0.4261176884174347,
           0.4412098228931427,
           0.4584604501724243,
           0.4680418372154236,
           0.4709729254245758,
           0.46860170364379883,
           0.4636208415031433,
           0.45886096358299255,
           0.4563520848751068,
           0.4560602605342865,
           0.4567972719669342,
           0.45745575428009033,
           0.4574984014034271,
           0.45687320828437805,
           0.4558945596218109,
           0.4550948739051819,
           0.4546666443347931,
           0.45436570048332214,
           0.4539085030555725,
           0.45348668098449707,
           0.4536116421222687,
           0.45410189032554626,
           0.45442309975624084,
           0.45448753237724304,
           0.4543578624725342,
           0.45395469665527344,
           0.4532824754714966,
           0.4528754651546478,
           0.453238308429718
          ],
          [
           0.4366128444671631,
           0.4297846257686615,
           0.44422459602355957,
           0.4603128433227539,
           0.4689798057079315,
           0.4713799059391022,
           0.4688507318496704,
           0.46381649374961853,
           0.45895713567733765,
           0.4563310742378235,
           0.4559187591075897,
           0.45654743909835815,
           0.45715245604515076,
           0.4571922719478607,
           0.4566115438938141,
           0.455730140209198,
           0.4550265967845917,
           0.4546569883823395,
           0.4544125497341156,
           0.45406171679496765,
           0.4537433981895447,
           0.45383724570274353,
           0.45420777797698975,
           0.4544530510902405,
           0.454500675201416,
           0.45439213514328003,
           0.45406636595726013,
           0.45353683829307556,
           0.45322084426879883,
           0.4535024166107178
          ],
          [
           0.4390908479690552,
           0.43300724029541016,
           0.44688695669174194,
           0.4619472324848175,
           0.4697866439819336,
           0.47169071435928345,
           0.4690342843532562,
           0.463975191116333,
           0.4590383768081665,
           0.45631033182144165,
           0.4557875692844391,
           0.4563102126121521,
           0.45685598254203796,
           0.45689231157302856,
           0.45636212825775146,
           0.4555777609348297,
           0.4549642503261566,
           0.4546474516391754,
           0.4544498026371002,
           0.4541826844215393,
           0.4539446532726288,
           0.45401448011398315,
           0.4542919099330902,
           0.4544774889945984,
           0.4545120894908905,
           0.45442166924476624,
           0.45415961742401123,
           0.45374444127082825,
           0.45350024104118347,
           0.45371773838996887
          ],
          [
           0.4412775933742523,
           0.4358506202697754,
           0.4492295980453491,
           0.46337205171585083,
           0.4704655110836029,
           0.4719105064868927,
           0.46915528178215027,
           0.4640955924987793,
           0.4591026306152344,
           0.4562889635562897,
           0.45566707849502563,
           0.4560883939266205,
           0.4565722644329071,
           0.45660465955734253,
           0.4561282694339752,
           0.45543819665908813,
           0.4549078941345215,
           0.45463821291923523,
           0.45447900891304016,
           0.4542771279811859,
           0.45410066843032837,
           0.4541521668434143,
           0.4543580412864685,
           0.45449724793434143,
           0.45452195405960083,
           0.4544470012187958,
           0.4542369544506073,
           0.45391273498535156,
           0.45372480154037476,
           0.4538921117782593
          ],
          [
           0.44321316480636597,
           0.4383791983127594,
           0.4512839913368225,
           0.46459436416625977,
           0.4710179567337036,
           0.4720444679260254,
           0.4692169427871704,
           0.46417656540870667,
           0.4591480493545532,
           0.4562660753726959,
           0.45555737614631653,
           0.45588403940200806,
           0.4563058614730835,
           0.4563341736793518,
           0.4559122622013092,
           0.4553118944168091,
           0.4548574984073639,
           0.45462948083877563,
           0.4545016884803772,
           0.454350084066391,
           0.45422032475471497,
           0.4542579650878906,
           0.4544094502925873,
           0.4545130729675293,
           0.4545304477214813,
           0.45446857810020447,
           0.45430076122283936,
           0.45404839515686035,
           0.45390424132347107,
           0.4540325105190277
          ],
          [
           0.4449363648891449,
           0.44065389037132263,
           0.4530799388885498,
           0.46562087535858154,
           0.47144484519958496,
           0.47209781408309937,
           0.4692222774028778,
           0.4642171263694763,
           0.4591730535030365,
           0.45624080300331116,
           0.45545825362205505,
           0.45569825172424316,
           0.4560600221157074,
           0.4560842216014862,
           0.4557156562805176,
           0.45519888401031494,
           0.4548128545284271,
           0.45462140440940857,
           0.454519122838974,
           0.45440587401390076,
           0.45431119203567505,
           0.4543384611606598,
           0.4544490873813629,
           0.45452573895454407,
           0.45453765988349915,
           0.45448681712150574,
           0.4543531537055969,
           0.4541572034358978,
           0.45404696464538574,
           0.45414501428604126
          ],
          [
           0.44648435711860657,
           0.4427279531955719,
           0.45464447140693665,
           0.46645811200141907,
           0.47174689173698425,
           0.47207579016685486,
           0.4691741168498993,
           0.46421653032302856,
           0.45917630195617676,
           0.4562123417854309,
           0.455369234085083,
           0.455531507730484,
           0.4558367133140564,
           0.4558570086956024,
           0.4555390775203705,
           0.45509886741638184,
           0.4547736644744873,
           0.4546140432357788,
           0.4545323848724365,
           0.4544481635093689,
           0.45437952876091003,
           0.4543991684913635,
           0.4544793963432312,
           0.45453575253486633,
           0.454543799161911,
           0.4545022249221802,
           0.45439600944519043,
           0.4542441666126251,
           0.4541599750518799,
           0.4542348086833954
          ],
          [
           0.44788849353790283,
           0.4446448087692261,
           0.4560016393661499,
           0.46711310744285583,
           0.4719253182411194,
           0.47198331356048584,
           0.4690747857093811,
           0.46417415142059326,
           0.4591568410396576,
           0.4561799466609955,
           0.4552896320819855,
           0.4553837180137634,
           0.4556368887424469,
           0.45565351843833923,
           0.4553825557231903,
           0.4550112783908844,
           0.45473960041999817,
           0.45460742712020874,
           0.45454245805740356,
           0.45447999238967896,
           0.454430490732193,
           0.4544445276260376,
           0.4545024037361145,
           0.45454367995262146,
           0.4545489549636841,
           0.45451509952545166,
           0.4544309079647064,
           0.45431339740753174,
           0.45424923300743103,
           0.4543062746524811
          ],
          [
           0.44917410612106323,
           0.4464343786239624,
           0.4571719765663147,
           0.4675939977169037,
           0.47198283672332764,
           0.47182488441467285,
           0.4689261019229889,
           0.4640897810459137,
           0.4591141641139984,
           0.4561430811882019,
           0.45521873235702515,
           0.45525413751602173,
           0.4554605185985565,
           0.4554738402366638,
           0.4552454650402069,
           0.45493537187576294,
           0.4547102749347687,
           0.45460158586502075,
           0.45454999804496765,
           0.45450377464294434,
           0.4544682204723358,
           0.4544782340526581,
           0.45451977849006653,
           0.4545499086380005,
           0.4545533061027527,
           0.4545258581638336,
           0.4544592797756195,
           0.4543684422969818,
           0.4543195366859436,
           0.4543629586696625
          ]
         ]
        },
        {
         "mode": "markers",
         "name": "max(pi)",
         "type": "scatter3d",
         "x": [
          402.1551513671875
         ],
         "y": [
          279.7167663574219
         ],
         "z": [
          0.47209781408309937
         ]
        }
       ],
       "layout": {
        "template": {
         "data": {
          "bar": [
           {
            "error_x": {
             "color": "#2a3f5f"
            },
            "error_y": {
             "color": "#2a3f5f"
            },
            "marker": {
             "line": {
              "color": "#E5ECF6",
              "width": 0.5
             }
            },
            "type": "bar"
           }
          ],
          "barpolar": [
           {
            "marker": {
             "line": {
              "color": "#E5ECF6",
              "width": 0.5
             }
            },
            "type": "barpolar"
           }
          ],
          "carpet": [
           {
            "aaxis": {
             "endlinecolor": "#2a3f5f",
             "gridcolor": "white",
             "linecolor": "white",
             "minorgridcolor": "white",
             "startlinecolor": "#2a3f5f"
            },
            "baxis": {
             "endlinecolor": "#2a3f5f",
             "gridcolor": "white",
             "linecolor": "white",
             "minorgridcolor": "white",
             "startlinecolor": "#2a3f5f"
            },
            "type": "carpet"
           }
          ],
          "choropleth": [
           {
            "colorbar": {
             "outlinewidth": 0,
             "ticks": ""
            },
            "type": "choropleth"
           }
          ],
          "contour": [
           {
            "colorbar": {
             "outlinewidth": 0,
             "ticks": ""
            },
            "colorscale": [
             [
              0,
              "#0d0887"
             ],
             [
              0.1111111111111111,
              "#46039f"
             ],
             [
              0.2222222222222222,
              "#7201a8"
             ],
             [
              0.3333333333333333,
              "#9c179e"
             ],
             [
              0.4444444444444444,
              "#bd3786"
             ],
             [
              0.5555555555555556,
              "#d8576b"
             ],
             [
              0.6666666666666666,
              "#ed7953"
             ],
             [
              0.7777777777777778,
              "#fb9f3a"
             ],
             [
              0.8888888888888888,
              "#fdca26"
             ],
             [
              1,
              "#f0f921"
             ]
            ],
            "type": "contour"
           }
          ],
          "contourcarpet": [
           {
            "colorbar": {
             "outlinewidth": 0,
             "ticks": ""
            },
            "type": "contourcarpet"
           }
          ],
          "heatmap": [
           {
            "colorbar": {
             "outlinewidth": 0,
             "ticks": ""
            },
            "colorscale": [
             [
              0,
              "#0d0887"
             ],
             [
              0.1111111111111111,
              "#46039f"
             ],
             [
              0.2222222222222222,
              "#7201a8"
             ],
             [
              0.3333333333333333,
              "#9c179e"
             ],
             [
              0.4444444444444444,
              "#bd3786"
             ],
             [
              0.5555555555555556,
              "#d8576b"
             ],
             [
              0.6666666666666666,
              "#ed7953"
             ],
             [
              0.7777777777777778,
              "#fb9f3a"
             ],
             [
              0.8888888888888888,
              "#fdca26"
             ],
             [
              1,
              "#f0f921"
             ]
            ],
            "type": "heatmap"
           }
          ],
          "heatmapgl": [
           {
            "colorbar": {
             "outlinewidth": 0,
             "ticks": ""
            },
            "colorscale": [
             [
              0,
              "#0d0887"
             ],
             [
              0.1111111111111111,
              "#46039f"
             ],
             [
              0.2222222222222222,
              "#7201a8"
             ],
             [
              0.3333333333333333,
              "#9c179e"
             ],
             [
              0.4444444444444444,
              "#bd3786"
             ],
             [
              0.5555555555555556,
              "#d8576b"
             ],
             [
              0.6666666666666666,
              "#ed7953"
             ],
             [
              0.7777777777777778,
              "#fb9f3a"
             ],
             [
              0.8888888888888888,
              "#fdca26"
             ],
             [
              1,
              "#f0f921"
             ]
            ],
            "type": "heatmapgl"
           }
          ],
          "histogram": [
           {
            "marker": {
             "colorbar": {
              "outlinewidth": 0,
              "ticks": ""
             }
            },
            "type": "histogram"
           }
          ],
          "histogram2d": [
           {
            "colorbar": {
             "outlinewidth": 0,
             "ticks": ""
            },
            "colorscale": [
             [
              0,
              "#0d0887"
             ],
             [
              0.1111111111111111,
              "#46039f"
             ],
             [
              0.2222222222222222,
              "#7201a8"
             ],
             [
              0.3333333333333333,
              "#9c179e"
             ],
             [
              0.4444444444444444,
              "#bd3786"
             ],
             [
              0.5555555555555556,
              "#d8576b"
             ],
             [
              0.6666666666666666,
              "#ed7953"
             ],
             [
              0.7777777777777778,
              "#fb9f3a"
             ],
             [
              0.8888888888888888,
              "#fdca26"
             ],
             [
              1,
              "#f0f921"
             ]
            ],
            "type": "histogram2d"
           }
          ],
          "histogram2dcontour": [
           {
            "colorbar": {
             "outlinewidth": 0,
             "ticks": ""
            },
            "colorscale": [
             [
              0,
              "#0d0887"
             ],
             [
              0.1111111111111111,
              "#46039f"
             ],
             [
              0.2222222222222222,
              "#7201a8"
             ],
             [
              0.3333333333333333,
              "#9c179e"
             ],
             [
              0.4444444444444444,
              "#bd3786"
             ],
             [
              0.5555555555555556,
              "#d8576b"
             ],
             [
              0.6666666666666666,
              "#ed7953"
             ],
             [
              0.7777777777777778,
              "#fb9f3a"
             ],
             [
              0.8888888888888888,
              "#fdca26"
             ],
             [
              1,
              "#f0f921"
             ]
            ],
            "type": "histogram2dcontour"
           }
          ],
          "mesh3d": [
           {
            "colorbar": {
             "outlinewidth": 0,
             "ticks": ""
            },
            "type": "mesh3d"
           }
          ],
          "parcoords": [
           {
            "line": {
             "colorbar": {
              "outlinewidth": 0,
              "ticks": ""
             }
            },
            "type": "parcoords"
           }
          ],
          "pie": [
           {
            "automargin": true,
            "type": "pie"
           }
          ],
          "scatter": [
           {
            "marker": {
             "colorbar": {
              "outlinewidth": 0,
              "ticks": ""
             }
            },
            "type": "scatter"
           }
          ],
          "scatter3d": [
           {
            "line": {
             "colorbar": {
              "outlinewidth": 0,
              "ticks": ""
             }
            },
            "marker": {
             "colorbar": {
              "outlinewidth": 0,
              "ticks": ""
             }
            },
            "type": "scatter3d"
           }
          ],
          "scattercarpet": [
           {
            "marker": {
             "colorbar": {
              "outlinewidth": 0,
              "ticks": ""
             }
            },
            "type": "scattercarpet"
           }
          ],
          "scattergeo": [
           {
            "marker": {
             "colorbar": {
              "outlinewidth": 0,
              "ticks": ""
             }
            },
            "type": "scattergeo"
           }
          ],
          "scattergl": [
           {
            "marker": {
             "colorbar": {
              "outlinewidth": 0,
              "ticks": ""
             }
            },
            "type": "scattergl"
           }
          ],
          "scattermapbox": [
           {
            "marker": {
             "colorbar": {
              "outlinewidth": 0,
              "ticks": ""
             }
            },
            "type": "scattermapbox"
           }
          ],
          "scatterpolar": [
           {
            "marker": {
             "colorbar": {
              "outlinewidth": 0,
              "ticks": ""
             }
            },
            "type": "scatterpolar"
           }
          ],
          "scatterpolargl": [
           {
            "marker": {
             "colorbar": {
              "outlinewidth": 0,
              "ticks": ""
             }
            },
            "type": "scatterpolargl"
           }
          ],
          "scatterternary": [
           {
            "marker": {
             "colorbar": {
              "outlinewidth": 0,
              "ticks": ""
             }
            },
            "type": "scatterternary"
           }
          ],
          "surface": [
           {
            "colorbar": {
             "outlinewidth": 0,
             "ticks": ""
            },
            "colorscale": [
             [
              0,
              "#0d0887"
             ],
             [
              0.1111111111111111,
              "#46039f"
             ],
             [
              0.2222222222222222,
              "#7201a8"
             ],
             [
              0.3333333333333333,
              "#9c179e"
             ],
             [
              0.4444444444444444,
              "#bd3786"
             ],
             [
              0.5555555555555556,
              "#d8576b"
             ],
             [
              0.6666666666666666,
              "#ed7953"
             ],
             [
              0.7777777777777778,
              "#fb9f3a"
             ],
             [
              0.8888888888888888,
              "#fdca26"
             ],
             [
              1,
              "#f0f921"
             ]
            ],
            "type": "surface"
           }
          ],
          "table": [
           {
            "cells": {
             "fill": {
              "color": "#EBF0F8"
             },
             "line": {
              "color": "white"
             }
            },
            "header": {
             "fill": {
              "color": "#C8D4E3"
             },
             "line": {
              "color": "white"
             }
            },
            "type": "table"
           }
          ]
         },
         "layout": {
          "annotationdefaults": {
           "arrowcolor": "#2a3f5f",
           "arrowhead": 0,
           "arrowwidth": 1
          },
          "coloraxis": {
           "colorbar": {
            "outlinewidth": 0,
            "ticks": ""
           }
          },
          "colorscale": {
           "diverging": [
            [
             0,
             "#8e0152"
            ],
            [
             0.1,
             "#c51b7d"
            ],
            [
             0.2,
             "#de77ae"
            ],
            [
             0.3,
             "#f1b6da"
            ],
            [
             0.4,
             "#fde0ef"
            ],
            [
             0.5,
             "#f7f7f7"
            ],
            [
             0.6,
             "#e6f5d0"
            ],
            [
             0.7,
             "#b8e186"
            ],
            [
             0.8,
             "#7fbc41"
            ],
            [
             0.9,
             "#4d9221"
            ],
            [
             1,
             "#276419"
            ]
           ],
           "sequential": [
            [
             0,
             "#0d0887"
            ],
            [
             0.1111111111111111,
             "#46039f"
            ],
            [
             0.2222222222222222,
             "#7201a8"
            ],
            [
             0.3333333333333333,
             "#9c179e"
            ],
            [
             0.4444444444444444,
             "#bd3786"
            ],
            [
             0.5555555555555556,
             "#d8576b"
            ],
            [
             0.6666666666666666,
             "#ed7953"
            ],
            [
             0.7777777777777778,
             "#fb9f3a"
            ],
            [
             0.8888888888888888,
             "#fdca26"
            ],
            [
             1,
             "#f0f921"
            ]
           ],
           "sequentialminus": [
            [
             0,
             "#0d0887"
            ],
            [
             0.1111111111111111,
             "#46039f"
            ],
            [
             0.2222222222222222,
             "#7201a8"
            ],
            [
             0.3333333333333333,
             "#9c179e"
            ],
            [
             0.4444444444444444,
             "#bd3786"
            ],
            [
             0.5555555555555556,
             "#d8576b"
            ],
            [
             0.6666666666666666,
             "#ed7953"
            ],
            [
             0.7777777777777778,
             "#fb9f3a"
            ],
            [
             0.8888888888888888,
             "#fdca26"
            ],
            [
             1,
             "#f0f921"
            ]
           ]
          },
          "colorway": [
           "#636efa",
           "#EF553B",
           "#00cc96",
           "#ab63fa",
           "#FFA15A",
           "#19d3f3",
           "#FF6692",
           "#B6E880",
           "#FF97FF",
           "#FECB52"
          ],
          "font": {
           "color": "#2a3f5f"
          },
          "geo": {
           "bgcolor": "white",
           "lakecolor": "white",
           "landcolor": "#E5ECF6",
           "showlakes": true,
           "showland": true,
           "subunitcolor": "white"
          },
          "hoverlabel": {
           "align": "left"
          },
          "hovermode": "closest",
          "mapbox": {
           "style": "light"
          },
          "paper_bgcolor": "white",
          "plot_bgcolor": "#E5ECF6",
          "polar": {
           "angularaxis": {
            "gridcolor": "white",
            "linecolor": "white",
            "ticks": ""
           },
           "bgcolor": "#E5ECF6",
           "radialaxis": {
            "gridcolor": "white",
            "linecolor": "white",
            "ticks": ""
           }
          },
          "scene": {
           "xaxis": {
            "backgroundcolor": "#E5ECF6",
            "gridcolor": "white",
            "gridwidth": 2,
            "linecolor": "white",
            "showbackground": true,
            "ticks": "",
            "zerolinecolor": "white"
           },
           "yaxis": {
            "backgroundcolor": "#E5ECF6",
            "gridcolor": "white",
            "gridwidth": 2,
            "linecolor": "white",
            "showbackground": true,
            "ticks": "",
            "zerolinecolor": "white"
           },
           "zaxis": {
            "backgroundcolor": "#E5ECF6",
            "gridcolor": "white",
            "gridwidth": 2,
            "linecolor": "white",
            "showbackground": true,
            "ticks": "",
            "zerolinecolor": "white"
           }
          },
          "shapedefaults": {
           "line": {
            "color": "#2a3f5f"
           }
          },
          "ternary": {
           "aaxis": {
            "gridcolor": "white",
            "linecolor": "white",
            "ticks": ""
           },
           "baxis": {
            "gridcolor": "white",
            "linecolor": "white",
            "ticks": ""
           },
           "bgcolor": "#E5ECF6",
           "caxis": {
            "gridcolor": "white",
            "linecolor": "white",
            "ticks": ""
           }
          },
          "title": {
           "x": 0.05
          },
          "xaxis": {
           "automargin": true,
           "gridcolor": "white",
           "linecolor": "white",
           "ticks": "",
           "title": {
            "standoff": 15
           },
           "zerolinecolor": "white",
           "zerolinewidth": 2
          },
          "yaxis": {
           "automargin": true,
           "gridcolor": "white",
           "linecolor": "white",
           "ticks": "",
           "title": {
            "standoff": 15
           },
           "zerolinecolor": "white",
           "zerolinewidth": 2
          }
         }
        }
       }
      }
     },
     "metadata": {}
    }
   ],
   "source": [
    "fig = go.Figure(data=[go.Surface(z=PI_acq_shape, x=test_grid[:,0], y=test_grid[:,1])])\n",
    "fig.add_trace(go.Scatter3d(x=test_grid[pi[1], 0].numpy(), y=test_grid[pi[0], 1].numpy(), z=[PI_acq_shape[pi[0], pi[1]]], mode='markers', name='max(pi)'))\n",
    "fig.show()"
   ]
  },
  {
   "cell_type": "code",
   "execution_count": 59,
   "metadata": {},
   "outputs": [
    {
     "output_type": "display_data",
     "data": {
      "application/vnd.plotly.v1+json": {
       "config": {
        "plotlyServerURL": "https://plot.ly"
       },
       "data": [
        {
         "type": "surface",
         "x": [
          337.5,
          350.4310302734375,
          363.362060546875,
          376.2930908203125,
          389.22412109375,
          402.1551513671875,
          415.0862121582031,
          428.0172424316406,
          440.9482727050781,
          453.8793029785156,
          466.8103332519531,
          479.74139404296875,
          492.67242431640625,
          505.60345458984375,
          518.5344848632812,
          531.4655151367188,
          544.3965454101562,
          557.3275756835938,
          570.2586059570312,
          583.1896362304688,
          596.1206665039062,
          609.0517578125,
          621.9827880859375,
          634.913818359375,
          647.8448486328125,
          660.77587890625,
          673.7069091796875,
          686.637939453125,
          699.5689697265625,
          712.5
         ],
         "y": [
          20.35714340209961,
          30.33251190185547,
          40.307884216308594,
          50.28325271606445,
          60.25862121582031,
          70.23399353027344,
          80.20936584472656,
          90.18472290039062,
          100.16009521484375,
          110.13546752929688,
          120.11083984375,
          130.08621215820312,
          140.06158447265625,
          150.03695678710938,
          160.01231384277344,
          169.98768615722656,
          179.9630584716797,
          189.9384307861328,
          199.91380310058594,
          209.88916015625,
          219.86453247070312,
          229.83990478515625,
          239.81527709960938,
          249.7906494140625,
          259.7660217285156,
          269.7413635253906,
          279.7167663574219,
          289.6921081542969,
          299.66748046875,
          309.6428527832031
         ],
         "z": [
          [
           18.175111681960292,
           11.832353531592549,
           13.214961669407034,
           17.058432699018734,
           19.661398936389716,
           22.764891527674532,
           28.77601251495002,
           34.50035559011709,
           36.82341527128747,
           37.147595571883514,
           36.11190964140687,
           31.88945837508894,
           25.77882370462631,
           25.22756743854813,
           31.055941187108548,
           35.76272135960731,
           37.051494874822104,
           36.74264630481937,
           34.51961599942334,
           28.65500933694582,
           22.83783748009062,
           24.586397572514745,
           31.399036210876474,
           35.74447688827227,
           36.84323988809009,
           36.30545073466601,
           33.16411951686163,
           26.508512540212767,
           22.144222498270167,
           26.041678565172067
          ],
          [
           17.680750964780664,
           11.297838027016965,
           12.889522488487108,
           16.92250329717726,
           19.578451056678798,
           22.698742497158378,
           28.7439478290974,
           34.4979772898502,
           36.82809970299223,
           37.14917224095547,
           36.103564087960834,
           31.850581897922183,
           25.69756921664286,
           25.14252491060659,
           31.01117012816847,
           35.75134193106304,
           37.05019265986132,
           36.74001359005367,
           34.502542437676304,
           28.599340424764307,
           22.74406645705596,
           24.504039657620744,
           31.36144348349899,
           35.73554700576104,
           36.84159742106286,
           36.30040881695404,
           33.1386310802709,
           26.43954933781842,
           22.04693280631478,
           25.969673464390066
          ],
          [
           17.332071023841326,
           10.958201871301695,
           12.783265457937805,
           17.024871901255953,
           19.737805617631167,
           22.843162048759247,
           28.838980127598546,
           34.539176518189244,
           36.840368133405775,
           37.152892764586404,
           36.114309121532884,
           31.895179055973472,
           25.790404025901488,
           25.239667194933737,
           31.062312731423546,
           35.76434138086517,
           37.0516780640366,
           36.74302290246397,
           34.52204411361799,
           28.66292016141039,
           22.851167940666336,
           24.598106200757602,
           31.404381483320645,
           35.74574759227247,
           36.843474897531614,
           36.3061714417024,
           33.16775281088087,
           26.518350845310017,
           22.158100555920907,
           26.051868821523453
          ],
          [
           17.131691990956188,
           10.810508402001908,
           12.889978481719611,
           17.357779690440207,
           20.130936001188033,
           23.190309592048564,
           29.05630203526799,
           34.62245682560168,
           36.86004258216551,
           37.158722926251954,
           36.143668034260706,
           32.02127163861193,
           26.053265791546625,
           25.514767762513813,
           31.20709477891308,
           35.8011063475708,
           37.055873063514426,
           36.75154465924676,
           34.57731045655795,
           28.84314269491903,
           23.154747042702443,
           24.864723530263095,
           31.526080134837464,
           35.774655306872496,
           36.848801484568554,
           36.3224848170544,
           33.25019953146016,
           26.741457016445704,
           22.47288772915645,
           26.284779593231058
          ],
          [
           17.079250531777888,
           10.84911989674271,
           13.198958883824536,
           17.90586347007789,
           20.739701213340688,
           23.722602669534087,
           29.38507000405737,
           34.74427820005111,
           36.886591786416545,
           37.16650445635727,
           36.19030310457884,
           32.22331995443006,
           26.474800775696572,
           25.955940037416656,
           31.439178559045864,
           35.85994413649649,
           37.06253578443757,
           36.765210432934424,
           34.66603550358106,
           29.132510589413403,
           23.642303292231144,
           25.292871451973596,
           31.72146874519315,
           35.821063091211585,
           36.857357781604584,
           36.34870757434449,
           33.382655463693936,
           27.09991596600606,
           22.9787671911602,
           26.659022530944554
          ],
          [
           17.170956651683582,
           11.065171761914735,
           13.69437251546466,
           18.6456831379146,
           21.53597802101002,
           24.413414881462828,
           29.80909966999101,
           34.899276682724675,
           36.91916232395877,
           37.17597179452592,
           36.25210890850196,
           32.4925949813449,
           27.037123420767564,
           26.544487944688854,
           31.74856710460448,
           35.938186473887,
           37.07129849805945,
           36.783439275084575,
           34.78461034990569,
           29.519266084288695,
           24.294187502237754,
           25.865246509001544,
           31.982607330961425,
           35.88310180733063,
           36.86881123005534,
           36.383779623250774,
           33.559723211042545,
           27.579128210412488,
           23.655293349272917,
           27.159517723649564
          ],
          [
           17.400276343573307,
           11.447593300935894,
           14.356624653494684,
           19.547817438758408,
           22.484066033032228,
           25.228690153349046,
           30.30743974918426,
           35.0804700476651,
           36.956618258920194,
           37.186777149589595,
           36.32635756355898,
           32.817815452510615,
           27.717073781653053,
           27.256199745117367,
           32.122337179152865,
           36.03238354691778,
           37.081684017402104,
           36.805480069911255,
           34.92833528176969,
           29.988166691875207,
           25.084838105015116,
           26.559358387541064,
           32.29917803271672,
           35.958316055656155,
           36.88272646641542,
           36.42636327966774,
           33.77449517864057,
           28.160432301448814,
           24.476186980604254,
           27.766543167983635
          ],
          [
           17.757781198466283,
           11.982978703113016,
           15.162753807602451,
           20.577899800104934,
           23.542120335941625,
           26.128545364692073,
           30.8556633864284,
           35.27969493988551,
           36.997618010262165,
           37.19850464012681,
           36.40990356697921,
           33.18588328433638,
           28.487749260754644,
           28.062945751288833,
           32.54549856105705,
           36.13854875947717,
           37.09314670587362,
           36.83046204902555,
           35.091759627799334,
           30.52141927038138,
           25.98437487732981,
           27.348917193318645,
           32.65917212007798,
           36.04386174487998,
           36.898586051119274,
           36.474876858161345,
           34.018950291022215,
           28.82198539089938,
           25.41084170049013,
           28.45727370514078
          ],
          [
           18.231479759798923,
           12.654466237814447,
           16.086224729723217,
           21.698176290192233,
           24.664325875139003,
           27.069411116653356,
           31.427117580279486,
           35.48801695821223,
           37.04067213948218,
           37.21071607233971,
           36.499379536417734,
           33.58274841630987,
           29.320241073633426,
           28.934477340882232,
           33.00194866339279,
           36.252422712965995,
           37.10511907531462,
           36.857444039635475,
           35.26899537894353,
           31.099866929646012,
           26.960561829676266,
           28.205627316109645,
           33.049645168545325,
           36.13667173024788,
           36.91583883499801,
           36.527621551164614,
           34.28431348032902,
           29.540075350521406,
           26.42565455235792,
           29.207131299299384
          ],
          [
           18.806339464739413,
           13.442630764313925,
           17.098874818797,
           22.869958458258882,
           25.803827226547686,
           28.006463711096405,
           31.994328251034492,
           35.69621135491412,
           37.08423574957829,
           37.222968979194185,
           36.591406593376234,
           33.99426808503335,
           30.18538627098009,
           29.84029186039176,
           33.47546815171678,
           36.36973036164895,
           37.117028582845116,
           36.88547970224694,
           35.45408153984287,
           31.70405975689003,
           27.980577982502954,
           29.100672424889375,
           33.457470248871324,
           36.23362539311705,
           36.933925872202956,
           36.58286859038465,
           34.56179619146796,
           30.29080859864534,
           27.48688941356806,
           29.991061831208008
          ],
          [
           19.464763236643748,
           14.324559284441564,
           18.170858935936277,
           24.054847821794713,
           26.91466365326458,
           28.89599367983908,
           32.53053687352389,
           35.89527029251751,
           37.126788313726124,
           37.23484896904257,
           36.68280687073804,
           34.4069754266402,
           31.05536360464694,
           30.75129618361455,
           33.95063190695585,
           36.48642985466875,
           37.128356325363086,
           36.91367107444442,
           35.641303403466864,
           32.315336287539225,
           29.01288947853957,
           30.00639569376579,
           33.87006521007386,
           36.33175672611026,
           36.95231151719247,
           36.63895594668905,
           34.84290684291414,
           31.051083321767692,
           28.561835576702155,
           30.78504331980298
          ],
          [
           20.1864425898818,
           15.274162587862243,
           19.271870411510612,
           25.216845137598625,
           27.95437407099456,
           29.697426180028188,
           33.01085325078449,
           36.07679818193921,
           37.16688846749053,
           37.245984749292916,
           36.77075289374316,
           34.808799530721615,
           31.905121227436837,
           31.641277832279123,
           34.41357380853734,
           36.598932749781184,
           37.13865383389731,
           36.9411996807693,
           35.82547755600965,
           32.916771064261184,
           30.028845454289435,
           30.897681844500465,
           34.27600593008441,
           36.42835279257076,
           36.97049594148278,
           36.69436951203683,
           35.1199492297705,
           31.799980025523986,
           29.62081769682009,
           31.567068246255577
          ],
          [
           20.948605864420998,
           16.262639581536234,
           20.371828881094217,
           26.32342174707926,
           28.88570393100523,
           30.375433362020154,
           33.41363387747016,
           36.23344984297851,
           37.203267209639165,
           37.256074893772464,
           36.852888357160815,
           35.1895354045744,
           32.71340577619242,
           32.4879785714219,
           34.852576643641264,
           36.70423996407203,
           37.147569777942,
           36.967382703305155,
           36.0021559182472,
           33.493810971785464,
           31.00381091593953,
           31.752937475775738,
           34.66548885180716,
           36.521088096388965,
           36.98805532501104,
           36.74779795569641,
           35.38627131214287,
           32.519398476377276,
           30.638154939293308,
           32.31830698242794
          ],
          [
           21.727169552814637,
           17.259551156354377,
           21.44210691251301,
           27.347002709113184,
           29.678437315421817,
           30.90157890052894,
           33.72141904520172,
           36.359257561533774,
           37.23486586040214,
           37.26489467320502,
           36.92742729682466,
           35.541187435262096,
           33.46344324325348,
           33.273846675534074,
           35.2584507643912,
           36.800055573487704,
           37.154866768537254,
           36.99167814303741,
           36.16777507911497,
           34.034778943823135,
           31.917958986306118,
           32.554795963078604,
           35.030637874489535,
           36.608095075335385,
           37.00464270889088,
           36.798185027208426,
           35.63654028255153,
           33.19484491652961,
           31.593258251511056,
           33.02366942335461
          ],
          [
           22.497353831919405,
           18.233773278493047,
           22.45620663619318,
           28.265584876756765,
           30.3104658286425,
           31.255544361742672,
           33.92176381481997,
           36.44988866910694,
           37.26087745142264,
           37.27230078339609,
           36.99314867323619,
           35.85810674581991,
           34.14323218724347,
           33.986310096312415,
           35.62467796423449,
           36.88481632594892,
           37.16039926008342,
           37.01369433939826,
           36.31970377378181,
           34.53109642160469,
           32.75672458607836,
           33.29050677172532,
           35.365673762680224,
           36.687999626399154,
           37.01999924627789,
           36.84473478406451,
           35.86681626629234,
           33.81563392492792,
           32.47094802803553,
           33.67186484284272
          ],
          [
           23.234947255876087,
           19.15522041258634,
           23.39070950265694,
           29.063101887550992,
           30.768264624147292,
           31.426006198693237,
           34.00777300993531,
           36.50283619948917,
           37.28079160765804,
           37.27822397500603,
           37.04940738894948,
           36.136953784246806,
           34.745481228551945,
           34.61771225628979,
           35.94737701183686,
           36.957673672183724,
           37.16414810315724,
           37.03319297263587,
           36.45626745486756,
           34.97721761800076,
           33.51069508064278,
           33.951828282073265,
           35.66686315817445,
           36.75991387719951,
           37.03394945161215,
           36.886926331914914,
           36.074493456468566,
           34.374723762495655,
           33.26120972137453,
           34.25569649938138
          ],
          [
           23.91781461337073,
           19.996506367198275,
           24.226331062179142,
           29.729956692155305,
           31.04751484293331,
           31.411057824803397,
           33.97836250908466,
           36.51748609266083,
           37.29438064294361,
           37.282670763326635,
           37.096071477972274,
           36.37649249146684,
           35.267225497689225,
           35.16494068570895,
           36.225086568051886,
           37.01842823032105,
           37.166172110763675,
           37.05008001451734,
           36.57664885245532,
           35.37048737801372,
           34.17532695563866,
           34.53478254861882,
           35.93241318546288,
           36.82340518087632,
           37.04639818229718,
           36.924482772801014,
           36.25830669122617,
           34.8687092370936,
           33.95921942228347,
           34.771470943440086
          ],
          [
           24.527160852800204,
           20.73541181963303,
           24.94912268640553,
           30.262949137672265,
           31.152824975924414,
           31.218170889036763,
           33.83829318238395,
           36.49514113142785,
           37.30172682027572,
           37.28569231531684,
           37.13344200518414,
           36.577320638947775,
           35.70926715401696,
           35.62879997880638,
           36.45844514279668,
           37.067434146345434,
           37.166615405519636,
           37.064387559966725,
           36.68079448492214,
           35.71071717599228,
           34.75026602659842,
           35.039083827804966,
           36.162198010788885,
           36.878432269842,
           37.057328062929365,
           36.957346632168665,
           36.418087832989585,
           35.297224190371516,
           34.564439411045804,
           35.21884244179337
          ],
          [
           25.049682083312206,
           21.355692562283714,
           25.550726116696666,
           30.66493383006514,
           31.097132933676136,
           30.863816343800288,
           33.59792485852593,
           36.43892174528175,
           37.30319164700816,
           37.287411278405806,
           37.162174396599866,
           36.74148914420667,
           36.075419426837485,
           36.01326257109812,
           36.64975712450427,
           37.10549049092285,
           37.165665509081606,
           37.07622846469328,
           36.76928177573862,
           35.99977066474618,
           35.238664602009415,
           35.4674856766156,
           36.35746933197744,
           36.92528741468182,
           37.06677701344924,
           36.985643608645965,
           36.554600450244735,
           35.66242661250308,
           35.07995129967445,
           35.6001154812049
          ],
          [
           25.477524235234416,
           21.849478994930898,
           26.029576346583227,
           30.94461418070248,
           30.900962475882103,
           30.37264915152288,
           33.27275044408556,
           36.35363257529517,
           37.29939480060835,
           37.287957383563544,
           37.18314663259283,
           36.87212466017871,
           36.37174868402631,
           36.324654094426045,
           36.80255982231247,
           37.13369820825721,
           37.163558127530806,
           37.08580888460636,
           36.84315671951879,
           36.24106368205324,
           35.64627548144092,
           35.8250465386613,
           36.52053321468559,
           36.96450402543917,
           37.07481839499586,
           37.00964502263613,
           36.66932634724332,
           35.96843587415156,
           35.5115935405418,
           35.91953047772751
          ],
          [
           25.810051539090964,
           22.217615381122098,
           26.390801206303685,
           31.115767934238423,
           30.591225166529398,
           29.776146440173708,
           32.882521100149475,
           36.245477579583536,
           37.29118965199891,
           37.28749431183247,
           37.19740184044853,
           36.973053258678924,
           36.605791140472775,
           36.570834849090375,
           36.921202171128535,
           37.153359522702544,
           37.16054303727959,
           37.09336519158419,
           36.90378184582642,
           36.43906013750084,
           35.980658211262565,
           36.11839054158339,
           36.654388593358775,
           36.99678667268679,
           37.08157568777664,
           37.02970907210442,
           36.764214323066646,
           36.2206358034972,
           35.86703027594282,
           36.182789089552664
          ],
          [
           26.053523472290557,
           22.47038478675286,
           26.6463928349877,
           31.196584797334413,
           30.19975723477898,
           29.111181608787184,
           32.45041389352128,
           36.121767162899935,
           37.27960066775081,
           37.28618380698286,
           37.20602741709082,
           37.04843306512779,
           36.78583708490572,
           36.76046886549224,
           37.01041409983084,
           37.165853557723764,
           37.15686294148008,
           37.09917433421366,
           36.95271697753631,
           36.59882881890226,
           36.25039445257025,
           36.35504096801369,
           36.76246017711807,
           37.02294024659615,
           37.08718275894617,
           37.046258823485715,
           36.84151733854567,
           36.42522394495941,
           36.15506070653129,
           36.39628821454533
          ],
          [
           26.22112787349133,
           22.626306633330554,
           26.814108575712073,
           31.208336602861586,
           29.761413838417745,
           28.418068689111255,
           32.00175816722806,
           35.990534552844274,
           37.265759292909756,
           37.284194011244495,
           37.21011887344422,
           37.10248781218472,
           36.92036615917272,
           36.902403764265756,
           37.07501288468343,
           37.172554422104916,
           37.152750920164905,
           37.10350936666607,
           36.99156971134007,
           36.725663531509355,
           36.46442138535899,
           36.54284241563048,
           36.84829928574592,
           37.04379866521222,
           37.09177608144568,
           37.0597389956029,
           36.90357473438593,
           36.58864735000821,
           36.3848473394863,
           36.56680174248726
          ],
          [
           26.331624747410824,
           22.711790776881408,
           26.917008341501585,
           31.174595964386544,
           29.31263759780472,
           27.738459621779743,
           31.562743170252453,
           35.86010427117954,
           37.25085660746565,
           37.281667885243905,
           37.210675799583996,
           37.13925349998701,
           37.017540229703535,
           37.00517872972123,
           37.11961089539226,
           37.17475534739997,
           37.148412306641745,
           37.106635535131026,
           37.021934905731385,
           36.82474549467887,
           36.63153277929641,
           36.689496570666805,
           36.915410346645146,
           37.06018296968212,
           37.09549991461107,
           37.070594808902705,
           36.95271189995583,
           36.71727315556041,
           36.56542657621977,
           36.700988237685095
          ],
          [
           26.408001404520586,
           22.75849632579386,
           26.981449180458284,
           31.119598873331277,
           28.889117081390953,
           27.113136174885092,
           31.159006550050396,
           35.73863642810915,
           37.23606922554232,
           37.27873411066942,
           37.20861803231687,
           37.16242933267446,
           37.084892814704304,
           37.0766620312561,
           37.14844369640791,
           37.17361437822806,
           37.14403251655579,
           37.10879215673139,
           37.04529698173374,
           36.90094275642107,
           36.75996026417441,
           36.80222602748323,
           36.96706791588561,
           37.07287018453786,
           37.098489894342094,
           37.079242590691585,
           36.991116599182725,
           36.81708514226543,
           36.70530555041848,
           36.80508565150808
          ],
          [
           26.4760180014648,
           22.801112748117347,
           27.03541586056036,
           31.067004416759488,
           28.52414128911528,
           26.57965244646751,
           30.814167560645092,
           35.63366048151107,
           37.22248010064694,
           37.27550410787766,
           37.2047235272054,
           37.17528398524788,
           37.12910688963493,
           37.12384664329744,
           37.16524694537743,
           37.17014809114896,
           37.13974852805619,
           37.11020038040509,
           37.06299879224928,
           36.958648975170306,
           36.85714157151556,
           36.887542026576256,
           37.0062335005223,
           37.08255703811418,
           37.100876479564775,
           37.0860719262059,
           37.02076280902273,
           36.893499216657524,
           36.81214917184486,
           36.88475521591204
          ],
          [
           26.561207309421704,
           22.874569854612524,
           27.10648534520363,
           31.038506636409153,
           28.2466344467132,
           26.170656969706663,
           30.5487064029804,
           35.55170088496318,
           37.21102938806846,
           37.27205177227751,
           37.19963797775015,
           37.18058384382565,
           37.15590816071449,
           37.15271883797683,
           37.17319555224812,
           37.165188053142316,
           37.1356765813134,
           37.11104982411629,
           37.076210038049425,
           37.00169924510614,
           36.92956299584484,
           36.951145520129664,
           37.03549232343881,
           37.089851303338,
           37.1027594703739,
           37.091422329239904,
           37.043398070225884,
           36.951255940343835,
           36.89269088484383,
           36.94495187599036
          ],
          [
           26.68815369693256,
           23.011068150507406,
           27.219684617427006,
           31.05254627761622,
           28.07964728883576,
           25.911742739272793,
           30.378628483593225,
           35.49786761613656,
           37.202447757067695,
           37.268439006559994,
           37.19387575274523,
           37.180611137523385,
           37.17004120041407,
           37.168248698875544,
           37.17491577830476,
           37.15940298902076,
           37.13188841053688,
           37.1114877473987,
           37.08592984202871,
           37.03335035764656,
           36.98274517289448,
           36.997864327817325,
           37.05703762908767,
           37.0952843078187,
           37.10424256029081,
           37.095579346326346,
           37.060500640978375,
           36.99438710323336,
           36.95265764105852,
           36.98989125212458
          ],
          [
           26.877054920250288,
           23.238202146887964,
           27.396211025502108,
           31.12366620591228,
           28.03967044754349,
           25.820319901479547,
           30.31485836388824,
           35.475635083461945,
           37.197228823141046,
           37.264686381221146,
           37.18782081518876,
           37.17716720436667,
           37.17533107034582,
           37.174435284284044,
           37.17249032249745,
           37.153306183168624,
           37.12844022188238,
           37.11164110900626,
           37.092983706987916,
           37.05629096217065,
           37.02123170390798,
           37.03168724718926,
           37.07268355203638,
           37.09927724152315,
           37.1054035196896,
           37.09879916655852,
           37.073309645350356,
           37.026255020801855,
           36.996791497791904,
           37.02307334135095
          ],
          [
           27.143332297341843,
           23.57605654371823,
           27.651344414364765,
           31.26122940229565,
           28.135117890838927,
           25.90473490330821,
           30.3624362685432,
           35.48661450006642,
           37.19559182106296,
           37.26080687058488,
           37.18175182239048,
           37.17165091767114,
           37.17474689937949,
           37.174394057431435,
           37.16752249485382,
           37.14727669358523,
           37.12535281193701,
           37.111605761117936,
           37.09803515467946,
           37.07269543740646,
           37.04869763346502,
           37.055838933924534,
           37.0839026304038,
           37.1021847768349,
           37.106307178893026,
           37.10127924617572,
           37.0828336686764,
           37.04956734484042,
           37.028931975638216,
           37.0473318519445
          ]
         ]
        },
        {
         "mode": "markers",
         "name": "max(pi)",
         "type": "scatter3d",
         "x": [
          440.9482727050781
         ],
         "y": [
          199.91380310058594
         ],
         "z": [
          37.30319164700816
         ]
        }
       ],
       "layout": {
        "template": {
         "data": {
          "bar": [
           {
            "error_x": {
             "color": "#2a3f5f"
            },
            "error_y": {
             "color": "#2a3f5f"
            },
            "marker": {
             "line": {
              "color": "#E5ECF6",
              "width": 0.5
             }
            },
            "type": "bar"
           }
          ],
          "barpolar": [
           {
            "marker": {
             "line": {
              "color": "#E5ECF6",
              "width": 0.5
             }
            },
            "type": "barpolar"
           }
          ],
          "carpet": [
           {
            "aaxis": {
             "endlinecolor": "#2a3f5f",
             "gridcolor": "white",
             "linecolor": "white",
             "minorgridcolor": "white",
             "startlinecolor": "#2a3f5f"
            },
            "baxis": {
             "endlinecolor": "#2a3f5f",
             "gridcolor": "white",
             "linecolor": "white",
             "minorgridcolor": "white",
             "startlinecolor": "#2a3f5f"
            },
            "type": "carpet"
           }
          ],
          "choropleth": [
           {
            "colorbar": {
             "outlinewidth": 0,
             "ticks": ""
            },
            "type": "choropleth"
           }
          ],
          "contour": [
           {
            "colorbar": {
             "outlinewidth": 0,
             "ticks": ""
            },
            "colorscale": [
             [
              0,
              "#0d0887"
             ],
             [
              0.1111111111111111,
              "#46039f"
             ],
             [
              0.2222222222222222,
              "#7201a8"
             ],
             [
              0.3333333333333333,
              "#9c179e"
             ],
             [
              0.4444444444444444,
              "#bd3786"
             ],
             [
              0.5555555555555556,
              "#d8576b"
             ],
             [
              0.6666666666666666,
              "#ed7953"
             ],
             [
              0.7777777777777778,
              "#fb9f3a"
             ],
             [
              0.8888888888888888,
              "#fdca26"
             ],
             [
              1,
              "#f0f921"
             ]
            ],
            "type": "contour"
           }
          ],
          "contourcarpet": [
           {
            "colorbar": {
             "outlinewidth": 0,
             "ticks": ""
            },
            "type": "contourcarpet"
           }
          ],
          "heatmap": [
           {
            "colorbar": {
             "outlinewidth": 0,
             "ticks": ""
            },
            "colorscale": [
             [
              0,
              "#0d0887"
             ],
             [
              0.1111111111111111,
              "#46039f"
             ],
             [
              0.2222222222222222,
              "#7201a8"
             ],
             [
              0.3333333333333333,
              "#9c179e"
             ],
             [
              0.4444444444444444,
              "#bd3786"
             ],
             [
              0.5555555555555556,
              "#d8576b"
             ],
             [
              0.6666666666666666,
              "#ed7953"
             ],
             [
              0.7777777777777778,
              "#fb9f3a"
             ],
             [
              0.8888888888888888,
              "#fdca26"
             ],
             [
              1,
              "#f0f921"
             ]
            ],
            "type": "heatmap"
           }
          ],
          "heatmapgl": [
           {
            "colorbar": {
             "outlinewidth": 0,
             "ticks": ""
            },
            "colorscale": [
             [
              0,
              "#0d0887"
             ],
             [
              0.1111111111111111,
              "#46039f"
             ],
             [
              0.2222222222222222,
              "#7201a8"
             ],
             [
              0.3333333333333333,
              "#9c179e"
             ],
             [
              0.4444444444444444,
              "#bd3786"
             ],
             [
              0.5555555555555556,
              "#d8576b"
             ],
             [
              0.6666666666666666,
              "#ed7953"
             ],
             [
              0.7777777777777778,
              "#fb9f3a"
             ],
             [
              0.8888888888888888,
              "#fdca26"
             ],
             [
              1,
              "#f0f921"
             ]
            ],
            "type": "heatmapgl"
           }
          ],
          "histogram": [
           {
            "marker": {
             "colorbar": {
              "outlinewidth": 0,
              "ticks": ""
             }
            },
            "type": "histogram"
           }
          ],
          "histogram2d": [
           {
            "colorbar": {
             "outlinewidth": 0,
             "ticks": ""
            },
            "colorscale": [
             [
              0,
              "#0d0887"
             ],
             [
              0.1111111111111111,
              "#46039f"
             ],
             [
              0.2222222222222222,
              "#7201a8"
             ],
             [
              0.3333333333333333,
              "#9c179e"
             ],
             [
              0.4444444444444444,
              "#bd3786"
             ],
             [
              0.5555555555555556,
              "#d8576b"
             ],
             [
              0.6666666666666666,
              "#ed7953"
             ],
             [
              0.7777777777777778,
              "#fb9f3a"
             ],
             [
              0.8888888888888888,
              "#fdca26"
             ],
             [
              1,
              "#f0f921"
             ]
            ],
            "type": "histogram2d"
           }
          ],
          "histogram2dcontour": [
           {
            "colorbar": {
             "outlinewidth": 0,
             "ticks": ""
            },
            "colorscale": [
             [
              0,
              "#0d0887"
             ],
             [
              0.1111111111111111,
              "#46039f"
             ],
             [
              0.2222222222222222,
              "#7201a8"
             ],
             [
              0.3333333333333333,
              "#9c179e"
             ],
             [
              0.4444444444444444,
              "#bd3786"
             ],
             [
              0.5555555555555556,
              "#d8576b"
             ],
             [
              0.6666666666666666,
              "#ed7953"
             ],
             [
              0.7777777777777778,
              "#fb9f3a"
             ],
             [
              0.8888888888888888,
              "#fdca26"
             ],
             [
              1,
              "#f0f921"
             ]
            ],
            "type": "histogram2dcontour"
           }
          ],
          "mesh3d": [
           {
            "colorbar": {
             "outlinewidth": 0,
             "ticks": ""
            },
            "type": "mesh3d"
           }
          ],
          "parcoords": [
           {
            "line": {
             "colorbar": {
              "outlinewidth": 0,
              "ticks": ""
             }
            },
            "type": "parcoords"
           }
          ],
          "pie": [
           {
            "automargin": true,
            "type": "pie"
           }
          ],
          "scatter": [
           {
            "marker": {
             "colorbar": {
              "outlinewidth": 0,
              "ticks": ""
             }
            },
            "type": "scatter"
           }
          ],
          "scatter3d": [
           {
            "line": {
             "colorbar": {
              "outlinewidth": 0,
              "ticks": ""
             }
            },
            "marker": {
             "colorbar": {
              "outlinewidth": 0,
              "ticks": ""
             }
            },
            "type": "scatter3d"
           }
          ],
          "scattercarpet": [
           {
            "marker": {
             "colorbar": {
              "outlinewidth": 0,
              "ticks": ""
             }
            },
            "type": "scattercarpet"
           }
          ],
          "scattergeo": [
           {
            "marker": {
             "colorbar": {
              "outlinewidth": 0,
              "ticks": ""
             }
            },
            "type": "scattergeo"
           }
          ],
          "scattergl": [
           {
            "marker": {
             "colorbar": {
              "outlinewidth": 0,
              "ticks": ""
             }
            },
            "type": "scattergl"
           }
          ],
          "scattermapbox": [
           {
            "marker": {
             "colorbar": {
              "outlinewidth": 0,
              "ticks": ""
             }
            },
            "type": "scattermapbox"
           }
          ],
          "scatterpolar": [
           {
            "marker": {
             "colorbar": {
              "outlinewidth": 0,
              "ticks": ""
             }
            },
            "type": "scatterpolar"
           }
          ],
          "scatterpolargl": [
           {
            "marker": {
             "colorbar": {
              "outlinewidth": 0,
              "ticks": ""
             }
            },
            "type": "scatterpolargl"
           }
          ],
          "scatterternary": [
           {
            "marker": {
             "colorbar": {
              "outlinewidth": 0,
              "ticks": ""
             }
            },
            "type": "scatterternary"
           }
          ],
          "surface": [
           {
            "colorbar": {
             "outlinewidth": 0,
             "ticks": ""
            },
            "colorscale": [
             [
              0,
              "#0d0887"
             ],
             [
              0.1111111111111111,
              "#46039f"
             ],
             [
              0.2222222222222222,
              "#7201a8"
             ],
             [
              0.3333333333333333,
              "#9c179e"
             ],
             [
              0.4444444444444444,
              "#bd3786"
             ],
             [
              0.5555555555555556,
              "#d8576b"
             ],
             [
              0.6666666666666666,
              "#ed7953"
             ],
             [
              0.7777777777777778,
              "#fb9f3a"
             ],
             [
              0.8888888888888888,
              "#fdca26"
             ],
             [
              1,
              "#f0f921"
             ]
            ],
            "type": "surface"
           }
          ],
          "table": [
           {
            "cells": {
             "fill": {
              "color": "#EBF0F8"
             },
             "line": {
              "color": "white"
             }
            },
            "header": {
             "fill": {
              "color": "#C8D4E3"
             },
             "line": {
              "color": "white"
             }
            },
            "type": "table"
           }
          ]
         },
         "layout": {
          "annotationdefaults": {
           "arrowcolor": "#2a3f5f",
           "arrowhead": 0,
           "arrowwidth": 1
          },
          "coloraxis": {
           "colorbar": {
            "outlinewidth": 0,
            "ticks": ""
           }
          },
          "colorscale": {
           "diverging": [
            [
             0,
             "#8e0152"
            ],
            [
             0.1,
             "#c51b7d"
            ],
            [
             0.2,
             "#de77ae"
            ],
            [
             0.3,
             "#f1b6da"
            ],
            [
             0.4,
             "#fde0ef"
            ],
            [
             0.5,
             "#f7f7f7"
            ],
            [
             0.6,
             "#e6f5d0"
            ],
            [
             0.7,
             "#b8e186"
            ],
            [
             0.8,
             "#7fbc41"
            ],
            [
             0.9,
             "#4d9221"
            ],
            [
             1,
             "#276419"
            ]
           ],
           "sequential": [
            [
             0,
             "#0d0887"
            ],
            [
             0.1111111111111111,
             "#46039f"
            ],
            [
             0.2222222222222222,
             "#7201a8"
            ],
            [
             0.3333333333333333,
             "#9c179e"
            ],
            [
             0.4444444444444444,
             "#bd3786"
            ],
            [
             0.5555555555555556,
             "#d8576b"
            ],
            [
             0.6666666666666666,
             "#ed7953"
            ],
            [
             0.7777777777777778,
             "#fb9f3a"
            ],
            [
             0.8888888888888888,
             "#fdca26"
            ],
            [
             1,
             "#f0f921"
            ]
           ],
           "sequentialminus": [
            [
             0,
             "#0d0887"
            ],
            [
             0.1111111111111111,
             "#46039f"
            ],
            [
             0.2222222222222222,
             "#7201a8"
            ],
            [
             0.3333333333333333,
             "#9c179e"
            ],
            [
             0.4444444444444444,
             "#bd3786"
            ],
            [
             0.5555555555555556,
             "#d8576b"
            ],
            [
             0.6666666666666666,
             "#ed7953"
            ],
            [
             0.7777777777777778,
             "#fb9f3a"
            ],
            [
             0.8888888888888888,
             "#fdca26"
            ],
            [
             1,
             "#f0f921"
            ]
           ]
          },
          "colorway": [
           "#636efa",
           "#EF553B",
           "#00cc96",
           "#ab63fa",
           "#FFA15A",
           "#19d3f3",
           "#FF6692",
           "#B6E880",
           "#FF97FF",
           "#FECB52"
          ],
          "font": {
           "color": "#2a3f5f"
          },
          "geo": {
           "bgcolor": "white",
           "lakecolor": "white",
           "landcolor": "#E5ECF6",
           "showlakes": true,
           "showland": true,
           "subunitcolor": "white"
          },
          "hoverlabel": {
           "align": "left"
          },
          "hovermode": "closest",
          "mapbox": {
           "style": "light"
          },
          "paper_bgcolor": "white",
          "plot_bgcolor": "#E5ECF6",
          "polar": {
           "angularaxis": {
            "gridcolor": "white",
            "linecolor": "white",
            "ticks": ""
           },
           "bgcolor": "#E5ECF6",
           "radialaxis": {
            "gridcolor": "white",
            "linecolor": "white",
            "ticks": ""
           }
          },
          "scene": {
           "xaxis": {
            "backgroundcolor": "#E5ECF6",
            "gridcolor": "white",
            "gridwidth": 2,
            "linecolor": "white",
            "showbackground": true,
            "ticks": "",
            "zerolinecolor": "white"
           },
           "yaxis": {
            "backgroundcolor": "#E5ECF6",
            "gridcolor": "white",
            "gridwidth": 2,
            "linecolor": "white",
            "showbackground": true,
            "ticks": "",
            "zerolinecolor": "white"
           },
           "zaxis": {
            "backgroundcolor": "#E5ECF6",
            "gridcolor": "white",
            "gridwidth": 2,
            "linecolor": "white",
            "showbackground": true,
            "ticks": "",
            "zerolinecolor": "white"
           }
          },
          "shapedefaults": {
           "line": {
            "color": "#2a3f5f"
           }
          },
          "ternary": {
           "aaxis": {
            "gridcolor": "white",
            "linecolor": "white",
            "ticks": ""
           },
           "baxis": {
            "gridcolor": "white",
            "linecolor": "white",
            "ticks": ""
           },
           "bgcolor": "#E5ECF6",
           "caxis": {
            "gridcolor": "white",
            "linecolor": "white",
            "ticks": ""
           }
          },
          "title": {
           "x": 0.05
          },
          "xaxis": {
           "automargin": true,
           "gridcolor": "white",
           "linecolor": "white",
           "ticks": "",
           "title": {
            "standoff": 15
           },
           "zerolinecolor": "white",
           "zerolinewidth": 2
          },
          "yaxis": {
           "automargin": true,
           "gridcolor": "white",
           "linecolor": "white",
           "ticks": "",
           "title": {
            "standoff": 15
           },
           "zerolinecolor": "white",
           "zerolinewidth": 2
          }
         }
        }
       }
      }
     },
     "metadata": {}
    }
   ],
   "source": [
    "fig = go.Figure(data=[go.Surface(z=EI_acq_shape, x=test_grid[:,0], y=test_grid[:,1])])\n",
    "fig.add_trace(go.Scatter3d(x=test_grid[ei[1], 0].numpy(), y=test_grid[ei[0], 1].numpy(), z=[EI_acq_shape[ei[0], ei[1]]], mode='markers', name='max(pi)'))\n",
    "fig.show()"
   ]
  },
  {
   "cell_type": "code",
   "execution_count": 16,
   "metadata": {},
   "outputs": [],
   "source": [
    "Zn = Z.detach().numpy()\n",
    "temp = scipy.stats.norm.cdf(Zn)"
   ]
  },
  {
   "cell_type": "code",
   "execution_count": 19,
   "metadata": {},
   "outputs": [
    {
     "output_type": "execute_result",
     "data": {
      "text/plain": [
       "tensor([[350.,  30.],\n",
       "        [350.,  60.],\n",
       "        [350., 120.],\n",
       "        [350., 300.],\n",
       "        [360.,  30.],\n",
       "        [380.,  30.],\n",
       "        [400.,  30.],\n",
       "        [400., 300.],\n",
       "        [500.,  30.],\n",
       "        [600.,  30.],\n",
       "        [700.,  30.]])"
      ]
     },
     "metadata": {},
     "execution_count": 19
    }
   ],
   "source": []
  },
  {
   "cell_type": "code",
   "execution_count": null,
   "metadata": {},
   "outputs": [],
   "source": []
  }
 ]
}